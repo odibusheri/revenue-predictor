{
  "cells": [
    {
      "cell_type": "markdown",
      "metadata": {
        "id": "RRKLJBxgqKI9"
      },
      "source": [
        "Kaggle install"
      ]
    },
    {
      "cell_type": "code",
      "execution_count": null,
      "metadata": {
        "colab": {
          "base_uri": "https://localhost:8080/"
        },
        "id": "J-TwQ6LwpejB",
        "outputId": "27592075-c2ee-49c5-f377-efef3d7a35be"
      },
      "outputs": [
        {
          "output_type": "stream",
          "name": "stdout",
          "text": [
            "Requirement already satisfied: kaggle in /usr/local/lib/python3.7/dist-packages (1.5.12)\n",
            "Requirement already satisfied: certifi in /usr/local/lib/python3.7/dist-packages (from kaggle) (2021.10.8)\n",
            "Requirement already satisfied: six>=1.10 in /usr/local/lib/python3.7/dist-packages (from kaggle) (1.15.0)\n",
            "Requirement already satisfied: python-slugify in /usr/local/lib/python3.7/dist-packages (from kaggle) (5.0.2)\n",
            "Requirement already satisfied: python-dateutil in /usr/local/lib/python3.7/dist-packages (from kaggle) (2.8.2)\n",
            "Requirement already satisfied: urllib3 in /usr/local/lib/python3.7/dist-packages (from kaggle) (1.24.3)\n",
            "Requirement already satisfied: requests in /usr/local/lib/python3.7/dist-packages (from kaggle) (2.23.0)\n",
            "Requirement already satisfied: tqdm in /usr/local/lib/python3.7/dist-packages (from kaggle) (4.62.3)\n",
            "Requirement already satisfied: text-unidecode>=1.3 in /usr/local/lib/python3.7/dist-packages (from python-slugify->kaggle) (1.3)\n",
            "Requirement already satisfied: idna<3,>=2.5 in /usr/local/lib/python3.7/dist-packages (from requests->kaggle) (2.10)\n",
            "Requirement already satisfied: chardet<4,>=3.0.2 in /usr/local/lib/python3.7/dist-packages (from requests->kaggle) (3.0.4)\n"
          ]
        }
      ],
      "source": [
        "!pip install kaggle"
      ]
    },
    {
      "cell_type": "code",
      "execution_count": null,
      "metadata": {
        "id": "61Q9d3GypmR1",
        "colab": {
          "base_uri": "https://localhost:8080/"
        },
        "outputId": "c1992121-2abb-4fd9-af7f-e250ad3f967e"
      },
      "outputs": [
        {
          "output_type": "stream",
          "name": "stdout",
          "text": [
            "mkdir: cannot create directory ‘/root/.kaggle’: File exists\n"
          ]
        }
      ],
      "source": [
        "!mkdir ~/.kaggle"
      ]
    },
    {
      "cell_type": "code",
      "execution_count": null,
      "metadata": {
        "id": "nMJaWq3kpo4G"
      },
      "outputs": [],
      "source": [
        "!cp kaggle.json ~/.kaggle/"
      ]
    },
    {
      "cell_type": "code",
      "execution_count": null,
      "metadata": {
        "id": "hmYDgOhppsai"
      },
      "outputs": [],
      "source": [
        "!chmod 600 ~/.kaggle/kaggle.json"
      ]
    },
    {
      "cell_type": "code",
      "execution_count": null,
      "metadata": {
        "colab": {
          "base_uri": "https://localhost:8080/"
        },
        "id": "Dvbc7MG0pyeZ",
        "outputId": "893d3918-7ce3-4ee0-8538-acfe8d3a2866"
      },
      "outputs": [
        {
          "output_type": "stream",
          "name": "stdout",
          "text": [
            "Warning: Looks like you're using an outdated API Version, please consider updating (server 1.5.12 / client 1.5.4)\n",
            "test.csv.zip: Skipping, found more recently modified local copy (use --force to force download)\n",
            "sampleSubmission.csv.zip: Skipping, found more recently modified local copy (use --force to force download)\n",
            "train.csv.zip: Skipping, found more recently modified local copy (use --force to force download)\n"
          ]
        }
      ],
      "source": [
        "!kaggle competitions download restaurant-revenue-prediction"
      ]
    },
    {
      "cell_type": "code",
      "execution_count": null,
      "metadata": {
        "colab": {
          "base_uri": "https://localhost:8080/"
        },
        "id": "ex6F3WAVA9OT",
        "outputId": "1877da34-0cdf-4e08-f08d-c148b09c108f"
      },
      "outputs": [
        {
          "output_type": "stream",
          "name": "stdout",
          "text": [
            "Requirement already satisfied: plotly in /usr/local/lib/python3.7/dist-packages (5.5.0)\n",
            "Requirement already satisfied: six in /usr/local/lib/python3.7/dist-packages (from plotly) (1.15.0)\n",
            "Requirement already satisfied: tenacity>=6.2.0 in /usr/local/lib/python3.7/dist-packages (from plotly) (8.0.1)\n",
            "Requirement already satisfied: scikit-learn in /usr/local/lib/python3.7/dist-packages (1.0.2)\n",
            "Requirement already satisfied: numpy>=1.14.6 in /usr/local/lib/python3.7/dist-packages (from scikit-learn) (1.19.5)\n",
            "Requirement already satisfied: threadpoolctl>=2.0.0 in /usr/local/lib/python3.7/dist-packages (from scikit-learn) (3.1.0)\n",
            "Requirement already satisfied: scipy>=1.1.0 in /usr/local/lib/python3.7/dist-packages (from scikit-learn) (1.4.1)\n",
            "Requirement already satisfied: joblib>=0.11 in /usr/local/lib/python3.7/dist-packages (from scikit-learn) (1.1.0)\n",
            "\n",
            "Usage:   \n",
            "  pip3 uninstall [options] <package> ...\n",
            "  pip3 uninstall [options] -r <requirements file> ...\n",
            "\n",
            "no such option: -Y\n",
            "Requirement already satisfied: matplotlib in /usr/local/lib/python3.7/dist-packages (3.2.2)\n",
            "Requirement already satisfied: numpy>=1.11 in /usr/local/lib/python3.7/dist-packages (from matplotlib) (1.19.5)\n",
            "Requirement already satisfied: cycler>=0.10 in /usr/local/lib/python3.7/dist-packages (from matplotlib) (0.11.0)\n",
            "Requirement already satisfied: python-dateutil>=2.1 in /usr/local/lib/python3.7/dist-packages (from matplotlib) (2.8.2)\n",
            "Requirement already satisfied: kiwisolver>=1.0.1 in /usr/local/lib/python3.7/dist-packages (from matplotlib) (1.3.2)\n",
            "Requirement already satisfied: pyparsing!=2.0.4,!=2.1.2,!=2.1.6,>=2.0.1 in /usr/local/lib/python3.7/dist-packages (from matplotlib) (3.0.7)\n",
            "Requirement already satisfied: six>=1.5 in /usr/local/lib/python3.7/dist-packages (from python-dateutil>=2.1->matplotlib) (1.15.0)\n"
          ]
        }
      ],
      "source": [
        "!pip install --upgrade plotly\n",
        "!pip install -U scikit-learn\n",
        "!pip uninstall matplotlib -Y\n",
        "!pip install matplotlib"
      ]
    },
    {
      "cell_type": "code",
      "source": [
        "!pip install sklearn-evaluation"
      ],
      "metadata": {
        "colab": {
          "base_uri": "https://localhost:8080/"
        },
        "id": "v0d7HSiqBEjo",
        "outputId": "59559074-5876-4c2a-f0ee-8357466ad5ad"
      },
      "execution_count": null,
      "outputs": [
        {
          "output_type": "stream",
          "name": "stdout",
          "text": [
            "Requirement already satisfied: sklearn-evaluation in /usr/local/lib/python3.7/dist-packages (0.5.7)\n",
            "Requirement already satisfied: nbformat in /usr/local/lib/python3.7/dist-packages (from sklearn-evaluation) (5.1.3)\n",
            "Requirement already satisfied: decorator in /usr/local/lib/python3.7/dist-packages (from sklearn-evaluation) (4.4.2)\n",
            "Requirement already satisfied: parso in /usr/local/lib/python3.7/dist-packages (from sklearn-evaluation) (0.8.3)\n",
            "Requirement already satisfied: jinja2 in /usr/local/lib/python3.7/dist-packages (from sklearn-evaluation) (2.11.3)\n",
            "Requirement already satisfied: black in /usr/local/lib/python3.7/dist-packages (from sklearn-evaluation) (22.1.0)\n",
            "Requirement already satisfied: ipython in /usr/local/lib/python3.7/dist-packages (from sklearn-evaluation) (5.5.0)\n",
            "Requirement already satisfied: matplotlib in /usr/local/lib/python3.7/dist-packages (from sklearn-evaluation) (3.2.2)\n",
            "Requirement already satisfied: scikit-learn in /usr/local/lib/python3.7/dist-packages (from sklearn-evaluation) (1.0.2)\n",
            "Requirement already satisfied: pandas in /usr/local/lib/python3.7/dist-packages (from sklearn-evaluation) (1.3.5)\n",
            "Requirement already satisfied: mistune in /usr/local/lib/python3.7/dist-packages (from sklearn-evaluation) (0.8.4)\n",
            "Requirement already satisfied: tabulate in /usr/local/lib/python3.7/dist-packages (from sklearn-evaluation) (0.8.9)\n",
            "Requirement already satisfied: typing-extensions>=3.10.0.0 in /usr/local/lib/python3.7/dist-packages (from black->sklearn-evaluation) (3.10.0.2)\n",
            "Requirement already satisfied: platformdirs>=2 in /usr/local/lib/python3.7/dist-packages (from black->sklearn-evaluation) (2.4.1)\n",
            "Requirement already satisfied: tomli>=1.1.0 in /usr/local/lib/python3.7/dist-packages (from black->sklearn-evaluation) (2.0.0)\n",
            "Requirement already satisfied: typed-ast>=1.4.2 in /usr/local/lib/python3.7/dist-packages (from black->sklearn-evaluation) (1.5.2)\n",
            "Requirement already satisfied: pathspec>=0.9.0 in /usr/local/lib/python3.7/dist-packages (from black->sklearn-evaluation) (0.9.0)\n",
            "Requirement already satisfied: click>=8.0.0 in /usr/local/lib/python3.7/dist-packages (from black->sklearn-evaluation) (8.0.3)\n",
            "Requirement already satisfied: mypy-extensions>=0.4.3 in /usr/local/lib/python3.7/dist-packages (from black->sklearn-evaluation) (0.4.3)\n",
            "Requirement already satisfied: importlib-metadata in /usr/local/lib/python3.7/dist-packages (from click>=8.0.0->black->sklearn-evaluation) (4.10.1)\n",
            "Requirement already satisfied: zipp>=0.5 in /usr/local/lib/python3.7/dist-packages (from importlib-metadata->click>=8.0.0->black->sklearn-evaluation) (3.7.0)\n",
            "Requirement already satisfied: pygments in /usr/local/lib/python3.7/dist-packages (from ipython->sklearn-evaluation) (2.6.1)\n",
            "Requirement already satisfied: simplegeneric>0.8 in /usr/local/lib/python3.7/dist-packages (from ipython->sklearn-evaluation) (0.8.1)\n",
            "Requirement already satisfied: traitlets>=4.2 in /usr/local/lib/python3.7/dist-packages (from ipython->sklearn-evaluation) (5.1.1)\n",
            "Requirement already satisfied: setuptools>=18.5 in /usr/local/lib/python3.7/dist-packages (from ipython->sklearn-evaluation) (57.4.0)\n",
            "Requirement already satisfied: pexpect in /usr/local/lib/python3.7/dist-packages (from ipython->sklearn-evaluation) (4.8.0)\n",
            "Requirement already satisfied: prompt-toolkit<2.0.0,>=1.0.4 in /usr/local/lib/python3.7/dist-packages (from ipython->sklearn-evaluation) (1.0.18)\n",
            "Requirement already satisfied: pickleshare in /usr/local/lib/python3.7/dist-packages (from ipython->sklearn-evaluation) (0.7.5)\n",
            "Requirement already satisfied: wcwidth in /usr/local/lib/python3.7/dist-packages (from prompt-toolkit<2.0.0,>=1.0.4->ipython->sklearn-evaluation) (0.2.5)\n",
            "Requirement already satisfied: six>=1.9.0 in /usr/local/lib/python3.7/dist-packages (from prompt-toolkit<2.0.0,>=1.0.4->ipython->sklearn-evaluation) (1.15.0)\n",
            "Requirement already satisfied: MarkupSafe>=0.23 in /usr/local/lib/python3.7/dist-packages (from jinja2->sklearn-evaluation) (2.0.1)\n",
            "Requirement already satisfied: pyparsing!=2.0.4,!=2.1.2,!=2.1.6,>=2.0.1 in /usr/local/lib/python3.7/dist-packages (from matplotlib->sklearn-evaluation) (3.0.7)\n",
            "Requirement already satisfied: numpy>=1.11 in /usr/local/lib/python3.7/dist-packages (from matplotlib->sklearn-evaluation) (1.19.5)\n",
            "Requirement already satisfied: kiwisolver>=1.0.1 in /usr/local/lib/python3.7/dist-packages (from matplotlib->sklearn-evaluation) (1.3.2)\n",
            "Requirement already satisfied: python-dateutil>=2.1 in /usr/local/lib/python3.7/dist-packages (from matplotlib->sklearn-evaluation) (2.8.2)\n",
            "Requirement already satisfied: cycler>=0.10 in /usr/local/lib/python3.7/dist-packages (from matplotlib->sklearn-evaluation) (0.11.0)\n",
            "Requirement already satisfied: jsonschema!=2.5.0,>=2.4 in /usr/local/lib/python3.7/dist-packages (from nbformat->sklearn-evaluation) (4.3.3)\n",
            "Requirement already satisfied: ipython-genutils in /usr/local/lib/python3.7/dist-packages (from nbformat->sklearn-evaluation) (0.2.0)\n",
            "Requirement already satisfied: jupyter-core in /usr/local/lib/python3.7/dist-packages (from nbformat->sklearn-evaluation) (4.9.1)\n",
            "Requirement already satisfied: attrs>=17.4.0 in /usr/local/lib/python3.7/dist-packages (from jsonschema!=2.5.0,>=2.4->nbformat->sklearn-evaluation) (21.4.0)\n",
            "Requirement already satisfied: importlib-resources>=1.4.0 in /usr/local/lib/python3.7/dist-packages (from jsonschema!=2.5.0,>=2.4->nbformat->sklearn-evaluation) (5.4.0)\n",
            "Requirement already satisfied: pyrsistent!=0.17.0,!=0.17.1,!=0.17.2,>=0.14.0 in /usr/local/lib/python3.7/dist-packages (from jsonschema!=2.5.0,>=2.4->nbformat->sklearn-evaluation) (0.18.1)\n",
            "Requirement already satisfied: pytz>=2017.3 in /usr/local/lib/python3.7/dist-packages (from pandas->sklearn-evaluation) (2018.9)\n",
            "Requirement already satisfied: ptyprocess>=0.5 in /usr/local/lib/python3.7/dist-packages (from pexpect->ipython->sklearn-evaluation) (0.7.0)\n",
            "Requirement already satisfied: threadpoolctl>=2.0.0 in /usr/local/lib/python3.7/dist-packages (from scikit-learn->sklearn-evaluation) (3.1.0)\n",
            "Requirement already satisfied: scipy>=1.1.0 in /usr/local/lib/python3.7/dist-packages (from scikit-learn->sklearn-evaluation) (1.4.1)\n",
            "Requirement already satisfied: joblib>=0.11 in /usr/local/lib/python3.7/dist-packages (from scikit-learn->sklearn-evaluation) (1.1.0)\n"
          ]
        }
      ]
    },
    {
      "cell_type": "code",
      "execution_count": null,
      "metadata": {
        "id": "piuV4PNfMu_9"
      },
      "outputs": [],
      "source": [
        "%matplotlib notebook\n",
        "%matplotlib inline"
      ]
    },
    {
      "cell_type": "markdown",
      "metadata": {
        "id": "6ClE9ZOh1tnD"
      },
      "source": [
        "Data and libraries import"
      ]
    },
    {
      "cell_type": "code",
      "execution_count": null,
      "metadata": {
        "id": "eIz6ioemqM9W"
      },
      "outputs": [],
      "source": [
        "# This Python 3 environment comes with many helpful analytics libraries installed\n",
        "# It is defined by the kaggle/python Docker image: https://github.com/kaggle/docker-python\n",
        "# For example, here's several helpful packages to load\n",
        "\n",
        "\n",
        "import numpy as np # linear algebra\n",
        "import pandas as pd # data processing, CSV file I/O (e.g. pd.read_csv)\n",
        "import math\n",
        "import seaborn as sns\n",
        "import matplotlib.pyplot as plt\n",
        "import scipy\n",
        "import plotly.express as px\n",
        "import plotly.graph_objects as go\n",
        "\n",
        "# sklearn imports\n",
        "import sklearn\n",
        "from sklearn import metrics\n",
        "from sklearn import datasets\n",
        "from sklearn import pipeline\n",
        "from sklearn import model_selection\n",
        "from sklearn import metrics\n",
        "from sklearn import pipeline\n",
        "from sklearn import linear_model\n",
        "from sklearn import preprocessing\n",
        "from sklearn import model_selection\n",
        "from sklearn.pipeline import Pipeline\n",
        "from sklearn.pipeline import make_pipeline\n",
        "from sklearn.linear_model import SGDRegressor\n",
        "from sklearn.metrics import mean_squared_error\n",
        "from sklearn.preprocessing import OneHotEncoder\n",
        "from sklearn.preprocessing import StandardScaler\n",
        "from sklearn.model_selection import train_test_split\n",
        "from sklearn.compose import ColumnTransformer\n",
        "from sklearn.model_selection import LeavePOut\n",
        "from sklearn.model_selection import RepeatedKFold\n",
        "from sklearn.model_selection import KFold\n",
        "from sklearn.model_selection import GridSearchCV\n",
        "from sklearn.model_selection import cross_val_score\n",
        "from sklearn_evaluation import plot\n",
        "from sklearn_evaluation.plot import grid_search\n",
        "\n",
        "\n",
        "# from scipy import stats\n",
        "# from scipy.stats import norm\n",
        "# from sklearn.feature_selection import RFECV\n",
        "# from sklearn.feature_selection import RFE\n",
        "# from IPython.display import Image\n",
        "# from sklearn.linear_model import LinearRegression\n",
        "# from sklearn.preprocessing import PolynomialFeatures\n",
        "# from sklearn import neural_network\n",
        "# from sklearn import preprocessing\n",
        "# from tqdm.auto import tqdm\n",
        "# from sklearn.preprocessing import OrdinalEncoder\n",
        "# from sklearn.preprocessing import StandardScaler\n",
        "\n",
        "# Input data files are available in the read-only \"../input/\" directory\n",
        "# For example, running this (by clicking run or pressing Shift+Enter) will list all files under the input directory\n",
        "\n",
        "# for google colabl\n",
        "import os\n",
        "for dirname, _, filenames in os.walk('/content/input'):\n",
        "    for filename in filenames:\n",
        "        print(os.path.join(dirname, filename))\n",
        "  \n",
        "#for kaggle\n",
        "# import os\n",
        "# for dirname, _, filenames in os.walk('/kaggle/input'):\n",
        "#     for filename in filenames:\n",
        "#         print(os.path.join(dirname, filename))\n",
        "\n",
        "# You can write up to 20GB to the current directory (/kaggle/working/) that gets preserved as output when you create a version using \"Save & Run All\" \n",
        "# You can also write temporary files to /kaggle/temp/, but they won't be saved outside of the current session"
      ]
    },
    {
      "cell_type": "code",
      "execution_count": null,
      "metadata": {
        "colab": {
          "base_uri": "https://localhost:8080/",
          "height": 1000
        },
        "id": "mtjnD0vmqswo",
        "outputId": "b05770e2-faa6-4494-c0a3-b335f3573a63"
      },
      "outputs": [
        {
          "output_type": "display_data",
          "data": {
            "text/html": [
              "\n",
              "  <div id=\"df-db10871b-168b-464f-b35e-736ac7c133dd\">\n",
              "    <div class=\"colab-df-container\">\n",
              "      <div>\n",
              "<style scoped>\n",
              "    .dataframe tbody tr th:only-of-type {\n",
              "        vertical-align: middle;\n",
              "    }\n",
              "\n",
              "    .dataframe tbody tr th {\n",
              "        vertical-align: top;\n",
              "    }\n",
              "\n",
              "    .dataframe thead th {\n",
              "        text-align: right;\n",
              "    }\n",
              "</style>\n",
              "<table border=\"1\" class=\"dataframe\">\n",
              "  <thead>\n",
              "    <tr style=\"text-align: right;\">\n",
              "      <th></th>\n",
              "      <th>Id</th>\n",
              "      <th>Open Date</th>\n",
              "      <th>City</th>\n",
              "      <th>City Group</th>\n",
              "      <th>Type</th>\n",
              "      <th>P1</th>\n",
              "      <th>P2</th>\n",
              "      <th>P3</th>\n",
              "      <th>P4</th>\n",
              "      <th>P5</th>\n",
              "      <th>P6</th>\n",
              "      <th>P7</th>\n",
              "      <th>P8</th>\n",
              "      <th>P9</th>\n",
              "      <th>P10</th>\n",
              "      <th>P11</th>\n",
              "      <th>P12</th>\n",
              "      <th>P13</th>\n",
              "      <th>P14</th>\n",
              "      <th>P15</th>\n",
              "      <th>P16</th>\n",
              "      <th>P17</th>\n",
              "      <th>P18</th>\n",
              "      <th>P19</th>\n",
              "      <th>P20</th>\n",
              "      <th>P21</th>\n",
              "      <th>P22</th>\n",
              "      <th>P23</th>\n",
              "      <th>P24</th>\n",
              "      <th>P25</th>\n",
              "      <th>P26</th>\n",
              "      <th>P27</th>\n",
              "      <th>P28</th>\n",
              "      <th>P29</th>\n",
              "      <th>P30</th>\n",
              "      <th>P31</th>\n",
              "      <th>P32</th>\n",
              "      <th>P33</th>\n",
              "      <th>P34</th>\n",
              "      <th>P35</th>\n",
              "      <th>P36</th>\n",
              "      <th>P37</th>\n",
              "      <th>revenue</th>\n",
              "    </tr>\n",
              "  </thead>\n",
              "  <tbody>\n",
              "    <tr>\n",
              "      <th>0</th>\n",
              "      <td>0</td>\n",
              "      <td>07/17/1999</td>\n",
              "      <td>İstanbul</td>\n",
              "      <td>Big Cities</td>\n",
              "      <td>IL</td>\n",
              "      <td>4</td>\n",
              "      <td>5.0</td>\n",
              "      <td>4.0</td>\n",
              "      <td>4.0</td>\n",
              "      <td>2</td>\n",
              "      <td>2</td>\n",
              "      <td>5</td>\n",
              "      <td>4</td>\n",
              "      <td>5</td>\n",
              "      <td>5</td>\n",
              "      <td>3</td>\n",
              "      <td>5</td>\n",
              "      <td>5.0</td>\n",
              "      <td>1</td>\n",
              "      <td>2</td>\n",
              "      <td>2</td>\n",
              "      <td>2</td>\n",
              "      <td>4</td>\n",
              "      <td>5</td>\n",
              "      <td>4</td>\n",
              "      <td>1</td>\n",
              "      <td>3</td>\n",
              "      <td>3</td>\n",
              "      <td>1</td>\n",
              "      <td>1</td>\n",
              "      <td>1.0</td>\n",
              "      <td>4.0</td>\n",
              "      <td>2.0</td>\n",
              "      <td>3.0</td>\n",
              "      <td>5</td>\n",
              "      <td>3</td>\n",
              "      <td>4</td>\n",
              "      <td>5</td>\n",
              "      <td>5</td>\n",
              "      <td>4</td>\n",
              "      <td>3</td>\n",
              "      <td>4</td>\n",
              "      <td>5653753.0</td>\n",
              "    </tr>\n",
              "    <tr>\n",
              "      <th>1</th>\n",
              "      <td>1</td>\n",
              "      <td>02/14/2008</td>\n",
              "      <td>Ankara</td>\n",
              "      <td>Big Cities</td>\n",
              "      <td>FC</td>\n",
              "      <td>4</td>\n",
              "      <td>5.0</td>\n",
              "      <td>4.0</td>\n",
              "      <td>4.0</td>\n",
              "      <td>1</td>\n",
              "      <td>2</td>\n",
              "      <td>5</td>\n",
              "      <td>5</td>\n",
              "      <td>5</td>\n",
              "      <td>5</td>\n",
              "      <td>1</td>\n",
              "      <td>5</td>\n",
              "      <td>5.0</td>\n",
              "      <td>0</td>\n",
              "      <td>0</td>\n",
              "      <td>0</td>\n",
              "      <td>0</td>\n",
              "      <td>0</td>\n",
              "      <td>3</td>\n",
              "      <td>2</td>\n",
              "      <td>1</td>\n",
              "      <td>3</td>\n",
              "      <td>2</td>\n",
              "      <td>0</td>\n",
              "      <td>0</td>\n",
              "      <td>0.0</td>\n",
              "      <td>0.0</td>\n",
              "      <td>3.0</td>\n",
              "      <td>3.0</td>\n",
              "      <td>0</td>\n",
              "      <td>0</td>\n",
              "      <td>0</td>\n",
              "      <td>0</td>\n",
              "      <td>0</td>\n",
              "      <td>0</td>\n",
              "      <td>0</td>\n",
              "      <td>0</td>\n",
              "      <td>6923131.0</td>\n",
              "    </tr>\n",
              "    <tr>\n",
              "      <th>2</th>\n",
              "      <td>2</td>\n",
              "      <td>03/09/2013</td>\n",
              "      <td>Diyarbakır</td>\n",
              "      <td>Other</td>\n",
              "      <td>IL</td>\n",
              "      <td>2</td>\n",
              "      <td>4.0</td>\n",
              "      <td>2.0</td>\n",
              "      <td>5.0</td>\n",
              "      <td>2</td>\n",
              "      <td>3</td>\n",
              "      <td>5</td>\n",
              "      <td>5</td>\n",
              "      <td>5</td>\n",
              "      <td>5</td>\n",
              "      <td>2</td>\n",
              "      <td>5</td>\n",
              "      <td>5.0</td>\n",
              "      <td>0</td>\n",
              "      <td>0</td>\n",
              "      <td>0</td>\n",
              "      <td>0</td>\n",
              "      <td>0</td>\n",
              "      <td>1</td>\n",
              "      <td>1</td>\n",
              "      <td>1</td>\n",
              "      <td>1</td>\n",
              "      <td>1</td>\n",
              "      <td>0</td>\n",
              "      <td>0</td>\n",
              "      <td>0.0</td>\n",
              "      <td>0.0</td>\n",
              "      <td>1.0</td>\n",
              "      <td>3.0</td>\n",
              "      <td>0</td>\n",
              "      <td>0</td>\n",
              "      <td>0</td>\n",
              "      <td>0</td>\n",
              "      <td>0</td>\n",
              "      <td>0</td>\n",
              "      <td>0</td>\n",
              "      <td>0</td>\n",
              "      <td>2055379.0</td>\n",
              "    </tr>\n",
              "    <tr>\n",
              "      <th>3</th>\n",
              "      <td>3</td>\n",
              "      <td>02/02/2012</td>\n",
              "      <td>Tokat</td>\n",
              "      <td>Other</td>\n",
              "      <td>IL</td>\n",
              "      <td>6</td>\n",
              "      <td>4.5</td>\n",
              "      <td>6.0</td>\n",
              "      <td>6.0</td>\n",
              "      <td>4</td>\n",
              "      <td>4</td>\n",
              "      <td>10</td>\n",
              "      <td>8</td>\n",
              "      <td>10</td>\n",
              "      <td>10</td>\n",
              "      <td>8</td>\n",
              "      <td>10</td>\n",
              "      <td>7.5</td>\n",
              "      <td>6</td>\n",
              "      <td>4</td>\n",
              "      <td>9</td>\n",
              "      <td>3</td>\n",
              "      <td>12</td>\n",
              "      <td>20</td>\n",
              "      <td>12</td>\n",
              "      <td>6</td>\n",
              "      <td>1</td>\n",
              "      <td>10</td>\n",
              "      <td>2</td>\n",
              "      <td>2</td>\n",
              "      <td>2.5</td>\n",
              "      <td>2.5</td>\n",
              "      <td>2.5</td>\n",
              "      <td>7.5</td>\n",
              "      <td>25</td>\n",
              "      <td>12</td>\n",
              "      <td>10</td>\n",
              "      <td>6</td>\n",
              "      <td>18</td>\n",
              "      <td>12</td>\n",
              "      <td>12</td>\n",
              "      <td>6</td>\n",
              "      <td>2675511.0</td>\n",
              "    </tr>\n",
              "    <tr>\n",
              "      <th>4</th>\n",
              "      <td>4</td>\n",
              "      <td>05/09/2009</td>\n",
              "      <td>Gaziantep</td>\n",
              "      <td>Other</td>\n",
              "      <td>IL</td>\n",
              "      <td>3</td>\n",
              "      <td>4.0</td>\n",
              "      <td>3.0</td>\n",
              "      <td>4.0</td>\n",
              "      <td>2</td>\n",
              "      <td>2</td>\n",
              "      <td>5</td>\n",
              "      <td>5</td>\n",
              "      <td>5</td>\n",
              "      <td>5</td>\n",
              "      <td>2</td>\n",
              "      <td>5</td>\n",
              "      <td>5.0</td>\n",
              "      <td>2</td>\n",
              "      <td>1</td>\n",
              "      <td>2</td>\n",
              "      <td>1</td>\n",
              "      <td>4</td>\n",
              "      <td>2</td>\n",
              "      <td>2</td>\n",
              "      <td>1</td>\n",
              "      <td>2</td>\n",
              "      <td>1</td>\n",
              "      <td>2</td>\n",
              "      <td>3</td>\n",
              "      <td>3.0</td>\n",
              "      <td>5.0</td>\n",
              "      <td>1.0</td>\n",
              "      <td>3.0</td>\n",
              "      <td>5</td>\n",
              "      <td>1</td>\n",
              "      <td>3</td>\n",
              "      <td>2</td>\n",
              "      <td>3</td>\n",
              "      <td>4</td>\n",
              "      <td>3</td>\n",
              "      <td>3</td>\n",
              "      <td>4316715.0</td>\n",
              "    </tr>\n",
              "    <tr>\n",
              "      <th>...</th>\n",
              "      <td>...</td>\n",
              "      <td>...</td>\n",
              "      <td>...</td>\n",
              "      <td>...</td>\n",
              "      <td>...</td>\n",
              "      <td>...</td>\n",
              "      <td>...</td>\n",
              "      <td>...</td>\n",
              "      <td>...</td>\n",
              "      <td>...</td>\n",
              "      <td>...</td>\n",
              "      <td>...</td>\n",
              "      <td>...</td>\n",
              "      <td>...</td>\n",
              "      <td>...</td>\n",
              "      <td>...</td>\n",
              "      <td>...</td>\n",
              "      <td>...</td>\n",
              "      <td>...</td>\n",
              "      <td>...</td>\n",
              "      <td>...</td>\n",
              "      <td>...</td>\n",
              "      <td>...</td>\n",
              "      <td>...</td>\n",
              "      <td>...</td>\n",
              "      <td>...</td>\n",
              "      <td>...</td>\n",
              "      <td>...</td>\n",
              "      <td>...</td>\n",
              "      <td>...</td>\n",
              "      <td>...</td>\n",
              "      <td>...</td>\n",
              "      <td>...</td>\n",
              "      <td>...</td>\n",
              "      <td>...</td>\n",
              "      <td>...</td>\n",
              "      <td>...</td>\n",
              "      <td>...</td>\n",
              "      <td>...</td>\n",
              "      <td>...</td>\n",
              "      <td>...</td>\n",
              "      <td>...</td>\n",
              "      <td>...</td>\n",
              "    </tr>\n",
              "    <tr>\n",
              "      <th>132</th>\n",
              "      <td>132</td>\n",
              "      <td>06/25/2008</td>\n",
              "      <td>Trabzon</td>\n",
              "      <td>Other</td>\n",
              "      <td>FC</td>\n",
              "      <td>2</td>\n",
              "      <td>3.0</td>\n",
              "      <td>3.0</td>\n",
              "      <td>5.0</td>\n",
              "      <td>4</td>\n",
              "      <td>2</td>\n",
              "      <td>4</td>\n",
              "      <td>4</td>\n",
              "      <td>4</td>\n",
              "      <td>4</td>\n",
              "      <td>4</td>\n",
              "      <td>4</td>\n",
              "      <td>4.0</td>\n",
              "      <td>0</td>\n",
              "      <td>0</td>\n",
              "      <td>0</td>\n",
              "      <td>0</td>\n",
              "      <td>0</td>\n",
              "      <td>4</td>\n",
              "      <td>3</td>\n",
              "      <td>2</td>\n",
              "      <td>1</td>\n",
              "      <td>1</td>\n",
              "      <td>0</td>\n",
              "      <td>0</td>\n",
              "      <td>0.0</td>\n",
              "      <td>0.0</td>\n",
              "      <td>2.0</td>\n",
              "      <td>3.0</td>\n",
              "      <td>0</td>\n",
              "      <td>0</td>\n",
              "      <td>0</td>\n",
              "      <td>0</td>\n",
              "      <td>0</td>\n",
              "      <td>0</td>\n",
              "      <td>0</td>\n",
              "      <td>0</td>\n",
              "      <td>5787594.0</td>\n",
              "    </tr>\n",
              "    <tr>\n",
              "      <th>133</th>\n",
              "      <td>133</td>\n",
              "      <td>10/12/2006</td>\n",
              "      <td>İzmir</td>\n",
              "      <td>Big Cities</td>\n",
              "      <td>FC</td>\n",
              "      <td>4</td>\n",
              "      <td>5.0</td>\n",
              "      <td>4.0</td>\n",
              "      <td>4.0</td>\n",
              "      <td>2</td>\n",
              "      <td>3</td>\n",
              "      <td>5</td>\n",
              "      <td>4</td>\n",
              "      <td>4</td>\n",
              "      <td>5</td>\n",
              "      <td>5</td>\n",
              "      <td>4</td>\n",
              "      <td>5.0</td>\n",
              "      <td>0</td>\n",
              "      <td>0</td>\n",
              "      <td>0</td>\n",
              "      <td>0</td>\n",
              "      <td>0</td>\n",
              "      <td>3</td>\n",
              "      <td>2</td>\n",
              "      <td>2</td>\n",
              "      <td>1</td>\n",
              "      <td>1</td>\n",
              "      <td>0</td>\n",
              "      <td>0</td>\n",
              "      <td>0.0</td>\n",
              "      <td>0.0</td>\n",
              "      <td>3.0</td>\n",
              "      <td>3.0</td>\n",
              "      <td>0</td>\n",
              "      <td>0</td>\n",
              "      <td>0</td>\n",
              "      <td>0</td>\n",
              "      <td>0</td>\n",
              "      <td>0</td>\n",
              "      <td>0</td>\n",
              "      <td>0</td>\n",
              "      <td>9262754.0</td>\n",
              "    </tr>\n",
              "    <tr>\n",
              "      <th>134</th>\n",
              "      <td>134</td>\n",
              "      <td>07/08/2006</td>\n",
              "      <td>Kayseri</td>\n",
              "      <td>Other</td>\n",
              "      <td>FC</td>\n",
              "      <td>3</td>\n",
              "      <td>4.0</td>\n",
              "      <td>4.0</td>\n",
              "      <td>4.0</td>\n",
              "      <td>2</td>\n",
              "      <td>3</td>\n",
              "      <td>5</td>\n",
              "      <td>5</td>\n",
              "      <td>5</td>\n",
              "      <td>5</td>\n",
              "      <td>1</td>\n",
              "      <td>5</td>\n",
              "      <td>5.0</td>\n",
              "      <td>0</td>\n",
              "      <td>0</td>\n",
              "      <td>0</td>\n",
              "      <td>0</td>\n",
              "      <td>0</td>\n",
              "      <td>2</td>\n",
              "      <td>3</td>\n",
              "      <td>1</td>\n",
              "      <td>2</td>\n",
              "      <td>2</td>\n",
              "      <td>0</td>\n",
              "      <td>0</td>\n",
              "      <td>0.0</td>\n",
              "      <td>0.0</td>\n",
              "      <td>2.0</td>\n",
              "      <td>3.0</td>\n",
              "      <td>0</td>\n",
              "      <td>0</td>\n",
              "      <td>0</td>\n",
              "      <td>0</td>\n",
              "      <td>0</td>\n",
              "      <td>0</td>\n",
              "      <td>0</td>\n",
              "      <td>0</td>\n",
              "      <td>2544857.0</td>\n",
              "    </tr>\n",
              "    <tr>\n",
              "      <th>135</th>\n",
              "      <td>135</td>\n",
              "      <td>10/29/2010</td>\n",
              "      <td>İstanbul</td>\n",
              "      <td>Big Cities</td>\n",
              "      <td>FC</td>\n",
              "      <td>4</td>\n",
              "      <td>5.0</td>\n",
              "      <td>4.0</td>\n",
              "      <td>5.0</td>\n",
              "      <td>2</td>\n",
              "      <td>2</td>\n",
              "      <td>5</td>\n",
              "      <td>5</td>\n",
              "      <td>5</td>\n",
              "      <td>5</td>\n",
              "      <td>2</td>\n",
              "      <td>5</td>\n",
              "      <td>5.0</td>\n",
              "      <td>0</td>\n",
              "      <td>0</td>\n",
              "      <td>0</td>\n",
              "      <td>0</td>\n",
              "      <td>0</td>\n",
              "      <td>1</td>\n",
              "      <td>1</td>\n",
              "      <td>1</td>\n",
              "      <td>1</td>\n",
              "      <td>1</td>\n",
              "      <td>0</td>\n",
              "      <td>0</td>\n",
              "      <td>0.0</td>\n",
              "      <td>0.0</td>\n",
              "      <td>3.0</td>\n",
              "      <td>3.0</td>\n",
              "      <td>0</td>\n",
              "      <td>0</td>\n",
              "      <td>0</td>\n",
              "      <td>0</td>\n",
              "      <td>0</td>\n",
              "      <td>0</td>\n",
              "      <td>0</td>\n",
              "      <td>0</td>\n",
              "      <td>7217634.0</td>\n",
              "    </tr>\n",
              "    <tr>\n",
              "      <th>136</th>\n",
              "      <td>136</td>\n",
              "      <td>09/01/2009</td>\n",
              "      <td>İstanbul</td>\n",
              "      <td>Big Cities</td>\n",
              "      <td>FC</td>\n",
              "      <td>4</td>\n",
              "      <td>5.0</td>\n",
              "      <td>3.0</td>\n",
              "      <td>5.0</td>\n",
              "      <td>2</td>\n",
              "      <td>2</td>\n",
              "      <td>5</td>\n",
              "      <td>4</td>\n",
              "      <td>4</td>\n",
              "      <td>5</td>\n",
              "      <td>4</td>\n",
              "      <td>4</td>\n",
              "      <td>5.0</td>\n",
              "      <td>0</td>\n",
              "      <td>0</td>\n",
              "      <td>0</td>\n",
              "      <td>0</td>\n",
              "      <td>0</td>\n",
              "      <td>2</td>\n",
              "      <td>1</td>\n",
              "      <td>1</td>\n",
              "      <td>1</td>\n",
              "      <td>1</td>\n",
              "      <td>0</td>\n",
              "      <td>0</td>\n",
              "      <td>0.0</td>\n",
              "      <td>0.0</td>\n",
              "      <td>3.0</td>\n",
              "      <td>3.0</td>\n",
              "      <td>0</td>\n",
              "      <td>0</td>\n",
              "      <td>0</td>\n",
              "      <td>0</td>\n",
              "      <td>0</td>\n",
              "      <td>0</td>\n",
              "      <td>0</td>\n",
              "      <td>0</td>\n",
              "      <td>6363241.0</td>\n",
              "    </tr>\n",
              "  </tbody>\n",
              "</table>\n",
              "<p>137 rows × 43 columns</p>\n",
              "</div>\n",
              "      <button class=\"colab-df-convert\" onclick=\"convertToInteractive('df-db10871b-168b-464f-b35e-736ac7c133dd')\"\n",
              "              title=\"Convert this dataframe to an interactive table.\"\n",
              "              style=\"display:none;\">\n",
              "        \n",
              "  <svg xmlns=\"http://www.w3.org/2000/svg\" height=\"24px\"viewBox=\"0 0 24 24\"\n",
              "       width=\"24px\">\n",
              "    <path d=\"M0 0h24v24H0V0z\" fill=\"none\"/>\n",
              "    <path d=\"M18.56 5.44l.94 2.06.94-2.06 2.06-.94-2.06-.94-.94-2.06-.94 2.06-2.06.94zm-11 1L8.5 8.5l.94-2.06 2.06-.94-2.06-.94L8.5 2.5l-.94 2.06-2.06.94zm10 10l.94 2.06.94-2.06 2.06-.94-2.06-.94-.94-2.06-.94 2.06-2.06.94z\"/><path d=\"M17.41 7.96l-1.37-1.37c-.4-.4-.92-.59-1.43-.59-.52 0-1.04.2-1.43.59L10.3 9.45l-7.72 7.72c-.78.78-.78 2.05 0 2.83L4 21.41c.39.39.9.59 1.41.59.51 0 1.02-.2 1.41-.59l7.78-7.78 2.81-2.81c.8-.78.8-2.07 0-2.86zM5.41 20L4 18.59l7.72-7.72 1.47 1.35L5.41 20z\"/>\n",
              "  </svg>\n",
              "      </button>\n",
              "      \n",
              "  <style>\n",
              "    .colab-df-container {\n",
              "      display:flex;\n",
              "      flex-wrap:wrap;\n",
              "      gap: 12px;\n",
              "    }\n",
              "\n",
              "    .colab-df-convert {\n",
              "      background-color: #E8F0FE;\n",
              "      border: none;\n",
              "      border-radius: 50%;\n",
              "      cursor: pointer;\n",
              "      display: none;\n",
              "      fill: #1967D2;\n",
              "      height: 32px;\n",
              "      padding: 0 0 0 0;\n",
              "      width: 32px;\n",
              "    }\n",
              "\n",
              "    .colab-df-convert:hover {\n",
              "      background-color: #E2EBFA;\n",
              "      box-shadow: 0px 1px 2px rgba(60, 64, 67, 0.3), 0px 1px 3px 1px rgba(60, 64, 67, 0.15);\n",
              "      fill: #174EA6;\n",
              "    }\n",
              "\n",
              "    [theme=dark] .colab-df-convert {\n",
              "      background-color: #3B4455;\n",
              "      fill: #D2E3FC;\n",
              "    }\n",
              "\n",
              "    [theme=dark] .colab-df-convert:hover {\n",
              "      background-color: #434B5C;\n",
              "      box-shadow: 0px 1px 3px 1px rgba(0, 0, 0, 0.15);\n",
              "      filter: drop-shadow(0px 1px 2px rgba(0, 0, 0, 0.3));\n",
              "      fill: #FFFFFF;\n",
              "    }\n",
              "  </style>\n",
              "\n",
              "      <script>\n",
              "        const buttonEl =\n",
              "          document.querySelector('#df-db10871b-168b-464f-b35e-736ac7c133dd button.colab-df-convert');\n",
              "        buttonEl.style.display =\n",
              "          google.colab.kernel.accessAllowed ? 'block' : 'none';\n",
              "\n",
              "        async function convertToInteractive(key) {\n",
              "          const element = document.querySelector('#df-db10871b-168b-464f-b35e-736ac7c133dd');\n",
              "          const dataTable =\n",
              "            await google.colab.kernel.invokeFunction('convertToInteractive',\n",
              "                                                     [key], {});\n",
              "          if (!dataTable) return;\n",
              "\n",
              "          const docLinkHtml = 'Like what you see? Visit the ' +\n",
              "            '<a target=\"_blank\" href=https://colab.research.google.com/notebooks/data_table.ipynb>data table notebook</a>'\n",
              "            + ' to learn more about interactive tables.';\n",
              "          element.innerHTML = '';\n",
              "          dataTable['output_type'] = 'display_data';\n",
              "          await google.colab.output.renderOutput(dataTable, element);\n",
              "          const docLink = document.createElement('div');\n",
              "          docLink.innerHTML = docLinkHtml;\n",
              "          element.appendChild(docLink);\n",
              "        }\n",
              "      </script>\n",
              "    </div>\n",
              "  </div>\n",
              "  "
            ],
            "text/plain": [
              "      Id   Open Date        City  City Group  ... P35  P36  P37    revenue\n",
              "0      0  07/17/1999    İstanbul  Big Cities  ...   4    3    4  5653753.0\n",
              "1      1  02/14/2008      Ankara  Big Cities  ...   0    0    0  6923131.0\n",
              "2      2  03/09/2013  Diyarbakır       Other  ...   0    0    0  2055379.0\n",
              "3      3  02/02/2012       Tokat       Other  ...  12   12    6  2675511.0\n",
              "4      4  05/09/2009   Gaziantep       Other  ...   4    3    3  4316715.0\n",
              "..   ...         ...         ...         ...  ...  ..  ...  ...        ...\n",
              "132  132  06/25/2008     Trabzon       Other  ...   0    0    0  5787594.0\n",
              "133  133  10/12/2006       İzmir  Big Cities  ...   0    0    0  9262754.0\n",
              "134  134  07/08/2006     Kayseri       Other  ...   0    0    0  2544857.0\n",
              "135  135  10/29/2010    İstanbul  Big Cities  ...   0    0    0  7217634.0\n",
              "136  136  09/01/2009    İstanbul  Big Cities  ...   0    0    0  6363241.0\n",
              "\n",
              "[137 rows x 43 columns]"
            ]
          },
          "metadata": {}
        },
        {
          "output_type": "display_data",
          "data": {
            "text/html": [
              "\n",
              "  <div id=\"df-d3c2bb96-227a-4d4f-8eaa-5eee6ee6fe8f\">\n",
              "    <div class=\"colab-df-container\">\n",
              "      <div>\n",
              "<style scoped>\n",
              "    .dataframe tbody tr th:only-of-type {\n",
              "        vertical-align: middle;\n",
              "    }\n",
              "\n",
              "    .dataframe tbody tr th {\n",
              "        vertical-align: top;\n",
              "    }\n",
              "\n",
              "    .dataframe thead th {\n",
              "        text-align: right;\n",
              "    }\n",
              "</style>\n",
              "<table border=\"1\" class=\"dataframe\">\n",
              "  <thead>\n",
              "    <tr style=\"text-align: right;\">\n",
              "      <th></th>\n",
              "      <th>Id</th>\n",
              "      <th>Open Date</th>\n",
              "      <th>City</th>\n",
              "      <th>City Group</th>\n",
              "      <th>Type</th>\n",
              "      <th>P1</th>\n",
              "      <th>P2</th>\n",
              "      <th>P3</th>\n",
              "      <th>P4</th>\n",
              "      <th>P5</th>\n",
              "      <th>P6</th>\n",
              "      <th>P7</th>\n",
              "      <th>P8</th>\n",
              "      <th>P9</th>\n",
              "      <th>P10</th>\n",
              "      <th>P11</th>\n",
              "      <th>P12</th>\n",
              "      <th>P13</th>\n",
              "      <th>P14</th>\n",
              "      <th>P15</th>\n",
              "      <th>P16</th>\n",
              "      <th>P17</th>\n",
              "      <th>P18</th>\n",
              "      <th>P19</th>\n",
              "      <th>P20</th>\n",
              "      <th>P21</th>\n",
              "      <th>P22</th>\n",
              "      <th>P23</th>\n",
              "      <th>P24</th>\n",
              "      <th>P25</th>\n",
              "      <th>P26</th>\n",
              "      <th>P27</th>\n",
              "      <th>P28</th>\n",
              "      <th>P29</th>\n",
              "      <th>P30</th>\n",
              "      <th>P31</th>\n",
              "      <th>P32</th>\n",
              "      <th>P33</th>\n",
              "      <th>P34</th>\n",
              "      <th>P35</th>\n",
              "      <th>P36</th>\n",
              "      <th>P37</th>\n",
              "    </tr>\n",
              "  </thead>\n",
              "  <tbody>\n",
              "    <tr>\n",
              "      <th>0</th>\n",
              "      <td>0</td>\n",
              "      <td>01/22/2011</td>\n",
              "      <td>Niğde</td>\n",
              "      <td>Other</td>\n",
              "      <td>FC</td>\n",
              "      <td>1</td>\n",
              "      <td>4.0</td>\n",
              "      <td>4.0</td>\n",
              "      <td>4.0</td>\n",
              "      <td>1</td>\n",
              "      <td>2</td>\n",
              "      <td>5</td>\n",
              "      <td>4</td>\n",
              "      <td>5</td>\n",
              "      <td>5</td>\n",
              "      <td>5</td>\n",
              "      <td>3</td>\n",
              "      <td>4.0</td>\n",
              "      <td>0</td>\n",
              "      <td>0</td>\n",
              "      <td>0</td>\n",
              "      <td>2</td>\n",
              "      <td>0</td>\n",
              "      <td>5</td>\n",
              "      <td>5</td>\n",
              "      <td>3</td>\n",
              "      <td>1</td>\n",
              "      <td>4</td>\n",
              "      <td>0</td>\n",
              "      <td>0</td>\n",
              "      <td>0.0</td>\n",
              "      <td>0.0</td>\n",
              "      <td>2.0</td>\n",
              "      <td>3.0</td>\n",
              "      <td>0</td>\n",
              "      <td>0</td>\n",
              "      <td>0</td>\n",
              "      <td>0</td>\n",
              "      <td>0</td>\n",
              "      <td>0</td>\n",
              "      <td>0</td>\n",
              "      <td>0</td>\n",
              "    </tr>\n",
              "    <tr>\n",
              "      <th>1</th>\n",
              "      <td>1</td>\n",
              "      <td>03/18/2011</td>\n",
              "      <td>Konya</td>\n",
              "      <td>Other</td>\n",
              "      <td>IL</td>\n",
              "      <td>3</td>\n",
              "      <td>4.0</td>\n",
              "      <td>4.0</td>\n",
              "      <td>4.0</td>\n",
              "      <td>2</td>\n",
              "      <td>2</td>\n",
              "      <td>5</td>\n",
              "      <td>3</td>\n",
              "      <td>4</td>\n",
              "      <td>4</td>\n",
              "      <td>2</td>\n",
              "      <td>4</td>\n",
              "      <td>5.0</td>\n",
              "      <td>0</td>\n",
              "      <td>0</td>\n",
              "      <td>0</td>\n",
              "      <td>0</td>\n",
              "      <td>0</td>\n",
              "      <td>5</td>\n",
              "      <td>5</td>\n",
              "      <td>3</td>\n",
              "      <td>2</td>\n",
              "      <td>1</td>\n",
              "      <td>0</td>\n",
              "      <td>0</td>\n",
              "      <td>0.0</td>\n",
              "      <td>0.0</td>\n",
              "      <td>1.0</td>\n",
              "      <td>3.0</td>\n",
              "      <td>0</td>\n",
              "      <td>0</td>\n",
              "      <td>0</td>\n",
              "      <td>0</td>\n",
              "      <td>0</td>\n",
              "      <td>0</td>\n",
              "      <td>0</td>\n",
              "      <td>0</td>\n",
              "    </tr>\n",
              "    <tr>\n",
              "      <th>2</th>\n",
              "      <td>2</td>\n",
              "      <td>10/30/2013</td>\n",
              "      <td>Ankara</td>\n",
              "      <td>Big Cities</td>\n",
              "      <td>FC</td>\n",
              "      <td>3</td>\n",
              "      <td>4.0</td>\n",
              "      <td>4.0</td>\n",
              "      <td>4.0</td>\n",
              "      <td>2</td>\n",
              "      <td>2</td>\n",
              "      <td>5</td>\n",
              "      <td>4</td>\n",
              "      <td>4</td>\n",
              "      <td>5</td>\n",
              "      <td>4</td>\n",
              "      <td>5</td>\n",
              "      <td>5.0</td>\n",
              "      <td>0</td>\n",
              "      <td>0</td>\n",
              "      <td>0</td>\n",
              "      <td>0</td>\n",
              "      <td>0</td>\n",
              "      <td>5</td>\n",
              "      <td>5</td>\n",
              "      <td>5</td>\n",
              "      <td>5</td>\n",
              "      <td>5</td>\n",
              "      <td>0</td>\n",
              "      <td>0</td>\n",
              "      <td>0.0</td>\n",
              "      <td>0.0</td>\n",
              "      <td>2.0</td>\n",
              "      <td>3.0</td>\n",
              "      <td>0</td>\n",
              "      <td>0</td>\n",
              "      <td>0</td>\n",
              "      <td>0</td>\n",
              "      <td>0</td>\n",
              "      <td>0</td>\n",
              "      <td>0</td>\n",
              "      <td>0</td>\n",
              "    </tr>\n",
              "    <tr>\n",
              "      <th>3</th>\n",
              "      <td>3</td>\n",
              "      <td>05/06/2013</td>\n",
              "      <td>Kocaeli</td>\n",
              "      <td>Other</td>\n",
              "      <td>IL</td>\n",
              "      <td>2</td>\n",
              "      <td>4.0</td>\n",
              "      <td>4.0</td>\n",
              "      <td>4.0</td>\n",
              "      <td>2</td>\n",
              "      <td>3</td>\n",
              "      <td>5</td>\n",
              "      <td>4</td>\n",
              "      <td>5</td>\n",
              "      <td>4</td>\n",
              "      <td>3</td>\n",
              "      <td>4</td>\n",
              "      <td>5.0</td>\n",
              "      <td>0</td>\n",
              "      <td>0</td>\n",
              "      <td>0</td>\n",
              "      <td>0</td>\n",
              "      <td>4</td>\n",
              "      <td>4</td>\n",
              "      <td>4</td>\n",
              "      <td>3</td>\n",
              "      <td>2</td>\n",
              "      <td>2</td>\n",
              "      <td>0</td>\n",
              "      <td>0</td>\n",
              "      <td>0.0</td>\n",
              "      <td>0.0</td>\n",
              "      <td>2.0</td>\n",
              "      <td>3.0</td>\n",
              "      <td>0</td>\n",
              "      <td>4</td>\n",
              "      <td>0</td>\n",
              "      <td>0</td>\n",
              "      <td>0</td>\n",
              "      <td>0</td>\n",
              "      <td>0</td>\n",
              "      <td>0</td>\n",
              "    </tr>\n",
              "    <tr>\n",
              "      <th>4</th>\n",
              "      <td>4</td>\n",
              "      <td>07/31/2013</td>\n",
              "      <td>Afyonkarahisar</td>\n",
              "      <td>Other</td>\n",
              "      <td>FC</td>\n",
              "      <td>2</td>\n",
              "      <td>4.0</td>\n",
              "      <td>4.0</td>\n",
              "      <td>4.0</td>\n",
              "      <td>1</td>\n",
              "      <td>2</td>\n",
              "      <td>5</td>\n",
              "      <td>4</td>\n",
              "      <td>5</td>\n",
              "      <td>4</td>\n",
              "      <td>3</td>\n",
              "      <td>5</td>\n",
              "      <td>4.0</td>\n",
              "      <td>0</td>\n",
              "      <td>0</td>\n",
              "      <td>0</td>\n",
              "      <td>0</td>\n",
              "      <td>0</td>\n",
              "      <td>1</td>\n",
              "      <td>5</td>\n",
              "      <td>3</td>\n",
              "      <td>1</td>\n",
              "      <td>1</td>\n",
              "      <td>0</td>\n",
              "      <td>0</td>\n",
              "      <td>0.0</td>\n",
              "      <td>0.0</td>\n",
              "      <td>5.0</td>\n",
              "      <td>3.0</td>\n",
              "      <td>0</td>\n",
              "      <td>0</td>\n",
              "      <td>0</td>\n",
              "      <td>0</td>\n",
              "      <td>0</td>\n",
              "      <td>0</td>\n",
              "      <td>0</td>\n",
              "      <td>0</td>\n",
              "    </tr>\n",
              "    <tr>\n",
              "      <th>...</th>\n",
              "      <td>...</td>\n",
              "      <td>...</td>\n",
              "      <td>...</td>\n",
              "      <td>...</td>\n",
              "      <td>...</td>\n",
              "      <td>...</td>\n",
              "      <td>...</td>\n",
              "      <td>...</td>\n",
              "      <td>...</td>\n",
              "      <td>...</td>\n",
              "      <td>...</td>\n",
              "      <td>...</td>\n",
              "      <td>...</td>\n",
              "      <td>...</td>\n",
              "      <td>...</td>\n",
              "      <td>...</td>\n",
              "      <td>...</td>\n",
              "      <td>...</td>\n",
              "      <td>...</td>\n",
              "      <td>...</td>\n",
              "      <td>...</td>\n",
              "      <td>...</td>\n",
              "      <td>...</td>\n",
              "      <td>...</td>\n",
              "      <td>...</td>\n",
              "      <td>...</td>\n",
              "      <td>...</td>\n",
              "      <td>...</td>\n",
              "      <td>...</td>\n",
              "      <td>...</td>\n",
              "      <td>...</td>\n",
              "      <td>...</td>\n",
              "      <td>...</td>\n",
              "      <td>...</td>\n",
              "      <td>...</td>\n",
              "      <td>...</td>\n",
              "      <td>...</td>\n",
              "      <td>...</td>\n",
              "      <td>...</td>\n",
              "      <td>...</td>\n",
              "      <td>...</td>\n",
              "      <td>...</td>\n",
              "    </tr>\n",
              "    <tr>\n",
              "      <th>99995</th>\n",
              "      <td>99995</td>\n",
              "      <td>01/05/2000</td>\n",
              "      <td>Antalya</td>\n",
              "      <td>Other</td>\n",
              "      <td>FC</td>\n",
              "      <td>5</td>\n",
              "      <td>5.0</td>\n",
              "      <td>4.0</td>\n",
              "      <td>4.0</td>\n",
              "      <td>2</td>\n",
              "      <td>2</td>\n",
              "      <td>5</td>\n",
              "      <td>5</td>\n",
              "      <td>4</td>\n",
              "      <td>4</td>\n",
              "      <td>4</td>\n",
              "      <td>4</td>\n",
              "      <td>4.0</td>\n",
              "      <td>0</td>\n",
              "      <td>0</td>\n",
              "      <td>0</td>\n",
              "      <td>0</td>\n",
              "      <td>0</td>\n",
              "      <td>3</td>\n",
              "      <td>1</td>\n",
              "      <td>1</td>\n",
              "      <td>3</td>\n",
              "      <td>2</td>\n",
              "      <td>0</td>\n",
              "      <td>0</td>\n",
              "      <td>0.0</td>\n",
              "      <td>0.0</td>\n",
              "      <td>2.0</td>\n",
              "      <td>3.0</td>\n",
              "      <td>0</td>\n",
              "      <td>0</td>\n",
              "      <td>0</td>\n",
              "      <td>0</td>\n",
              "      <td>0</td>\n",
              "      <td>0</td>\n",
              "      <td>0</td>\n",
              "      <td>0</td>\n",
              "    </tr>\n",
              "    <tr>\n",
              "      <th>99996</th>\n",
              "      <td>99996</td>\n",
              "      <td>07/18/2011</td>\n",
              "      <td>Niğde</td>\n",
              "      <td>Other</td>\n",
              "      <td>IL</td>\n",
              "      <td>1</td>\n",
              "      <td>2.0</td>\n",
              "      <td>4.0</td>\n",
              "      <td>3.0</td>\n",
              "      <td>1</td>\n",
              "      <td>1</td>\n",
              "      <td>1</td>\n",
              "      <td>5</td>\n",
              "      <td>5</td>\n",
              "      <td>5</td>\n",
              "      <td>2</td>\n",
              "      <td>4</td>\n",
              "      <td>5.0</td>\n",
              "      <td>0</td>\n",
              "      <td>0</td>\n",
              "      <td>0</td>\n",
              "      <td>1</td>\n",
              "      <td>0</td>\n",
              "      <td>1</td>\n",
              "      <td>1</td>\n",
              "      <td>1</td>\n",
              "      <td>1</td>\n",
              "      <td>2</td>\n",
              "      <td>0</td>\n",
              "      <td>0</td>\n",
              "      <td>0.0</td>\n",
              "      <td>0.0</td>\n",
              "      <td>1.0</td>\n",
              "      <td>3.0</td>\n",
              "      <td>5</td>\n",
              "      <td>0</td>\n",
              "      <td>0</td>\n",
              "      <td>0</td>\n",
              "      <td>4</td>\n",
              "      <td>0</td>\n",
              "      <td>0</td>\n",
              "      <td>0</td>\n",
              "    </tr>\n",
              "    <tr>\n",
              "      <th>99997</th>\n",
              "      <td>99997</td>\n",
              "      <td>12/29/2012</td>\n",
              "      <td>İstanbul</td>\n",
              "      <td>Big Cities</td>\n",
              "      <td>IL</td>\n",
              "      <td>4</td>\n",
              "      <td>5.0</td>\n",
              "      <td>4.0</td>\n",
              "      <td>4.0</td>\n",
              "      <td>1</td>\n",
              "      <td>2</td>\n",
              "      <td>5</td>\n",
              "      <td>3</td>\n",
              "      <td>4</td>\n",
              "      <td>5</td>\n",
              "      <td>5</td>\n",
              "      <td>4</td>\n",
              "      <td>5.0</td>\n",
              "      <td>0</td>\n",
              "      <td>4</td>\n",
              "      <td>4</td>\n",
              "      <td>3</td>\n",
              "      <td>3</td>\n",
              "      <td>3</td>\n",
              "      <td>5</td>\n",
              "      <td>4</td>\n",
              "      <td>5</td>\n",
              "      <td>5</td>\n",
              "      <td>4</td>\n",
              "      <td>4</td>\n",
              "      <td>4.0</td>\n",
              "      <td>3.0</td>\n",
              "      <td>4.0</td>\n",
              "      <td>1.0</td>\n",
              "      <td>5</td>\n",
              "      <td>5</td>\n",
              "      <td>3</td>\n",
              "      <td>2</td>\n",
              "      <td>4</td>\n",
              "      <td>4</td>\n",
              "      <td>4</td>\n",
              "      <td>2</td>\n",
              "    </tr>\n",
              "    <tr>\n",
              "      <th>99998</th>\n",
              "      <td>99998</td>\n",
              "      <td>10/12/2013</td>\n",
              "      <td>İstanbul</td>\n",
              "      <td>Big Cities</td>\n",
              "      <td>FC</td>\n",
              "      <td>12</td>\n",
              "      <td>7.5</td>\n",
              "      <td>6.0</td>\n",
              "      <td>6.0</td>\n",
              "      <td>4</td>\n",
              "      <td>4</td>\n",
              "      <td>10</td>\n",
              "      <td>10</td>\n",
              "      <td>10</td>\n",
              "      <td>10</td>\n",
              "      <td>6</td>\n",
              "      <td>10</td>\n",
              "      <td>7.5</td>\n",
              "      <td>0</td>\n",
              "      <td>0</td>\n",
              "      <td>0</td>\n",
              "      <td>0</td>\n",
              "      <td>0</td>\n",
              "      <td>20</td>\n",
              "      <td>9</td>\n",
              "      <td>3</td>\n",
              "      <td>3</td>\n",
              "      <td>15</td>\n",
              "      <td>0</td>\n",
              "      <td>2</td>\n",
              "      <td>0.0</td>\n",
              "      <td>0.0</td>\n",
              "      <td>7.5</td>\n",
              "      <td>5.0</td>\n",
              "      <td>0</td>\n",
              "      <td>0</td>\n",
              "      <td>0</td>\n",
              "      <td>4</td>\n",
              "      <td>0</td>\n",
              "      <td>0</td>\n",
              "      <td>0</td>\n",
              "      <td>0</td>\n",
              "    </tr>\n",
              "    <tr>\n",
              "      <th>99999</th>\n",
              "      <td>99999</td>\n",
              "      <td>10/05/2010</td>\n",
              "      <td>İstanbul</td>\n",
              "      <td>Big Cities</td>\n",
              "      <td>IL</td>\n",
              "      <td>2</td>\n",
              "      <td>5.0</td>\n",
              "      <td>4.0</td>\n",
              "      <td>4.0</td>\n",
              "      <td>2</td>\n",
              "      <td>2</td>\n",
              "      <td>5</td>\n",
              "      <td>5</td>\n",
              "      <td>5</td>\n",
              "      <td>4</td>\n",
              "      <td>4</td>\n",
              "      <td>4</td>\n",
              "      <td>5.0</td>\n",
              "      <td>5</td>\n",
              "      <td>0</td>\n",
              "      <td>0</td>\n",
              "      <td>1</td>\n",
              "      <td>1</td>\n",
              "      <td>5</td>\n",
              "      <td>4</td>\n",
              "      <td>1</td>\n",
              "      <td>2</td>\n",
              "      <td>1</td>\n",
              "      <td>5</td>\n",
              "      <td>0</td>\n",
              "      <td>0.0</td>\n",
              "      <td>1.0</td>\n",
              "      <td>5.0</td>\n",
              "      <td>3.0</td>\n",
              "      <td>0</td>\n",
              "      <td>2</td>\n",
              "      <td>0</td>\n",
              "      <td>2</td>\n",
              "      <td>2</td>\n",
              "      <td>4</td>\n",
              "      <td>2</td>\n",
              "      <td>0</td>\n",
              "    </tr>\n",
              "  </tbody>\n",
              "</table>\n",
              "<p>100000 rows × 42 columns</p>\n",
              "</div>\n",
              "      <button class=\"colab-df-convert\" onclick=\"convertToInteractive('df-d3c2bb96-227a-4d4f-8eaa-5eee6ee6fe8f')\"\n",
              "              title=\"Convert this dataframe to an interactive table.\"\n",
              "              style=\"display:none;\">\n",
              "        \n",
              "  <svg xmlns=\"http://www.w3.org/2000/svg\" height=\"24px\"viewBox=\"0 0 24 24\"\n",
              "       width=\"24px\">\n",
              "    <path d=\"M0 0h24v24H0V0z\" fill=\"none\"/>\n",
              "    <path d=\"M18.56 5.44l.94 2.06.94-2.06 2.06-.94-2.06-.94-.94-2.06-.94 2.06-2.06.94zm-11 1L8.5 8.5l.94-2.06 2.06-.94-2.06-.94L8.5 2.5l-.94 2.06-2.06.94zm10 10l.94 2.06.94-2.06 2.06-.94-2.06-.94-.94-2.06-.94 2.06-2.06.94z\"/><path d=\"M17.41 7.96l-1.37-1.37c-.4-.4-.92-.59-1.43-.59-.52 0-1.04.2-1.43.59L10.3 9.45l-7.72 7.72c-.78.78-.78 2.05 0 2.83L4 21.41c.39.39.9.59 1.41.59.51 0 1.02-.2 1.41-.59l7.78-7.78 2.81-2.81c.8-.78.8-2.07 0-2.86zM5.41 20L4 18.59l7.72-7.72 1.47 1.35L5.41 20z\"/>\n",
              "  </svg>\n",
              "      </button>\n",
              "      \n",
              "  <style>\n",
              "    .colab-df-container {\n",
              "      display:flex;\n",
              "      flex-wrap:wrap;\n",
              "      gap: 12px;\n",
              "    }\n",
              "\n",
              "    .colab-df-convert {\n",
              "      background-color: #E8F0FE;\n",
              "      border: none;\n",
              "      border-radius: 50%;\n",
              "      cursor: pointer;\n",
              "      display: none;\n",
              "      fill: #1967D2;\n",
              "      height: 32px;\n",
              "      padding: 0 0 0 0;\n",
              "      width: 32px;\n",
              "    }\n",
              "\n",
              "    .colab-df-convert:hover {\n",
              "      background-color: #E2EBFA;\n",
              "      box-shadow: 0px 1px 2px rgba(60, 64, 67, 0.3), 0px 1px 3px 1px rgba(60, 64, 67, 0.15);\n",
              "      fill: #174EA6;\n",
              "    }\n",
              "\n",
              "    [theme=dark] .colab-df-convert {\n",
              "      background-color: #3B4455;\n",
              "      fill: #D2E3FC;\n",
              "    }\n",
              "\n",
              "    [theme=dark] .colab-df-convert:hover {\n",
              "      background-color: #434B5C;\n",
              "      box-shadow: 0px 1px 3px 1px rgba(0, 0, 0, 0.15);\n",
              "      filter: drop-shadow(0px 1px 2px rgba(0, 0, 0, 0.3));\n",
              "      fill: #FFFFFF;\n",
              "    }\n",
              "  </style>\n",
              "\n",
              "      <script>\n",
              "        const buttonEl =\n",
              "          document.querySelector('#df-d3c2bb96-227a-4d4f-8eaa-5eee6ee6fe8f button.colab-df-convert');\n",
              "        buttonEl.style.display =\n",
              "          google.colab.kernel.accessAllowed ? 'block' : 'none';\n",
              "\n",
              "        async function convertToInteractive(key) {\n",
              "          const element = document.querySelector('#df-d3c2bb96-227a-4d4f-8eaa-5eee6ee6fe8f');\n",
              "          const dataTable =\n",
              "            await google.colab.kernel.invokeFunction('convertToInteractive',\n",
              "                                                     [key], {});\n",
              "          if (!dataTable) return;\n",
              "\n",
              "          const docLinkHtml = 'Like what you see? Visit the ' +\n",
              "            '<a target=\"_blank\" href=https://colab.research.google.com/notebooks/data_table.ipynb>data table notebook</a>'\n",
              "            + ' to learn more about interactive tables.';\n",
              "          element.innerHTML = '';\n",
              "          dataTable['output_type'] = 'display_data';\n",
              "          await google.colab.output.renderOutput(dataTable, element);\n",
              "          const docLink = document.createElement('div');\n",
              "          docLink.innerHTML = docLinkHtml;\n",
              "          element.appendChild(docLink);\n",
              "        }\n",
              "      </script>\n",
              "    </div>\n",
              "  </div>\n",
              "  "
            ],
            "text/plain": [
              "          Id   Open Date            City  City Group  ... P34  P35  P36  P37\n",
              "0          0  01/22/2011           Niğde       Other  ...   0    0    0    0\n",
              "1          1  03/18/2011           Konya       Other  ...   0    0    0    0\n",
              "2          2  10/30/2013          Ankara  Big Cities  ...   0    0    0    0\n",
              "3          3  05/06/2013         Kocaeli       Other  ...   0    0    0    0\n",
              "4          4  07/31/2013  Afyonkarahisar       Other  ...   0    0    0    0\n",
              "...      ...         ...             ...         ...  ...  ..  ...  ...  ...\n",
              "99995  99995  01/05/2000         Antalya       Other  ...   0    0    0    0\n",
              "99996  99996  07/18/2011           Niğde       Other  ...   4    0    0    0\n",
              "99997  99997  12/29/2012        İstanbul  Big Cities  ...   4    4    4    2\n",
              "99998  99998  10/12/2013        İstanbul  Big Cities  ...   0    0    0    0\n",
              "99999  99999  10/05/2010        İstanbul  Big Cities  ...   2    4    2    0\n",
              "\n",
              "[100000 rows x 42 columns]"
            ]
          },
          "metadata": {}
        }
      ],
      "source": [
        "#Read data\n",
        "\n",
        "data_path = './content/train.csv.zip'\n",
        "test_path = './content/test.csv.zip'\n",
        "\n",
        "restaurant_df = pd.read_csv(data_path)\n",
        "test_df = pd.read_csv(test_path)\n",
        "\n",
        "display(restaurant_df)\n",
        "\n",
        "display(test_df)"
      ]
    },
    {
      "cell_type": "code",
      "execution_count": null,
      "metadata": {
        "colab": {
          "base_uri": "https://localhost:8080/",
          "height": 1000
        },
        "id": "nP6wOixPrOyj",
        "outputId": "3b2bd6fb-09b0-4831-ac03-4daf015f8e90"
      },
      "outputs": [
        {
          "output_type": "stream",
          "name": "stdout",
          "text": [
            "Check if there are columns with empty values\n"
          ]
        },
        {
          "output_type": "display_data",
          "data": {
            "text/plain": [
              "Id            False\n",
              "Open Date     False\n",
              "City          False\n",
              "City Group    False\n",
              "Type          False\n",
              "P1            False\n",
              "P2            False\n",
              "P3            False\n",
              "P4            False\n",
              "P5            False\n",
              "P6            False\n",
              "P7            False\n",
              "P8            False\n",
              "P9            False\n",
              "P10           False\n",
              "P11           False\n",
              "P12           False\n",
              "P13           False\n",
              "P14           False\n",
              "P15           False\n",
              "P16           False\n",
              "P17           False\n",
              "P18           False\n",
              "P19           False\n",
              "P20           False\n",
              "P21           False\n",
              "P22           False\n",
              "P23           False\n",
              "P24           False\n",
              "P25           False\n",
              "P26           False\n",
              "P27           False\n",
              "P28           False\n",
              "P29           False\n",
              "P30           False\n",
              "P31           False\n",
              "P32           False\n",
              "P33           False\n",
              "P34           False\n",
              "P35           False\n",
              "P36           False\n",
              "P37           False\n",
              "revenue       False\n",
              "dtype: bool"
            ]
          },
          "metadata": {}
        },
        {
          "output_type": "stream",
          "name": "stdout",
          "text": [
            "There are 0 empty values in the dataframe\n",
            "empty values\n",
            "------------\n",
            "\n",
            "Id: 0\n",
            "Open Date: 0\n",
            "City: 0\n",
            "City Group: 0\n",
            "Type: 0\n",
            "P1: 0\n",
            "P2: 0\n",
            "P3: 0\n",
            "P4: 0\n",
            "P5: 0\n",
            "P6: 0\n",
            "P7: 0\n",
            "P8: 0\n",
            "P9: 0\n",
            "P10: 0\n",
            "P11: 0\n",
            "P12: 0\n",
            "P13: 0\n",
            "P14: 0\n",
            "P15: 0\n",
            "P16: 0\n",
            "P17: 0\n",
            "P18: 0\n",
            "P19: 0\n",
            "P20: 0\n",
            "P21: 0\n",
            "P22: 0\n",
            "P23: 0\n",
            "P24: 0\n",
            "P25: 0\n",
            "P26: 0\n",
            "P27: 0\n",
            "P28: 0\n",
            "P29: 0\n",
            "P30: 0\n",
            "P31: 0\n",
            "P32: 0\n",
            "P33: 0\n",
            "P34: 0\n",
            "P35: 0\n",
            "P36: 0\n",
            "P37: 0\n",
            "revenue: 0\n"
          ]
        }
      ],
      "source": [
        "print(\"Check if there are columns with empty values\")\n",
        "display(restaurant_df.isna().any())\n",
        "\n",
        "print(f'There are {len(np.where(restaurant_df.isnull())[0])} empty values in the dataframe')\n",
        "\n",
        "# count empty values in each column\n",
        "def count_empty_values_in_each_column(df: pd.DataFrame):\n",
        "  print('empty values')\n",
        "  print('------------\\n')\n",
        "  \n",
        "  for col in df.columns:\n",
        "    print(f\"{col}: {df[col].isna().sum()}\")\n",
        "\n",
        "count_empty_values_in_each_column(restaurant_df)"
      ]
    },
    {
      "cell_type": "markdown",
      "metadata": {
        "id": "dkHpMP_9tWPb"
      },
      "source": [
        "Which city is the best  \n",
        "When is the best time to open a resturant  \n",
        "Which type of resturant is the best  \n",
        "\n",
        "\n",
        "parse open date  \n",
        "Type  \n",
        "City"
      ]
    },
    {
      "cell_type": "markdown",
      "metadata": {
        "id": "FBCL_Nd61y_1"
      },
      "source": [
        "Data Exploration"
      ]
    },
    {
      "cell_type": "markdown",
      "metadata": {
        "id": "ld0J3owz10kM"
      },
      "source": [
        "City VS Revenue"
      ]
    },
    {
      "cell_type": "code",
      "execution_count": null,
      "metadata": {
        "colab": {
          "base_uri": "https://localhost:8080/",
          "height": 498
        },
        "id": "-m8jAtGYrczu",
        "outputId": "dbb6da6a-e20e-4368-f5d5-e2f2c17e6e52"
      },
      "outputs": [
        {
          "output_type": "execute_result",
          "data": {
            "text/plain": [
              "<matplotlib.axes._subplots.AxesSubplot at 0x7f4b4a1b2c90>"
            ]
          },
          "metadata": {},
          "execution_count": 22
        },
        {
          "output_type": "display_data",
          "data": {
            "image/png": "[encoded data removed]",
            "text/plain": [
              "<Figure size 2448x720 with 1 Axes>"
            ]
          },
          "metadata": {
            "needs_background": "light"
          }
        }
      ],
      "source": [
        "plt.figure(figsize=(34,10))\n",
        "sns.barplot(data=restaurant_df, x=\"City\", y=\"revenue\", hue=\"City Group\")"
      ]
    },
    {
      "cell_type": "markdown",
      "metadata": {
        "id": "I5n_DHCA12-O"
      },
      "source": [
        "City Group VS Revnue"
      ]
    },
    {
      "cell_type": "code",
      "execution_count": null,
      "metadata": {
        "colab": {
          "base_uri": "https://localhost:8080/",
          "height": 525
        },
        "id": "wn7q1-XargM9",
        "outputId": "a11fc832-4718-42f8-cfb6-eadf6fc00e24"
      },
      "outputs": [
        {
          "output_type": "execute_result",
          "data": {
            "text/plain": [
              "<matplotlib.axes._subplots.AxesSubplot at 0x7f4b49d25ed0>"
            ]
          },
          "metadata": {},
          "execution_count": 23
        },
        {
          "output_type": "display_data",
          "data": {
            "image/png": "[encoded data removed]",
            "text/plain": [
              "<Figure size 288x576 with 1 Axes>"
            ]
          },
          "metadata": {
            "needs_background": "light"
          }
        }
      ],
      "source": [
        "plt.figure(figsize=(4,8))\n",
        "sns.barplot(data=restaurant_df, x=\"City Group\", y=\"revenue\", hue=\"City Group\")"
      ]
    },
    {
      "cell_type": "markdown",
      "metadata": {
        "id": "p3qj2iUw17OY"
      },
      "source": [
        "Type VS Revenue"
      ]
    },
    {
      "cell_type": "code",
      "execution_count": null,
      "metadata": {
        "colab": {
          "base_uri": "https://localhost:8080/",
          "height": 307
        },
        "id": "Xjokw7T5riT-",
        "outputId": "5c460be7-4afb-4dec-e3cb-4d594f392738"
      },
      "outputs": [
        {
          "output_type": "execute_result",
          "data": {
            "text/plain": [
              "<matplotlib.axes._subplots.AxesSubplot at 0x7f4b49aa7f10>"
            ]
          },
          "metadata": {},
          "execution_count": 24
        },
        {
          "output_type": "display_data",
          "data": {
            "image/png": "[encoded data removed]",
            "text/plain": [
              "<Figure size 432x288 with 1 Axes>"
            ]
          },
          "metadata": {
            "needs_background": "light"
          }
        }
      ],
      "source": [
        "sns.barplot(data=restaurant_df, x=\"Type\", y=\"revenue\", hue=\"City Group\")"
      ]
    },
    {
      "cell_type": "code",
      "execution_count": null,
      "metadata": {
        "colab": {
          "base_uri": "https://localhost:8080/",
          "height": 307
        },
        "id": "sNHMp6-qrkW_",
        "outputId": "10adc6ad-63aa-48c4-90b2-4ba95be48b28"
      },
      "outputs": [
        {
          "output_type": "execute_result",
          "data": {
            "text/plain": [
              "<matplotlib.axes._subplots.AxesSubplot at 0x7f4b49b5d590>"
            ]
          },
          "metadata": {},
          "execution_count": 25
        },
        {
          "output_type": "display_data",
          "data": {
            "image/png": "[encoded data removed]",
            "text/plain": [
              "<Figure size 432x288 with 1 Axes>"
            ]
          },
          "metadata": {
            "needs_background": "light"
          }
        }
      ],
      "source": [
        "sns.barplot(data=restaurant_df, x=\"Type\", y=\"revenue\")"
      ]
    },
    {
      "cell_type": "markdown",
      "metadata": {
        "id": "YChVTqDW1_dB"
      },
      "source": [
        "Heatmap"
      ]
    },
    {
      "cell_type": "code",
      "execution_count": null,
      "metadata": {
        "colab": {
          "base_uri": "https://localhost:8080/",
          "height": 622
        },
        "id": "cDA_fjD5rp5I",
        "outputId": "a2c2acb4-975b-4573-edda-5939afa6d780"
      },
      "outputs": [
        {
          "output_type": "display_data",
          "data": {
            "image/png": "[encoded data removed]",
            "text/plain": [
              "<Figure size 720x720 with 1 Axes>"
            ]
          },
          "metadata": {
            "needs_background": "light"
          }
        }
      ],
      "source": [
        "plt.figure(figsize=(10,10))\n",
        "cor = np.abs(restaurant_df.corr())\n",
        "sns.heatmap(cor, annot=False, cmap=plt.cm.Reds, vmin=0, vmax=1 ,cbar = False)\n",
        "plt.show()"
      ]
    },
    {
      "cell_type": "markdown",
      "metadata": {
        "id": "VuG6ADNi2Cjc"
      },
      "source": [
        "Feature Engeenring"
      ]
    },
    {
      "cell_type": "code",
      "execution_count": null,
      "metadata": {
        "colab": {
          "base_uri": "https://localhost:8080/"
        },
        "id": "5wsH7pvI5YOU",
        "outputId": "930a85f1-76d5-4bde-ef70-67cf01843837"
      },
      "outputs": [
        {
          "output_type": "execute_result",
          "data": {
            "text/plain": [
              "Index(['Id', 'P1', 'P2', 'P3', 'P4', 'P5', 'P6', 'P7', 'P8', 'P9', 'P10',\n",
              "       'P11', 'P12', 'P13', 'P14', 'P15', 'P16', 'P17', 'P18', 'P19', 'P20',\n",
              "       'P21', 'P22', 'P23', 'P24', 'P25', 'P26', 'P27', 'P28', 'P29', 'P30',\n",
              "       'P31', 'P32', 'P33', 'P34', 'P35', 'P36', 'P37', 'revenue'],\n",
              "      dtype='object')"
            ]
          },
          "metadata": {},
          "execution_count": 27
        }
      ],
      "source": [
        "numerical_cols = restaurant_df.select_dtypes(include=['int64', 'float64']).columns\n",
        "numerical_cols"
      ]
    },
    {
      "cell_type": "code",
      "execution_count": null,
      "metadata": {
        "colab": {
          "base_uri": "https://localhost:8080/"
        },
        "id": "sa_Wj6Wy5mFj",
        "outputId": "03403b8c-514c-43de-e209-f83490a0bfc2"
      },
      "outputs": [
        {
          "output_type": "stream",
          "name": "stdout",
          "text": [
            "P30    0.066203\n",
            "P31    0.040418\n",
            "P32    0.065857\n",
            "P33    0.032426\n",
            "P34    0.072343\n",
            "P35    0.050156\n",
            "P36    0.050534\n",
            "P37    0.019051\n",
            "Name: revenue, dtype: float64\n",
            "0.07234280699800924\n"
          ]
        }
      ],
      "source": [
        "cor['revenue']\n",
        "group1 = cor['revenue'][['P30','P31','P32','P33','P34','P35','P36','P37']]\n",
        "print(group1)\n",
        "print(max(group1))"
      ]
    },
    {
      "cell_type": "code",
      "execution_count": null,
      "metadata": {
        "colab": {
          "base_uri": "https://localhost:8080/"
        },
        "id": "NzyR3V9x6lZh",
        "outputId": "e795bd15-c6b2-4d51-ffbe-d259dcf39c0e"
      },
      "outputs": [
        {
          "output_type": "stream",
          "name": "stdout",
          "text": [
            "P14    0.006441\n",
            "P15    0.000742\n",
            "P16    0.037997\n",
            "P17    0.067137\n",
            "P18    0.034537\n",
            "Name: revenue, dtype: float64\n",
            "0.06713690274053422\n"
          ]
        }
      ],
      "source": [
        "group3 = cor['revenue'][['P14','P15','P16','P17','P18']]\n",
        "print(group3)\n",
        "print(max(group3))"
      ]
    },
    {
      "cell_type": "code",
      "execution_count": null,
      "metadata": {
        "colab": {
          "base_uri": "https://localhost:8080/"
        },
        "id": "eMHUdKJM7B_1",
        "outputId": "55b88865-56d3-4e6b-ac12-11dc4d765cfd"
      },
      "outputs": [
        {
          "output_type": "stream",
          "name": "stdout",
          "text": [
            "P24    0.014222\n",
            "P25    0.036365\n",
            "P26    0.007650\n",
            "P27    0.013680\n",
            "Name: revenue, dtype: float64\n",
            "0.036364646386285934\n"
          ]
        }
      ],
      "source": [
        "group2 = cor['revenue'][['P24','P25','P26','P27']]\n",
        "print(group2)\n",
        "print(max(group2))"
      ]
    },
    {
      "cell_type": "code",
      "execution_count": null,
      "metadata": {
        "colab": {
          "base_uri": "https://localhost:8080/"
        },
        "id": "CTJKRE7H8Fju",
        "outputId": "57a349f4-8140-4019-c6ea-0823440ccf45"
      },
      "outputs": [
        {
          "output_type": "stream",
          "name": "stdout",
          "text": [
            "P6     0.139094\n",
            "P7     0.051165\n",
            "P8     0.084215\n",
            "P9     0.050352\n",
            "P10    0.073220\n",
            "Name: revenue, dtype: float64\n",
            "0.1390942389089374\n"
          ]
        }
      ],
      "source": [
        "group4 = cor['revenue'][['P6','P7','P8','P9','P10']]\n",
        "print(group4)\n",
        "print(max(group4))"
      ]
    },
    {
      "cell_type": "code",
      "execution_count": null,
      "metadata": {
        "id": "R8kjJ8hC6xRs"
      },
      "outputs": [],
      "source": [
        "restaurant_df_cp = restaurant_df.copy()"
      ]
    },
    {
      "cell_type": "code",
      "execution_count": null,
      "metadata": {
        "id": "eK7DCzUGk6XO"
      },
      "outputs": [],
      "source": [
        "# restaurant_df_cp = restaurant_df_cp.drop(['Id'], axis=1)\n",
        "restaurant_df_cp = restaurant_df_cp.drop(['Id','P7','P8','P9','P10', 'P12', 'P14','P15','P16','P18', 'P24','P26','P27','P30','P31','P32','P33','P35','P36','P37'], axis=1)"
      ]
    },
    {
      "cell_type": "markdown",
      "metadata": {
        "id": "IrDRmi4Q2GXT"
      },
      "source": [
        "Date"
      ]
    },
    {
      "cell_type": "code",
      "execution_count": null,
      "metadata": {
        "id": "5x78Zvx2z80I"
      },
      "outputs": [],
      "source": [
        "from datetime import datetime\n",
        "\n",
        "dates = restaurant_df_cp['Open Date'].values\n",
        "month = []\n",
        "year = []\n",
        "day = []\n",
        "weekend = []\n",
        "\n",
        "for date in dates:\n",
        "  m,d,y = date.split('/')\n",
        "  m = int(m)\n",
        "  y = int(y)\n",
        "  d = int(d)\n",
        "  month.append(m)\n",
        "  year.append(y)\n",
        "  day.append(d)\n",
        "  weekend.append(1 if datetime(y,m,d).weekday() > 4 else 0)\n",
        "\n",
        "restaurant_df_cp['Year'] = year\n",
        "restaurant_df_cp['Month'] = month\n",
        "restaurant_df_cp['Day'] = day\n",
        "restaurant_df_cp['Weekend'] = weekend\n",
        "# restaurant_df_cp[['Open Date', 'Year', 'Month', 'Day', 'Weekend']]"
      ]
    },
    {
      "cell_type": "code",
      "execution_count": null,
      "metadata": {
        "colab": {
          "base_uri": "https://localhost:8080/",
          "height": 631
        },
        "id": "at-G3nbc8XP5",
        "outputId": "40f06395-f4df-453f-d527-da7905a80acd"
      },
      "outputs": [
        {
          "output_type": "display_data",
          "data": {
            "image/png": "[encoded data removed]",
            "text/plain": [
              "<Figure size 864x720 with 2 Axes>"
            ]
          },
          "metadata": {
            "needs_background": "light"
          }
        }
      ],
      "source": [
        "plt.figure(figsize=(12,10))\n",
        "df_hm = restaurant_df_cp.drop(labels='revenue', axis=1)\n",
        "df_hm['revenue'] = restaurant_df_cp['revenue']\n",
        "cor = np.abs(df_hm.corr())\n",
        "sns.heatmap(cor, annot=False, cmap=plt.cm.Reds, vmin=0, vmax=1 ,cbar = True)\n",
        "plt.show()"
      ]
    },
    {
      "cell_type": "code",
      "execution_count": null,
      "metadata": {
        "id": "gUigD5wV1Dts"
      },
      "outputs": [],
      "source": [
        "restaurant_df_cp=restaurant_df_cp.drop(['Open Date'], axis=1)"
      ]
    },
    {
      "cell_type": "code",
      "execution_count": null,
      "metadata": {
        "colab": {
          "base_uri": "https://localhost:8080/",
          "height": 362
        },
        "id": "E2AbHIZhEjUV",
        "outputId": "bdd96ae3-031a-4be7-9179-04e2892b1ecc"
      },
      "outputs": [
        {
          "output_type": "execute_result",
          "data": {
            "text/plain": [
              "<matplotlib.axes._subplots.AxesSubplot at 0x7f4b4178c6d0>"
            ]
          },
          "metadata": {},
          "execution_count": 37
        },
        {
          "output_type": "display_data",
          "data": {
            "image/png": "[encoded data removed]",
            "text/plain": [
              "<Figure size 720x360 with 1 Axes>"
            ]
          },
          "metadata": {
            "needs_background": "light"
          }
        }
      ],
      "source": [
        "plt.figure(figsize=(10,5))\n",
        "sns.barplot(data=restaurant_df_cp, x=\"Year\", y=\"revenue\")"
      ]
    },
    {
      "cell_type": "code",
      "execution_count": null,
      "metadata": {
        "colab": {
          "base_uri": "https://localhost:8080/",
          "height": 362
        },
        "id": "teJkgX4EE5in",
        "outputId": "ce30da49-0e71-42e0-d80c-6ff036f27694"
      },
      "outputs": [
        {
          "output_type": "execute_result",
          "data": {
            "text/plain": [
              "<matplotlib.axes._subplots.AxesSubplot at 0x7f4b41858d50>"
            ]
          },
          "metadata": {},
          "execution_count": 38
        },
        {
          "output_type": "display_data",
          "data": {
            "image/png": "[encoded data removed]",
            "text/plain": [
              "<Figure size 720x360 with 1 Axes>"
            ]
          },
          "metadata": {
            "needs_background": "light"
          }
        }
      ],
      "source": [
        "plt.figure(figsize=(10,5))\n",
        "sns.barplot(data=restaurant_df_cp, x=\"Month\", y=\"revenue\")"
      ]
    },
    {
      "cell_type": "code",
      "execution_count": null,
      "metadata": {
        "colab": {
          "base_uri": "https://localhost:8080/",
          "height": 362
        },
        "id": "oDxdyDdXE7uL",
        "outputId": "5b328d2d-79e5-4e52-f8dd-a8081add79bf"
      },
      "outputs": [
        {
          "output_type": "execute_result",
          "data": {
            "text/plain": [
              "<matplotlib.axes._subplots.AxesSubplot at 0x7f4b41651b90>"
            ]
          },
          "metadata": {},
          "execution_count": 39
        },
        {
          "output_type": "display_data",
          "data": {
            "image/png": "[encoded data removed]",
            "text/plain": [
              "<Figure size 360x360 with 1 Axes>"
            ]
          },
          "metadata": {
            "needs_background": "light"
          }
        }
      ],
      "source": [
        "plt.figure(figsize=(5,5))\n",
        "sns.barplot(data=restaurant_df_cp, x=\"Weekend\", y=\"revenue\")"
      ]
    },
    {
      "cell_type": "markdown",
      "metadata": {
        "id": "-5N-DKHZpWJ9"
      },
      "source": [
        "CROSS VALIDATION"
      ]
    },
    {
      "cell_type": "code",
      "execution_count": null,
      "metadata": {
        "colab": {
          "base_uri": "https://localhost:8080/",
          "height": 684
        },
        "id": "QzEbZHqrpY8X",
        "outputId": "3c87e553-2ae1-4b9f-e60a-8f3f0d0065bf"
      },
      "outputs": [
        {
          "output_type": "stream",
          "name": "stdout",
          "text": [
            "t\n"
          ]
        },
        {
          "output_type": "display_data",
          "data": {
            "text/plain": [
              "0      5653753.0\n",
              "1      6923131.0\n",
              "2      2055379.0\n",
              "3      2675511.0\n",
              "4      4316715.0\n",
              "         ...    \n",
              "132    5787594.0\n",
              "133    9262754.0\n",
              "134    2544857.0\n",
              "135    7217634.0\n",
              "136    6363241.0\n",
              "Name: revenue, Length: 137, dtype: float64"
            ]
          },
          "metadata": {}
        },
        {
          "output_type": "stream",
          "name": "stdout",
          "text": [
            "\n",
            "X\n"
          ]
        },
        {
          "output_type": "display_data",
          "data": {
            "text/html": [
              "\n",
              "  <div id=\"df-c6afcc47-b573-4765-9910-f0315be79155\">\n",
              "    <div class=\"colab-df-container\">\n",
              "      <div>\n",
              "<style scoped>\n",
              "    .dataframe tbody tr th:only-of-type {\n",
              "        vertical-align: middle;\n",
              "    }\n",
              "\n",
              "    .dataframe tbody tr th {\n",
              "        vertical-align: top;\n",
              "    }\n",
              "\n",
              "    .dataframe thead th {\n",
              "        text-align: right;\n",
              "    }\n",
              "</style>\n",
              "<table border=\"1\" class=\"dataframe\">\n",
              "  <thead>\n",
              "    <tr style=\"text-align: right;\">\n",
              "      <th></th>\n",
              "      <th>City</th>\n",
              "      <th>City Group</th>\n",
              "      <th>Type</th>\n",
              "      <th>P1</th>\n",
              "      <th>P2</th>\n",
              "      <th>P3</th>\n",
              "      <th>P4</th>\n",
              "      <th>P5</th>\n",
              "      <th>P6</th>\n",
              "      <th>P11</th>\n",
              "      <th>P13</th>\n",
              "      <th>P17</th>\n",
              "      <th>P19</th>\n",
              "      <th>P20</th>\n",
              "      <th>P21</th>\n",
              "      <th>P22</th>\n",
              "      <th>P23</th>\n",
              "      <th>P25</th>\n",
              "      <th>P28</th>\n",
              "      <th>P29</th>\n",
              "      <th>P34</th>\n",
              "      <th>Year</th>\n",
              "      <th>Month</th>\n",
              "      <th>Day</th>\n",
              "      <th>Weekend</th>\n",
              "    </tr>\n",
              "  </thead>\n",
              "  <tbody>\n",
              "    <tr>\n",
              "      <th>0</th>\n",
              "      <td>İstanbul</td>\n",
              "      <td>Big Cities</td>\n",
              "      <td>IL</td>\n",
              "      <td>4</td>\n",
              "      <td>5.0</td>\n",
              "      <td>4.0</td>\n",
              "      <td>4.0</td>\n",
              "      <td>2</td>\n",
              "      <td>2</td>\n",
              "      <td>3</td>\n",
              "      <td>5.0</td>\n",
              "      <td>2</td>\n",
              "      <td>5</td>\n",
              "      <td>4</td>\n",
              "      <td>1</td>\n",
              "      <td>3</td>\n",
              "      <td>3</td>\n",
              "      <td>1</td>\n",
              "      <td>2.0</td>\n",
              "      <td>3.0</td>\n",
              "      <td>5</td>\n",
              "      <td>1999</td>\n",
              "      <td>7</td>\n",
              "      <td>17</td>\n",
              "      <td>1</td>\n",
              "    </tr>\n",
              "    <tr>\n",
              "      <th>1</th>\n",
              "      <td>Ankara</td>\n",
              "      <td>Big Cities</td>\n",
              "      <td>FC</td>\n",
              "      <td>4</td>\n",
              "      <td>5.0</td>\n",
              "      <td>4.0</td>\n",
              "      <td>4.0</td>\n",
              "      <td>1</td>\n",
              "      <td>2</td>\n",
              "      <td>1</td>\n",
              "      <td>5.0</td>\n",
              "      <td>0</td>\n",
              "      <td>3</td>\n",
              "      <td>2</td>\n",
              "      <td>1</td>\n",
              "      <td>3</td>\n",
              "      <td>2</td>\n",
              "      <td>0</td>\n",
              "      <td>3.0</td>\n",
              "      <td>3.0</td>\n",
              "      <td>0</td>\n",
              "      <td>2008</td>\n",
              "      <td>2</td>\n",
              "      <td>14</td>\n",
              "      <td>0</td>\n",
              "    </tr>\n",
              "    <tr>\n",
              "      <th>2</th>\n",
              "      <td>Diyarbakır</td>\n",
              "      <td>Other</td>\n",
              "      <td>IL</td>\n",
              "      <td>2</td>\n",
              "      <td>4.0</td>\n",
              "      <td>2.0</td>\n",
              "      <td>5.0</td>\n",
              "      <td>2</td>\n",
              "      <td>3</td>\n",
              "      <td>2</td>\n",
              "      <td>5.0</td>\n",
              "      <td>0</td>\n",
              "      <td>1</td>\n",
              "      <td>1</td>\n",
              "      <td>1</td>\n",
              "      <td>1</td>\n",
              "      <td>1</td>\n",
              "      <td>0</td>\n",
              "      <td>1.0</td>\n",
              "      <td>3.0</td>\n",
              "      <td>0</td>\n",
              "      <td>2013</td>\n",
              "      <td>3</td>\n",
              "      <td>9</td>\n",
              "      <td>1</td>\n",
              "    </tr>\n",
              "    <tr>\n",
              "      <th>3</th>\n",
              "      <td>Tokat</td>\n",
              "      <td>Other</td>\n",
              "      <td>IL</td>\n",
              "      <td>6</td>\n",
              "      <td>4.5</td>\n",
              "      <td>6.0</td>\n",
              "      <td>6.0</td>\n",
              "      <td>4</td>\n",
              "      <td>4</td>\n",
              "      <td>8</td>\n",
              "      <td>7.5</td>\n",
              "      <td>3</td>\n",
              "      <td>20</td>\n",
              "      <td>12</td>\n",
              "      <td>6</td>\n",
              "      <td>1</td>\n",
              "      <td>10</td>\n",
              "      <td>2</td>\n",
              "      <td>2.5</td>\n",
              "      <td>7.5</td>\n",
              "      <td>18</td>\n",
              "      <td>2012</td>\n",
              "      <td>2</td>\n",
              "      <td>2</td>\n",
              "      <td>0</td>\n",
              "    </tr>\n",
              "    <tr>\n",
              "      <th>4</th>\n",
              "      <td>Gaziantep</td>\n",
              "      <td>Other</td>\n",
              "      <td>IL</td>\n",
              "      <td>3</td>\n",
              "      <td>4.0</td>\n",
              "      <td>3.0</td>\n",
              "      <td>4.0</td>\n",
              "      <td>2</td>\n",
              "      <td>2</td>\n",
              "      <td>2</td>\n",
              "      <td>5.0</td>\n",
              "      <td>1</td>\n",
              "      <td>2</td>\n",
              "      <td>2</td>\n",
              "      <td>1</td>\n",
              "      <td>2</td>\n",
              "      <td>1</td>\n",
              "      <td>3</td>\n",
              "      <td>1.0</td>\n",
              "      <td>3.0</td>\n",
              "      <td>3</td>\n",
              "      <td>2009</td>\n",
              "      <td>5</td>\n",
              "      <td>9</td>\n",
              "      <td>1</td>\n",
              "    </tr>\n",
              "    <tr>\n",
              "      <th>...</th>\n",
              "      <td>...</td>\n",
              "      <td>...</td>\n",
              "      <td>...</td>\n",
              "      <td>...</td>\n",
              "      <td>...</td>\n",
              "      <td>...</td>\n",
              "      <td>...</td>\n",
              "      <td>...</td>\n",
              "      <td>...</td>\n",
              "      <td>...</td>\n",
              "      <td>...</td>\n",
              "      <td>...</td>\n",
              "      <td>...</td>\n",
              "      <td>...</td>\n",
              "      <td>...</td>\n",
              "      <td>...</td>\n",
              "      <td>...</td>\n",
              "      <td>...</td>\n",
              "      <td>...</td>\n",
              "      <td>...</td>\n",
              "      <td>...</td>\n",
              "      <td>...</td>\n",
              "      <td>...</td>\n",
              "      <td>...</td>\n",
              "      <td>...</td>\n",
              "    </tr>\n",
              "    <tr>\n",
              "      <th>132</th>\n",
              "      <td>Trabzon</td>\n",
              "      <td>Other</td>\n",
              "      <td>FC</td>\n",
              "      <td>2</td>\n",
              "      <td>3.0</td>\n",
              "      <td>3.0</td>\n",
              "      <td>5.0</td>\n",
              "      <td>4</td>\n",
              "      <td>2</td>\n",
              "      <td>4</td>\n",
              "      <td>4.0</td>\n",
              "      <td>0</td>\n",
              "      <td>4</td>\n",
              "      <td>3</td>\n",
              "      <td>2</td>\n",
              "      <td>1</td>\n",
              "      <td>1</td>\n",
              "      <td>0</td>\n",
              "      <td>2.0</td>\n",
              "      <td>3.0</td>\n",
              "      <td>0</td>\n",
              "      <td>2008</td>\n",
              "      <td>6</td>\n",
              "      <td>25</td>\n",
              "      <td>0</td>\n",
              "    </tr>\n",
              "    <tr>\n",
              "      <th>133</th>\n",
              "      <td>İzmir</td>\n",
              "      <td>Big Cities</td>\n",
              "      <td>FC</td>\n",
              "      <td>4</td>\n",
              "      <td>5.0</td>\n",
              "      <td>4.0</td>\n",
              "      <td>4.0</td>\n",
              "      <td>2</td>\n",
              "      <td>3</td>\n",
              "      <td>5</td>\n",
              "      <td>5.0</td>\n",
              "      <td>0</td>\n",
              "      <td>3</td>\n",
              "      <td>2</td>\n",
              "      <td>2</td>\n",
              "      <td>1</td>\n",
              "      <td>1</td>\n",
              "      <td>0</td>\n",
              "      <td>3.0</td>\n",
              "      <td>3.0</td>\n",
              "      <td>0</td>\n",
              "      <td>2006</td>\n",
              "      <td>10</td>\n",
              "      <td>12</td>\n",
              "      <td>0</td>\n",
              "    </tr>\n",
              "    <tr>\n",
              "      <th>134</th>\n",
              "      <td>Kayseri</td>\n",
              "      <td>Other</td>\n",
              "      <td>FC</td>\n",
              "      <td>3</td>\n",
              "      <td>4.0</td>\n",
              "      <td>4.0</td>\n",
              "      <td>4.0</td>\n",
              "      <td>2</td>\n",
              "      <td>3</td>\n",
              "      <td>1</td>\n",
              "      <td>5.0</td>\n",
              "      <td>0</td>\n",
              "      <td>2</td>\n",
              "      <td>3</td>\n",
              "      <td>1</td>\n",
              "      <td>2</td>\n",
              "      <td>2</td>\n",
              "      <td>0</td>\n",
              "      <td>2.0</td>\n",
              "      <td>3.0</td>\n",
              "      <td>0</td>\n",
              "      <td>2006</td>\n",
              "      <td>7</td>\n",
              "      <td>8</td>\n",
              "      <td>1</td>\n",
              "    </tr>\n",
              "    <tr>\n",
              "      <th>135</th>\n",
              "      <td>İstanbul</td>\n",
              "      <td>Big Cities</td>\n",
              "      <td>FC</td>\n",
              "      <td>4</td>\n",
              "      <td>5.0</td>\n",
              "      <td>4.0</td>\n",
              "      <td>5.0</td>\n",
              "      <td>2</td>\n",
              "      <td>2</td>\n",
              "      <td>2</td>\n",
              "      <td>5.0</td>\n",
              "      <td>0</td>\n",
              "      <td>1</td>\n",
              "      <td>1</td>\n",
              "      <td>1</td>\n",
              "      <td>1</td>\n",
              "      <td>1</td>\n",
              "      <td>0</td>\n",
              "      <td>3.0</td>\n",
              "      <td>3.0</td>\n",
              "      <td>0</td>\n",
              "      <td>2010</td>\n",
              "      <td>10</td>\n",
              "      <td>29</td>\n",
              "      <td>0</td>\n",
              "    </tr>\n",
              "    <tr>\n",
              "      <th>136</th>\n",
              "      <td>İstanbul</td>\n",
              "      <td>Big Cities</td>\n",
              "      <td>FC</td>\n",
              "      <td>4</td>\n",
              "      <td>5.0</td>\n",
              "      <td>3.0</td>\n",
              "      <td>5.0</td>\n",
              "      <td>2</td>\n",
              "      <td>2</td>\n",
              "      <td>4</td>\n",
              "      <td>5.0</td>\n",
              "      <td>0</td>\n",
              "      <td>2</td>\n",
              "      <td>1</td>\n",
              "      <td>1</td>\n",
              "      <td>1</td>\n",
              "      <td>1</td>\n",
              "      <td>0</td>\n",
              "      <td>3.0</td>\n",
              "      <td>3.0</td>\n",
              "      <td>0</td>\n",
              "      <td>2009</td>\n",
              "      <td>9</td>\n",
              "      <td>1</td>\n",
              "      <td>0</td>\n",
              "    </tr>\n",
              "  </tbody>\n",
              "</table>\n",
              "<p>137 rows × 25 columns</p>\n",
              "</div>\n",
              "      <button class=\"colab-df-convert\" onclick=\"convertToInteractive('df-c6afcc47-b573-4765-9910-f0315be79155')\"\n",
              "              title=\"Convert this dataframe to an interactive table.\"\n",
              "              style=\"display:none;\">\n",
              "        \n",
              "  <svg xmlns=\"http://www.w3.org/2000/svg\" height=\"24px\"viewBox=\"0 0 24 24\"\n",
              "       width=\"24px\">\n",
              "    <path d=\"M0 0h24v24H0V0z\" fill=\"none\"/>\n",
              "    <path d=\"M18.56 5.44l.94 2.06.94-2.06 2.06-.94-2.06-.94-.94-2.06-.94 2.06-2.06.94zm-11 1L8.5 8.5l.94-2.06 2.06-.94-2.06-.94L8.5 2.5l-.94 2.06-2.06.94zm10 10l.94 2.06.94-2.06 2.06-.94-2.06-.94-.94-2.06-.94 2.06-2.06.94z\"/><path d=\"M17.41 7.96l-1.37-1.37c-.4-.4-.92-.59-1.43-.59-.52 0-1.04.2-1.43.59L10.3 9.45l-7.72 7.72c-.78.78-.78 2.05 0 2.83L4 21.41c.39.39.9.59 1.41.59.51 0 1.02-.2 1.41-.59l7.78-7.78 2.81-2.81c.8-.78.8-2.07 0-2.86zM5.41 20L4 18.59l7.72-7.72 1.47 1.35L5.41 20z\"/>\n",
              "  </svg>\n",
              "      </button>\n",
              "      \n",
              "  <style>\n",
              "    .colab-df-container {\n",
              "      display:flex;\n",
              "      flex-wrap:wrap;\n",
              "      gap: 12px;\n",
              "    }\n",
              "\n",
              "    .colab-df-convert {\n",
              "      background-color: #E8F0FE;\n",
              "      border: none;\n",
              "      border-radius: 50%;\n",
              "      cursor: pointer;\n",
              "      display: none;\n",
              "      fill: #1967D2;\n",
              "      height: 32px;\n",
              "      padding: 0 0 0 0;\n",
              "      width: 32px;\n",
              "    }\n",
              "\n",
              "    .colab-df-convert:hover {\n",
              "      background-color: #E2EBFA;\n",
              "      box-shadow: 0px 1px 2px rgba(60, 64, 67, 0.3), 0px 1px 3px 1px rgba(60, 64, 67, 0.15);\n",
              "      fill: #174EA6;\n",
              "    }\n",
              "\n",
              "    [theme=dark] .colab-df-convert {\n",
              "      background-color: #3B4455;\n",
              "      fill: #D2E3FC;\n",
              "    }\n",
              "\n",
              "    [theme=dark] .colab-df-convert:hover {\n",
              "      background-color: #434B5C;\n",
              "      box-shadow: 0px 1px 3px 1px rgba(0, 0, 0, 0.15);\n",
              "      filter: drop-shadow(0px 1px 2px rgba(0, 0, 0, 0.3));\n",
              "      fill: #FFFFFF;\n",
              "    }\n",
              "  </style>\n",
              "\n",
              "      <script>\n",
              "        const buttonEl =\n",
              "          document.querySelector('#df-c6afcc47-b573-4765-9910-f0315be79155 button.colab-df-convert');\n",
              "        buttonEl.style.display =\n",
              "          google.colab.kernel.accessAllowed ? 'block' : 'none';\n",
              "\n",
              "        async function convertToInteractive(key) {\n",
              "          const element = document.querySelector('#df-c6afcc47-b573-4765-9910-f0315be79155');\n",
              "          const dataTable =\n",
              "            await google.colab.kernel.invokeFunction('convertToInteractive',\n",
              "                                                     [key], {});\n",
              "          if (!dataTable) return;\n",
              "\n",
              "          const docLinkHtml = 'Like what you see? Visit the ' +\n",
              "            '<a target=\"_blank\" href=https://colab.research.google.com/notebooks/data_table.ipynb>data table notebook</a>'\n",
              "            + ' to learn more about interactive tables.';\n",
              "          element.innerHTML = '';\n",
              "          dataTable['output_type'] = 'display_data';\n",
              "          await google.colab.output.renderOutput(dataTable, element);\n",
              "          const docLink = document.createElement('div');\n",
              "          docLink.innerHTML = docLinkHtml;\n",
              "          element.appendChild(docLink);\n",
              "        }\n",
              "      </script>\n",
              "    </div>\n",
              "  </div>\n",
              "  "
            ],
            "text/plain": [
              "           City  City Group Type  P1   P2  ...  P34  Year  Month  Day  Weekend\n",
              "0      İstanbul  Big Cities   IL   4  5.0  ...    5  1999      7   17        1\n",
              "1        Ankara  Big Cities   FC   4  5.0  ...    0  2008      2   14        0\n",
              "2    Diyarbakır       Other   IL   2  4.0  ...    0  2013      3    9        1\n",
              "3         Tokat       Other   IL   6  4.5  ...   18  2012      2    2        0\n",
              "4     Gaziantep       Other   IL   3  4.0  ...    3  2009      5    9        1\n",
              "..          ...         ...  ...  ..  ...  ...  ...   ...    ...  ...      ...\n",
              "132     Trabzon       Other   FC   2  3.0  ...    0  2008      6   25        0\n",
              "133       İzmir  Big Cities   FC   4  5.0  ...    0  2006     10   12        0\n",
              "134     Kayseri       Other   FC   3  4.0  ...    0  2006      7    8        1\n",
              "135    İstanbul  Big Cities   FC   4  5.0  ...    0  2010     10   29        0\n",
              "136    İstanbul  Big Cities   FC   4  5.0  ...    0  2009      9    1        0\n",
              "\n",
              "[137 rows x 25 columns]"
            ]
          },
          "metadata": {}
        }
      ],
      "source": [
        "# divide the data to features and target\n",
        "t = restaurant_df_cp['revenue'].copy()\n",
        "X = restaurant_df_cp.drop(['revenue'], axis=1)\n",
        "print('t')\n",
        "display(t)\n",
        "print()\n",
        "print('X')\n",
        "display(X)"
      ]
    },
    {
      "cell_type": "code",
      "execution_count": null,
      "metadata": {
        "id": "Gb3T55BHqlCX"
      },
      "outputs": [],
      "source": [
        "# def find_generator_len(generator, use_pbar=True):\n",
        "#     i = 0\n",
        "    \n",
        "#     if use_pbar:\n",
        "#         pbar = tqdm(desc='Calculating Length', ncols=1000, bar_format='{desc}{bar:10}{r_bar}')\n",
        "\n",
        "#     for a in generator:\n",
        "#         i += 1\n",
        "\n",
        "#         if use_pbar:\n",
        "#             pbar.update()\n",
        "\n",
        "#     if use_pbar:\n",
        "#         pbar.close()\n",
        "\n",
        "#     return i"
      ]
    },
    {
      "cell_type": "code",
      "execution_count": null,
      "metadata": {
        "id": "qGf5dNVzpiUX"
      },
      "outputs": [],
      "source": [
        "\n",
        "    # if use_pbar:\n",
        "    #     pbar = tqdm(desc='Computing Models', total=find_generator_len(cv.split(X)))\n",
        "    #     if use_pbar:\n",
        "    #         pbar.update()\n",
        "\n",
        "    # if use_pbar:\n",
        "    #     pbar.close()\n",
        "\n",
        "# calculate score and loss from cv (KFold) and display graphs\n",
        "def get_cv_score_and_loss(X, t, model, k=None, p=None, show_score_loss_graphs=False, use_pbar=True):\n",
        "    scores_losses_df = pd.DataFrame(columns=['fold_id', 'split', 'score', 'loss'])\n",
        "\n",
        "    if k is not None:\n",
        "        cv = KFold(n_splits=k, shuffle=True, random_state=1)\n",
        "        \n",
        "    else:\n",
        "        raise ValueError('you need to specify k or p in order for the cv to work')\n",
        "\n",
        "    for i, (train_ids, val_ids) in enumerate(cv.split(X)):\n",
        "        X_train = X.loc[train_ids]\n",
        "        t_train = t.loc[train_ids]\n",
        "        X_val = X.loc[val_ids]\n",
        "        t_val = t.loc[val_ids]\n",
        "\n",
        "        model.fit(X_train, t_train)\n",
        "\n",
        "        y_train = model.predict(X_train)\n",
        "        y_val = model.predict(X_val)\n",
        "        scores_losses_df.loc[len(scores_losses_df)] = [i, 'train', model.score(X_train, t_train), mean_squared_error(t_train, y_train, squared=False)]\n",
        "        scores_losses_df.loc[len(scores_losses_df)] = [i, 'val', model.score(X_val, t_val), mean_squared_error(t_val, y_val, squared=False)]\n",
        "\n",
        "\n",
        "    val_scores_losses_df = scores_losses_df[scores_losses_df['split']=='val']\n",
        "    train_scores_losses_df = scores_losses_df[scores_losses_df['split']=='train']\n",
        "\n",
        "    mean_val_score = val_scores_losses_df['score'].mean()\n",
        "    mean_val_loss = val_scores_losses_df['loss'].mean()\n",
        "    mean_train_score = train_scores_losses_df['score'].mean()\n",
        "    mean_train_loss = train_scores_losses_df['loss'].mean()\n",
        "\n",
        "    if show_score_loss_graphs:\n",
        "        fig = px.line(scores_losses_df, x='fold_id', y='score', color='split', title=f'Mean Val Score: {mean_val_score:.2f}, Mean Train Score: {mean_train_score:.2f}')\n",
        "        fig.show()\n",
        "        fig = px.line(scores_losses_df, x='fold_id', y='loss', color='split', title=f'Mean Val Loss: {mean_val_loss:.2f}, Mean Train Loss: {mean_train_loss:.2f}')\n",
        "        fig.show()\n",
        "\n",
        "    return mean_val_score, mean_val_loss, mean_train_score, mean_train_loss"
      ]
    },
    {
      "cell_type": "code",
      "execution_count": null,
      "metadata": {
        "id": "3hXTdsESqHLC"
      },
      "outputs": [],
      "source": [
        "numerical_cols = X.select_dtypes(include=['int64', 'float64']).columns\n",
        "categorical_cols = X.select_dtypes(include=['object', 'bool']).columns\n",
        "all_cols = np.array(X.columns)"
      ]
    },
    {
      "cell_type": "markdown",
      "metadata": {
        "id": "ZfiVZA2v2NyQ"
      },
      "source": [
        "###SGDRegressor"
      ]
    },
    {
      "cell_type": "code",
      "execution_count": null,
      "metadata": {
        "colab": {
          "base_uri": "https://localhost:8080/",
          "height": 1000
        },
        "id": "nkrjNm4OptGp",
        "outputId": "a2c164c6-2317-49ce-bccb-95f5cab84aff"
      },
      "outputs": [
        {
          "output_type": "display_data",
          "data": {
            "text/html": [
              "<html>\n",
              "<head><meta charset=\"utf-8\" /></head>\n",
              "<body>\n",
              "    <div>            <script src=\"https://cdnjs.cloudflare.com/ajax/libs/mathjax/2.7.5/MathJax.js?config=TeX-AMS-MML_SVG\"></script><script type=\"text/javascript\">if (window.MathJax) {MathJax.Hub.Config({SVG: {font: \"STIX-Web\"}});}</script>                <script type=\"text/javascript\">window.PlotlyConfig = {MathJaxConfig: 'local'};</script>\n",
              "        <script src=\"https://cdn.plot.ly/plotly-2.8.3.min.js\"></script>                <div id=\"440f4722-c557-4dd2-8f55-848b30e544ee\" class=\"plotly-graph-div\" style=\"height:525px; width:100%;\"></div>            <script type=\"text/javascript\">                                    window.PLOTLYENV=window.PLOTLYENV || {};                                    if (document.getElementById(\"440f4722-c557-4dd2-8f55-848b30e544ee\")) {                    Plotly.newPlot(                        \"440f4722-c557-4dd2-8f55-848b30e544ee\",                        [{\"hovertemplate\":\"split=train<br>fold_id=%{x}<br>score=%{y}<extra></extra>\",\"legendgroup\":\"train\",\"line\":{\"color\":\"#636efa\",\"dash\":\"solid\"},\"marker\":{\"symbol\":\"circle\"},\"mode\":\"lines\",\"name\":\"train\",\"orientation\":\"v\",\"showlegend\":true,\"x\":[0,1,2,3,4,5,6,7,8,9],\"xaxis\":\"x\",\"y\":[0.32748140463130393,0.36835048262139025,0.299225870475482,0.3260475224187608,0.3396574687477666,0.36367576616258734,0.3356899354508168,0.36073420263204414,0.30990205588271025,0.3240959923478256],\"yaxis\":\"y\",\"type\":\"scatter\"},{\"hovertemplate\":\"split=val<br>fold_id=%{x}<br>score=%{y}<extra></extra>\",\"legendgroup\":\"val\",\"line\":{\"color\":\"#EF553B\",\"dash\":\"solid\"},\"marker\":{\"symbol\":\"circle\"},\"mode\":\"lines\",\"name\":\"val\",\"orientation\":\"v\",\"showlegend\":true,\"x\":[0,1,2,3,4,5,6,7,8,9],\"xaxis\":\"x\",\"y\":[-0.20805400860528667,-0.11039385285666725,-0.04283754011483265,-0.8050975482530571,-0.6629933622879576,-0.25724515445366847,-0.11626006768154373,-2.4307234932721005,-0.31843485037750296,-0.6040888499057828],\"yaxis\":\"y\",\"type\":\"scatter\"}],                        {\"template\":{\"data\":{\"bar\":[{\"error_x\":{\"color\":\"#2a3f5f\"},\"error_y\":{\"color\":\"#2a3f5f\"},\"marker\":{\"line\":{\"color\":\"#E5ECF6\",\"width\":0.5},\"pattern\":{\"fillmode\":\"overlay\",\"size\":10,\"solidity\":0.2}},\"type\":\"bar\"}],\"barpolar\":[{\"marker\":{\"line\":{\"color\":\"#E5ECF6\",\"width\":0.5},\"pattern\":{\"fillmode\":\"overlay\",\"size\":10,\"solidity\":0.2}},\"type\":\"barpolar\"}],\"carpet\":[{\"aaxis\":{\"endlinecolor\":\"#2a3f5f\",\"gridcolor\":\"white\",\"linecolor\":\"white\",\"minorgridcolor\":\"white\",\"startlinecolor\":\"#2a3f5f\"},\"baxis\":{\"endlinecolor\":\"#2a3f5f\",\"gridcolor\":\"white\",\"linecolor\":\"white\",\"minorgridcolor\":\"white\",\"startlinecolor\":\"#2a3f5f\"},\"type\":\"carpet\"}],\"choropleth\":[{\"colorbar\":{\"outlinewidth\":0,\"ticks\":\"\"},\"type\":\"choropleth\"}],\"contour\":[{\"colorbar\":{\"outlinewidth\":0,\"ticks\":\"\"},\"colorscale\":[[0.0,\"#0d0887\"],[0.1111111111111111,\"#46039f\"],[0.2222222222222222,\"#7201a8\"],[0.3333333333333333,\"#9c179e\"],[0.4444444444444444,\"#bd3786\"],[0.5555555555555556,\"#d8576b\"],[0.6666666666666666,\"#ed7953\"],[0.7777777777777778,\"#fb9f3a\"],[0.8888888888888888,\"#fdca26\"],[1.0,\"#f0f921\"]],\"type\":\"contour\"}],\"contourcarpet\":[{\"colorbar\":{\"outlinewidth\":0,\"ticks\":\"\"},\"type\":\"contourcarpet\"}],\"heatmap\":[{\"colorbar\":{\"outlinewidth\":0,\"ticks\":\"\"},\"colorscale\":[[0.0,\"#0d0887\"],[0.1111111111111111,\"#46039f\"],[0.2222222222222222,\"#7201a8\"],[0.3333333333333333,\"#9c179e\"],[0.4444444444444444,\"#bd3786\"],[0.5555555555555556,\"#d8576b\"],[0.6666666666666666,\"#ed7953\"],[0.7777777777777778,\"#fb9f3a\"],[0.8888888888888888,\"#fdca26\"],[1.0,\"#f0f921\"]],\"type\":\"heatmap\"}],\"heatmapgl\":[{\"colorbar\":{\"outlinewidth\":0,\"ticks\":\"\"},\"colorscale\":[[0.0,\"#0d0887\"],[0.1111111111111111,\"#46039f\"],[0.2222222222222222,\"#7201a8\"],[0.3333333333333333,\"#9c179e\"],[0.4444444444444444,\"#bd3786\"],[0.5555555555555556,\"#d8576b\"],[0.6666666666666666,\"#ed7953\"],[0.7777777777777778,\"#fb9f3a\"],[0.8888888888888888,\"#fdca26\"],[1.0,\"#f0f921\"]],\"type\":\"heatmapgl\"}],\"histogram\":[{\"marker\":{\"pattern\":{\"fillmode\":\"overlay\",\"size\":10,\"solidity\":0.2}},\"type\":\"histogram\"}],\"histogram2d\":[{\"colorbar\":{\"outlinewidth\":0,\"ticks\":\"\"},\"colorscale\":[[0.0,\"#0d0887\"],[0.1111111111111111,\"#46039f\"],[0.2222222222222222,\"#7201a8\"],[0.3333333333333333,\"#9c179e\"],[0.4444444444444444,\"#bd3786\"],[0.5555555555555556,\"#d8576b\"],[0.6666666666666666,\"#ed7953\"],[0.7777777777777778,\"#fb9f3a\"],[0.8888888888888888,\"#fdca26\"],[1.0,\"#f0f921\"]],\"type\":\"histogram2d\"}],\"histogram2dcontour\":[{\"colorbar\":{\"outlinewidth\":0,\"ticks\":\"\"},\"colorscale\":[[0.0,\"#0d0887\"],[0.1111111111111111,\"#46039f\"],[0.2222222222222222,\"#7201a8\"],[0.3333333333333333,\"#9c179e\"],[0.4444444444444444,\"#bd3786\"],[0.5555555555555556,\"#d8576b\"],[0.6666666666666666,\"#ed7953\"],[0.7777777777777778,\"#fb9f3a\"],[0.8888888888888888,\"#fdca26\"],[1.0,\"#f0f921\"]],\"type\":\"histogram2dcontour\"}],\"mesh3d\":[{\"colorbar\":{\"outlinewidth\":0,\"ticks\":\"\"},\"type\":\"mesh3d\"}],\"parcoords\":[{\"line\":{\"colorbar\":{\"outlinewidth\":0,\"ticks\":\"\"}},\"type\":\"parcoords\"}],\"pie\":[{\"automargin\":true,\"type\":\"pie\"}],\"scatter\":[{\"marker\":{\"colorbar\":{\"outlinewidth\":0,\"ticks\":\"\"}},\"type\":\"scatter\"}],\"scatter3d\":[{\"line\":{\"colorbar\":{\"outlinewidth\":0,\"ticks\":\"\"}},\"marker\":{\"colorbar\":{\"outlinewidth\":0,\"ticks\":\"\"}},\"type\":\"scatter3d\"}],\"scattercarpet\":[{\"marker\":{\"colorbar\":{\"outlinewidth\":0,\"ticks\":\"\"}},\"type\":\"scattercarpet\"}],\"scattergeo\":[{\"marker\":{\"colorbar\":{\"outlinewidth\":0,\"ticks\":\"\"}},\"type\":\"scattergeo\"}],\"scattergl\":[{\"marker\":{\"colorbar\":{\"outlinewidth\":0,\"ticks\":\"\"}},\"type\":\"scattergl\"}],\"scattermapbox\":[{\"marker\":{\"colorbar\":{\"outlinewidth\":0,\"ticks\":\"\"}},\"type\":\"scattermapbox\"}],\"scatterpolar\":[{\"marker\":{\"colorbar\":{\"outlinewidth\":0,\"ticks\":\"\"}},\"type\":\"scatterpolar\"}],\"scatterpolargl\":[{\"marker\":{\"colorbar\":{\"outlinewidth\":0,\"ticks\":\"\"}},\"type\":\"scatterpolargl\"}],\"scatterternary\":[{\"marker\":{\"colorbar\":{\"outlinewidth\":0,\"ticks\":\"\"}},\"type\":\"scatterternary\"}],\"surface\":[{\"colorbar\":{\"outlinewidth\":0,\"ticks\":\"\"},\"colorscale\":[[0.0,\"#0d0887\"],[0.1111111111111111,\"#46039f\"],[0.2222222222222222,\"#7201a8\"],[0.3333333333333333,\"#9c179e\"],[0.4444444444444444,\"#bd3786\"],[0.5555555555555556,\"#d8576b\"],[0.6666666666666666,\"#ed7953\"],[0.7777777777777778,\"#fb9f3a\"],[0.8888888888888888,\"#fdca26\"],[1.0,\"#f0f921\"]],\"type\":\"surface\"}],\"table\":[{\"cells\":{\"fill\":{\"color\":\"#EBF0F8\"},\"line\":{\"color\":\"white\"}},\"header\":{\"fill\":{\"color\":\"#C8D4E3\"},\"line\":{\"color\":\"white\"}},\"type\":\"table\"}]},\"layout\":{\"annotationdefaults\":{\"arrowcolor\":\"#2a3f5f\",\"arrowhead\":0,\"arrowwidth\":1},\"autotypenumbers\":\"strict\",\"coloraxis\":{\"colorbar\":{\"outlinewidth\":0,\"ticks\":\"\"}},\"colorscale\":{\"diverging\":[[0,\"#8e0152\"],[0.1,\"#c51b7d\"],[0.2,\"#de77ae\"],[0.3,\"#f1b6da\"],[0.4,\"#fde0ef\"],[0.5,\"#f7f7f7\"],[0.6,\"#e6f5d0\"],[0.7,\"#b8e186\"],[0.8,\"#7fbc41\"],[0.9,\"#4d9221\"],[1,\"#276419\"]],\"sequential\":[[0.0,\"#0d0887\"],[0.1111111111111111,\"#46039f\"],[0.2222222222222222,\"#7201a8\"],[0.3333333333333333,\"#9c179e\"],[0.4444444444444444,\"#bd3786\"],[0.5555555555555556,\"#d8576b\"],[0.6666666666666666,\"#ed7953\"],[0.7777777777777778,\"#fb9f3a\"],[0.8888888888888888,\"#fdca26\"],[1.0,\"#f0f921\"]],\"sequentialminus\":[[0.0,\"#0d0887\"],[0.1111111111111111,\"#46039f\"],[0.2222222222222222,\"#7201a8\"],[0.3333333333333333,\"#9c179e\"],[0.4444444444444444,\"#bd3786\"],[0.5555555555555556,\"#d8576b\"],[0.6666666666666666,\"#ed7953\"],[0.7777777777777778,\"#fb9f3a\"],[0.8888888888888888,\"#fdca26\"],[1.0,\"#f0f921\"]]},\"colorway\":[\"#636efa\",\"#EF553B\",\"#00cc96\",\"#ab63fa\",\"#FFA15A\",\"#19d3f3\",\"#FF6692\",\"#B6E880\",\"#FF97FF\",\"#FECB52\"],\"font\":{\"color\":\"#2a3f5f\"},\"geo\":{\"bgcolor\":\"white\",\"lakecolor\":\"white\",\"landcolor\":\"#E5ECF6\",\"showlakes\":true,\"showland\":true,\"subunitcolor\":\"white\"},\"hoverlabel\":{\"align\":\"left\"},\"hovermode\":\"closest\",\"mapbox\":{\"style\":\"light\"},\"paper_bgcolor\":\"white\",\"plot_bgcolor\":\"#E5ECF6\",\"polar\":{\"angularaxis\":{\"gridcolor\":\"white\",\"linecolor\":\"white\",\"ticks\":\"\"},\"bgcolor\":\"#E5ECF6\",\"radialaxis\":{\"gridcolor\":\"white\",\"linecolor\":\"white\",\"ticks\":\"\"}},\"scene\":{\"xaxis\":{\"backgroundcolor\":\"#E5ECF6\",\"gridcolor\":\"white\",\"gridwidth\":2,\"linecolor\":\"white\",\"showbackground\":true,\"ticks\":\"\",\"zerolinecolor\":\"white\"},\"yaxis\":{\"backgroundcolor\":\"#E5ECF6\",\"gridcolor\":\"white\",\"gridwidth\":2,\"linecolor\":\"white\",\"showbackground\":true,\"ticks\":\"\",\"zerolinecolor\":\"white\"},\"zaxis\":{\"backgroundcolor\":\"#E5ECF6\",\"gridcolor\":\"white\",\"gridwidth\":2,\"linecolor\":\"white\",\"showbackground\":true,\"ticks\":\"\",\"zerolinecolor\":\"white\"}},\"shapedefaults\":{\"line\":{\"color\":\"#2a3f5f\"}},\"ternary\":{\"aaxis\":{\"gridcolor\":\"white\",\"linecolor\":\"white\",\"ticks\":\"\"},\"baxis\":{\"gridcolor\":\"white\",\"linecolor\":\"white\",\"ticks\":\"\"},\"bgcolor\":\"#E5ECF6\",\"caxis\":{\"gridcolor\":\"white\",\"linecolor\":\"white\",\"ticks\":\"\"}},\"title\":{\"x\":0.05},\"xaxis\":{\"automargin\":true,\"gridcolor\":\"white\",\"linecolor\":\"white\",\"ticks\":\"\",\"title\":{\"standoff\":15},\"zerolinecolor\":\"white\",\"zerolinewidth\":2},\"yaxis\":{\"automargin\":true,\"gridcolor\":\"white\",\"linecolor\":\"white\",\"ticks\":\"\",\"title\":{\"standoff\":15},\"zerolinecolor\":\"white\",\"zerolinewidth\":2}}},\"xaxis\":{\"anchor\":\"y\",\"domain\":[0.0,1.0],\"title\":{\"text\":\"fold_id\"}},\"yaxis\":{\"anchor\":\"x\",\"domain\":[0.0,1.0],\"title\":{\"text\":\"score\"}},\"legend\":{\"title\":{\"text\":\"split\"},\"tracegroupgap\":0},\"title\":{\"text\":\"Mean Val Score: -0.56, Mean Train Score: 0.34\"}},                        {\"responsive\": true}                    ).then(function(){\n",
              "                            \n",
              "var gd = document.getElementById('440f4722-c557-4dd2-8f55-848b30e544ee');\n",
              "var x = new MutationObserver(function (mutations, observer) {{\n",
              "        var display = window.getComputedStyle(gd).display;\n",
              "        if (!display || display === 'none') {{\n",
              "            console.log([gd, 'removed!']);\n",
              "            Plotly.purge(gd);\n",
              "            observer.disconnect();\n",
              "        }}\n",
              "}});\n",
              "\n",
              "// Listen for the removal of the full notebook cells\n",
              "var notebookContainer = gd.closest('#notebook-container');\n",
              "if (notebookContainer) {{\n",
              "    x.observe(notebookContainer, {childList: true});\n",
              "}}\n",
              "\n",
              "// Listen for the clearing of the current output cell\n",
              "var outputEl = gd.closest('.output');\n",
              "if (outputEl) {{\n",
              "    x.observe(outputEl, {childList: true});\n",
              "}}\n",
              "\n",
              "                        })                };                            </script>        </div>\n",
              "</body>\n",
              "</html>"
            ]
          },
          "metadata": {}
        },
        {
          "output_type": "display_data",
          "data": {
            "text/html": [
              "<html>\n",
              "<head><meta charset=\"utf-8\" /></head>\n",
              "<body>\n",
              "    <div>            <script src=\"https://cdnjs.cloudflare.com/ajax/libs/mathjax/2.7.5/MathJax.js?config=TeX-AMS-MML_SVG\"></script><script type=\"text/javascript\">if (window.MathJax) {MathJax.Hub.Config({SVG: {font: \"STIX-Web\"}});}</script>                <script type=\"text/javascript\">window.PlotlyConfig = {MathJaxConfig: 'local'};</script>\n",
              "        <script src=\"https://cdn.plot.ly/plotly-2.8.3.min.js\"></script>                <div id=\"1b88d476-0372-420e-937d-429e41858d92\" class=\"plotly-graph-div\" style=\"height:525px; width:100%;\"></div>            <script type=\"text/javascript\">                                    window.PLOTLYENV=window.PLOTLYENV || {};                                    if (document.getElementById(\"1b88d476-0372-420e-937d-429e41858d92\")) {                    Plotly.newPlot(                        \"1b88d476-0372-420e-937d-429e41858d92\",                        [{\"hovertemplate\":\"split=train<br>fold_id=%{x}<br>loss=%{y}<extra></extra>\",\"legendgroup\":\"train\",\"line\":{\"color\":\"#636efa\",\"dash\":\"solid\"},\"marker\":{\"symbol\":\"circle\"},\"mode\":\"lines\",\"name\":\"train\",\"orientation\":\"v\",\"showlegend\":true,\"x\":[0,1,2,3,4,5,6,7,8,9],\"xaxis\":\"x\",\"y\":[2172192.6881831996,1774452.7018603403,2220177.43576158,2167319.080465679,2144600.8894499806,1818349.8784200377,2088252.9623437366,2132266.1141574704,2196335.192362406,2171863.1716710194],\"yaxis\":\"y\",\"type\":\"scatter\"},{\"hovertemplate\":\"split=val<br>fold_id=%{x}<br>loss=%{y}<extra></extra>\",\"legendgroup\":\"val\",\"line\":{\"color\":\"#EF553B\",\"dash\":\"solid\"},\"marker\":{\"symbol\":\"circle\"},\"mode\":\"lines\",\"name\":\"val\",\"orientation\":\"v\",\"showlegend\":true,\"x\":[0,1,2,3,4,5,6,7,8,9],\"xaxis\":\"x\",\"y\":[1792780.2397517278,4508313.374900555,1478182.6294472245,2382832.14483661,2312794.711603501,4763475.139953629,2747054.79273481,2331566.8138887486,1633649.3564041595,2108132.9513266953],\"yaxis\":\"y\",\"type\":\"scatter\"}],                        {\"template\":{\"data\":{\"bar\":[{\"error_x\":{\"color\":\"#2a3f5f\"},\"error_y\":{\"color\":\"#2a3f5f\"},\"marker\":{\"line\":{\"color\":\"#E5ECF6\",\"width\":0.5},\"pattern\":{\"fillmode\":\"overlay\",\"size\":10,\"solidity\":0.2}},\"type\":\"bar\"}],\"barpolar\":[{\"marker\":{\"line\":{\"color\":\"#E5ECF6\",\"width\":0.5},\"pattern\":{\"fillmode\":\"overlay\",\"size\":10,\"solidity\":0.2}},\"type\":\"barpolar\"}],\"carpet\":[{\"aaxis\":{\"endlinecolor\":\"#2a3f5f\",\"gridcolor\":\"white\",\"linecolor\":\"white\",\"minorgridcolor\":\"white\",\"startlinecolor\":\"#2a3f5f\"},\"baxis\":{\"endlinecolor\":\"#2a3f5f\",\"gridcolor\":\"white\",\"linecolor\":\"white\",\"minorgridcolor\":\"white\",\"startlinecolor\":\"#2a3f5f\"},\"type\":\"carpet\"}],\"choropleth\":[{\"colorbar\":{\"outlinewidth\":0,\"ticks\":\"\"},\"type\":\"choropleth\"}],\"contour\":[{\"colorbar\":{\"outlinewidth\":0,\"ticks\":\"\"},\"colorscale\":[[0.0,\"#0d0887\"],[0.1111111111111111,\"#46039f\"],[0.2222222222222222,\"#7201a8\"],[0.3333333333333333,\"#9c179e\"],[0.4444444444444444,\"#bd3786\"],[0.5555555555555556,\"#d8576b\"],[0.6666666666666666,\"#ed7953\"],[0.7777777777777778,\"#fb9f3a\"],[0.8888888888888888,\"#fdca26\"],[1.0,\"#f0f921\"]],\"type\":\"contour\"}],\"contourcarpet\":[{\"colorbar\":{\"outlinewidth\":0,\"ticks\":\"\"},\"type\":\"contourcarpet\"}],\"heatmap\":[{\"colorbar\":{\"outlinewidth\":0,\"ticks\":\"\"},\"colorscale\":[[0.0,\"#0d0887\"],[0.1111111111111111,\"#46039f\"],[0.2222222222222222,\"#7201a8\"],[0.3333333333333333,\"#9c179e\"],[0.4444444444444444,\"#bd3786\"],[0.5555555555555556,\"#d8576b\"],[0.6666666666666666,\"#ed7953\"],[0.7777777777777778,\"#fb9f3a\"],[0.8888888888888888,\"#fdca26\"],[1.0,\"#f0f921\"]],\"type\":\"heatmap\"}],\"heatmapgl\":[{\"colorbar\":{\"outlinewidth\":0,\"ticks\":\"\"},\"colorscale\":[[0.0,\"#0d0887\"],[0.1111111111111111,\"#46039f\"],[0.2222222222222222,\"#7201a8\"],[0.3333333333333333,\"#9c179e\"],[0.4444444444444444,\"#bd3786\"],[0.5555555555555556,\"#d8576b\"],[0.6666666666666666,\"#ed7953\"],[0.7777777777777778,\"#fb9f3a\"],[0.8888888888888888,\"#fdca26\"],[1.0,\"#f0f921\"]],\"type\":\"heatmapgl\"}],\"histogram\":[{\"marker\":{\"pattern\":{\"fillmode\":\"overlay\",\"size\":10,\"solidity\":0.2}},\"type\":\"histogram\"}],\"histogram2d\":[{\"colorbar\":{\"outlinewidth\":0,\"ticks\":\"\"},\"colorscale\":[[0.0,\"#0d0887\"],[0.1111111111111111,\"#46039f\"],[0.2222222222222222,\"#7201a8\"],[0.3333333333333333,\"#9c179e\"],[0.4444444444444444,\"#bd3786\"],[0.5555555555555556,\"#d8576b\"],[0.6666666666666666,\"#ed7953\"],[0.7777777777777778,\"#fb9f3a\"],[0.8888888888888888,\"#fdca26\"],[1.0,\"#f0f921\"]],\"type\":\"histogram2d\"}],\"histogram2dcontour\":[{\"colorbar\":{\"outlinewidth\":0,\"ticks\":\"\"},\"colorscale\":[[0.0,\"#0d0887\"],[0.1111111111111111,\"#46039f\"],[0.2222222222222222,\"#7201a8\"],[0.3333333333333333,\"#9c179e\"],[0.4444444444444444,\"#bd3786\"],[0.5555555555555556,\"#d8576b\"],[0.6666666666666666,\"#ed7953\"],[0.7777777777777778,\"#fb9f3a\"],[0.8888888888888888,\"#fdca26\"],[1.0,\"#f0f921\"]],\"type\":\"histogram2dcontour\"}],\"mesh3d\":[{\"colorbar\":{\"outlinewidth\":0,\"ticks\":\"\"},\"type\":\"mesh3d\"}],\"parcoords\":[{\"line\":{\"colorbar\":{\"outlinewidth\":0,\"ticks\":\"\"}},\"type\":\"parcoords\"}],\"pie\":[{\"automargin\":true,\"type\":\"pie\"}],\"scatter\":[{\"marker\":{\"colorbar\":{\"outlinewidth\":0,\"ticks\":\"\"}},\"type\":\"scatter\"}],\"scatter3d\":[{\"line\":{\"colorbar\":{\"outlinewidth\":0,\"ticks\":\"\"}},\"marker\":{\"colorbar\":{\"outlinewidth\":0,\"ticks\":\"\"}},\"type\":\"scatter3d\"}],\"scattercarpet\":[{\"marker\":{\"colorbar\":{\"outlinewidth\":0,\"ticks\":\"\"}},\"type\":\"scattercarpet\"}],\"scattergeo\":[{\"marker\":{\"colorbar\":{\"outlinewidth\":0,\"ticks\":\"\"}},\"type\":\"scattergeo\"}],\"scattergl\":[{\"marker\":{\"colorbar\":{\"outlinewidth\":0,\"ticks\":\"\"}},\"type\":\"scattergl\"}],\"scattermapbox\":[{\"marker\":{\"colorbar\":{\"outlinewidth\":0,\"ticks\":\"\"}},\"type\":\"scattermapbox\"}],\"scatterpolar\":[{\"marker\":{\"colorbar\":{\"outlinewidth\":0,\"ticks\":\"\"}},\"type\":\"scatterpolar\"}],\"scatterpolargl\":[{\"marker\":{\"colorbar\":{\"outlinewidth\":0,\"ticks\":\"\"}},\"type\":\"scatterpolargl\"}],\"scatterternary\":[{\"marker\":{\"colorbar\":{\"outlinewidth\":0,\"ticks\":\"\"}},\"type\":\"scatterternary\"}],\"surface\":[{\"colorbar\":{\"outlinewidth\":0,\"ticks\":\"\"},\"colorscale\":[[0.0,\"#0d0887\"],[0.1111111111111111,\"#46039f\"],[0.2222222222222222,\"#7201a8\"],[0.3333333333333333,\"#9c179e\"],[0.4444444444444444,\"#bd3786\"],[0.5555555555555556,\"#d8576b\"],[0.6666666666666666,\"#ed7953\"],[0.7777777777777778,\"#fb9f3a\"],[0.8888888888888888,\"#fdca26\"],[1.0,\"#f0f921\"]],\"type\":\"surface\"}],\"table\":[{\"cells\":{\"fill\":{\"color\":\"#EBF0F8\"},\"line\":{\"color\":\"white\"}},\"header\":{\"fill\":{\"color\":\"#C8D4E3\"},\"line\":{\"color\":\"white\"}},\"type\":\"table\"}]},\"layout\":{\"annotationdefaults\":{\"arrowcolor\":\"#2a3f5f\",\"arrowhead\":0,\"arrowwidth\":1},\"autotypenumbers\":\"strict\",\"coloraxis\":{\"colorbar\":{\"outlinewidth\":0,\"ticks\":\"\"}},\"colorscale\":{\"diverging\":[[0,\"#8e0152\"],[0.1,\"#c51b7d\"],[0.2,\"#de77ae\"],[0.3,\"#f1b6da\"],[0.4,\"#fde0ef\"],[0.5,\"#f7f7f7\"],[0.6,\"#e6f5d0\"],[0.7,\"#b8e186\"],[0.8,\"#7fbc41\"],[0.9,\"#4d9221\"],[1,\"#276419\"]],\"sequential\":[[0.0,\"#0d0887\"],[0.1111111111111111,\"#46039f\"],[0.2222222222222222,\"#7201a8\"],[0.3333333333333333,\"#9c179e\"],[0.4444444444444444,\"#bd3786\"],[0.5555555555555556,\"#d8576b\"],[0.6666666666666666,\"#ed7953\"],[0.7777777777777778,\"#fb9f3a\"],[0.8888888888888888,\"#fdca26\"],[1.0,\"#f0f921\"]],\"sequentialminus\":[[0.0,\"#0d0887\"],[0.1111111111111111,\"#46039f\"],[0.2222222222222222,\"#7201a8\"],[0.3333333333333333,\"#9c179e\"],[0.4444444444444444,\"#bd3786\"],[0.5555555555555556,\"#d8576b\"],[0.6666666666666666,\"#ed7953\"],[0.7777777777777778,\"#fb9f3a\"],[0.8888888888888888,\"#fdca26\"],[1.0,\"#f0f921\"]]},\"colorway\":[\"#636efa\",\"#EF553B\",\"#00cc96\",\"#ab63fa\",\"#FFA15A\",\"#19d3f3\",\"#FF6692\",\"#B6E880\",\"#FF97FF\",\"#FECB52\"],\"font\":{\"color\":\"#2a3f5f\"},\"geo\":{\"bgcolor\":\"white\",\"lakecolor\":\"white\",\"landcolor\":\"#E5ECF6\",\"showlakes\":true,\"showland\":true,\"subunitcolor\":\"white\"},\"hoverlabel\":{\"align\":\"left\"},\"hovermode\":\"closest\",\"mapbox\":{\"style\":\"light\"},\"paper_bgcolor\":\"white\",\"plot_bgcolor\":\"#E5ECF6\",\"polar\":{\"angularaxis\":{\"gridcolor\":\"white\",\"linecolor\":\"white\",\"ticks\":\"\"},\"bgcolor\":\"#E5ECF6\",\"radialaxis\":{\"gridcolor\":\"white\",\"linecolor\":\"white\",\"ticks\":\"\"}},\"scene\":{\"xaxis\":{\"backgroundcolor\":\"#E5ECF6\",\"gridcolor\":\"white\",\"gridwidth\":2,\"linecolor\":\"white\",\"showbackground\":true,\"ticks\":\"\",\"zerolinecolor\":\"white\"},\"yaxis\":{\"backgroundcolor\":\"#E5ECF6\",\"gridcolor\":\"white\",\"gridwidth\":2,\"linecolor\":\"white\",\"showbackground\":true,\"ticks\":\"\",\"zerolinecolor\":\"white\"},\"zaxis\":{\"backgroundcolor\":\"#E5ECF6\",\"gridcolor\":\"white\",\"gridwidth\":2,\"linecolor\":\"white\",\"showbackground\":true,\"ticks\":\"\",\"zerolinecolor\":\"white\"}},\"shapedefaults\":{\"line\":{\"color\":\"#2a3f5f\"}},\"ternary\":{\"aaxis\":{\"gridcolor\":\"white\",\"linecolor\":\"white\",\"ticks\":\"\"},\"baxis\":{\"gridcolor\":\"white\",\"linecolor\":\"white\",\"ticks\":\"\"},\"bgcolor\":\"#E5ECF6\",\"caxis\":{\"gridcolor\":\"white\",\"linecolor\":\"white\",\"ticks\":\"\"}},\"title\":{\"x\":0.05},\"xaxis\":{\"automargin\":true,\"gridcolor\":\"white\",\"linecolor\":\"white\",\"ticks\":\"\",\"title\":{\"standoff\":15},\"zerolinecolor\":\"white\",\"zerolinewidth\":2},\"yaxis\":{\"automargin\":true,\"gridcolor\":\"white\",\"linecolor\":\"white\",\"ticks\":\"\",\"title\":{\"standoff\":15},\"zerolinecolor\":\"white\",\"zerolinewidth\":2}}},\"xaxis\":{\"anchor\":\"y\",\"domain\":[0.0,1.0],\"title\":{\"text\":\"fold_id\"}},\"yaxis\":{\"anchor\":\"x\",\"domain\":[0.0,1.0],\"title\":{\"text\":\"loss\"}},\"legend\":{\"title\":{\"text\":\"split\"},\"tracegroupgap\":0},\"title\":{\"text\":\"Mean Val Loss: 2605878.22, Mean Train Loss: 2088581.01\"}},                        {\"responsive\": true}                    ).then(function(){\n",
              "                            \n",
              "var gd = document.getElementById('1b88d476-0372-420e-937d-429e41858d92');\n",
              "var x = new MutationObserver(function (mutations, observer) {{\n",
              "        var display = window.getComputedStyle(gd).display;\n",
              "        if (!display || display === 'none') {{\n",
              "            console.log([gd, 'removed!']);\n",
              "            Plotly.purge(gd);\n",
              "            observer.disconnect();\n",
              "        }}\n",
              "}});\n",
              "\n",
              "// Listen for the removal of the full notebook cells\n",
              "var notebookContainer = gd.closest('#notebook-container');\n",
              "if (notebookContainer) {{\n",
              "    x.observe(notebookContainer, {childList: true});\n",
              "}}\n",
              "\n",
              "// Listen for the clearing of the current output cell\n",
              "var outputEl = gd.closest('.output');\n",
              "if (outputEl) {{\n",
              "    x.observe(outputEl, {childList: true});\n",
              "}}\n",
              "\n",
              "                        })                };                            </script>        </div>\n",
              "</body>\n",
              "</html>"
            ]
          },
          "metadata": {}
        },
        {
          "output_type": "stream",
          "name": "stdout",
          "text": [
            "mean cv val score: -0.56\n",
            "mean cv val loss 2605878.22\n",
            "mean cv val score: 0.34\n",
            "mean cv val loss 2088581.01\n"
          ]
        }
      ],
      "source": [
        "from sklearn.compose import ColumnTransformer\n",
        "\n",
        "ct = ColumnTransformer([\n",
        "    (\"encoding\", OneHotEncoder(sparse=False, handle_unknown='ignore'), categorical_cols),\n",
        "    (\"standard\", StandardScaler(), numerical_cols)])\n",
        "\n",
        "model_pipe = make_pipeline(ct, SGDRegressor(random_state=1))\n",
        "val_score, val_loss, train_score, train_loss = get_cv_score_and_loss(X, t, model_pipe, k=10, show_score_loss_graphs=True)\n",
        "print(f'mean cv val score: {val_score:.2f}\\nmean cv val loss {val_loss:.2f}')\n",
        "print(f'mean cv val score: {train_score:.2f}\\nmean cv val loss {train_loss:.2f}')"
      ]
    },
    {
      "cell_type": "code",
      "execution_count": null,
      "metadata": {
        "colab": {
          "base_uri": "https://localhost:8080/"
        },
        "id": "CNpDBTjetnfp",
        "outputId": "4a2a2534-39cf-4f4c-f286-2bb9821d66b7"
      },
      "outputs": [
        {
          "name": "stdout",
          "output_type": "stream",
          "text": [
            "Accuracy score on train 0.31139232096021396\n",
            "RMSE score on train 2129869.676142312\n"
          ]
        }
      ],
      "source": [
        "SDG_reg_original = pipeline.make_pipeline(ct, SGDRegressor(random_state=1)).fit(X, t)\n",
        "\n",
        "y_train_sdg = SDG_reg_original.predict(X)\n",
        "print('Accuracy score on train', SDG_reg_original.score(X, t))\n",
        "print('RMSE score on train',(mean_squared_error(t, y_train_sdg, squared=False)))"
      ]
    },
    {
      "cell_type": "code",
      "execution_count": null,
      "metadata": {
        "colab": {
          "base_uri": "https://localhost:8080/"
        },
        "id": "F7-wgG5Oo5Bh",
        "outputId": "bea52b40-8c92-484b-b6db-06a17eff6da8"
      },
      "outputs": [
        {
          "output_type": "stream",
          "name": "stdout",
          "text": [
            "Accuracy score for regression:\n",
            "gs_model 0.009642228268009246\n",
            "best params {'alpha': 1, 'penalty': 'l2'}\n"
          ]
        }
      ],
      "source": [
        "feature_arr = ct.fit_transform(X, t)\n",
        "feature_labels = ct.get_feature_names_out(all_cols.tolist())\n",
        "X_encoded = pd.DataFrame(feature_arr, columns=feature_labels)\n",
        "\n",
        "hyper_parameters = {'penalty': ('l2', 'l1', 'elasticnet'), 'alpha':[0.0001, 0.001, 0.01, 0.1,1]}\n",
        "\n",
        "gs_model = GridSearchCV(SGDRegressor(random_state=1), hyper_parameters).fit(X_encoded, t)\n",
        "print('Accuracy score for regression:')\n",
        "print('gs_model', gs_model.best_score_)\n",
        "print('best params', gs_model.best_params_)"
      ]
    },
    {
      "cell_type": "code",
      "execution_count": null,
      "metadata": {
        "colab": {
          "base_uri": "https://localhost:8080/",
          "height": 1000
        },
        "id": "LwDtV4Cg-mDk",
        "outputId": "c9706052-ef40-4949-d4de-62bb83152f9c"
      },
      "outputs": [
        {
          "data": {
            "text/html": [
              "<html>\n",
              "<head><meta charset=\"utf-8\" /></head>\n",
              "<body>\n",
              "    <div>            <script src=\"https://cdnjs.cloudflare.com/ajax/libs/mathjax/2.7.5/MathJax.js?config=TeX-AMS-MML_SVG\"></script><script type=\"text/javascript\">if (window.MathJax) {MathJax.Hub.Config({SVG: {font: \"STIX-Web\"}});}</script>                <script type=\"text/javascript\">window.PlotlyConfig = {MathJaxConfig: 'local'};</script>\n",
              "        <script src=\"https://cdn.plot.ly/plotly-2.8.3.min.js\"></script>                <div id=\"344e61d6-c62e-4c1f-a122-168028103136\" class=\"plotly-graph-div\" style=\"height:525px; width:100%;\"></div>            <script type=\"text/javascript\">                                    window.PLOTLYENV=window.PLOTLYENV || {};                                    if (document.getElementById(\"344e61d6-c62e-4c1f-a122-168028103136\")) {                    Plotly.newPlot(                        \"344e61d6-c62e-4c1f-a122-168028103136\",                        [{\"hovertemplate\":\"split=train<br>fold_id=%{x}<br>score=%{y}<extra></extra>\",\"legendgroup\":\"train\",\"line\":{\"color\":\"#636efa\",\"dash\":\"solid\"},\"marker\":{\"symbol\":\"circle\"},\"mode\":\"lines\",\"name\":\"train\",\"orientation\":\"v\",\"showlegend\":true,\"x\":[0,1,2,3,4,5,6,7,8,9],\"xaxis\":\"x\",\"y\":[0.1934736080997813,0.20299770856206367,0.18286356281531413,0.2091610393973311,0.19662952062761918,0.1744267512749884,0.19605281048352508,0.1971426337268556,0.19719125027102857,0.20390049306199964],\"yaxis\":\"y\",\"type\":\"scatter\"},{\"hovertemplate\":\"split=val<br>fold_id=%{x}<br>score=%{y}<extra></extra>\",\"legendgroup\":\"val\",\"line\":{\"color\":\"#EF553B\",\"dash\":\"solid\"},\"marker\":{\"symbol\":\"circle\"},\"mode\":\"lines\",\"name\":\"val\",\"orientation\":\"v\",\"showlegend\":true,\"x\":[0,1,2,3,4,5,6,7,8,9],\"xaxis\":\"x\",\"y\":[0.07645823574427424,-0.11560166528801608,0.10947755535806447,-0.11084854516063647,0.07073984493082397,0.0350129937726692,0.08301263728881758,-0.12438950323357267,-0.22586764666416093,-0.20852200081548844],\"yaxis\":\"y\",\"type\":\"scatter\"}],                        {\"template\":{\"data\":{\"bar\":[{\"error_x\":{\"color\":\"#2a3f5f\"},\"error_y\":{\"color\":\"#2a3f5f\"},\"marker\":{\"line\":{\"color\":\"#E5ECF6\",\"width\":0.5},\"pattern\":{\"fillmode\":\"overlay\",\"size\":10,\"solidity\":0.2}},\"type\":\"bar\"}],\"barpolar\":[{\"marker\":{\"line\":{\"color\":\"#E5ECF6\",\"width\":0.5},\"pattern\":{\"fillmode\":\"overlay\",\"size\":10,\"solidity\":0.2}},\"type\":\"barpolar\"}],\"carpet\":[{\"aaxis\":{\"endlinecolor\":\"#2a3f5f\",\"gridcolor\":\"white\",\"linecolor\":\"white\",\"minorgridcolor\":\"white\",\"startlinecolor\":\"#2a3f5f\"},\"baxis\":{\"endlinecolor\":\"#2a3f5f\",\"gridcolor\":\"white\",\"linecolor\":\"white\",\"minorgridcolor\":\"white\",\"startlinecolor\":\"#2a3f5f\"},\"type\":\"carpet\"}],\"choropleth\":[{\"colorbar\":{\"outlinewidth\":0,\"ticks\":\"\"},\"type\":\"choropleth\"}],\"contour\":[{\"colorbar\":{\"outlinewidth\":0,\"ticks\":\"\"},\"colorscale\":[[0.0,\"#0d0887\"],[0.1111111111111111,\"#46039f\"],[0.2222222222222222,\"#7201a8\"],[0.3333333333333333,\"#9c179e\"],[0.4444444444444444,\"#bd3786\"],[0.5555555555555556,\"#d8576b\"],[0.6666666666666666,\"#ed7953\"],[0.7777777777777778,\"#fb9f3a\"],[0.8888888888888888,\"#fdca26\"],[1.0,\"#f0f921\"]],\"type\":\"contour\"}],\"contourcarpet\":[{\"colorbar\":{\"outlinewidth\":0,\"ticks\":\"\"},\"type\":\"contourcarpet\"}],\"heatmap\":[{\"colorbar\":{\"outlinewidth\":0,\"ticks\":\"\"},\"colorscale\":[[0.0,\"#0d0887\"],[0.1111111111111111,\"#46039f\"],[0.2222222222222222,\"#7201a8\"],[0.3333333333333333,\"#9c179e\"],[0.4444444444444444,\"#bd3786\"],[0.5555555555555556,\"#d8576b\"],[0.6666666666666666,\"#ed7953\"],[0.7777777777777778,\"#fb9f3a\"],[0.8888888888888888,\"#fdca26\"],[1.0,\"#f0f921\"]],\"type\":\"heatmap\"}],\"heatmapgl\":[{\"colorbar\":{\"outlinewidth\":0,\"ticks\":\"\"},\"colorscale\":[[0.0,\"#0d0887\"],[0.1111111111111111,\"#46039f\"],[0.2222222222222222,\"#7201a8\"],[0.3333333333333333,\"#9c179e\"],[0.4444444444444444,\"#bd3786\"],[0.5555555555555556,\"#d8576b\"],[0.6666666666666666,\"#ed7953\"],[0.7777777777777778,\"#fb9f3a\"],[0.8888888888888888,\"#fdca26\"],[1.0,\"#f0f921\"]],\"type\":\"heatmapgl\"}],\"histogram\":[{\"marker\":{\"pattern\":{\"fillmode\":\"overlay\",\"size\":10,\"solidity\":0.2}},\"type\":\"histogram\"}],\"histogram2d\":[{\"colorbar\":{\"outlinewidth\":0,\"ticks\":\"\"},\"colorscale\":[[0.0,\"#0d0887\"],[0.1111111111111111,\"#46039f\"],[0.2222222222222222,\"#7201a8\"],[0.3333333333333333,\"#9c179e\"],[0.4444444444444444,\"#bd3786\"],[0.5555555555555556,\"#d8576b\"],[0.6666666666666666,\"#ed7953\"],[0.7777777777777778,\"#fb9f3a\"],[0.8888888888888888,\"#fdca26\"],[1.0,\"#f0f921\"]],\"type\":\"histogram2d\"}],\"histogram2dcontour\":[{\"colorbar\":{\"outlinewidth\":0,\"ticks\":\"\"},\"colorscale\":[[0.0,\"#0d0887\"],[0.1111111111111111,\"#46039f\"],[0.2222222222222222,\"#7201a8\"],[0.3333333333333333,\"#9c179e\"],[0.4444444444444444,\"#bd3786\"],[0.5555555555555556,\"#d8576b\"],[0.6666666666666666,\"#ed7953\"],[0.7777777777777778,\"#fb9f3a\"],[0.8888888888888888,\"#fdca26\"],[1.0,\"#f0f921\"]],\"type\":\"histogram2dcontour\"}],\"mesh3d\":[{\"colorbar\":{\"outlinewidth\":0,\"ticks\":\"\"},\"type\":\"mesh3d\"}],\"parcoords\":[{\"line\":{\"colorbar\":{\"outlinewidth\":0,\"ticks\":\"\"}},\"type\":\"parcoords\"}],\"pie\":[{\"automargin\":true,\"type\":\"pie\"}],\"scatter\":[{\"marker\":{\"colorbar\":{\"outlinewidth\":0,\"ticks\":\"\"}},\"type\":\"scatter\"}],\"scatter3d\":[{\"line\":{\"colorbar\":{\"outlinewidth\":0,\"ticks\":\"\"}},\"marker\":{\"colorbar\":{\"outlinewidth\":0,\"ticks\":\"\"}},\"type\":\"scatter3d\"}],\"scattercarpet\":[{\"marker\":{\"colorbar\":{\"outlinewidth\":0,\"ticks\":\"\"}},\"type\":\"scattercarpet\"}],\"scattergeo\":[{\"marker\":{\"colorbar\":{\"outlinewidth\":0,\"ticks\":\"\"}},\"type\":\"scattergeo\"}],\"scattergl\":[{\"marker\":{\"colorbar\":{\"outlinewidth\":0,\"ticks\":\"\"}},\"type\":\"scattergl\"}],\"scattermapbox\":[{\"marker\":{\"colorbar\":{\"outlinewidth\":0,\"ticks\":\"\"}},\"type\":\"scattermapbox\"}],\"scatterpolar\":[{\"marker\":{\"colorbar\":{\"outlinewidth\":0,\"ticks\":\"\"}},\"type\":\"scatterpolar\"}],\"scatterpolargl\":[{\"marker\":{\"colorbar\":{\"outlinewidth\":0,\"ticks\":\"\"}},\"type\":\"scatterpolargl\"}],\"scatterternary\":[{\"marker\":{\"colorbar\":{\"outlinewidth\":0,\"ticks\":\"\"}},\"type\":\"scatterternary\"}],\"surface\":[{\"colorbar\":{\"outlinewidth\":0,\"ticks\":\"\"},\"colorscale\":[[0.0,\"#0d0887\"],[0.1111111111111111,\"#46039f\"],[0.2222222222222222,\"#7201a8\"],[0.3333333333333333,\"#9c179e\"],[0.4444444444444444,\"#bd3786\"],[0.5555555555555556,\"#d8576b\"],[0.6666666666666666,\"#ed7953\"],[0.7777777777777778,\"#fb9f3a\"],[0.8888888888888888,\"#fdca26\"],[1.0,\"#f0f921\"]],\"type\":\"surface\"}],\"table\":[{\"cells\":{\"fill\":{\"color\":\"#EBF0F8\"},\"line\":{\"color\":\"white\"}},\"header\":{\"fill\":{\"color\":\"#C8D4E3\"},\"line\":{\"color\":\"white\"}},\"type\":\"table\"}]},\"layout\":{\"annotationdefaults\":{\"arrowcolor\":\"#2a3f5f\",\"arrowhead\":0,\"arrowwidth\":1},\"autotypenumbers\":\"strict\",\"coloraxis\":{\"colorbar\":{\"outlinewidth\":0,\"ticks\":\"\"}},\"colorscale\":{\"diverging\":[[0,\"#8e0152\"],[0.1,\"#c51b7d\"],[0.2,\"#de77ae\"],[0.3,\"#f1b6da\"],[0.4,\"#fde0ef\"],[0.5,\"#f7f7f7\"],[0.6,\"#e6f5d0\"],[0.7,\"#b8e186\"],[0.8,\"#7fbc41\"],[0.9,\"#4d9221\"],[1,\"#276419\"]],\"sequential\":[[0.0,\"#0d0887\"],[0.1111111111111111,\"#46039f\"],[0.2222222222222222,\"#7201a8\"],[0.3333333333333333,\"#9c179e\"],[0.4444444444444444,\"#bd3786\"],[0.5555555555555556,\"#d8576b\"],[0.6666666666666666,\"#ed7953\"],[0.7777777777777778,\"#fb9f3a\"],[0.8888888888888888,\"#fdca26\"],[1.0,\"#f0f921\"]],\"sequentialminus\":[[0.0,\"#0d0887\"],[0.1111111111111111,\"#46039f\"],[0.2222222222222222,\"#7201a8\"],[0.3333333333333333,\"#9c179e\"],[0.4444444444444444,\"#bd3786\"],[0.5555555555555556,\"#d8576b\"],[0.6666666666666666,\"#ed7953\"],[0.7777777777777778,\"#fb9f3a\"],[0.8888888888888888,\"#fdca26\"],[1.0,\"#f0f921\"]]},\"colorway\":[\"#636efa\",\"#EF553B\",\"#00cc96\",\"#ab63fa\",\"#FFA15A\",\"#19d3f3\",\"#FF6692\",\"#B6E880\",\"#FF97FF\",\"#FECB52\"],\"font\":{\"color\":\"#2a3f5f\"},\"geo\":{\"bgcolor\":\"white\",\"lakecolor\":\"white\",\"landcolor\":\"#E5ECF6\",\"showlakes\":true,\"showland\":true,\"subunitcolor\":\"white\"},\"hoverlabel\":{\"align\":\"left\"},\"hovermode\":\"closest\",\"mapbox\":{\"style\":\"light\"},\"paper_bgcolor\":\"white\",\"plot_bgcolor\":\"#E5ECF6\",\"polar\":{\"angularaxis\":{\"gridcolor\":\"white\",\"linecolor\":\"white\",\"ticks\":\"\"},\"bgcolor\":\"#E5ECF6\",\"radialaxis\":{\"gridcolor\":\"white\",\"linecolor\":\"white\",\"ticks\":\"\"}},\"scene\":{\"xaxis\":{\"backgroundcolor\":\"#E5ECF6\",\"gridcolor\":\"white\",\"gridwidth\":2,\"linecolor\":\"white\",\"showbackground\":true,\"ticks\":\"\",\"zerolinecolor\":\"white\"},\"yaxis\":{\"backgroundcolor\":\"#E5ECF6\",\"gridcolor\":\"white\",\"gridwidth\":2,\"linecolor\":\"white\",\"showbackground\":true,\"ticks\":\"\",\"zerolinecolor\":\"white\"},\"zaxis\":{\"backgroundcolor\":\"#E5ECF6\",\"gridcolor\":\"white\",\"gridwidth\":2,\"linecolor\":\"white\",\"showbackground\":true,\"ticks\":\"\",\"zerolinecolor\":\"white\"}},\"shapedefaults\":{\"line\":{\"color\":\"#2a3f5f\"}},\"ternary\":{\"aaxis\":{\"gridcolor\":\"white\",\"linecolor\":\"white\",\"ticks\":\"\"},\"baxis\":{\"gridcolor\":\"white\",\"linecolor\":\"white\",\"ticks\":\"\"},\"bgcolor\":\"#E5ECF6\",\"caxis\":{\"gridcolor\":\"white\",\"linecolor\":\"white\",\"ticks\":\"\"}},\"title\":{\"x\":0.05},\"xaxis\":{\"automargin\":true,\"gridcolor\":\"white\",\"linecolor\":\"white\",\"ticks\":\"\",\"title\":{\"standoff\":15},\"zerolinecolor\":\"white\",\"zerolinewidth\":2},\"yaxis\":{\"automargin\":true,\"gridcolor\":\"white\",\"linecolor\":\"white\",\"ticks\":\"\",\"title\":{\"standoff\":15},\"zerolinecolor\":\"white\",\"zerolinewidth\":2}}},\"xaxis\":{\"anchor\":\"y\",\"domain\":[0.0,1.0],\"title\":{\"text\":\"fold_id\"}},\"yaxis\":{\"anchor\":\"x\",\"domain\":[0.0,1.0],\"title\":{\"text\":\"score\"}},\"legend\":{\"title\":{\"text\":\"split\"},\"tracegroupgap\":0},\"title\":{\"text\":\"Mean Val Score: -0.04, Mean Train Score: 0.20\"}},                        {\"responsive\": true}                    ).then(function(){\n",
              "                            \n",
              "var gd = document.getElementById('344e61d6-c62e-4c1f-a122-168028103136');\n",
              "var x = new MutationObserver(function (mutations, observer) {{\n",
              "        var display = window.getComputedStyle(gd).display;\n",
              "        if (!display || display === 'none') {{\n",
              "            console.log([gd, 'removed!']);\n",
              "            Plotly.purge(gd);\n",
              "            observer.disconnect();\n",
              "        }}\n",
              "}});\n",
              "\n",
              "// Listen for the removal of the full notebook cells\n",
              "var notebookContainer = gd.closest('#notebook-container');\n",
              "if (notebookContainer) {{\n",
              "    x.observe(notebookContainer, {childList: true});\n",
              "}}\n",
              "\n",
              "// Listen for the clearing of the current output cell\n",
              "var outputEl = gd.closest('.output');\n",
              "if (outputEl) {{\n",
              "    x.observe(outputEl, {childList: true});\n",
              "}}\n",
              "\n",
              "                        })                };                            </script>        </div>\n",
              "</body>\n",
              "</html>"
            ]
          },
          "metadata": {},
          "output_type": "display_data"
        },
        {
          "data": {
            "text/html": [
              "<html>\n",
              "<head><meta charset=\"utf-8\" /></head>\n",
              "<body>\n",
              "    <div>            <script src=\"https://cdnjs.cloudflare.com/ajax/libs/mathjax/2.7.5/MathJax.js?config=TeX-AMS-MML_SVG\"></script><script type=\"text/javascript\">if (window.MathJax) {MathJax.Hub.Config({SVG: {font: \"STIX-Web\"}});}</script>                <script type=\"text/javascript\">window.PlotlyConfig = {MathJaxConfig: 'local'};</script>\n",
              "        <script src=\"https://cdn.plot.ly/plotly-2.8.3.min.js\"></script>                <div id=\"6030239a-5cf0-471d-9807-070b9a4f4edf\" class=\"plotly-graph-div\" style=\"height:525px; width:100%;\"></div>            <script type=\"text/javascript\">                                    window.PLOTLYENV=window.PLOTLYENV || {};                                    if (document.getElementById(\"6030239a-5cf0-471d-9807-070b9a4f4edf\")) {                    Plotly.newPlot(                        \"6030239a-5cf0-471d-9807-070b9a4f4edf\",                        [{\"hovertemplate\":\"split=train<br>fold_id=%{x}<br>loss=%{y}<extra></extra>\",\"legendgroup\":\"train\",\"line\":{\"color\":\"#636efa\",\"dash\":\"solid\"},\"marker\":{\"symbol\":\"circle\"},\"mode\":\"lines\",\"name\":\"train\",\"orientation\":\"v\",\"showlegend\":true,\"x\":[0,1,2,3,4,5,6,7,8,9],\"xaxis\":\"x\",\"y\":[2378786.6391057232,1993224.0945521512,2397430.038679781,2347752.142975707,2365482.727654145,2071171.3319245828,2297266.8766231593,2389570.6142311622,2368914.0416657156,2357076.227357821],\"yaxis\":\"y\",\"type\":\"scatter\"},{\"hovertemplate\":\"split=val<br>fold_id=%{x}<br>loss=%{y}<extra></extra>\",\"legendgroup\":\"val\",\"line\":{\"color\":\"#EF553B\",\"dash\":\"solid\"},\"marker\":{\"symbol\":\"circle\"},\"mode\":\"lines\",\"name\":\"val\",\"orientation\":\"v\",\"showlegend\":true,\"x\":[0,1,2,3,4,5,6,7,8,9],\"xaxis\":\"x\",\"y\":[1567516.6091018056,4518873.135258142,1365973.2705066097,1869263.549299909,1728862.6247030844,4173252.387747091,2489810.5497634965,1334791.395007051,1575256.573074595,1829831.3631040773],\"yaxis\":\"y\",\"type\":\"scatter\"}],                        {\"template\":{\"data\":{\"bar\":[{\"error_x\":{\"color\":\"#2a3f5f\"},\"error_y\":{\"color\":\"#2a3f5f\"},\"marker\":{\"line\":{\"color\":\"#E5ECF6\",\"width\":0.5},\"pattern\":{\"fillmode\":\"overlay\",\"size\":10,\"solidity\":0.2}},\"type\":\"bar\"}],\"barpolar\":[{\"marker\":{\"line\":{\"color\":\"#E5ECF6\",\"width\":0.5},\"pattern\":{\"fillmode\":\"overlay\",\"size\":10,\"solidity\":0.2}},\"type\":\"barpolar\"}],\"carpet\":[{\"aaxis\":{\"endlinecolor\":\"#2a3f5f\",\"gridcolor\":\"white\",\"linecolor\":\"white\",\"minorgridcolor\":\"white\",\"startlinecolor\":\"#2a3f5f\"},\"baxis\":{\"endlinecolor\":\"#2a3f5f\",\"gridcolor\":\"white\",\"linecolor\":\"white\",\"minorgridcolor\":\"white\",\"startlinecolor\":\"#2a3f5f\"},\"type\":\"carpet\"}],\"choropleth\":[{\"colorbar\":{\"outlinewidth\":0,\"ticks\":\"\"},\"type\":\"choropleth\"}],\"contour\":[{\"colorbar\":{\"outlinewidth\":0,\"ticks\":\"\"},\"colorscale\":[[0.0,\"#0d0887\"],[0.1111111111111111,\"#46039f\"],[0.2222222222222222,\"#7201a8\"],[0.3333333333333333,\"#9c179e\"],[0.4444444444444444,\"#bd3786\"],[0.5555555555555556,\"#d8576b\"],[0.6666666666666666,\"#ed7953\"],[0.7777777777777778,\"#fb9f3a\"],[0.8888888888888888,\"#fdca26\"],[1.0,\"#f0f921\"]],\"type\":\"contour\"}],\"contourcarpet\":[{\"colorbar\":{\"outlinewidth\":0,\"ticks\":\"\"},\"type\":\"contourcarpet\"}],\"heatmap\":[{\"colorbar\":{\"outlinewidth\":0,\"ticks\":\"\"},\"colorscale\":[[0.0,\"#0d0887\"],[0.1111111111111111,\"#46039f\"],[0.2222222222222222,\"#7201a8\"],[0.3333333333333333,\"#9c179e\"],[0.4444444444444444,\"#bd3786\"],[0.5555555555555556,\"#d8576b\"],[0.6666666666666666,\"#ed7953\"],[0.7777777777777778,\"#fb9f3a\"],[0.8888888888888888,\"#fdca26\"],[1.0,\"#f0f921\"]],\"type\":\"heatmap\"}],\"heatmapgl\":[{\"colorbar\":{\"outlinewidth\":0,\"ticks\":\"\"},\"colorscale\":[[0.0,\"#0d0887\"],[0.1111111111111111,\"#46039f\"],[0.2222222222222222,\"#7201a8\"],[0.3333333333333333,\"#9c179e\"],[0.4444444444444444,\"#bd3786\"],[0.5555555555555556,\"#d8576b\"],[0.6666666666666666,\"#ed7953\"],[0.7777777777777778,\"#fb9f3a\"],[0.8888888888888888,\"#fdca26\"],[1.0,\"#f0f921\"]],\"type\":\"heatmapgl\"}],\"histogram\":[{\"marker\":{\"pattern\":{\"fillmode\":\"overlay\",\"size\":10,\"solidity\":0.2}},\"type\":\"histogram\"}],\"histogram2d\":[{\"colorbar\":{\"outlinewidth\":0,\"ticks\":\"\"},\"colorscale\":[[0.0,\"#0d0887\"],[0.1111111111111111,\"#46039f\"],[0.2222222222222222,\"#7201a8\"],[0.3333333333333333,\"#9c179e\"],[0.4444444444444444,\"#bd3786\"],[0.5555555555555556,\"#d8576b\"],[0.6666666666666666,\"#ed7953\"],[0.7777777777777778,\"#fb9f3a\"],[0.8888888888888888,\"#fdca26\"],[1.0,\"#f0f921\"]],\"type\":\"histogram2d\"}],\"histogram2dcontour\":[{\"colorbar\":{\"outlinewidth\":0,\"ticks\":\"\"},\"colorscale\":[[0.0,\"#0d0887\"],[0.1111111111111111,\"#46039f\"],[0.2222222222222222,\"#7201a8\"],[0.3333333333333333,\"#9c179e\"],[0.4444444444444444,\"#bd3786\"],[0.5555555555555556,\"#d8576b\"],[0.6666666666666666,\"#ed7953\"],[0.7777777777777778,\"#fb9f3a\"],[0.8888888888888888,\"#fdca26\"],[1.0,\"#f0f921\"]],\"type\":\"histogram2dcontour\"}],\"mesh3d\":[{\"colorbar\":{\"outlinewidth\":0,\"ticks\":\"\"},\"type\":\"mesh3d\"}],\"parcoords\":[{\"line\":{\"colorbar\":{\"outlinewidth\":0,\"ticks\":\"\"}},\"type\":\"parcoords\"}],\"pie\":[{\"automargin\":true,\"type\":\"pie\"}],\"scatter\":[{\"marker\":{\"colorbar\":{\"outlinewidth\":0,\"ticks\":\"\"}},\"type\":\"scatter\"}],\"scatter3d\":[{\"line\":{\"colorbar\":{\"outlinewidth\":0,\"ticks\":\"\"}},\"marker\":{\"colorbar\":{\"outlinewidth\":0,\"ticks\":\"\"}},\"type\":\"scatter3d\"}],\"scattercarpet\":[{\"marker\":{\"colorbar\":{\"outlinewidth\":0,\"ticks\":\"\"}},\"type\":\"scattercarpet\"}],\"scattergeo\":[{\"marker\":{\"colorbar\":{\"outlinewidth\":0,\"ticks\":\"\"}},\"type\":\"scattergeo\"}],\"scattergl\":[{\"marker\":{\"colorbar\":{\"outlinewidth\":0,\"ticks\":\"\"}},\"type\":\"scattergl\"}],\"scattermapbox\":[{\"marker\":{\"colorbar\":{\"outlinewidth\":0,\"ticks\":\"\"}},\"type\":\"scattermapbox\"}],\"scatterpolar\":[{\"marker\":{\"colorbar\":{\"outlinewidth\":0,\"ticks\":\"\"}},\"type\":\"scatterpolar\"}],\"scatterpolargl\":[{\"marker\":{\"colorbar\":{\"outlinewidth\":0,\"ticks\":\"\"}},\"type\":\"scatterpolargl\"}],\"scatterternary\":[{\"marker\":{\"colorbar\":{\"outlinewidth\":0,\"ticks\":\"\"}},\"type\":\"scatterternary\"}],\"surface\":[{\"colorbar\":{\"outlinewidth\":0,\"ticks\":\"\"},\"colorscale\":[[0.0,\"#0d0887\"],[0.1111111111111111,\"#46039f\"],[0.2222222222222222,\"#7201a8\"],[0.3333333333333333,\"#9c179e\"],[0.4444444444444444,\"#bd3786\"],[0.5555555555555556,\"#d8576b\"],[0.6666666666666666,\"#ed7953\"],[0.7777777777777778,\"#fb9f3a\"],[0.8888888888888888,\"#fdca26\"],[1.0,\"#f0f921\"]],\"type\":\"surface\"}],\"table\":[{\"cells\":{\"fill\":{\"color\":\"#EBF0F8\"},\"line\":{\"color\":\"white\"}},\"header\":{\"fill\":{\"color\":\"#C8D4E3\"},\"line\":{\"color\":\"white\"}},\"type\":\"table\"}]},\"layout\":{\"annotationdefaults\":{\"arrowcolor\":\"#2a3f5f\",\"arrowhead\":0,\"arrowwidth\":1},\"autotypenumbers\":\"strict\",\"coloraxis\":{\"colorbar\":{\"outlinewidth\":0,\"ticks\":\"\"}},\"colorscale\":{\"diverging\":[[0,\"#8e0152\"],[0.1,\"#c51b7d\"],[0.2,\"#de77ae\"],[0.3,\"#f1b6da\"],[0.4,\"#fde0ef\"],[0.5,\"#f7f7f7\"],[0.6,\"#e6f5d0\"],[0.7,\"#b8e186\"],[0.8,\"#7fbc41\"],[0.9,\"#4d9221\"],[1,\"#276419\"]],\"sequential\":[[0.0,\"#0d0887\"],[0.1111111111111111,\"#46039f\"],[0.2222222222222222,\"#7201a8\"],[0.3333333333333333,\"#9c179e\"],[0.4444444444444444,\"#bd3786\"],[0.5555555555555556,\"#d8576b\"],[0.6666666666666666,\"#ed7953\"],[0.7777777777777778,\"#fb9f3a\"],[0.8888888888888888,\"#fdca26\"],[1.0,\"#f0f921\"]],\"sequentialminus\":[[0.0,\"#0d0887\"],[0.1111111111111111,\"#46039f\"],[0.2222222222222222,\"#7201a8\"],[0.3333333333333333,\"#9c179e\"],[0.4444444444444444,\"#bd3786\"],[0.5555555555555556,\"#d8576b\"],[0.6666666666666666,\"#ed7953\"],[0.7777777777777778,\"#fb9f3a\"],[0.8888888888888888,\"#fdca26\"],[1.0,\"#f0f921\"]]},\"colorway\":[\"#636efa\",\"#EF553B\",\"#00cc96\",\"#ab63fa\",\"#FFA15A\",\"#19d3f3\",\"#FF6692\",\"#B6E880\",\"#FF97FF\",\"#FECB52\"],\"font\":{\"color\":\"#2a3f5f\"},\"geo\":{\"bgcolor\":\"white\",\"lakecolor\":\"white\",\"landcolor\":\"#E5ECF6\",\"showlakes\":true,\"showland\":true,\"subunitcolor\":\"white\"},\"hoverlabel\":{\"align\":\"left\"},\"hovermode\":\"closest\",\"mapbox\":{\"style\":\"light\"},\"paper_bgcolor\":\"white\",\"plot_bgcolor\":\"#E5ECF6\",\"polar\":{\"angularaxis\":{\"gridcolor\":\"white\",\"linecolor\":\"white\",\"ticks\":\"\"},\"bgcolor\":\"#E5ECF6\",\"radialaxis\":{\"gridcolor\":\"white\",\"linecolor\":\"white\",\"ticks\":\"\"}},\"scene\":{\"xaxis\":{\"backgroundcolor\":\"#E5ECF6\",\"gridcolor\":\"white\",\"gridwidth\":2,\"linecolor\":\"white\",\"showbackground\":true,\"ticks\":\"\",\"zerolinecolor\":\"white\"},\"yaxis\":{\"backgroundcolor\":\"#E5ECF6\",\"gridcolor\":\"white\",\"gridwidth\":2,\"linecolor\":\"white\",\"showbackground\":true,\"ticks\":\"\",\"zerolinecolor\":\"white\"},\"zaxis\":{\"backgroundcolor\":\"#E5ECF6\",\"gridcolor\":\"white\",\"gridwidth\":2,\"linecolor\":\"white\",\"showbackground\":true,\"ticks\":\"\",\"zerolinecolor\":\"white\"}},\"shapedefaults\":{\"line\":{\"color\":\"#2a3f5f\"}},\"ternary\":{\"aaxis\":{\"gridcolor\":\"white\",\"linecolor\":\"white\",\"ticks\":\"\"},\"baxis\":{\"gridcolor\":\"white\",\"linecolor\":\"white\",\"ticks\":\"\"},\"bgcolor\":\"#E5ECF6\",\"caxis\":{\"gridcolor\":\"white\",\"linecolor\":\"white\",\"ticks\":\"\"}},\"title\":{\"x\":0.05},\"xaxis\":{\"automargin\":true,\"gridcolor\":\"white\",\"linecolor\":\"white\",\"ticks\":\"\",\"title\":{\"standoff\":15},\"zerolinecolor\":\"white\",\"zerolinewidth\":2},\"yaxis\":{\"automargin\":true,\"gridcolor\":\"white\",\"linecolor\":\"white\",\"ticks\":\"\",\"title\":{\"standoff\":15},\"zerolinecolor\":\"white\",\"zerolinewidth\":2}}},\"xaxis\":{\"anchor\":\"y\",\"domain\":[0.0,1.0],\"title\":{\"text\":\"fold_id\"}},\"yaxis\":{\"anchor\":\"x\",\"domain\":[0.0,1.0],\"title\":{\"text\":\"loss\"}},\"legend\":{\"title\":{\"text\":\"split\"},\"tracegroupgap\":0},\"title\":{\"text\":\"Mean Val Loss: 2245343.15, Mean Train Loss: 2296667.47\"}},                        {\"responsive\": true}                    ).then(function(){\n",
              "                            \n",
              "var gd = document.getElementById('6030239a-5cf0-471d-9807-070b9a4f4edf');\n",
              "var x = new MutationObserver(function (mutations, observer) {{\n",
              "        var display = window.getComputedStyle(gd).display;\n",
              "        if (!display || display === 'none') {{\n",
              "            console.log([gd, 'removed!']);\n",
              "            Plotly.purge(gd);\n",
              "            observer.disconnect();\n",
              "        }}\n",
              "}});\n",
              "\n",
              "// Listen for the removal of the full notebook cells\n",
              "var notebookContainer = gd.closest('#notebook-container');\n",
              "if (notebookContainer) {{\n",
              "    x.observe(notebookContainer, {childList: true});\n",
              "}}\n",
              "\n",
              "// Listen for the clearing of the current output cell\n",
              "var outputEl = gd.closest('.output');\n",
              "if (outputEl) {{\n",
              "    x.observe(outputEl, {childList: true});\n",
              "}}\n",
              "\n",
              "                        })                };                            </script>        </div>\n",
              "</body>\n",
              "</html>"
            ]
          },
          "metadata": {},
          "output_type": "display_data"
        },
        {
          "name": "stdout",
          "output_type": "stream",
          "text": [
            "mean cv val score: -0.04\n",
            "mean cv val loss 2245343.15\n",
            "mean cv val score: 0.20\n",
            "mean cv val loss 2296667.47\n"
          ]
        }
      ],
      "source": [
        "model_pipe = make_pipeline(ct, SGDRegressor(random_state=1, alpha = 1, penalty='l2'))\n",
        "val_score, val_loss, train_score, train_loss = get_cv_score_and_loss(X, t, model_pipe, k=10, show_score_loss_graphs=True)\n",
        "print(f'mean cv val score: {val_score:.2f}\\nmean cv val loss {val_loss:.2f}')\n",
        "print(f'mean cv val score: {train_score:.2f}\\nmean cv val loss {train_loss:.2f}')"
      ]
    },
    {
      "cell_type": "code",
      "execution_count": null,
      "metadata": {
        "colab": {
          "base_uri": "https://localhost:8080/"
        },
        "id": "bfpVlvulTNBB",
        "outputId": "be0de978-276d-4c84-b364-b9d8c52b84ac"
      },
      "outputs": [
        {
          "name": "stdout",
          "output_type": "stream",
          "text": [
            "Accuracy score on train 0.18460765025037884\n",
            "RMSE score on train 2317663.684533361\n"
          ]
        }
      ],
      "source": [
        "sdg_hyper_model =pipeline.make_pipeline(ct, SGDRegressor(random_state=1, alpha=1, penalty='l2')).fit(X, t)\n",
        "y_train_sdg_hyper = gs_model.predict(X_encoded)\n",
        "\n",
        "print('Accuracy score on train', sdg_hyper_model.score(X, t))\n",
        "print('RMSE score on train',(mean_squared_error(t, y_train_sdg_hyper, squared=False)))\n"
      ]
    },
    {
      "cell_type": "markdown",
      "metadata": {
        "id": "w5TS9iNs23L8"
      },
      "source": [
        "###XGBoost"
      ]
    },
    {
      "cell_type": "code",
      "execution_count": null,
      "metadata": {
        "id": "1haOeb0Tkvak"
      },
      "outputs": [],
      "source": [
        "from xgboost import XGBRegressor\n"
      ]
    },
    {
      "cell_type": "code",
      "execution_count": null,
      "metadata": {
        "colab": {
          "base_uri": "https://localhost:8080/",
          "height": 1000
        },
        "id": "UGTfFmPjkzTz",
        "outputId": "2e8378c3-1dfe-4622-db4c-b8f43fe89171"
      },
      "outputs": [
        {
          "data": {
            "text/html": [
              "<html>\n",
              "<head><meta charset=\"utf-8\" /></head>\n",
              "<body>\n",
              "    <div>            <script src=\"https://cdnjs.cloudflare.com/ajax/libs/mathjax/2.7.5/MathJax.js?config=TeX-AMS-MML_SVG\"></script><script type=\"text/javascript\">if (window.MathJax) {MathJax.Hub.Config({SVG: {font: \"STIX-Web\"}});}</script>                <script type=\"text/javascript\">window.PlotlyConfig = {MathJaxConfig: 'local'};</script>\n",
              "        <script src=\"https://cdn.plot.ly/plotly-2.8.3.min.js\"></script>                <div id=\"d0788a74-c31c-4c87-96d5-f6807d967a5f\" class=\"plotly-graph-div\" style=\"height:525px; width:100%;\"></div>            <script type=\"text/javascript\">                                    window.PLOTLYENV=window.PLOTLYENV || {};                                    if (document.getElementById(\"d0788a74-c31c-4c87-96d5-f6807d967a5f\")) {                    Plotly.newPlot(                        \"d0788a74-c31c-4c87-96d5-f6807d967a5f\",                        [{\"hovertemplate\":\"split=train<br>fold_id=%{x}<br>score=%{y}<extra></extra>\",\"legendgroup\":\"train\",\"line\":{\"color\":\"#636efa\",\"dash\":\"solid\"},\"marker\":{\"symbol\":\"circle\"},\"mode\":\"lines\",\"name\":\"train\",\"orientation\":\"v\",\"showlegend\":true,\"x\":[0,1,2,3,4,5,6,7,8,9],\"xaxis\":\"x\",\"y\":[0.9214815878981291,0.9116729888133862,0.9198898522303555,0.9278793813808833,0.8936433842597031,0.941682685740862,0.928699421330875,0.9109338998001978,0.937570786177723,0.9345587091208695],\"yaxis\":\"y\",\"type\":\"scatter\"},{\"hovertemplate\":\"split=val<br>fold_id=%{x}<br>score=%{y}<extra></extra>\",\"legendgroup\":\"val\",\"line\":{\"color\":\"#EF553B\",\"dash\":\"solid\"},\"marker\":{\"symbol\":\"circle\"},\"mode\":\"lines\",\"name\":\"val\",\"orientation\":\"v\",\"showlegend\":true,\"x\":[0,1,2,3,4,5,6,7,8,9],\"xaxis\":\"x\",\"y\":[0.06975106291772193,-0.3054202614102177,-0.11771102717379889,-0.011974591814327029,-0.20230622092584327,-0.36273792357326085,-0.25528536689387704,-0.9873316770521205,-1.3835134155392237,0.03279764800076512],\"yaxis\":\"y\",\"type\":\"scatter\"}],                        {\"template\":{\"data\":{\"bar\":[{\"error_x\":{\"color\":\"#2a3f5f\"},\"error_y\":{\"color\":\"#2a3f5f\"},\"marker\":{\"line\":{\"color\":\"#E5ECF6\",\"width\":0.5},\"pattern\":{\"fillmode\":\"overlay\",\"size\":10,\"solidity\":0.2}},\"type\":\"bar\"}],\"barpolar\":[{\"marker\":{\"line\":{\"color\":\"#E5ECF6\",\"width\":0.5},\"pattern\":{\"fillmode\":\"overlay\",\"size\":10,\"solidity\":0.2}},\"type\":\"barpolar\"}],\"carpet\":[{\"aaxis\":{\"endlinecolor\":\"#2a3f5f\",\"gridcolor\":\"white\",\"linecolor\":\"white\",\"minorgridcolor\":\"white\",\"startlinecolor\":\"#2a3f5f\"},\"baxis\":{\"endlinecolor\":\"#2a3f5f\",\"gridcolor\":\"white\",\"linecolor\":\"white\",\"minorgridcolor\":\"white\",\"startlinecolor\":\"#2a3f5f\"},\"type\":\"carpet\"}],\"choropleth\":[{\"colorbar\":{\"outlinewidth\":0,\"ticks\":\"\"},\"type\":\"choropleth\"}],\"contour\":[{\"colorbar\":{\"outlinewidth\":0,\"ticks\":\"\"},\"colorscale\":[[0.0,\"#0d0887\"],[0.1111111111111111,\"#46039f\"],[0.2222222222222222,\"#7201a8\"],[0.3333333333333333,\"#9c179e\"],[0.4444444444444444,\"#bd3786\"],[0.5555555555555556,\"#d8576b\"],[0.6666666666666666,\"#ed7953\"],[0.7777777777777778,\"#fb9f3a\"],[0.8888888888888888,\"#fdca26\"],[1.0,\"#f0f921\"]],\"type\":\"contour\"}],\"contourcarpet\":[{\"colorbar\":{\"outlinewidth\":0,\"ticks\":\"\"},\"type\":\"contourcarpet\"}],\"heatmap\":[{\"colorbar\":{\"outlinewidth\":0,\"ticks\":\"\"},\"colorscale\":[[0.0,\"#0d0887\"],[0.1111111111111111,\"#46039f\"],[0.2222222222222222,\"#7201a8\"],[0.3333333333333333,\"#9c179e\"],[0.4444444444444444,\"#bd3786\"],[0.5555555555555556,\"#d8576b\"],[0.6666666666666666,\"#ed7953\"],[0.7777777777777778,\"#fb9f3a\"],[0.8888888888888888,\"#fdca26\"],[1.0,\"#f0f921\"]],\"type\":\"heatmap\"}],\"heatmapgl\":[{\"colorbar\":{\"outlinewidth\":0,\"ticks\":\"\"},\"colorscale\":[[0.0,\"#0d0887\"],[0.1111111111111111,\"#46039f\"],[0.2222222222222222,\"#7201a8\"],[0.3333333333333333,\"#9c179e\"],[0.4444444444444444,\"#bd3786\"],[0.5555555555555556,\"#d8576b\"],[0.6666666666666666,\"#ed7953\"],[0.7777777777777778,\"#fb9f3a\"],[0.8888888888888888,\"#fdca26\"],[1.0,\"#f0f921\"]],\"type\":\"heatmapgl\"}],\"histogram\":[{\"marker\":{\"pattern\":{\"fillmode\":\"overlay\",\"size\":10,\"solidity\":0.2}},\"type\":\"histogram\"}],\"histogram2d\":[{\"colorbar\":{\"outlinewidth\":0,\"ticks\":\"\"},\"colorscale\":[[0.0,\"#0d0887\"],[0.1111111111111111,\"#46039f\"],[0.2222222222222222,\"#7201a8\"],[0.3333333333333333,\"#9c179e\"],[0.4444444444444444,\"#bd3786\"],[0.5555555555555556,\"#d8576b\"],[0.6666666666666666,\"#ed7953\"],[0.7777777777777778,\"#fb9f3a\"],[0.8888888888888888,\"#fdca26\"],[1.0,\"#f0f921\"]],\"type\":\"histogram2d\"}],\"histogram2dcontour\":[{\"colorbar\":{\"outlinewidth\":0,\"ticks\":\"\"},\"colorscale\":[[0.0,\"#0d0887\"],[0.1111111111111111,\"#46039f\"],[0.2222222222222222,\"#7201a8\"],[0.3333333333333333,\"#9c179e\"],[0.4444444444444444,\"#bd3786\"],[0.5555555555555556,\"#d8576b\"],[0.6666666666666666,\"#ed7953\"],[0.7777777777777778,\"#fb9f3a\"],[0.8888888888888888,\"#fdca26\"],[1.0,\"#f0f921\"]],\"type\":\"histogram2dcontour\"}],\"mesh3d\":[{\"colorbar\":{\"outlinewidth\":0,\"ticks\":\"\"},\"type\":\"mesh3d\"}],\"parcoords\":[{\"line\":{\"colorbar\":{\"outlinewidth\":0,\"ticks\":\"\"}},\"type\":\"parcoords\"}],\"pie\":[{\"automargin\":true,\"type\":\"pie\"}],\"scatter\":[{\"marker\":{\"colorbar\":{\"outlinewidth\":0,\"ticks\":\"\"}},\"type\":\"scatter\"}],\"scatter3d\":[{\"line\":{\"colorbar\":{\"outlinewidth\":0,\"ticks\":\"\"}},\"marker\":{\"colorbar\":{\"outlinewidth\":0,\"ticks\":\"\"}},\"type\":\"scatter3d\"}],\"scattercarpet\":[{\"marker\":{\"colorbar\":{\"outlinewidth\":0,\"ticks\":\"\"}},\"type\":\"scattercarpet\"}],\"scattergeo\":[{\"marker\":{\"colorbar\":{\"outlinewidth\":0,\"ticks\":\"\"}},\"type\":\"scattergeo\"}],\"scattergl\":[{\"marker\":{\"colorbar\":{\"outlinewidth\":0,\"ticks\":\"\"}},\"type\":\"scattergl\"}],\"scattermapbox\":[{\"marker\":{\"colorbar\":{\"outlinewidth\":0,\"ticks\":\"\"}},\"type\":\"scattermapbox\"}],\"scatterpolar\":[{\"marker\":{\"colorbar\":{\"outlinewidth\":0,\"ticks\":\"\"}},\"type\":\"scatterpolar\"}],\"scatterpolargl\":[{\"marker\":{\"colorbar\":{\"outlinewidth\":0,\"ticks\":\"\"}},\"type\":\"scatterpolargl\"}],\"scatterternary\":[{\"marker\":{\"colorbar\":{\"outlinewidth\":0,\"ticks\":\"\"}},\"type\":\"scatterternary\"}],\"surface\":[{\"colorbar\":{\"outlinewidth\":0,\"ticks\":\"\"},\"colorscale\":[[0.0,\"#0d0887\"],[0.1111111111111111,\"#46039f\"],[0.2222222222222222,\"#7201a8\"],[0.3333333333333333,\"#9c179e\"],[0.4444444444444444,\"#bd3786\"],[0.5555555555555556,\"#d8576b\"],[0.6666666666666666,\"#ed7953\"],[0.7777777777777778,\"#fb9f3a\"],[0.8888888888888888,\"#fdca26\"],[1.0,\"#f0f921\"]],\"type\":\"surface\"}],\"table\":[{\"cells\":{\"fill\":{\"color\":\"#EBF0F8\"},\"line\":{\"color\":\"white\"}},\"header\":{\"fill\":{\"color\":\"#C8D4E3\"},\"line\":{\"color\":\"white\"}},\"type\":\"table\"}]},\"layout\":{\"annotationdefaults\":{\"arrowcolor\":\"#2a3f5f\",\"arrowhead\":0,\"arrowwidth\":1},\"autotypenumbers\":\"strict\",\"coloraxis\":{\"colorbar\":{\"outlinewidth\":0,\"ticks\":\"\"}},\"colorscale\":{\"diverging\":[[0,\"#8e0152\"],[0.1,\"#c51b7d\"],[0.2,\"#de77ae\"],[0.3,\"#f1b6da\"],[0.4,\"#fde0ef\"],[0.5,\"#f7f7f7\"],[0.6,\"#e6f5d0\"],[0.7,\"#b8e186\"],[0.8,\"#7fbc41\"],[0.9,\"#4d9221\"],[1,\"#276419\"]],\"sequential\":[[0.0,\"#0d0887\"],[0.1111111111111111,\"#46039f\"],[0.2222222222222222,\"#7201a8\"],[0.3333333333333333,\"#9c179e\"],[0.4444444444444444,\"#bd3786\"],[0.5555555555555556,\"#d8576b\"],[0.6666666666666666,\"#ed7953\"],[0.7777777777777778,\"#fb9f3a\"],[0.8888888888888888,\"#fdca26\"],[1.0,\"#f0f921\"]],\"sequentialminus\":[[0.0,\"#0d0887\"],[0.1111111111111111,\"#46039f\"],[0.2222222222222222,\"#7201a8\"],[0.3333333333333333,\"#9c179e\"],[0.4444444444444444,\"#bd3786\"],[0.5555555555555556,\"#d8576b\"],[0.6666666666666666,\"#ed7953\"],[0.7777777777777778,\"#fb9f3a\"],[0.8888888888888888,\"#fdca26\"],[1.0,\"#f0f921\"]]},\"colorway\":[\"#636efa\",\"#EF553B\",\"#00cc96\",\"#ab63fa\",\"#FFA15A\",\"#19d3f3\",\"#FF6692\",\"#B6E880\",\"#FF97FF\",\"#FECB52\"],\"font\":{\"color\":\"#2a3f5f\"},\"geo\":{\"bgcolor\":\"white\",\"lakecolor\":\"white\",\"landcolor\":\"#E5ECF6\",\"showlakes\":true,\"showland\":true,\"subunitcolor\":\"white\"},\"hoverlabel\":{\"align\":\"left\"},\"hovermode\":\"closest\",\"mapbox\":{\"style\":\"light\"},\"paper_bgcolor\":\"white\",\"plot_bgcolor\":\"#E5ECF6\",\"polar\":{\"angularaxis\":{\"gridcolor\":\"white\",\"linecolor\":\"white\",\"ticks\":\"\"},\"bgcolor\":\"#E5ECF6\",\"radialaxis\":{\"gridcolor\":\"white\",\"linecolor\":\"white\",\"ticks\":\"\"}},\"scene\":{\"xaxis\":{\"backgroundcolor\":\"#E5ECF6\",\"gridcolor\":\"white\",\"gridwidth\":2,\"linecolor\":\"white\",\"showbackground\":true,\"ticks\":\"\",\"zerolinecolor\":\"white\"},\"yaxis\":{\"backgroundcolor\":\"#E5ECF6\",\"gridcolor\":\"white\",\"gridwidth\":2,\"linecolor\":\"white\",\"showbackground\":true,\"ticks\":\"\",\"zerolinecolor\":\"white\"},\"zaxis\":{\"backgroundcolor\":\"#E5ECF6\",\"gridcolor\":\"white\",\"gridwidth\":2,\"linecolor\":\"white\",\"showbackground\":true,\"ticks\":\"\",\"zerolinecolor\":\"white\"}},\"shapedefaults\":{\"line\":{\"color\":\"#2a3f5f\"}},\"ternary\":{\"aaxis\":{\"gridcolor\":\"white\",\"linecolor\":\"white\",\"ticks\":\"\"},\"baxis\":{\"gridcolor\":\"white\",\"linecolor\":\"white\",\"ticks\":\"\"},\"bgcolor\":\"#E5ECF6\",\"caxis\":{\"gridcolor\":\"white\",\"linecolor\":\"white\",\"ticks\":\"\"}},\"title\":{\"x\":0.05},\"xaxis\":{\"automargin\":true,\"gridcolor\":\"white\",\"linecolor\":\"white\",\"ticks\":\"\",\"title\":{\"standoff\":15},\"zerolinecolor\":\"white\",\"zerolinewidth\":2},\"yaxis\":{\"automargin\":true,\"gridcolor\":\"white\",\"linecolor\":\"white\",\"ticks\":\"\",\"title\":{\"standoff\":15},\"zerolinecolor\":\"white\",\"zerolinewidth\":2}}},\"xaxis\":{\"anchor\":\"y\",\"domain\":[0.0,1.0],\"title\":{\"text\":\"fold_id\"}},\"yaxis\":{\"anchor\":\"x\",\"domain\":[0.0,1.0],\"title\":{\"text\":\"score\"}},\"legend\":{\"title\":{\"text\":\"split\"},\"tracegroupgap\":0},\"title\":{\"text\":\"Mean Val Score: -0.35, Mean Train Score: 0.92\"}},                        {\"responsive\": true}                    ).then(function(){\n",
              "                            \n",
              "var gd = document.getElementById('d0788a74-c31c-4c87-96d5-f6807d967a5f');\n",
              "var x = new MutationObserver(function (mutations, observer) {{\n",
              "        var display = window.getComputedStyle(gd).display;\n",
              "        if (!display || display === 'none') {{\n",
              "            console.log([gd, 'removed!']);\n",
              "            Plotly.purge(gd);\n",
              "            observer.disconnect();\n",
              "        }}\n",
              "}});\n",
              "\n",
              "// Listen for the removal of the full notebook cells\n",
              "var notebookContainer = gd.closest('#notebook-container');\n",
              "if (notebookContainer) {{\n",
              "    x.observe(notebookContainer, {childList: true});\n",
              "}}\n",
              "\n",
              "// Listen for the clearing of the current output cell\n",
              "var outputEl = gd.closest('.output');\n",
              "if (outputEl) {{\n",
              "    x.observe(outputEl, {childList: true});\n",
              "}}\n",
              "\n",
              "                        })                };                            </script>        </div>\n",
              "</body>\n",
              "</html>"
            ]
          },
          "metadata": {},
          "output_type": "display_data"
        },
        {
          "data": {
            "text/html": [
              "<html>\n",
              "<head><meta charset=\"utf-8\" /></head>\n",
              "<body>\n",
              "    <div>            <script src=\"https://cdnjs.cloudflare.com/ajax/libs/mathjax/2.7.5/MathJax.js?config=TeX-AMS-MML_SVG\"></script><script type=\"text/javascript\">if (window.MathJax) {MathJax.Hub.Config({SVG: {font: \"STIX-Web\"}});}</script>                <script type=\"text/javascript\">window.PlotlyConfig = {MathJaxConfig: 'local'};</script>\n",
              "        <script src=\"https://cdn.plot.ly/plotly-2.8.3.min.js\"></script>                <div id=\"1f626c99-a0d9-4665-8827-f04f85178bf7\" class=\"plotly-graph-div\" style=\"height:525px; width:100%;\"></div>            <script type=\"text/javascript\">                                    window.PLOTLYENV=window.PLOTLYENV || {};                                    if (document.getElementById(\"1f626c99-a0d9-4665-8827-f04f85178bf7\")) {                    Plotly.newPlot(                        \"1f626c99-a0d9-4665-8827-f04f85178bf7\",                        [{\"hovertemplate\":\"split=train<br>fold_id=%{x}<br>loss=%{y}<extra></extra>\",\"legendgroup\":\"train\",\"line\":{\"color\":\"#636efa\",\"dash\":\"solid\"},\"marker\":{\"symbol\":\"circle\"},\"mode\":\"lines\",\"name\":\"train\",\"orientation\":\"v\",\"showlegend\":true,\"x\":[0,1,2,3,4,5,6,7,8,9],\"xaxis\":\"x\",\"y\":[742218.8040258702,663549.1709194684,750658.5241172541,708986.4562389577,860684.7371507199,550474.2109573715,684138.7933630112,795897.0393150543,660597.8966391238,675796.4079449173],\"yaxis\":\"y\",\"type\":\"scatter\"},{\"hovertemplate\":\"split=val<br>fold_id=%{x}<br>loss=%{y}<extra></extra>\",\"legendgroup\":\"val\",\"line\":{\"color\":\"#EF553B\",\"dash\":\"solid\"},\"marker\":{\"symbol\":\"circle\"},\"mode\":\"lines\",\"name\":\"val\",\"orientation\":\"v\",\"showlegend\":true,\"x\":[0,1,2,3,4,5,6,7,8,9],\"xaxis\":\"x\",\"y\":[1573198.3148948401,4888220.033128336,1530328.0335206457,1784135.8351329677,1966524.5606359362,4959296.667914026,2913103.135137893,1774557.9426588533,2196535.917581398,1636976.5516474897],\"yaxis\":\"y\",\"type\":\"scatter\"}],                        {\"template\":{\"data\":{\"bar\":[{\"error_x\":{\"color\":\"#2a3f5f\"},\"error_y\":{\"color\":\"#2a3f5f\"},\"marker\":{\"line\":{\"color\":\"#E5ECF6\",\"width\":0.5},\"pattern\":{\"fillmode\":\"overlay\",\"size\":10,\"solidity\":0.2}},\"type\":\"bar\"}],\"barpolar\":[{\"marker\":{\"line\":{\"color\":\"#E5ECF6\",\"width\":0.5},\"pattern\":{\"fillmode\":\"overlay\",\"size\":10,\"solidity\":0.2}},\"type\":\"barpolar\"}],\"carpet\":[{\"aaxis\":{\"endlinecolor\":\"#2a3f5f\",\"gridcolor\":\"white\",\"linecolor\":\"white\",\"minorgridcolor\":\"white\",\"startlinecolor\":\"#2a3f5f\"},\"baxis\":{\"endlinecolor\":\"#2a3f5f\",\"gridcolor\":\"white\",\"linecolor\":\"white\",\"minorgridcolor\":\"white\",\"startlinecolor\":\"#2a3f5f\"},\"type\":\"carpet\"}],\"choropleth\":[{\"colorbar\":{\"outlinewidth\":0,\"ticks\":\"\"},\"type\":\"choropleth\"}],\"contour\":[{\"colorbar\":{\"outlinewidth\":0,\"ticks\":\"\"},\"colorscale\":[[0.0,\"#0d0887\"],[0.1111111111111111,\"#46039f\"],[0.2222222222222222,\"#7201a8\"],[0.3333333333333333,\"#9c179e\"],[0.4444444444444444,\"#bd3786\"],[0.5555555555555556,\"#d8576b\"],[0.6666666666666666,\"#ed7953\"],[0.7777777777777778,\"#fb9f3a\"],[0.8888888888888888,\"#fdca26\"],[1.0,\"#f0f921\"]],\"type\":\"contour\"}],\"contourcarpet\":[{\"colorbar\":{\"outlinewidth\":0,\"ticks\":\"\"},\"type\":\"contourcarpet\"}],\"heatmap\":[{\"colorbar\":{\"outlinewidth\":0,\"ticks\":\"\"},\"colorscale\":[[0.0,\"#0d0887\"],[0.1111111111111111,\"#46039f\"],[0.2222222222222222,\"#7201a8\"],[0.3333333333333333,\"#9c179e\"],[0.4444444444444444,\"#bd3786\"],[0.5555555555555556,\"#d8576b\"],[0.6666666666666666,\"#ed7953\"],[0.7777777777777778,\"#fb9f3a\"],[0.8888888888888888,\"#fdca26\"],[1.0,\"#f0f921\"]],\"type\":\"heatmap\"}],\"heatmapgl\":[{\"colorbar\":{\"outlinewidth\":0,\"ticks\":\"\"},\"colorscale\":[[0.0,\"#0d0887\"],[0.1111111111111111,\"#46039f\"],[0.2222222222222222,\"#7201a8\"],[0.3333333333333333,\"#9c179e\"],[0.4444444444444444,\"#bd3786\"],[0.5555555555555556,\"#d8576b\"],[0.6666666666666666,\"#ed7953\"],[0.7777777777777778,\"#fb9f3a\"],[0.8888888888888888,\"#fdca26\"],[1.0,\"#f0f921\"]],\"type\":\"heatmapgl\"}],\"histogram\":[{\"marker\":{\"pattern\":{\"fillmode\":\"overlay\",\"size\":10,\"solidity\":0.2}},\"type\":\"histogram\"}],\"histogram2d\":[{\"colorbar\":{\"outlinewidth\":0,\"ticks\":\"\"},\"colorscale\":[[0.0,\"#0d0887\"],[0.1111111111111111,\"#46039f\"],[0.2222222222222222,\"#7201a8\"],[0.3333333333333333,\"#9c179e\"],[0.4444444444444444,\"#bd3786\"],[0.5555555555555556,\"#d8576b\"],[0.6666666666666666,\"#ed7953\"],[0.7777777777777778,\"#fb9f3a\"],[0.8888888888888888,\"#fdca26\"],[1.0,\"#f0f921\"]],\"type\":\"histogram2d\"}],\"histogram2dcontour\":[{\"colorbar\":{\"outlinewidth\":0,\"ticks\":\"\"},\"colorscale\":[[0.0,\"#0d0887\"],[0.1111111111111111,\"#46039f\"],[0.2222222222222222,\"#7201a8\"],[0.3333333333333333,\"#9c179e\"],[0.4444444444444444,\"#bd3786\"],[0.5555555555555556,\"#d8576b\"],[0.6666666666666666,\"#ed7953\"],[0.7777777777777778,\"#fb9f3a\"],[0.8888888888888888,\"#fdca26\"],[1.0,\"#f0f921\"]],\"type\":\"histogram2dcontour\"}],\"mesh3d\":[{\"colorbar\":{\"outlinewidth\":0,\"ticks\":\"\"},\"type\":\"mesh3d\"}],\"parcoords\":[{\"line\":{\"colorbar\":{\"outlinewidth\":0,\"ticks\":\"\"}},\"type\":\"parcoords\"}],\"pie\":[{\"automargin\":true,\"type\":\"pie\"}],\"scatter\":[{\"marker\":{\"colorbar\":{\"outlinewidth\":0,\"ticks\":\"\"}},\"type\":\"scatter\"}],\"scatter3d\":[{\"line\":{\"colorbar\":{\"outlinewidth\":0,\"ticks\":\"\"}},\"marker\":{\"colorbar\":{\"outlinewidth\":0,\"ticks\":\"\"}},\"type\":\"scatter3d\"}],\"scattercarpet\":[{\"marker\":{\"colorbar\":{\"outlinewidth\":0,\"ticks\":\"\"}},\"type\":\"scattercarpet\"}],\"scattergeo\":[{\"marker\":{\"colorbar\":{\"outlinewidth\":0,\"ticks\":\"\"}},\"type\":\"scattergeo\"}],\"scattergl\":[{\"marker\":{\"colorbar\":{\"outlinewidth\":0,\"ticks\":\"\"}},\"type\":\"scattergl\"}],\"scattermapbox\":[{\"marker\":{\"colorbar\":{\"outlinewidth\":0,\"ticks\":\"\"}},\"type\":\"scattermapbox\"}],\"scatterpolar\":[{\"marker\":{\"colorbar\":{\"outlinewidth\":0,\"ticks\":\"\"}},\"type\":\"scatterpolar\"}],\"scatterpolargl\":[{\"marker\":{\"colorbar\":{\"outlinewidth\":0,\"ticks\":\"\"}},\"type\":\"scatterpolargl\"}],\"scatterternary\":[{\"marker\":{\"colorbar\":{\"outlinewidth\":0,\"ticks\":\"\"}},\"type\":\"scatterternary\"}],\"surface\":[{\"colorbar\":{\"outlinewidth\":0,\"ticks\":\"\"},\"colorscale\":[[0.0,\"#0d0887\"],[0.1111111111111111,\"#46039f\"],[0.2222222222222222,\"#7201a8\"],[0.3333333333333333,\"#9c179e\"],[0.4444444444444444,\"#bd3786\"],[0.5555555555555556,\"#d8576b\"],[0.6666666666666666,\"#ed7953\"],[0.7777777777777778,\"#fb9f3a\"],[0.8888888888888888,\"#fdca26\"],[1.0,\"#f0f921\"]],\"type\":\"surface\"}],\"table\":[{\"cells\":{\"fill\":{\"color\":\"#EBF0F8\"},\"line\":{\"color\":\"white\"}},\"header\":{\"fill\":{\"color\":\"#C8D4E3\"},\"line\":{\"color\":\"white\"}},\"type\":\"table\"}]},\"layout\":{\"annotationdefaults\":{\"arrowcolor\":\"#2a3f5f\",\"arrowhead\":0,\"arrowwidth\":1},\"autotypenumbers\":\"strict\",\"coloraxis\":{\"colorbar\":{\"outlinewidth\":0,\"ticks\":\"\"}},\"colorscale\":{\"diverging\":[[0,\"#8e0152\"],[0.1,\"#c51b7d\"],[0.2,\"#de77ae\"],[0.3,\"#f1b6da\"],[0.4,\"#fde0ef\"],[0.5,\"#f7f7f7\"],[0.6,\"#e6f5d0\"],[0.7,\"#b8e186\"],[0.8,\"#7fbc41\"],[0.9,\"#4d9221\"],[1,\"#276419\"]],\"sequential\":[[0.0,\"#0d0887\"],[0.1111111111111111,\"#46039f\"],[0.2222222222222222,\"#7201a8\"],[0.3333333333333333,\"#9c179e\"],[0.4444444444444444,\"#bd3786\"],[0.5555555555555556,\"#d8576b\"],[0.6666666666666666,\"#ed7953\"],[0.7777777777777778,\"#fb9f3a\"],[0.8888888888888888,\"#fdca26\"],[1.0,\"#f0f921\"]],\"sequentialminus\":[[0.0,\"#0d0887\"],[0.1111111111111111,\"#46039f\"],[0.2222222222222222,\"#7201a8\"],[0.3333333333333333,\"#9c179e\"],[0.4444444444444444,\"#bd3786\"],[0.5555555555555556,\"#d8576b\"],[0.6666666666666666,\"#ed7953\"],[0.7777777777777778,\"#fb9f3a\"],[0.8888888888888888,\"#fdca26\"],[1.0,\"#f0f921\"]]},\"colorway\":[\"#636efa\",\"#EF553B\",\"#00cc96\",\"#ab63fa\",\"#FFA15A\",\"#19d3f3\",\"#FF6692\",\"#B6E880\",\"#FF97FF\",\"#FECB52\"],\"font\":{\"color\":\"#2a3f5f\"},\"geo\":{\"bgcolor\":\"white\",\"lakecolor\":\"white\",\"landcolor\":\"#E5ECF6\",\"showlakes\":true,\"showland\":true,\"subunitcolor\":\"white\"},\"hoverlabel\":{\"align\":\"left\"},\"hovermode\":\"closest\",\"mapbox\":{\"style\":\"light\"},\"paper_bgcolor\":\"white\",\"plot_bgcolor\":\"#E5ECF6\",\"polar\":{\"angularaxis\":{\"gridcolor\":\"white\",\"linecolor\":\"white\",\"ticks\":\"\"},\"bgcolor\":\"#E5ECF6\",\"radialaxis\":{\"gridcolor\":\"white\",\"linecolor\":\"white\",\"ticks\":\"\"}},\"scene\":{\"xaxis\":{\"backgroundcolor\":\"#E5ECF6\",\"gridcolor\":\"white\",\"gridwidth\":2,\"linecolor\":\"white\",\"showbackground\":true,\"ticks\":\"\",\"zerolinecolor\":\"white\"},\"yaxis\":{\"backgroundcolor\":\"#E5ECF6\",\"gridcolor\":\"white\",\"gridwidth\":2,\"linecolor\":\"white\",\"showbackground\":true,\"ticks\":\"\",\"zerolinecolor\":\"white\"},\"zaxis\":{\"backgroundcolor\":\"#E5ECF6\",\"gridcolor\":\"white\",\"gridwidth\":2,\"linecolor\":\"white\",\"showbackground\":true,\"ticks\":\"\",\"zerolinecolor\":\"white\"}},\"shapedefaults\":{\"line\":{\"color\":\"#2a3f5f\"}},\"ternary\":{\"aaxis\":{\"gridcolor\":\"white\",\"linecolor\":\"white\",\"ticks\":\"\"},\"baxis\":{\"gridcolor\":\"white\",\"linecolor\":\"white\",\"ticks\":\"\"},\"bgcolor\":\"#E5ECF6\",\"caxis\":{\"gridcolor\":\"white\",\"linecolor\":\"white\",\"ticks\":\"\"}},\"title\":{\"x\":0.05},\"xaxis\":{\"automargin\":true,\"gridcolor\":\"white\",\"linecolor\":\"white\",\"ticks\":\"\",\"title\":{\"standoff\":15},\"zerolinecolor\":\"white\",\"zerolinewidth\":2},\"yaxis\":{\"automargin\":true,\"gridcolor\":\"white\",\"linecolor\":\"white\",\"ticks\":\"\",\"title\":{\"standoff\":15},\"zerolinecolor\":\"white\",\"zerolinewidth\":2}}},\"xaxis\":{\"anchor\":\"y\",\"domain\":[0.0,1.0],\"title\":{\"text\":\"fold_id\"}},\"yaxis\":{\"anchor\":\"x\",\"domain\":[0.0,1.0],\"title\":{\"text\":\"loss\"}},\"legend\":{\"title\":{\"text\":\"split\"},\"tracegroupgap\":0},\"title\":{\"text\":\"Mean Val Loss: 2522287.70, Mean Train Loss: 709300.20\"}},                        {\"responsive\": true}                    ).then(function(){\n",
              "                            \n",
              "var gd = document.getElementById('1f626c99-a0d9-4665-8827-f04f85178bf7');\n",
              "var x = new MutationObserver(function (mutations, observer) {{\n",
              "        var display = window.getComputedStyle(gd).display;\n",
              "        if (!display || display === 'none') {{\n",
              "            console.log([gd, 'removed!']);\n",
              "            Plotly.purge(gd);\n",
              "            observer.disconnect();\n",
              "        }}\n",
              "}});\n",
              "\n",
              "// Listen for the removal of the full notebook cells\n",
              "var notebookContainer = gd.closest('#notebook-container');\n",
              "if (notebookContainer) {{\n",
              "    x.observe(notebookContainer, {childList: true});\n",
              "}}\n",
              "\n",
              "// Listen for the clearing of the current output cell\n",
              "var outputEl = gd.closest('.output');\n",
              "if (outputEl) {{\n",
              "    x.observe(outputEl, {childList: true});\n",
              "}}\n",
              "\n",
              "                        })                };                            </script>        </div>\n",
              "</body>\n",
              "</html>"
            ]
          },
          "metadata": {},
          "output_type": "display_data"
        },
        {
          "name": "stdout",
          "output_type": "stream",
          "text": [
            "mean cv val score: -0.35\n",
            "mean cv val loss 2522287.70\n",
            "mean cv val score: 0.92\n",
            "mean cv val loss 709300.20\n"
          ]
        }
      ],
      "source": [
        "XGB_model = pipeline.make_pipeline(ct, XGBRegressor(objective='reg:squarederror'))\n",
        "val_score, val_loss, train_score, train_loss = get_cv_score_and_loss(X, t, XGB_model, k=10, show_score_loss_graphs=True)\n",
        "print(f'mean cv val score: {val_score:.2f}\\nmean cv val loss {val_loss:.2f}')\n",
        "print(f'mean cv val score: {train_score:.2f}\\nmean cv val loss {train_loss:.2f}')"
      ]
    },
    {
      "cell_type": "code",
      "execution_count": null,
      "metadata": {
        "id": "J-rnLIVMmskq"
      },
      "outputs": [],
      "source": [
        "XGB_reg_original = pipeline.make_pipeline(ct, XGBRegressor(objective='reg:squarederror')).fit(X, t)\n",
        "\n",
        "y_train = XGB_reg_original.predict(X)"
      ]
    },
    {
      "cell_type": "code",
      "execution_count": null,
      "metadata": {
        "colab": {
          "base_uri": "https://localhost:8080/"
        },
        "id": "Bk3555C_nekX",
        "outputId": "e24adc9e-f386-4d49-a58a-aeaefc984921"
      },
      "outputs": [
        {
          "name": "stdout",
          "output_type": "stream",
          "text": [
            "Accuracy score on train 0.9062471838304207\n",
            "RMSE score on train 785885.4724305375\n"
          ]
        }
      ],
      "source": [
        "print('Accuracy score on train', XGB_reg_original.score(X, t))\n",
        "print('RMSE score on train',(mean_squared_error(t, y_train, squared=False)))"
      ]
    },
    {
      "cell_type": "code",
      "execution_count": null,
      "metadata": {
        "colab": {
          "base_uri": "https://localhost:8080/"
        },
        "id": "M0IFFx2nRHMs",
        "outputId": "52e46026-d057-4b90-8b5a-1a868a0918a3"
      },
      "outputs": [
        {
          "name": "stdout",
          "output_type": "stream",
          "text": [
            "Accuracy score for regression:\n",
            "rs_model -0.19011091740377947\n",
            "best params {'max_depth': 4, 'n_estimators': 20}\n"
          ]
        }
      ],
      "source": [
        "# train with random search and get best parameters\n",
        "\n",
        "# feature_arr = ct.fit_transform(X, t)\n",
        "# feature_labels = ct.get_feature_names_out(all_cols.tolist())\n",
        "# X_encoded = pd.DataFrame(feature_arr, columns=feature_labels)\n",
        "\n",
        "param_dist = {'n_estimators': list(range(10,100,10)),\n",
        "              'max_depth': range(3,10),\n",
        "             }\n",
        "\n",
        "rs_model = GridSearchCV(XGBRegressor(objective='reg:squarederror'), param_dist, cv=5).fit(X_encoded, t)\n",
        "print('Accuracy score for regression:')\n",
        "print('rs_model', rs_model.best_score_)\n",
        "print('best params', rs_model.best_params_)"
      ]
    },
    {
      "cell_type": "code",
      "execution_count": null,
      "metadata": {
        "colab": {
          "base_uri": "https://localhost:8080/",
          "height": 297
        },
        "id": "-xUYXkHOVHLX",
        "outputId": "1216f829-3f87-4922-b326-e2a4dda15c61"
      },
      "outputs": [
        {
          "data": {
            "text/plain": [
              "Text(0, 0.5, 'Log Loss')"
            ]
          },
          "execution_count": 43,
          "metadata": {},
          "output_type": "execute_result"
        },
        {
          "data": {
            "image/png": "[encoded data removed]",
            "text/plain": [
              "<Figure size 432x288 with 1 Axes>"
            ]
          },
          "metadata": {},
          "output_type": "display_data"
        }
      ],
      "source": [
        "means = rs_model.cv_results_['mean_test_score']\n",
        "stds = rs_model.cv_results_['std_test_score']\n",
        "params = rs_model.cv_results_['params']\n",
        "n_estimators =list(range(10,100,10))\n",
        "max_depth = range(3,10)\n",
        "\n",
        "scores = np.array(means).reshape(len(max_depth), len(n_estimators))\n",
        "for i, value in enumerate(max_depth):\n",
        "    plt.plot(n_estimators, scores[i], label='depth: ' + str(value))\n",
        "plt.legend()\n",
        "plt.xlabel('n_estimators')\n",
        "plt.ylabel('Log Loss')"
      ]
    },
    {
      "cell_type": "code",
      "execution_count": null,
      "metadata": {
        "id": "s8BePDxx3OTz"
      },
      "outputs": [],
      "source": [
        "XGB_reg_hyper = pipeline.make_pipeline(ct, XGBRegressor(objective='reg:squarederror',max_depth =4, n_estimators=20, learning_rate=0.1)).fit(X, t)\n",
        "\n",
        "y_train_hyper = XGB_reg_hyper.predict(X)"
      ]
    },
    {
      "cell_type": "code",
      "execution_count": null,
      "metadata": {
        "colab": {
          "base_uri": "https://localhost:8080/"
        },
        "id": "CxQqUc0G3g2A",
        "outputId": "07929c8e-cdb5-4e64-9ba0-c68518c0f9ab"
      },
      "outputs": [
        {
          "name": "stdout",
          "output_type": "stream",
          "text": [
            "Accuracy score on train 0.7063737587831955\n",
            "RMSE score on train 1390799.5210448876\n"
          ]
        }
      ],
      "source": [
        "print('Accuracy score on train', XGB_reg_hyper.score(X, t))\n",
        "print('RMSE score on train',(mean_squared_error(t, y_train_hyper, squared=False)))"
      ]
    },
    {
      "cell_type": "code",
      "execution_count": null,
      "metadata": {
        "id": "o0IPMhqAY1s5"
      },
      "outputs": [],
      "source": [
        "from sklearn.ensemble import RandomForestRegressor\n",
        "# random_forst_model = RandomForestRegressor(criterion='squared_error', random_state = 1, bootstrap=True, max_depth=10, n_estimators=80)\n",
        "\n",
        "random_forst_model = RandomForestRegressor(bootstrap= True, max_depth=10, min_samples_leaf= 4, min_samples_split= 2, n_estimators=10)\n",
        "random_forst_model.fit(X_encoded, t)\n",
        "forest_test_predict = random_forst_model.predict(X_encoded)"
      ]
    },
    {
      "cell_type": "code",
      "execution_count": null,
      "metadata": {
        "colab": {
          "base_uri": "https://localhost:8080/"
        },
        "id": "YjJgkXZKzJTR",
        "outputId": "dd41b3e7-6a39-4a48-9a09-463c591cbca1"
      },
      "outputs": [
        {
          "name": "stdout",
          "output_type": "stream",
          "text": [
            "Accuracy score on train 0.5473098868735254\n",
            "RMSE score on train 1726901.6496761043\n"
          ]
        }
      ],
      "source": [
        "print('Accuracy score on train', random_forst_model.score(X_encoded, t))\n",
        "print('RMSE score on train',(mean_squared_error(t, forest_test_predict, squared=False)))"
      ]
    },
    {
      "cell_type": "markdown",
      "metadata": {
        "id": "vt9COO-H33P4"
      },
      "source": [
        "AdaBoost"
      ]
    },
    {
      "cell_type": "code",
      "execution_count": null,
      "metadata": {
        "colab": {
          "base_uri": "https://localhost:8080/",
          "height": 1000
        },
        "id": "KbE3CXpDYxBx",
        "outputId": "51a9e541-c749-44e0-bd5e-cc72cd2ddefc"
      },
      "outputs": [
        {
          "data": {
            "text/html": [
              "<html>\n",
              "<head><meta charset=\"utf-8\" /></head>\n",
              "<body>\n",
              "    <div>            <script src=\"https://cdnjs.cloudflare.com/ajax/libs/mathjax/2.7.5/MathJax.js?config=TeX-AMS-MML_SVG\"></script><script type=\"text/javascript\">if (window.MathJax) {MathJax.Hub.Config({SVG: {font: \"STIX-Web\"}});}</script>                <script type=\"text/javascript\">window.PlotlyConfig = {MathJaxConfig: 'local'};</script>\n",
              "        <script src=\"https://cdn.plot.ly/plotly-2.8.3.min.js\"></script>                <div id=\"130ae37e-5549-4c86-b273-4d7600071fd1\" class=\"plotly-graph-div\" style=\"height:525px; width:100%;\"></div>            <script type=\"text/javascript\">                                    window.PLOTLYENV=window.PLOTLYENV || {};                                    if (document.getElementById(\"130ae37e-5549-4c86-b273-4d7600071fd1\")) {                    Plotly.newPlot(                        \"130ae37e-5549-4c86-b273-4d7600071fd1\",                        [{\"hovertemplate\":\"split=train<br>fold_id=%{x}<br>score=%{y}<extra></extra>\",\"legendgroup\":\"train\",\"line\":{\"color\":\"#636efa\",\"dash\":\"solid\"},\"marker\":{\"symbol\":\"circle\"},\"mode\":\"lines\",\"name\":\"train\",\"orientation\":\"v\",\"showlegend\":true,\"x\":[0,1,2,3,4,5,6,7,8,9],\"xaxis\":\"x\",\"y\":[0.8372259275893634,0.8526906725271638,0.8190041347217969,0.8171504438693173,0.8362240858395031,0.7921371380602364,0.8574741219792189,0.8531178501143527,0.8387086320292924,0.8450127823829934],\"yaxis\":\"y\",\"type\":\"scatter\"},{\"hovertemplate\":\"split=val<br>fold_id=%{x}<br>score=%{y}<extra></extra>\",\"legendgroup\":\"val\",\"line\":{\"color\":\"#EF553B\",\"dash\":\"solid\"},\"marker\":{\"symbol\":\"circle\"},\"mode\":\"lines\",\"name\":\"val\",\"orientation\":\"v\",\"showlegend\":true,\"x\":[0,1,2,3,4,5,6,7,8,9],\"xaxis\":\"x\",\"y\":[-0.0510894121978529,-0.6244833832270116,0.01569298779467898,-0.04540713165777621,0.07216837582984958,-0.4090955656286108,-1.5814974726158635,-0.4063764166382613,-1.847635829488199,-0.13972271610934528],\"yaxis\":\"y\",\"type\":\"scatter\"}],                        {\"template\":{\"data\":{\"bar\":[{\"error_x\":{\"color\":\"#2a3f5f\"},\"error_y\":{\"color\":\"#2a3f5f\"},\"marker\":{\"line\":{\"color\":\"#E5ECF6\",\"width\":0.5},\"pattern\":{\"fillmode\":\"overlay\",\"size\":10,\"solidity\":0.2}},\"type\":\"bar\"}],\"barpolar\":[{\"marker\":{\"line\":{\"color\":\"#E5ECF6\",\"width\":0.5},\"pattern\":{\"fillmode\":\"overlay\",\"size\":10,\"solidity\":0.2}},\"type\":\"barpolar\"}],\"carpet\":[{\"aaxis\":{\"endlinecolor\":\"#2a3f5f\",\"gridcolor\":\"white\",\"linecolor\":\"white\",\"minorgridcolor\":\"white\",\"startlinecolor\":\"#2a3f5f\"},\"baxis\":{\"endlinecolor\":\"#2a3f5f\",\"gridcolor\":\"white\",\"linecolor\":\"white\",\"minorgridcolor\":\"white\",\"startlinecolor\":\"#2a3f5f\"},\"type\":\"carpet\"}],\"choropleth\":[{\"colorbar\":{\"outlinewidth\":0,\"ticks\":\"\"},\"type\":\"choropleth\"}],\"contour\":[{\"colorbar\":{\"outlinewidth\":0,\"ticks\":\"\"},\"colorscale\":[[0.0,\"#0d0887\"],[0.1111111111111111,\"#46039f\"],[0.2222222222222222,\"#7201a8\"],[0.3333333333333333,\"#9c179e\"],[0.4444444444444444,\"#bd3786\"],[0.5555555555555556,\"#d8576b\"],[0.6666666666666666,\"#ed7953\"],[0.7777777777777778,\"#fb9f3a\"],[0.8888888888888888,\"#fdca26\"],[1.0,\"#f0f921\"]],\"type\":\"contour\"}],\"contourcarpet\":[{\"colorbar\":{\"outlinewidth\":0,\"ticks\":\"\"},\"type\":\"contourcarpet\"}],\"heatmap\":[{\"colorbar\":{\"outlinewidth\":0,\"ticks\":\"\"},\"colorscale\":[[0.0,\"#0d0887\"],[0.1111111111111111,\"#46039f\"],[0.2222222222222222,\"#7201a8\"],[0.3333333333333333,\"#9c179e\"],[0.4444444444444444,\"#bd3786\"],[0.5555555555555556,\"#d8576b\"],[0.6666666666666666,\"#ed7953\"],[0.7777777777777778,\"#fb9f3a\"],[0.8888888888888888,\"#fdca26\"],[1.0,\"#f0f921\"]],\"type\":\"heatmap\"}],\"heatmapgl\":[{\"colorbar\":{\"outlinewidth\":0,\"ticks\":\"\"},\"colorscale\":[[0.0,\"#0d0887\"],[0.1111111111111111,\"#46039f\"],[0.2222222222222222,\"#7201a8\"],[0.3333333333333333,\"#9c179e\"],[0.4444444444444444,\"#bd3786\"],[0.5555555555555556,\"#d8576b\"],[0.6666666666666666,\"#ed7953\"],[0.7777777777777778,\"#fb9f3a\"],[0.8888888888888888,\"#fdca26\"],[1.0,\"#f0f921\"]],\"type\":\"heatmapgl\"}],\"histogram\":[{\"marker\":{\"pattern\":{\"fillmode\":\"overlay\",\"size\":10,\"solidity\":0.2}},\"type\":\"histogram\"}],\"histogram2d\":[{\"colorbar\":{\"outlinewidth\":0,\"ticks\":\"\"},\"colorscale\":[[0.0,\"#0d0887\"],[0.1111111111111111,\"#46039f\"],[0.2222222222222222,\"#7201a8\"],[0.3333333333333333,\"#9c179e\"],[0.4444444444444444,\"#bd3786\"],[0.5555555555555556,\"#d8576b\"],[0.6666666666666666,\"#ed7953\"],[0.7777777777777778,\"#fb9f3a\"],[0.8888888888888888,\"#fdca26\"],[1.0,\"#f0f921\"]],\"type\":\"histogram2d\"}],\"histogram2dcontour\":[{\"colorbar\":{\"outlinewidth\":0,\"ticks\":\"\"},\"colorscale\":[[0.0,\"#0d0887\"],[0.1111111111111111,\"#46039f\"],[0.2222222222222222,\"#7201a8\"],[0.3333333333333333,\"#9c179e\"],[0.4444444444444444,\"#bd3786\"],[0.5555555555555556,\"#d8576b\"],[0.6666666666666666,\"#ed7953\"],[0.7777777777777778,\"#fb9f3a\"],[0.8888888888888888,\"#fdca26\"],[1.0,\"#f0f921\"]],\"type\":\"histogram2dcontour\"}],\"mesh3d\":[{\"colorbar\":{\"outlinewidth\":0,\"ticks\":\"\"},\"type\":\"mesh3d\"}],\"parcoords\":[{\"line\":{\"colorbar\":{\"outlinewidth\":0,\"ticks\":\"\"}},\"type\":\"parcoords\"}],\"pie\":[{\"automargin\":true,\"type\":\"pie\"}],\"scatter\":[{\"marker\":{\"colorbar\":{\"outlinewidth\":0,\"ticks\":\"\"}},\"type\":\"scatter\"}],\"scatter3d\":[{\"line\":{\"colorbar\":{\"outlinewidth\":0,\"ticks\":\"\"}},\"marker\":{\"colorbar\":{\"outlinewidth\":0,\"ticks\":\"\"}},\"type\":\"scatter3d\"}],\"scattercarpet\":[{\"marker\":{\"colorbar\":{\"outlinewidth\":0,\"ticks\":\"\"}},\"type\":\"scattercarpet\"}],\"scattergeo\":[{\"marker\":{\"colorbar\":{\"outlinewidth\":0,\"ticks\":\"\"}},\"type\":\"scattergeo\"}],\"scattergl\":[{\"marker\":{\"colorbar\":{\"outlinewidth\":0,\"ticks\":\"\"}},\"type\":\"scattergl\"}],\"scattermapbox\":[{\"marker\":{\"colorbar\":{\"outlinewidth\":0,\"ticks\":\"\"}},\"type\":\"scattermapbox\"}],\"scatterpolar\":[{\"marker\":{\"colorbar\":{\"outlinewidth\":0,\"ticks\":\"\"}},\"type\":\"scatterpolar\"}],\"scatterpolargl\":[{\"marker\":{\"colorbar\":{\"outlinewidth\":0,\"ticks\":\"\"}},\"type\":\"scatterpolargl\"}],\"scatterternary\":[{\"marker\":{\"colorbar\":{\"outlinewidth\":0,\"ticks\":\"\"}},\"type\":\"scatterternary\"}],\"surface\":[{\"colorbar\":{\"outlinewidth\":0,\"ticks\":\"\"},\"colorscale\":[[0.0,\"#0d0887\"],[0.1111111111111111,\"#46039f\"],[0.2222222222222222,\"#7201a8\"],[0.3333333333333333,\"#9c179e\"],[0.4444444444444444,\"#bd3786\"],[0.5555555555555556,\"#d8576b\"],[0.6666666666666666,\"#ed7953\"],[0.7777777777777778,\"#fb9f3a\"],[0.8888888888888888,\"#fdca26\"],[1.0,\"#f0f921\"]],\"type\":\"surface\"}],\"table\":[{\"cells\":{\"fill\":{\"color\":\"#EBF0F8\"},\"line\":{\"color\":\"white\"}},\"header\":{\"fill\":{\"color\":\"#C8D4E3\"},\"line\":{\"color\":\"white\"}},\"type\":\"table\"}]},\"layout\":{\"annotationdefaults\":{\"arrowcolor\":\"#2a3f5f\",\"arrowhead\":0,\"arrowwidth\":1},\"autotypenumbers\":\"strict\",\"coloraxis\":{\"colorbar\":{\"outlinewidth\":0,\"ticks\":\"\"}},\"colorscale\":{\"diverging\":[[0,\"#8e0152\"],[0.1,\"#c51b7d\"],[0.2,\"#de77ae\"],[0.3,\"#f1b6da\"],[0.4,\"#fde0ef\"],[0.5,\"#f7f7f7\"],[0.6,\"#e6f5d0\"],[0.7,\"#b8e186\"],[0.8,\"#7fbc41\"],[0.9,\"#4d9221\"],[1,\"#276419\"]],\"sequential\":[[0.0,\"#0d0887\"],[0.1111111111111111,\"#46039f\"],[0.2222222222222222,\"#7201a8\"],[0.3333333333333333,\"#9c179e\"],[0.4444444444444444,\"#bd3786\"],[0.5555555555555556,\"#d8576b\"],[0.6666666666666666,\"#ed7953\"],[0.7777777777777778,\"#fb9f3a\"],[0.8888888888888888,\"#fdca26\"],[1.0,\"#f0f921\"]],\"sequentialminus\":[[0.0,\"#0d0887\"],[0.1111111111111111,\"#46039f\"],[0.2222222222222222,\"#7201a8\"],[0.3333333333333333,\"#9c179e\"],[0.4444444444444444,\"#bd3786\"],[0.5555555555555556,\"#d8576b\"],[0.6666666666666666,\"#ed7953\"],[0.7777777777777778,\"#fb9f3a\"],[0.8888888888888888,\"#fdca26\"],[1.0,\"#f0f921\"]]},\"colorway\":[\"#636efa\",\"#EF553B\",\"#00cc96\",\"#ab63fa\",\"#FFA15A\",\"#19d3f3\",\"#FF6692\",\"#B6E880\",\"#FF97FF\",\"#FECB52\"],\"font\":{\"color\":\"#2a3f5f\"},\"geo\":{\"bgcolor\":\"white\",\"lakecolor\":\"white\",\"landcolor\":\"#E5ECF6\",\"showlakes\":true,\"showland\":true,\"subunitcolor\":\"white\"},\"hoverlabel\":{\"align\":\"left\"},\"hovermode\":\"closest\",\"mapbox\":{\"style\":\"light\"},\"paper_bgcolor\":\"white\",\"plot_bgcolor\":\"#E5ECF6\",\"polar\":{\"angularaxis\":{\"gridcolor\":\"white\",\"linecolor\":\"white\",\"ticks\":\"\"},\"bgcolor\":\"#E5ECF6\",\"radialaxis\":{\"gridcolor\":\"white\",\"linecolor\":\"white\",\"ticks\":\"\"}},\"scene\":{\"xaxis\":{\"backgroundcolor\":\"#E5ECF6\",\"gridcolor\":\"white\",\"gridwidth\":2,\"linecolor\":\"white\",\"showbackground\":true,\"ticks\":\"\",\"zerolinecolor\":\"white\"},\"yaxis\":{\"backgroundcolor\":\"#E5ECF6\",\"gridcolor\":\"white\",\"gridwidth\":2,\"linecolor\":\"white\",\"showbackground\":true,\"ticks\":\"\",\"zerolinecolor\":\"white\"},\"zaxis\":{\"backgroundcolor\":\"#E5ECF6\",\"gridcolor\":\"white\",\"gridwidth\":2,\"linecolor\":\"white\",\"showbackground\":true,\"ticks\":\"\",\"zerolinecolor\":\"white\"}},\"shapedefaults\":{\"line\":{\"color\":\"#2a3f5f\"}},\"ternary\":{\"aaxis\":{\"gridcolor\":\"white\",\"linecolor\":\"white\",\"ticks\":\"\"},\"baxis\":{\"gridcolor\":\"white\",\"linecolor\":\"white\",\"ticks\":\"\"},\"bgcolor\":\"#E5ECF6\",\"caxis\":{\"gridcolor\":\"white\",\"linecolor\":\"white\",\"ticks\":\"\"}},\"title\":{\"x\":0.05},\"xaxis\":{\"automargin\":true,\"gridcolor\":\"white\",\"linecolor\":\"white\",\"ticks\":\"\",\"title\":{\"standoff\":15},\"zerolinecolor\":\"white\",\"zerolinewidth\":2},\"yaxis\":{\"automargin\":true,\"gridcolor\":\"white\",\"linecolor\":\"white\",\"ticks\":\"\",\"title\":{\"standoff\":15},\"zerolinecolor\":\"white\",\"zerolinewidth\":2}}},\"xaxis\":{\"anchor\":\"y\",\"domain\":[0.0,1.0],\"title\":{\"text\":\"fold_id\"}},\"yaxis\":{\"anchor\":\"x\",\"domain\":[0.0,1.0],\"title\":{\"text\":\"score\"}},\"legend\":{\"title\":{\"text\":\"split\"},\"tracegroupgap\":0},\"title\":{\"text\":\"Mean Val Score: -0.50, Mean Train Score: 0.83\"}},                        {\"responsive\": true}                    ).then(function(){\n",
              "                            \n",
              "var gd = document.getElementById('130ae37e-5549-4c86-b273-4d7600071fd1');\n",
              "var x = new MutationObserver(function (mutations, observer) {{\n",
              "        var display = window.getComputedStyle(gd).display;\n",
              "        if (!display || display === 'none') {{\n",
              "            console.log([gd, 'removed!']);\n",
              "            Plotly.purge(gd);\n",
              "            observer.disconnect();\n",
              "        }}\n",
              "}});\n",
              "\n",
              "// Listen for the removal of the full notebook cells\n",
              "var notebookContainer = gd.closest('#notebook-container');\n",
              "if (notebookContainer) {{\n",
              "    x.observe(notebookContainer, {childList: true});\n",
              "}}\n",
              "\n",
              "// Listen for the clearing of the current output cell\n",
              "var outputEl = gd.closest('.output');\n",
              "if (outputEl) {{\n",
              "    x.observe(outputEl, {childList: true});\n",
              "}}\n",
              "\n",
              "                        })                };                            </script>        </div>\n",
              "</body>\n",
              "</html>"
            ]
          },
          "metadata": {},
          "output_type": "display_data"
        },
        {
          "data": {
            "text/html": [
              "<html>\n",
              "<head><meta charset=\"utf-8\" /></head>\n",
              "<body>\n",
              "    <div>            <script src=\"https://cdnjs.cloudflare.com/ajax/libs/mathjax/2.7.5/MathJax.js?config=TeX-AMS-MML_SVG\"></script><script type=\"text/javascript\">if (window.MathJax) {MathJax.Hub.Config({SVG: {font: \"STIX-Web\"}});}</script>                <script type=\"text/javascript\">window.PlotlyConfig = {MathJaxConfig: 'local'};</script>\n",
              "        <script src=\"https://cdn.plot.ly/plotly-2.8.3.min.js\"></script>                <div id=\"dbb00253-c992-42d4-a74e-fe74352b45a9\" class=\"plotly-graph-div\" style=\"height:525px; width:100%;\"></div>            <script type=\"text/javascript\">                                    window.PLOTLYENV=window.PLOTLYENV || {};                                    if (document.getElementById(\"dbb00253-c992-42d4-a74e-fe74352b45a9\")) {                    Plotly.newPlot(                        \"dbb00253-c992-42d4-a74e-fe74352b45a9\",                        [{\"hovertemplate\":\"split=train<br>fold_id=%{x}<br>loss=%{y}<extra></extra>\",\"legendgroup\":\"train\",\"line\":{\"color\":\"#636efa\",\"dash\":\"solid\"},\"marker\":{\"symbol\":\"circle\"},\"mode\":\"lines\",\"name\":\"train\",\"orientation\":\"v\",\"showlegend\":true,\"x\":[0,1,2,3,4,5,6,7,8,9],\"xaxis\":\"x\",\"y\":[1068658.1776451985,856922.3433742505,1128321.8051856556,1128899.2188395234,1068038.3884978408,1039265.885328241,967262.9493711563,1022080.6845071947,1061814.902390153,1040010.9003064046],\"yaxis\":\"y\",\"type\":\"scatter\"},{\"hovertemplate\":\"split=val<br>fold_id=%{x}<br>loss=%{y}<extra></extra>\",\"legendgroup\":\"val\",\"line\":{\"color\":\"#EF553B\",\"dash\":\"solid\"},\"marker\":{\"symbol\":\"circle\"},\"mode\":\"lines\",\"name\":\"val\",\"orientation\":\"v\",\"showlegend\":true,\"x\":[0,1,2,3,4,5,6,7,8,9],\"xaxis\":\"x\",\"y\":[1672259.654723126,5452971.259060528,1436101.2350715825,1813367.555994527,1727533.2426333989,5042943.957886202,4177538.6787476004,1492814.3271103732,2400887.072655161,1776983.473561443],\"yaxis\":\"y\",\"type\":\"scatter\"}],                        {\"template\":{\"data\":{\"bar\":[{\"error_x\":{\"color\":\"#2a3f5f\"},\"error_y\":{\"color\":\"#2a3f5f\"},\"marker\":{\"line\":{\"color\":\"#E5ECF6\",\"width\":0.5},\"pattern\":{\"fillmode\":\"overlay\",\"size\":10,\"solidity\":0.2}},\"type\":\"bar\"}],\"barpolar\":[{\"marker\":{\"line\":{\"color\":\"#E5ECF6\",\"width\":0.5},\"pattern\":{\"fillmode\":\"overlay\",\"size\":10,\"solidity\":0.2}},\"type\":\"barpolar\"}],\"carpet\":[{\"aaxis\":{\"endlinecolor\":\"#2a3f5f\",\"gridcolor\":\"white\",\"linecolor\":\"white\",\"minorgridcolor\":\"white\",\"startlinecolor\":\"#2a3f5f\"},\"baxis\":{\"endlinecolor\":\"#2a3f5f\",\"gridcolor\":\"white\",\"linecolor\":\"white\",\"minorgridcolor\":\"white\",\"startlinecolor\":\"#2a3f5f\"},\"type\":\"carpet\"}],\"choropleth\":[{\"colorbar\":{\"outlinewidth\":0,\"ticks\":\"\"},\"type\":\"choropleth\"}],\"contour\":[{\"colorbar\":{\"outlinewidth\":0,\"ticks\":\"\"},\"colorscale\":[[0.0,\"#0d0887\"],[0.1111111111111111,\"#46039f\"],[0.2222222222222222,\"#7201a8\"],[0.3333333333333333,\"#9c179e\"],[0.4444444444444444,\"#bd3786\"],[0.5555555555555556,\"#d8576b\"],[0.6666666666666666,\"#ed7953\"],[0.7777777777777778,\"#fb9f3a\"],[0.8888888888888888,\"#fdca26\"],[1.0,\"#f0f921\"]],\"type\":\"contour\"}],\"contourcarpet\":[{\"colorbar\":{\"outlinewidth\":0,\"ticks\":\"\"},\"type\":\"contourcarpet\"}],\"heatmap\":[{\"colorbar\":{\"outlinewidth\":0,\"ticks\":\"\"},\"colorscale\":[[0.0,\"#0d0887\"],[0.1111111111111111,\"#46039f\"],[0.2222222222222222,\"#7201a8\"],[0.3333333333333333,\"#9c179e\"],[0.4444444444444444,\"#bd3786\"],[0.5555555555555556,\"#d8576b\"],[0.6666666666666666,\"#ed7953\"],[0.7777777777777778,\"#fb9f3a\"],[0.8888888888888888,\"#fdca26\"],[1.0,\"#f0f921\"]],\"type\":\"heatmap\"}],\"heatmapgl\":[{\"colorbar\":{\"outlinewidth\":0,\"ticks\":\"\"},\"colorscale\":[[0.0,\"#0d0887\"],[0.1111111111111111,\"#46039f\"],[0.2222222222222222,\"#7201a8\"],[0.3333333333333333,\"#9c179e\"],[0.4444444444444444,\"#bd3786\"],[0.5555555555555556,\"#d8576b\"],[0.6666666666666666,\"#ed7953\"],[0.7777777777777778,\"#fb9f3a\"],[0.8888888888888888,\"#fdca26\"],[1.0,\"#f0f921\"]],\"type\":\"heatmapgl\"}],\"histogram\":[{\"marker\":{\"pattern\":{\"fillmode\":\"overlay\",\"size\":10,\"solidity\":0.2}},\"type\":\"histogram\"}],\"histogram2d\":[{\"colorbar\":{\"outlinewidth\":0,\"ticks\":\"\"},\"colorscale\":[[0.0,\"#0d0887\"],[0.1111111111111111,\"#46039f\"],[0.2222222222222222,\"#7201a8\"],[0.3333333333333333,\"#9c179e\"],[0.4444444444444444,\"#bd3786\"],[0.5555555555555556,\"#d8576b\"],[0.6666666666666666,\"#ed7953\"],[0.7777777777777778,\"#fb9f3a\"],[0.8888888888888888,\"#fdca26\"],[1.0,\"#f0f921\"]],\"type\":\"histogram2d\"}],\"histogram2dcontour\":[{\"colorbar\":{\"outlinewidth\":0,\"ticks\":\"\"},\"colorscale\":[[0.0,\"#0d0887\"],[0.1111111111111111,\"#46039f\"],[0.2222222222222222,\"#7201a8\"],[0.3333333333333333,\"#9c179e\"],[0.4444444444444444,\"#bd3786\"],[0.5555555555555556,\"#d8576b\"],[0.6666666666666666,\"#ed7953\"],[0.7777777777777778,\"#fb9f3a\"],[0.8888888888888888,\"#fdca26\"],[1.0,\"#f0f921\"]],\"type\":\"histogram2dcontour\"}],\"mesh3d\":[{\"colorbar\":{\"outlinewidth\":0,\"ticks\":\"\"},\"type\":\"mesh3d\"}],\"parcoords\":[{\"line\":{\"colorbar\":{\"outlinewidth\":0,\"ticks\":\"\"}},\"type\":\"parcoords\"}],\"pie\":[{\"automargin\":true,\"type\":\"pie\"}],\"scatter\":[{\"marker\":{\"colorbar\":{\"outlinewidth\":0,\"ticks\":\"\"}},\"type\":\"scatter\"}],\"scatter3d\":[{\"line\":{\"colorbar\":{\"outlinewidth\":0,\"ticks\":\"\"}},\"marker\":{\"colorbar\":{\"outlinewidth\":0,\"ticks\":\"\"}},\"type\":\"scatter3d\"}],\"scattercarpet\":[{\"marker\":{\"colorbar\":{\"outlinewidth\":0,\"ticks\":\"\"}},\"type\":\"scattercarpet\"}],\"scattergeo\":[{\"marker\":{\"colorbar\":{\"outlinewidth\":0,\"ticks\":\"\"}},\"type\":\"scattergeo\"}],\"scattergl\":[{\"marker\":{\"colorbar\":{\"outlinewidth\":0,\"ticks\":\"\"}},\"type\":\"scattergl\"}],\"scattermapbox\":[{\"marker\":{\"colorbar\":{\"outlinewidth\":0,\"ticks\":\"\"}},\"type\":\"scattermapbox\"}],\"scatterpolar\":[{\"marker\":{\"colorbar\":{\"outlinewidth\":0,\"ticks\":\"\"}},\"type\":\"scatterpolar\"}],\"scatterpolargl\":[{\"marker\":{\"colorbar\":{\"outlinewidth\":0,\"ticks\":\"\"}},\"type\":\"scatterpolargl\"}],\"scatterternary\":[{\"marker\":{\"colorbar\":{\"outlinewidth\":0,\"ticks\":\"\"}},\"type\":\"scatterternary\"}],\"surface\":[{\"colorbar\":{\"outlinewidth\":0,\"ticks\":\"\"},\"colorscale\":[[0.0,\"#0d0887\"],[0.1111111111111111,\"#46039f\"],[0.2222222222222222,\"#7201a8\"],[0.3333333333333333,\"#9c179e\"],[0.4444444444444444,\"#bd3786\"],[0.5555555555555556,\"#d8576b\"],[0.6666666666666666,\"#ed7953\"],[0.7777777777777778,\"#fb9f3a\"],[0.8888888888888888,\"#fdca26\"],[1.0,\"#f0f921\"]],\"type\":\"surface\"}],\"table\":[{\"cells\":{\"fill\":{\"color\":\"#EBF0F8\"},\"line\":{\"color\":\"white\"}},\"header\":{\"fill\":{\"color\":\"#C8D4E3\"},\"line\":{\"color\":\"white\"}},\"type\":\"table\"}]},\"layout\":{\"annotationdefaults\":{\"arrowcolor\":\"#2a3f5f\",\"arrowhead\":0,\"arrowwidth\":1},\"autotypenumbers\":\"strict\",\"coloraxis\":{\"colorbar\":{\"outlinewidth\":0,\"ticks\":\"\"}},\"colorscale\":{\"diverging\":[[0,\"#8e0152\"],[0.1,\"#c51b7d\"],[0.2,\"#de77ae\"],[0.3,\"#f1b6da\"],[0.4,\"#fde0ef\"],[0.5,\"#f7f7f7\"],[0.6,\"#e6f5d0\"],[0.7,\"#b8e186\"],[0.8,\"#7fbc41\"],[0.9,\"#4d9221\"],[1,\"#276419\"]],\"sequential\":[[0.0,\"#0d0887\"],[0.1111111111111111,\"#46039f\"],[0.2222222222222222,\"#7201a8\"],[0.3333333333333333,\"#9c179e\"],[0.4444444444444444,\"#bd3786\"],[0.5555555555555556,\"#d8576b\"],[0.6666666666666666,\"#ed7953\"],[0.7777777777777778,\"#fb9f3a\"],[0.8888888888888888,\"#fdca26\"],[1.0,\"#f0f921\"]],\"sequentialminus\":[[0.0,\"#0d0887\"],[0.1111111111111111,\"#46039f\"],[0.2222222222222222,\"#7201a8\"],[0.3333333333333333,\"#9c179e\"],[0.4444444444444444,\"#bd3786\"],[0.5555555555555556,\"#d8576b\"],[0.6666666666666666,\"#ed7953\"],[0.7777777777777778,\"#fb9f3a\"],[0.8888888888888888,\"#fdca26\"],[1.0,\"#f0f921\"]]},\"colorway\":[\"#636efa\",\"#EF553B\",\"#00cc96\",\"#ab63fa\",\"#FFA15A\",\"#19d3f3\",\"#FF6692\",\"#B6E880\",\"#FF97FF\",\"#FECB52\"],\"font\":{\"color\":\"#2a3f5f\"},\"geo\":{\"bgcolor\":\"white\",\"lakecolor\":\"white\",\"landcolor\":\"#E5ECF6\",\"showlakes\":true,\"showland\":true,\"subunitcolor\":\"white\"},\"hoverlabel\":{\"align\":\"left\"},\"hovermode\":\"closest\",\"mapbox\":{\"style\":\"light\"},\"paper_bgcolor\":\"white\",\"plot_bgcolor\":\"#E5ECF6\",\"polar\":{\"angularaxis\":{\"gridcolor\":\"white\",\"linecolor\":\"white\",\"ticks\":\"\"},\"bgcolor\":\"#E5ECF6\",\"radialaxis\":{\"gridcolor\":\"white\",\"linecolor\":\"white\",\"ticks\":\"\"}},\"scene\":{\"xaxis\":{\"backgroundcolor\":\"#E5ECF6\",\"gridcolor\":\"white\",\"gridwidth\":2,\"linecolor\":\"white\",\"showbackground\":true,\"ticks\":\"\",\"zerolinecolor\":\"white\"},\"yaxis\":{\"backgroundcolor\":\"#E5ECF6\",\"gridcolor\":\"white\",\"gridwidth\":2,\"linecolor\":\"white\",\"showbackground\":true,\"ticks\":\"\",\"zerolinecolor\":\"white\"},\"zaxis\":{\"backgroundcolor\":\"#E5ECF6\",\"gridcolor\":\"white\",\"gridwidth\":2,\"linecolor\":\"white\",\"showbackground\":true,\"ticks\":\"\",\"zerolinecolor\":\"white\"}},\"shapedefaults\":{\"line\":{\"color\":\"#2a3f5f\"}},\"ternary\":{\"aaxis\":{\"gridcolor\":\"white\",\"linecolor\":\"white\",\"ticks\":\"\"},\"baxis\":{\"gridcolor\":\"white\",\"linecolor\":\"white\",\"ticks\":\"\"},\"bgcolor\":\"#E5ECF6\",\"caxis\":{\"gridcolor\":\"white\",\"linecolor\":\"white\",\"ticks\":\"\"}},\"title\":{\"x\":0.05},\"xaxis\":{\"automargin\":true,\"gridcolor\":\"white\",\"linecolor\":\"white\",\"ticks\":\"\",\"title\":{\"standoff\":15},\"zerolinecolor\":\"white\",\"zerolinewidth\":2},\"yaxis\":{\"automargin\":true,\"gridcolor\":\"white\",\"linecolor\":\"white\",\"ticks\":\"\",\"title\":{\"standoff\":15},\"zerolinecolor\":\"white\",\"zerolinewidth\":2}}},\"xaxis\":{\"anchor\":\"y\",\"domain\":[0.0,1.0],\"title\":{\"text\":\"fold_id\"}},\"yaxis\":{\"anchor\":\"x\",\"domain\":[0.0,1.0],\"title\":{\"text\":\"loss\"}},\"legend\":{\"title\":{\"text\":\"split\"},\"tracegroupgap\":0},\"title\":{\"text\":\"Mean Val Loss: 2699340.05, Mean Train Loss: 1038127.53\"}},                        {\"responsive\": true}                    ).then(function(){\n",
              "                            \n",
              "var gd = document.getElementById('dbb00253-c992-42d4-a74e-fe74352b45a9');\n",
              "var x = new MutationObserver(function (mutations, observer) {{\n",
              "        var display = window.getComputedStyle(gd).display;\n",
              "        if (!display || display === 'none') {{\n",
              "            console.log([gd, 'removed!']);\n",
              "            Plotly.purge(gd);\n",
              "            observer.disconnect();\n",
              "        }}\n",
              "}});\n",
              "\n",
              "// Listen for the removal of the full notebook cells\n",
              "var notebookContainer = gd.closest('#notebook-container');\n",
              "if (notebookContainer) {{\n",
              "    x.observe(notebookContainer, {childList: true});\n",
              "}}\n",
              "\n",
              "// Listen for the clearing of the current output cell\n",
              "var outputEl = gd.closest('.output');\n",
              "if (outputEl) {{\n",
              "    x.observe(outputEl, {childList: true});\n",
              "}}\n",
              "\n",
              "                        })                };                            </script>        </div>\n",
              "</body>\n",
              "</html>"
            ]
          },
          "metadata": {},
          "output_type": "display_data"
        },
        {
          "name": "stdout",
          "output_type": "stream",
          "text": [
            "mean cv val score: -0.50\n",
            "mean cv val loss 2699340.05\n",
            "mean cv val score: 0.83\n",
            "mean cv val loss 1038127.53\n"
          ]
        }
      ],
      "source": [
        "from sklearn.ensemble import AdaBoostRegressor\n",
        "from sklearn.tree import DecisionTreeRegressor\n",
        "\n",
        "AdaBoost_model = pipeline.make_pipeline(ct, AdaBoostRegressor(DecisionTreeRegressor(max_depth=4), n_estimators=300, random_state=1, loss='square'))\n",
        "\n",
        "val_score, val_loss, train_score, train_loss = get_cv_score_and_loss(X, t, AdaBoost_model, k=10, show_score_loss_graphs=True)\n",
        "print(f'mean cv val score: {val_score:.2f}\\nmean cv val loss {val_loss:.2f}')\n",
        "print(f'mean cv val score: {train_score:.2f}\\nmean cv val loss {train_loss:.2f}')"
      ]
    },
    {
      "cell_type": "code",
      "execution_count": null,
      "metadata": {
        "colab": {
          "base_uri": "https://localhost:8080/"
        },
        "id": "al86Qca8akgN",
        "outputId": "cfbbd7b8-ea89-42dd-cbd7-848bfc01132a"
      },
      "outputs": [
        {
          "name": "stdout",
          "output_type": "stream",
          "text": [
            "Accuracy score on train 0.8059081692202944\n",
            "RMSE score on train 1130760.7569985196\n"
          ]
        }
      ],
      "source": [
        "AdaBoost_model_predict = AdaBoost_model.predict(X)\n",
        "print('Accuracy score on train', AdaBoost_model.score(X, t))\n",
        "print('RMSE score on train',(mean_squared_error(t, AdaBoost_model_predict, squared=False)))"
      ]
    },
    {
      "cell_type": "code",
      "execution_count": null,
      "metadata": {
        "colab": {
          "base_uri": "https://localhost:8080/"
        },
        "id": "n6dr6b5uTYBT",
        "outputId": "5397c7e6-54b4-4d80-aaa5-2b7c7f246b7b"
      },
      "outputs": [
        {
          "name": "stdout",
          "output_type": "stream",
          "text": [
            "Accuracy score on train 0.7063737587831955\n",
            "RMSE score on train 1390799.5210448876\n"
          ]
        }
      ],
      "source": [
        "y_rs = rs_model.predict(X_encoded)\n",
        "print('Accuracy score on train', rs_model.score(X_encoded, t))\n",
        "print('RMSE score on train',(mean_squared_error(t, y_rs, squared=False)))"
      ]
    },
    {
      "cell_type": "code",
      "execution_count": null,
      "metadata": {
        "colab": {
          "base_uri": "https://localhost:8080/"
        },
        "id": "BZZxGte5d7DD",
        "outputId": "0d777092-0834-4844-db7d-f06c895fb9ff"
      },
      "outputs": [
        {
          "name": "stdout",
          "output_type": "stream",
          "text": [
            "Accuracy score for regression:\n",
            "Accuracy score on train 0.7063737587831955\n",
            "RMSE score on train 1390799.5210448876\n"
          ]
        }
      ],
      "source": [
        "rs_model_pipe  = pipeline.make_pipeline(ct, XGBRegressor(objective='reg:squarederror', max_depth=4, n_estimators=20)).fit(X, t)\n",
        "print('Accuracy score for regression:')\n",
        "y_rs_pipe = rs_model_pipe.predict(X)\n",
        "print('Accuracy score on train', rs_model_pipe.score(X, t))\n",
        "print('RMSE score on train',(mean_squared_error(t, y_rs_pipe, squared=False)))\n",
        "# print('rs_model', rs_model_pipe.best_score_)\n",
        "# print('best params', rs_model_pipe.best_params_)"
      ]
    },
    {
      "cell_type": "code",
      "execution_count": null,
      "metadata": {
        "colab": {
          "base_uri": "https://localhost:8080/",
          "height": 1000
        },
        "id": "ej9f5f5shJrP",
        "outputId": "9a42cc58-9cc5-4418-ca94-d1f1d5343108"
      },
      "outputs": [
        {
          "data": {
            "text/html": [
              "<html>\n",
              "<head><meta charset=\"utf-8\" /></head>\n",
              "<body>\n",
              "    <div>            <script src=\"https://cdnjs.cloudflare.com/ajax/libs/mathjax/2.7.5/MathJax.js?config=TeX-AMS-MML_SVG\"></script><script type=\"text/javascript\">if (window.MathJax) {MathJax.Hub.Config({SVG: {font: \"STIX-Web\"}});}</script>                <script type=\"text/javascript\">window.PlotlyConfig = {MathJaxConfig: 'local'};</script>\n",
              "        <script src=\"https://cdn.plot.ly/plotly-2.8.3.min.js\"></script>                <div id=\"7e064141-5edf-48c0-b228-cd3f65469528\" class=\"plotly-graph-div\" style=\"height:525px; width:100%;\"></div>            <script type=\"text/javascript\">                                    window.PLOTLYENV=window.PLOTLYENV || {};                                    if (document.getElementById(\"7e064141-5edf-48c0-b228-cd3f65469528\")) {                    Plotly.newPlot(                        \"7e064141-5edf-48c0-b228-cd3f65469528\",                        [{\"hovertemplate\":\"split=train<br>fold_id=%{x}<br>score=%{y}<extra></extra>\",\"legendgroup\":\"train\",\"line\":{\"color\":\"#636efa\",\"dash\":\"solid\"},\"marker\":{\"symbol\":\"circle\"},\"mode\":\"lines\",\"name\":\"train\",\"orientation\":\"v\",\"showlegend\":true,\"x\":[0,1,2,3,4,5,6,7,8,9],\"xaxis\":\"x\",\"y\":[0.75627024328626,0.6219259118051764,0.7277456221685955,0.7495470334964446,0.7309292280542997,0.6405447649050566,0.7550324913065483,0.7442330997105555,0.7279260335812603,0.7295484746614012],\"yaxis\":\"y\",\"type\":\"scatter\"},{\"hovertemplate\":\"split=val<br>fold_id=%{x}<br>score=%{y}<extra></extra>\",\"legendgroup\":\"val\",\"line\":{\"color\":\"#EF553B\",\"dash\":\"solid\"},\"marker\":{\"symbol\":\"circle\"},\"mode\":\"lines\",\"name\":\"val\",\"orientation\":\"v\",\"showlegend\":true,\"x\":[0,1,2,3,4,5,6,7,8,9],\"xaxis\":\"x\",\"y\":[-0.059303965999060626,-0.2397679766548957,-0.29042959958865544,0.03771278944552958,-0.06916766475614389,-0.04744016013519725,0.12800625285422673,-0.2192178578930848,-0.9468145599332205,-0.4653103802881591],\"yaxis\":\"y\",\"type\":\"scatter\"}],                        {\"template\":{\"data\":{\"bar\":[{\"error_x\":{\"color\":\"#2a3f5f\"},\"error_y\":{\"color\":\"#2a3f5f\"},\"marker\":{\"line\":{\"color\":\"#E5ECF6\",\"width\":0.5},\"pattern\":{\"fillmode\":\"overlay\",\"size\":10,\"solidity\":0.2}},\"type\":\"bar\"}],\"barpolar\":[{\"marker\":{\"line\":{\"color\":\"#E5ECF6\",\"width\":0.5},\"pattern\":{\"fillmode\":\"overlay\",\"size\":10,\"solidity\":0.2}},\"type\":\"barpolar\"}],\"carpet\":[{\"aaxis\":{\"endlinecolor\":\"#2a3f5f\",\"gridcolor\":\"white\",\"linecolor\":\"white\",\"minorgridcolor\":\"white\",\"startlinecolor\":\"#2a3f5f\"},\"baxis\":{\"endlinecolor\":\"#2a3f5f\",\"gridcolor\":\"white\",\"linecolor\":\"white\",\"minorgridcolor\":\"white\",\"startlinecolor\":\"#2a3f5f\"},\"type\":\"carpet\"}],\"choropleth\":[{\"colorbar\":{\"outlinewidth\":0,\"ticks\":\"\"},\"type\":\"choropleth\"}],\"contour\":[{\"colorbar\":{\"outlinewidth\":0,\"ticks\":\"\"},\"colorscale\":[[0.0,\"#0d0887\"],[0.1111111111111111,\"#46039f\"],[0.2222222222222222,\"#7201a8\"],[0.3333333333333333,\"#9c179e\"],[0.4444444444444444,\"#bd3786\"],[0.5555555555555556,\"#d8576b\"],[0.6666666666666666,\"#ed7953\"],[0.7777777777777778,\"#fb9f3a\"],[0.8888888888888888,\"#fdca26\"],[1.0,\"#f0f921\"]],\"type\":\"contour\"}],\"contourcarpet\":[{\"colorbar\":{\"outlinewidth\":0,\"ticks\":\"\"},\"type\":\"contourcarpet\"}],\"heatmap\":[{\"colorbar\":{\"outlinewidth\":0,\"ticks\":\"\"},\"colorscale\":[[0.0,\"#0d0887\"],[0.1111111111111111,\"#46039f\"],[0.2222222222222222,\"#7201a8\"],[0.3333333333333333,\"#9c179e\"],[0.4444444444444444,\"#bd3786\"],[0.5555555555555556,\"#d8576b\"],[0.6666666666666666,\"#ed7953\"],[0.7777777777777778,\"#fb9f3a\"],[0.8888888888888888,\"#fdca26\"],[1.0,\"#f0f921\"]],\"type\":\"heatmap\"}],\"heatmapgl\":[{\"colorbar\":{\"outlinewidth\":0,\"ticks\":\"\"},\"colorscale\":[[0.0,\"#0d0887\"],[0.1111111111111111,\"#46039f\"],[0.2222222222222222,\"#7201a8\"],[0.3333333333333333,\"#9c179e\"],[0.4444444444444444,\"#bd3786\"],[0.5555555555555556,\"#d8576b\"],[0.6666666666666666,\"#ed7953\"],[0.7777777777777778,\"#fb9f3a\"],[0.8888888888888888,\"#fdca26\"],[1.0,\"#f0f921\"]],\"type\":\"heatmapgl\"}],\"histogram\":[{\"marker\":{\"pattern\":{\"fillmode\":\"overlay\",\"size\":10,\"solidity\":0.2}},\"type\":\"histogram\"}],\"histogram2d\":[{\"colorbar\":{\"outlinewidth\":0,\"ticks\":\"\"},\"colorscale\":[[0.0,\"#0d0887\"],[0.1111111111111111,\"#46039f\"],[0.2222222222222222,\"#7201a8\"],[0.3333333333333333,\"#9c179e\"],[0.4444444444444444,\"#bd3786\"],[0.5555555555555556,\"#d8576b\"],[0.6666666666666666,\"#ed7953\"],[0.7777777777777778,\"#fb9f3a\"],[0.8888888888888888,\"#fdca26\"],[1.0,\"#f0f921\"]],\"type\":\"histogram2d\"}],\"histogram2dcontour\":[{\"colorbar\":{\"outlinewidth\":0,\"ticks\":\"\"},\"colorscale\":[[0.0,\"#0d0887\"],[0.1111111111111111,\"#46039f\"],[0.2222222222222222,\"#7201a8\"],[0.3333333333333333,\"#9c179e\"],[0.4444444444444444,\"#bd3786\"],[0.5555555555555556,\"#d8576b\"],[0.6666666666666666,\"#ed7953\"],[0.7777777777777778,\"#fb9f3a\"],[0.8888888888888888,\"#fdca26\"],[1.0,\"#f0f921\"]],\"type\":\"histogram2dcontour\"}],\"mesh3d\":[{\"colorbar\":{\"outlinewidth\":0,\"ticks\":\"\"},\"type\":\"mesh3d\"}],\"parcoords\":[{\"line\":{\"colorbar\":{\"outlinewidth\":0,\"ticks\":\"\"}},\"type\":\"parcoords\"}],\"pie\":[{\"automargin\":true,\"type\":\"pie\"}],\"scatter\":[{\"marker\":{\"colorbar\":{\"outlinewidth\":0,\"ticks\":\"\"}},\"type\":\"scatter\"}],\"scatter3d\":[{\"line\":{\"colorbar\":{\"outlinewidth\":0,\"ticks\":\"\"}},\"marker\":{\"colorbar\":{\"outlinewidth\":0,\"ticks\":\"\"}},\"type\":\"scatter3d\"}],\"scattercarpet\":[{\"marker\":{\"colorbar\":{\"outlinewidth\":0,\"ticks\":\"\"}},\"type\":\"scattercarpet\"}],\"scattergeo\":[{\"marker\":{\"colorbar\":{\"outlinewidth\":0,\"ticks\":\"\"}},\"type\":\"scattergeo\"}],\"scattergl\":[{\"marker\":{\"colorbar\":{\"outlinewidth\":0,\"ticks\":\"\"}},\"type\":\"scattergl\"}],\"scattermapbox\":[{\"marker\":{\"colorbar\":{\"outlinewidth\":0,\"ticks\":\"\"}},\"type\":\"scattermapbox\"}],\"scatterpolar\":[{\"marker\":{\"colorbar\":{\"outlinewidth\":0,\"ticks\":\"\"}},\"type\":\"scatterpolar\"}],\"scatterpolargl\":[{\"marker\":{\"colorbar\":{\"outlinewidth\":0,\"ticks\":\"\"}},\"type\":\"scatterpolargl\"}],\"scatterternary\":[{\"marker\":{\"colorbar\":{\"outlinewidth\":0,\"ticks\":\"\"}},\"type\":\"scatterternary\"}],\"surface\":[{\"colorbar\":{\"outlinewidth\":0,\"ticks\":\"\"},\"colorscale\":[[0.0,\"#0d0887\"],[0.1111111111111111,\"#46039f\"],[0.2222222222222222,\"#7201a8\"],[0.3333333333333333,\"#9c179e\"],[0.4444444444444444,\"#bd3786\"],[0.5555555555555556,\"#d8576b\"],[0.6666666666666666,\"#ed7953\"],[0.7777777777777778,\"#fb9f3a\"],[0.8888888888888888,\"#fdca26\"],[1.0,\"#f0f921\"]],\"type\":\"surface\"}],\"table\":[{\"cells\":{\"fill\":{\"color\":\"#EBF0F8\"},\"line\":{\"color\":\"white\"}},\"header\":{\"fill\":{\"color\":\"#C8D4E3\"},\"line\":{\"color\":\"white\"}},\"type\":\"table\"}]},\"layout\":{\"annotationdefaults\":{\"arrowcolor\":\"#2a3f5f\",\"arrowhead\":0,\"arrowwidth\":1},\"autotypenumbers\":\"strict\",\"coloraxis\":{\"colorbar\":{\"outlinewidth\":0,\"ticks\":\"\"}},\"colorscale\":{\"diverging\":[[0,\"#8e0152\"],[0.1,\"#c51b7d\"],[0.2,\"#de77ae\"],[0.3,\"#f1b6da\"],[0.4,\"#fde0ef\"],[0.5,\"#f7f7f7\"],[0.6,\"#e6f5d0\"],[0.7,\"#b8e186\"],[0.8,\"#7fbc41\"],[0.9,\"#4d9221\"],[1,\"#276419\"]],\"sequential\":[[0.0,\"#0d0887\"],[0.1111111111111111,\"#46039f\"],[0.2222222222222222,\"#7201a8\"],[0.3333333333333333,\"#9c179e\"],[0.4444444444444444,\"#bd3786\"],[0.5555555555555556,\"#d8576b\"],[0.6666666666666666,\"#ed7953\"],[0.7777777777777778,\"#fb9f3a\"],[0.8888888888888888,\"#fdca26\"],[1.0,\"#f0f921\"]],\"sequentialminus\":[[0.0,\"#0d0887\"],[0.1111111111111111,\"#46039f\"],[0.2222222222222222,\"#7201a8\"],[0.3333333333333333,\"#9c179e\"],[0.4444444444444444,\"#bd3786\"],[0.5555555555555556,\"#d8576b\"],[0.6666666666666666,\"#ed7953\"],[0.7777777777777778,\"#fb9f3a\"],[0.8888888888888888,\"#fdca26\"],[1.0,\"#f0f921\"]]},\"colorway\":[\"#636efa\",\"#EF553B\",\"#00cc96\",\"#ab63fa\",\"#FFA15A\",\"#19d3f3\",\"#FF6692\",\"#B6E880\",\"#FF97FF\",\"#FECB52\"],\"font\":{\"color\":\"#2a3f5f\"},\"geo\":{\"bgcolor\":\"white\",\"lakecolor\":\"white\",\"landcolor\":\"#E5ECF6\",\"showlakes\":true,\"showland\":true,\"subunitcolor\":\"white\"},\"hoverlabel\":{\"align\":\"left\"},\"hovermode\":\"closest\",\"mapbox\":{\"style\":\"light\"},\"paper_bgcolor\":\"white\",\"plot_bgcolor\":\"#E5ECF6\",\"polar\":{\"angularaxis\":{\"gridcolor\":\"white\",\"linecolor\":\"white\",\"ticks\":\"\"},\"bgcolor\":\"#E5ECF6\",\"radialaxis\":{\"gridcolor\":\"white\",\"linecolor\":\"white\",\"ticks\":\"\"}},\"scene\":{\"xaxis\":{\"backgroundcolor\":\"#E5ECF6\",\"gridcolor\":\"white\",\"gridwidth\":2,\"linecolor\":\"white\",\"showbackground\":true,\"ticks\":\"\",\"zerolinecolor\":\"white\"},\"yaxis\":{\"backgroundcolor\":\"#E5ECF6\",\"gridcolor\":\"white\",\"gridwidth\":2,\"linecolor\":\"white\",\"showbackground\":true,\"ticks\":\"\",\"zerolinecolor\":\"white\"},\"zaxis\":{\"backgroundcolor\":\"#E5ECF6\",\"gridcolor\":\"white\",\"gridwidth\":2,\"linecolor\":\"white\",\"showbackground\":true,\"ticks\":\"\",\"zerolinecolor\":\"white\"}},\"shapedefaults\":{\"line\":{\"color\":\"#2a3f5f\"}},\"ternary\":{\"aaxis\":{\"gridcolor\":\"white\",\"linecolor\":\"white\",\"ticks\":\"\"},\"baxis\":{\"gridcolor\":\"white\",\"linecolor\":\"white\",\"ticks\":\"\"},\"bgcolor\":\"#E5ECF6\",\"caxis\":{\"gridcolor\":\"white\",\"linecolor\":\"white\",\"ticks\":\"\"}},\"title\":{\"x\":0.05},\"xaxis\":{\"automargin\":true,\"gridcolor\":\"white\",\"linecolor\":\"white\",\"ticks\":\"\",\"title\":{\"standoff\":15},\"zerolinecolor\":\"white\",\"zerolinewidth\":2},\"yaxis\":{\"automargin\":true,\"gridcolor\":\"white\",\"linecolor\":\"white\",\"ticks\":\"\",\"title\":{\"standoff\":15},\"zerolinecolor\":\"white\",\"zerolinewidth\":2}}},\"xaxis\":{\"anchor\":\"y\",\"domain\":[0.0,1.0],\"title\":{\"text\":\"fold_id\"}},\"yaxis\":{\"anchor\":\"x\",\"domain\":[0.0,1.0],\"title\":{\"text\":\"score\"}},\"legend\":{\"title\":{\"text\":\"split\"},\"tracegroupgap\":0},\"title\":{\"text\":\"Mean Val Score: -0.22, Mean Train Score: 0.72\"}},                        {\"responsive\": true}                    ).then(function(){\n",
              "                            \n",
              "var gd = document.getElementById('7e064141-5edf-48c0-b228-cd3f65469528');\n",
              "var x = new MutationObserver(function (mutations, observer) {{\n",
              "        var display = window.getComputedStyle(gd).display;\n",
              "        if (!display || display === 'none') {{\n",
              "            console.log([gd, 'removed!']);\n",
              "            Plotly.purge(gd);\n",
              "            observer.disconnect();\n",
              "        }}\n",
              "}});\n",
              "\n",
              "// Listen for the removal of the full notebook cells\n",
              "var notebookContainer = gd.closest('#notebook-container');\n",
              "if (notebookContainer) {{\n",
              "    x.observe(notebookContainer, {childList: true});\n",
              "}}\n",
              "\n",
              "// Listen for the clearing of the current output cell\n",
              "var outputEl = gd.closest('.output');\n",
              "if (outputEl) {{\n",
              "    x.observe(outputEl, {childList: true});\n",
              "}}\n",
              "\n",
              "                        })                };                            </script>        </div>\n",
              "</body>\n",
              "</html>"
            ]
          },
          "metadata": {},
          "output_type": "display_data"
        },
        {
          "data": {
            "text/html": [
              "<html>\n",
              "<head><meta charset=\"utf-8\" /></head>\n",
              "<body>\n",
              "    <div>            <script src=\"https://cdnjs.cloudflare.com/ajax/libs/mathjax/2.7.5/MathJax.js?config=TeX-AMS-MML_SVG\"></script><script type=\"text/javascript\">if (window.MathJax) {MathJax.Hub.Config({SVG: {font: \"STIX-Web\"}});}</script>                <script type=\"text/javascript\">window.PlotlyConfig = {MathJaxConfig: 'local'};</script>\n",
              "        <script src=\"https://cdn.plot.ly/plotly-2.8.3.min.js\"></script>                <div id=\"3f0ed8c3-fcc8-4c8f-ba60-9e42f52549b2\" class=\"plotly-graph-div\" style=\"height:525px; width:100%;\"></div>            <script type=\"text/javascript\">                                    window.PLOTLYENV=window.PLOTLYENV || {};                                    if (document.getElementById(\"3f0ed8c3-fcc8-4c8f-ba60-9e42f52549b2\")) {                    Plotly.newPlot(                        \"3f0ed8c3-fcc8-4c8f-ba60-9e42f52549b2\",                        [{\"hovertemplate\":\"split=train<br>fold_id=%{x}<br>loss=%{y}<extra></extra>\",\"legendgroup\":\"train\",\"line\":{\"color\":\"#636efa\",\"dash\":\"solid\"},\"marker\":{\"symbol\":\"circle\"},\"mode\":\"lines\",\"name\":\"train\",\"orientation\":\"v\",\"showlegend\":true,\"x\":[0,1,2,3,4,5,6,7,8,9],\"xaxis\":\"x\",\"y\":[1307676.973259504,1372823.8011389838,1383840.670353373,1321208.3426836978,1368973.7134457026,1366660.4507966065,1268095.416429286,1348723.2394592192,1379071.3864235645,1373835.289598164],\"yaxis\":\"y\",\"type\":\"scatter\"},{\"hovertemplate\":\"split=val<br>fold_id=%{x}<br>loss=%{y}<extra></extra>\",\"legendgroup\":\"val\",\"line\":{\"color\":\"#EF553B\",\"dash\":\"solid\"},\"marker\":{\"symbol\":\"circle\"},\"mode\":\"lines\",\"name\":\"val\",\"orientation\":\"v\",\"showlegend\":true,\"x\":[0,1,2,3,4,5,6,7,8,9],\"xaxis\":\"x\",\"y\":[1678781.5223025172,4763715.08994798,1644322.215397607,1739784.5463146872,1854448.3231768927,4347889.803297542,2427958.7996712825,1389938.7556230358,1985143.0228161884,2014877.2796074832],\"yaxis\":\"y\",\"type\":\"scatter\"}],                        {\"template\":{\"data\":{\"bar\":[{\"error_x\":{\"color\":\"#2a3f5f\"},\"error_y\":{\"color\":\"#2a3f5f\"},\"marker\":{\"line\":{\"color\":\"#E5ECF6\",\"width\":0.5},\"pattern\":{\"fillmode\":\"overlay\",\"size\":10,\"solidity\":0.2}},\"type\":\"bar\"}],\"barpolar\":[{\"marker\":{\"line\":{\"color\":\"#E5ECF6\",\"width\":0.5},\"pattern\":{\"fillmode\":\"overlay\",\"size\":10,\"solidity\":0.2}},\"type\":\"barpolar\"}],\"carpet\":[{\"aaxis\":{\"endlinecolor\":\"#2a3f5f\",\"gridcolor\":\"white\",\"linecolor\":\"white\",\"minorgridcolor\":\"white\",\"startlinecolor\":\"#2a3f5f\"},\"baxis\":{\"endlinecolor\":\"#2a3f5f\",\"gridcolor\":\"white\",\"linecolor\":\"white\",\"minorgridcolor\":\"white\",\"startlinecolor\":\"#2a3f5f\"},\"type\":\"carpet\"}],\"choropleth\":[{\"colorbar\":{\"outlinewidth\":0,\"ticks\":\"\"},\"type\":\"choropleth\"}],\"contour\":[{\"colorbar\":{\"outlinewidth\":0,\"ticks\":\"\"},\"colorscale\":[[0.0,\"#0d0887\"],[0.1111111111111111,\"#46039f\"],[0.2222222222222222,\"#7201a8\"],[0.3333333333333333,\"#9c179e\"],[0.4444444444444444,\"#bd3786\"],[0.5555555555555556,\"#d8576b\"],[0.6666666666666666,\"#ed7953\"],[0.7777777777777778,\"#fb9f3a\"],[0.8888888888888888,\"#fdca26\"],[1.0,\"#f0f921\"]],\"type\":\"contour\"}],\"contourcarpet\":[{\"colorbar\":{\"outlinewidth\":0,\"ticks\":\"\"},\"type\":\"contourcarpet\"}],\"heatmap\":[{\"colorbar\":{\"outlinewidth\":0,\"ticks\":\"\"},\"colorscale\":[[0.0,\"#0d0887\"],[0.1111111111111111,\"#46039f\"],[0.2222222222222222,\"#7201a8\"],[0.3333333333333333,\"#9c179e\"],[0.4444444444444444,\"#bd3786\"],[0.5555555555555556,\"#d8576b\"],[0.6666666666666666,\"#ed7953\"],[0.7777777777777778,\"#fb9f3a\"],[0.8888888888888888,\"#fdca26\"],[1.0,\"#f0f921\"]],\"type\":\"heatmap\"}],\"heatmapgl\":[{\"colorbar\":{\"outlinewidth\":0,\"ticks\":\"\"},\"colorscale\":[[0.0,\"#0d0887\"],[0.1111111111111111,\"#46039f\"],[0.2222222222222222,\"#7201a8\"],[0.3333333333333333,\"#9c179e\"],[0.4444444444444444,\"#bd3786\"],[0.5555555555555556,\"#d8576b\"],[0.6666666666666666,\"#ed7953\"],[0.7777777777777778,\"#fb9f3a\"],[0.8888888888888888,\"#fdca26\"],[1.0,\"#f0f921\"]],\"type\":\"heatmapgl\"}],\"histogram\":[{\"marker\":{\"pattern\":{\"fillmode\":\"overlay\",\"size\":10,\"solidity\":0.2}},\"type\":\"histogram\"}],\"histogram2d\":[{\"colorbar\":{\"outlinewidth\":0,\"ticks\":\"\"},\"colorscale\":[[0.0,\"#0d0887\"],[0.1111111111111111,\"#46039f\"],[0.2222222222222222,\"#7201a8\"],[0.3333333333333333,\"#9c179e\"],[0.4444444444444444,\"#bd3786\"],[0.5555555555555556,\"#d8576b\"],[0.6666666666666666,\"#ed7953\"],[0.7777777777777778,\"#fb9f3a\"],[0.8888888888888888,\"#fdca26\"],[1.0,\"#f0f921\"]],\"type\":\"histogram2d\"}],\"histogram2dcontour\":[{\"colorbar\":{\"outlinewidth\":0,\"ticks\":\"\"},\"colorscale\":[[0.0,\"#0d0887\"],[0.1111111111111111,\"#46039f\"],[0.2222222222222222,\"#7201a8\"],[0.3333333333333333,\"#9c179e\"],[0.4444444444444444,\"#bd3786\"],[0.5555555555555556,\"#d8576b\"],[0.6666666666666666,\"#ed7953\"],[0.7777777777777778,\"#fb9f3a\"],[0.8888888888888888,\"#fdca26\"],[1.0,\"#f0f921\"]],\"type\":\"histogram2dcontour\"}],\"mesh3d\":[{\"colorbar\":{\"outlinewidth\":0,\"ticks\":\"\"},\"type\":\"mesh3d\"}],\"parcoords\":[{\"line\":{\"colorbar\":{\"outlinewidth\":0,\"ticks\":\"\"}},\"type\":\"parcoords\"}],\"pie\":[{\"automargin\":true,\"type\":\"pie\"}],\"scatter\":[{\"marker\":{\"colorbar\":{\"outlinewidth\":0,\"ticks\":\"\"}},\"type\":\"scatter\"}],\"scatter3d\":[{\"line\":{\"colorbar\":{\"outlinewidth\":0,\"ticks\":\"\"}},\"marker\":{\"colorbar\":{\"outlinewidth\":0,\"ticks\":\"\"}},\"type\":\"scatter3d\"}],\"scattercarpet\":[{\"marker\":{\"colorbar\":{\"outlinewidth\":0,\"ticks\":\"\"}},\"type\":\"scattercarpet\"}],\"scattergeo\":[{\"marker\":{\"colorbar\":{\"outlinewidth\":0,\"ticks\":\"\"}},\"type\":\"scattergeo\"}],\"scattergl\":[{\"marker\":{\"colorbar\":{\"outlinewidth\":0,\"ticks\":\"\"}},\"type\":\"scattergl\"}],\"scattermapbox\":[{\"marker\":{\"colorbar\":{\"outlinewidth\":0,\"ticks\":\"\"}},\"type\":\"scattermapbox\"}],\"scatterpolar\":[{\"marker\":{\"colorbar\":{\"outlinewidth\":0,\"ticks\":\"\"}},\"type\":\"scatterpolar\"}],\"scatterpolargl\":[{\"marker\":{\"colorbar\":{\"outlinewidth\":0,\"ticks\":\"\"}},\"type\":\"scatterpolargl\"}],\"scatterternary\":[{\"marker\":{\"colorbar\":{\"outlinewidth\":0,\"ticks\":\"\"}},\"type\":\"scatterternary\"}],\"surface\":[{\"colorbar\":{\"outlinewidth\":0,\"ticks\":\"\"},\"colorscale\":[[0.0,\"#0d0887\"],[0.1111111111111111,\"#46039f\"],[0.2222222222222222,\"#7201a8\"],[0.3333333333333333,\"#9c179e\"],[0.4444444444444444,\"#bd3786\"],[0.5555555555555556,\"#d8576b\"],[0.6666666666666666,\"#ed7953\"],[0.7777777777777778,\"#fb9f3a\"],[0.8888888888888888,\"#fdca26\"],[1.0,\"#f0f921\"]],\"type\":\"surface\"}],\"table\":[{\"cells\":{\"fill\":{\"color\":\"#EBF0F8\"},\"line\":{\"color\":\"white\"}},\"header\":{\"fill\":{\"color\":\"#C8D4E3\"},\"line\":{\"color\":\"white\"}},\"type\":\"table\"}]},\"layout\":{\"annotationdefaults\":{\"arrowcolor\":\"#2a3f5f\",\"arrowhead\":0,\"arrowwidth\":1},\"autotypenumbers\":\"strict\",\"coloraxis\":{\"colorbar\":{\"outlinewidth\":0,\"ticks\":\"\"}},\"colorscale\":{\"diverging\":[[0,\"#8e0152\"],[0.1,\"#c51b7d\"],[0.2,\"#de77ae\"],[0.3,\"#f1b6da\"],[0.4,\"#fde0ef\"],[0.5,\"#f7f7f7\"],[0.6,\"#e6f5d0\"],[0.7,\"#b8e186\"],[0.8,\"#7fbc41\"],[0.9,\"#4d9221\"],[1,\"#276419\"]],\"sequential\":[[0.0,\"#0d0887\"],[0.1111111111111111,\"#46039f\"],[0.2222222222222222,\"#7201a8\"],[0.3333333333333333,\"#9c179e\"],[0.4444444444444444,\"#bd3786\"],[0.5555555555555556,\"#d8576b\"],[0.6666666666666666,\"#ed7953\"],[0.7777777777777778,\"#fb9f3a\"],[0.8888888888888888,\"#fdca26\"],[1.0,\"#f0f921\"]],\"sequentialminus\":[[0.0,\"#0d0887\"],[0.1111111111111111,\"#46039f\"],[0.2222222222222222,\"#7201a8\"],[0.3333333333333333,\"#9c179e\"],[0.4444444444444444,\"#bd3786\"],[0.5555555555555556,\"#d8576b\"],[0.6666666666666666,\"#ed7953\"],[0.7777777777777778,\"#fb9f3a\"],[0.8888888888888888,\"#fdca26\"],[1.0,\"#f0f921\"]]},\"colorway\":[\"#636efa\",\"#EF553B\",\"#00cc96\",\"#ab63fa\",\"#FFA15A\",\"#19d3f3\",\"#FF6692\",\"#B6E880\",\"#FF97FF\",\"#FECB52\"],\"font\":{\"color\":\"#2a3f5f\"},\"geo\":{\"bgcolor\":\"white\",\"lakecolor\":\"white\",\"landcolor\":\"#E5ECF6\",\"showlakes\":true,\"showland\":true,\"subunitcolor\":\"white\"},\"hoverlabel\":{\"align\":\"left\"},\"hovermode\":\"closest\",\"mapbox\":{\"style\":\"light\"},\"paper_bgcolor\":\"white\",\"plot_bgcolor\":\"#E5ECF6\",\"polar\":{\"angularaxis\":{\"gridcolor\":\"white\",\"linecolor\":\"white\",\"ticks\":\"\"},\"bgcolor\":\"#E5ECF6\",\"radialaxis\":{\"gridcolor\":\"white\",\"linecolor\":\"white\",\"ticks\":\"\"}},\"scene\":{\"xaxis\":{\"backgroundcolor\":\"#E5ECF6\",\"gridcolor\":\"white\",\"gridwidth\":2,\"linecolor\":\"white\",\"showbackground\":true,\"ticks\":\"\",\"zerolinecolor\":\"white\"},\"yaxis\":{\"backgroundcolor\":\"#E5ECF6\",\"gridcolor\":\"white\",\"gridwidth\":2,\"linecolor\":\"white\",\"showbackground\":true,\"ticks\":\"\",\"zerolinecolor\":\"white\"},\"zaxis\":{\"backgroundcolor\":\"#E5ECF6\",\"gridcolor\":\"white\",\"gridwidth\":2,\"linecolor\":\"white\",\"showbackground\":true,\"ticks\":\"\",\"zerolinecolor\":\"white\"}},\"shapedefaults\":{\"line\":{\"color\":\"#2a3f5f\"}},\"ternary\":{\"aaxis\":{\"gridcolor\":\"white\",\"linecolor\":\"white\",\"ticks\":\"\"},\"baxis\":{\"gridcolor\":\"white\",\"linecolor\":\"white\",\"ticks\":\"\"},\"bgcolor\":\"#E5ECF6\",\"caxis\":{\"gridcolor\":\"white\",\"linecolor\":\"white\",\"ticks\":\"\"}},\"title\":{\"x\":0.05},\"xaxis\":{\"automargin\":true,\"gridcolor\":\"white\",\"linecolor\":\"white\",\"ticks\":\"\",\"title\":{\"standoff\":15},\"zerolinecolor\":\"white\",\"zerolinewidth\":2},\"yaxis\":{\"automargin\":true,\"gridcolor\":\"white\",\"linecolor\":\"white\",\"ticks\":\"\",\"title\":{\"standoff\":15},\"zerolinecolor\":\"white\",\"zerolinewidth\":2}}},\"xaxis\":{\"anchor\":\"y\",\"domain\":[0.0,1.0],\"title\":{\"text\":\"fold_id\"}},\"yaxis\":{\"anchor\":\"x\",\"domain\":[0.0,1.0],\"title\":{\"text\":\"loss\"}},\"legend\":{\"title\":{\"text\":\"split\"},\"tracegroupgap\":0},\"title\":{\"text\":\"Mean Val Loss: 2384685.94, Mean Train Loss: 1349090.93\"}},                        {\"responsive\": true}                    ).then(function(){\n",
              "                            \n",
              "var gd = document.getElementById('3f0ed8c3-fcc8-4c8f-ba60-9e42f52549b2');\n",
              "var x = new MutationObserver(function (mutations, observer) {{\n",
              "        var display = window.getComputedStyle(gd).display;\n",
              "        if (!display || display === 'none') {{\n",
              "            console.log([gd, 'removed!']);\n",
              "            Plotly.purge(gd);\n",
              "            observer.disconnect();\n",
              "        }}\n",
              "}});\n",
              "\n",
              "// Listen for the removal of the full notebook cells\n",
              "var notebookContainer = gd.closest('#notebook-container');\n",
              "if (notebookContainer) {{\n",
              "    x.observe(notebookContainer, {childList: true});\n",
              "}}\n",
              "\n",
              "// Listen for the clearing of the current output cell\n",
              "var outputEl = gd.closest('.output');\n",
              "if (outputEl) {{\n",
              "    x.observe(outputEl, {childList: true});\n",
              "}}\n",
              "\n",
              "                        })                };                            </script>        </div>\n",
              "</body>\n",
              "</html>"
            ]
          },
          "metadata": {},
          "output_type": "display_data"
        },
        {
          "name": "stdout",
          "output_type": "stream",
          "text": [
            "mean cv val score: -0.22\n",
            "mean cv val loss 2384685.94\n",
            "mean cv val score: 0.72\n",
            "mean cv val loss 1349090.93\n"
          ]
        }
      ],
      "source": [
        "val_score, val_loss, train_score, train_loss = get_cv_score_and_loss(X, t, rs_model_pipe, k=10, show_score_loss_graphs=True)\n",
        "print(f'mean cv val score: {val_score:.2f}\\nmean cv val loss {val_loss:.2f}')\n",
        "print(f'mean cv val score: {train_score:.2f}\\nmean cv val loss {train_loss:.2f}')"
      ]
    },
    {
      "cell_type": "code",
      "execution_count": null,
      "metadata": {
        "colab": {
          "base_uri": "https://localhost:8080/",
          "height": 1000
        },
        "id": "m4NdFwlLeSaU",
        "outputId": "14eae129-3c43-4cd7-ae95-3f86a4154742"
      },
      "outputs": [
        {
          "data": {
            "text/html": [
              "<html>\n",
              "<head><meta charset=\"utf-8\" /></head>\n",
              "<body>\n",
              "    <div>            <script src=\"https://cdnjs.cloudflare.com/ajax/libs/mathjax/2.7.5/MathJax.js?config=TeX-AMS-MML_SVG\"></script><script type=\"text/javascript\">if (window.MathJax) {MathJax.Hub.Config({SVG: {font: \"STIX-Web\"}});}</script>                <script type=\"text/javascript\">window.PlotlyConfig = {MathJaxConfig: 'local'};</script>\n",
              "        <script src=\"https://cdn.plot.ly/plotly-2.8.3.min.js\"></script>                <div id=\"81d3a014-9cf8-4842-b534-f041a0494f36\" class=\"plotly-graph-div\" style=\"height:525px; width:100%;\"></div>            <script type=\"text/javascript\">                                    window.PLOTLYENV=window.PLOTLYENV || {};                                    if (document.getElementById(\"81d3a014-9cf8-4842-b534-f041a0494f36\")) {                    Plotly.newPlot(                        \"81d3a014-9cf8-4842-b534-f041a0494f36\",                        [{\"hovertemplate\":\"split=train<br>fold_id=%{x}<br>score=%{y}<extra></extra>\",\"legendgroup\":\"train\",\"line\":{\"color\":\"#636efa\",\"dash\":\"solid\"},\"marker\":{\"symbol\":\"circle\"},\"mode\":\"lines\",\"name\":\"train\",\"orientation\":\"v\",\"showlegend\":true,\"x\":[0,1,2,3,4,5,6,7,8,9],\"xaxis\":\"x\",\"y\":[0.7547477888487448,0.738484373895512,0.7157457381440361,0.7495255393403952,0.7499752821298008,0.7122104117262289,0.7846146656874473,0.7500806989759992,0.7574539771416502,0.7357544496029117],\"yaxis\":\"y\",\"type\":\"scatter\"},{\"hovertemplate\":\"split=val<br>fold_id=%{x}<br>score=%{y}<extra></extra>\",\"legendgroup\":\"val\",\"line\":{\"color\":\"#EF553B\",\"dash\":\"solid\"},\"marker\":{\"symbol\":\"circle\"},\"mode\":\"lines\",\"name\":\"val\",\"orientation\":\"v\",\"showlegend\":true,\"x\":[0,1,2,3,4,5,6,7,8,9],\"xaxis\":\"x\",\"y\":[0.06152267242483411,-0.025044822530560396,-0.1686549906071917,-1.2088045307793238,-0.0614829823197498,-0.3588621201530684,-1.5319258614764606,-0.13867652300128164,-3.4414027952183215,0.018457115703157778],\"yaxis\":\"y\",\"type\":\"scatter\"}],                        {\"template\":{\"data\":{\"bar\":[{\"error_x\":{\"color\":\"#2a3f5f\"},\"error_y\":{\"color\":\"#2a3f5f\"},\"marker\":{\"line\":{\"color\":\"#E5ECF6\",\"width\":0.5},\"pattern\":{\"fillmode\":\"overlay\",\"size\":10,\"solidity\":0.2}},\"type\":\"bar\"}],\"barpolar\":[{\"marker\":{\"line\":{\"color\":\"#E5ECF6\",\"width\":0.5},\"pattern\":{\"fillmode\":\"overlay\",\"size\":10,\"solidity\":0.2}},\"type\":\"barpolar\"}],\"carpet\":[{\"aaxis\":{\"endlinecolor\":\"#2a3f5f\",\"gridcolor\":\"white\",\"linecolor\":\"white\",\"minorgridcolor\":\"white\",\"startlinecolor\":\"#2a3f5f\"},\"baxis\":{\"endlinecolor\":\"#2a3f5f\",\"gridcolor\":\"white\",\"linecolor\":\"white\",\"minorgridcolor\":\"white\",\"startlinecolor\":\"#2a3f5f\"},\"type\":\"carpet\"}],\"choropleth\":[{\"colorbar\":{\"outlinewidth\":0,\"ticks\":\"\"},\"type\":\"choropleth\"}],\"contour\":[{\"colorbar\":{\"outlinewidth\":0,\"ticks\":\"\"},\"colorscale\":[[0.0,\"#0d0887\"],[0.1111111111111111,\"#46039f\"],[0.2222222222222222,\"#7201a8\"],[0.3333333333333333,\"#9c179e\"],[0.4444444444444444,\"#bd3786\"],[0.5555555555555556,\"#d8576b\"],[0.6666666666666666,\"#ed7953\"],[0.7777777777777778,\"#fb9f3a\"],[0.8888888888888888,\"#fdca26\"],[1.0,\"#f0f921\"]],\"type\":\"contour\"}],\"contourcarpet\":[{\"colorbar\":{\"outlinewidth\":0,\"ticks\":\"\"},\"type\":\"contourcarpet\"}],\"heatmap\":[{\"colorbar\":{\"outlinewidth\":0,\"ticks\":\"\"},\"colorscale\":[[0.0,\"#0d0887\"],[0.1111111111111111,\"#46039f\"],[0.2222222222222222,\"#7201a8\"],[0.3333333333333333,\"#9c179e\"],[0.4444444444444444,\"#bd3786\"],[0.5555555555555556,\"#d8576b\"],[0.6666666666666666,\"#ed7953\"],[0.7777777777777778,\"#fb9f3a\"],[0.8888888888888888,\"#fdca26\"],[1.0,\"#f0f921\"]],\"type\":\"heatmap\"}],\"heatmapgl\":[{\"colorbar\":{\"outlinewidth\":0,\"ticks\":\"\"},\"colorscale\":[[0.0,\"#0d0887\"],[0.1111111111111111,\"#46039f\"],[0.2222222222222222,\"#7201a8\"],[0.3333333333333333,\"#9c179e\"],[0.4444444444444444,\"#bd3786\"],[0.5555555555555556,\"#d8576b\"],[0.6666666666666666,\"#ed7953\"],[0.7777777777777778,\"#fb9f3a\"],[0.8888888888888888,\"#fdca26\"],[1.0,\"#f0f921\"]],\"type\":\"heatmapgl\"}],\"histogram\":[{\"marker\":{\"pattern\":{\"fillmode\":\"overlay\",\"size\":10,\"solidity\":0.2}},\"type\":\"histogram\"}],\"histogram2d\":[{\"colorbar\":{\"outlinewidth\":0,\"ticks\":\"\"},\"colorscale\":[[0.0,\"#0d0887\"],[0.1111111111111111,\"#46039f\"],[0.2222222222222222,\"#7201a8\"],[0.3333333333333333,\"#9c179e\"],[0.4444444444444444,\"#bd3786\"],[0.5555555555555556,\"#d8576b\"],[0.6666666666666666,\"#ed7953\"],[0.7777777777777778,\"#fb9f3a\"],[0.8888888888888888,\"#fdca26\"],[1.0,\"#f0f921\"]],\"type\":\"histogram2d\"}],\"histogram2dcontour\":[{\"colorbar\":{\"outlinewidth\":0,\"ticks\":\"\"},\"colorscale\":[[0.0,\"#0d0887\"],[0.1111111111111111,\"#46039f\"],[0.2222222222222222,\"#7201a8\"],[0.3333333333333333,\"#9c179e\"],[0.4444444444444444,\"#bd3786\"],[0.5555555555555556,\"#d8576b\"],[0.6666666666666666,\"#ed7953\"],[0.7777777777777778,\"#fb9f3a\"],[0.8888888888888888,\"#fdca26\"],[1.0,\"#f0f921\"]],\"type\":\"histogram2dcontour\"}],\"mesh3d\":[{\"colorbar\":{\"outlinewidth\":0,\"ticks\":\"\"},\"type\":\"mesh3d\"}],\"parcoords\":[{\"line\":{\"colorbar\":{\"outlinewidth\":0,\"ticks\":\"\"}},\"type\":\"parcoords\"}],\"pie\":[{\"automargin\":true,\"type\":\"pie\"}],\"scatter\":[{\"marker\":{\"colorbar\":{\"outlinewidth\":0,\"ticks\":\"\"}},\"type\":\"scatter\"}],\"scatter3d\":[{\"line\":{\"colorbar\":{\"outlinewidth\":0,\"ticks\":\"\"}},\"marker\":{\"colorbar\":{\"outlinewidth\":0,\"ticks\":\"\"}},\"type\":\"scatter3d\"}],\"scattercarpet\":[{\"marker\":{\"colorbar\":{\"outlinewidth\":0,\"ticks\":\"\"}},\"type\":\"scattercarpet\"}],\"scattergeo\":[{\"marker\":{\"colorbar\":{\"outlinewidth\":0,\"ticks\":\"\"}},\"type\":\"scattergeo\"}],\"scattergl\":[{\"marker\":{\"colorbar\":{\"outlinewidth\":0,\"ticks\":\"\"}},\"type\":\"scattergl\"}],\"scattermapbox\":[{\"marker\":{\"colorbar\":{\"outlinewidth\":0,\"ticks\":\"\"}},\"type\":\"scattermapbox\"}],\"scatterpolar\":[{\"marker\":{\"colorbar\":{\"outlinewidth\":0,\"ticks\":\"\"}},\"type\":\"scatterpolar\"}],\"scatterpolargl\":[{\"marker\":{\"colorbar\":{\"outlinewidth\":0,\"ticks\":\"\"}},\"type\":\"scatterpolargl\"}],\"scatterternary\":[{\"marker\":{\"colorbar\":{\"outlinewidth\":0,\"ticks\":\"\"}},\"type\":\"scatterternary\"}],\"surface\":[{\"colorbar\":{\"outlinewidth\":0,\"ticks\":\"\"},\"colorscale\":[[0.0,\"#0d0887\"],[0.1111111111111111,\"#46039f\"],[0.2222222222222222,\"#7201a8\"],[0.3333333333333333,\"#9c179e\"],[0.4444444444444444,\"#bd3786\"],[0.5555555555555556,\"#d8576b\"],[0.6666666666666666,\"#ed7953\"],[0.7777777777777778,\"#fb9f3a\"],[0.8888888888888888,\"#fdca26\"],[1.0,\"#f0f921\"]],\"type\":\"surface\"}],\"table\":[{\"cells\":{\"fill\":{\"color\":\"#EBF0F8\"},\"line\":{\"color\":\"white\"}},\"header\":{\"fill\":{\"color\":\"#C8D4E3\"},\"line\":{\"color\":\"white\"}},\"type\":\"table\"}]},\"layout\":{\"annotationdefaults\":{\"arrowcolor\":\"#2a3f5f\",\"arrowhead\":0,\"arrowwidth\":1},\"autotypenumbers\":\"strict\",\"coloraxis\":{\"colorbar\":{\"outlinewidth\":0,\"ticks\":\"\"}},\"colorscale\":{\"diverging\":[[0,\"#8e0152\"],[0.1,\"#c51b7d\"],[0.2,\"#de77ae\"],[0.3,\"#f1b6da\"],[0.4,\"#fde0ef\"],[0.5,\"#f7f7f7\"],[0.6,\"#e6f5d0\"],[0.7,\"#b8e186\"],[0.8,\"#7fbc41\"],[0.9,\"#4d9221\"],[1,\"#276419\"]],\"sequential\":[[0.0,\"#0d0887\"],[0.1111111111111111,\"#46039f\"],[0.2222222222222222,\"#7201a8\"],[0.3333333333333333,\"#9c179e\"],[0.4444444444444444,\"#bd3786\"],[0.5555555555555556,\"#d8576b\"],[0.6666666666666666,\"#ed7953\"],[0.7777777777777778,\"#fb9f3a\"],[0.8888888888888888,\"#fdca26\"],[1.0,\"#f0f921\"]],\"sequentialminus\":[[0.0,\"#0d0887\"],[0.1111111111111111,\"#46039f\"],[0.2222222222222222,\"#7201a8\"],[0.3333333333333333,\"#9c179e\"],[0.4444444444444444,\"#bd3786\"],[0.5555555555555556,\"#d8576b\"],[0.6666666666666666,\"#ed7953\"],[0.7777777777777778,\"#fb9f3a\"],[0.8888888888888888,\"#fdca26\"],[1.0,\"#f0f921\"]]},\"colorway\":[\"#636efa\",\"#EF553B\",\"#00cc96\",\"#ab63fa\",\"#FFA15A\",\"#19d3f3\",\"#FF6692\",\"#B6E880\",\"#FF97FF\",\"#FECB52\"],\"font\":{\"color\":\"#2a3f5f\"},\"geo\":{\"bgcolor\":\"white\",\"lakecolor\":\"white\",\"landcolor\":\"#E5ECF6\",\"showlakes\":true,\"showland\":true,\"subunitcolor\":\"white\"},\"hoverlabel\":{\"align\":\"left\"},\"hovermode\":\"closest\",\"mapbox\":{\"style\":\"light\"},\"paper_bgcolor\":\"white\",\"plot_bgcolor\":\"#E5ECF6\",\"polar\":{\"angularaxis\":{\"gridcolor\":\"white\",\"linecolor\":\"white\",\"ticks\":\"\"},\"bgcolor\":\"#E5ECF6\",\"radialaxis\":{\"gridcolor\":\"white\",\"linecolor\":\"white\",\"ticks\":\"\"}},\"scene\":{\"xaxis\":{\"backgroundcolor\":\"#E5ECF6\",\"gridcolor\":\"white\",\"gridwidth\":2,\"linecolor\":\"white\",\"showbackground\":true,\"ticks\":\"\",\"zerolinecolor\":\"white\"},\"yaxis\":{\"backgroundcolor\":\"#E5ECF6\",\"gridcolor\":\"white\",\"gridwidth\":2,\"linecolor\":\"white\",\"showbackground\":true,\"ticks\":\"\",\"zerolinecolor\":\"white\"},\"zaxis\":{\"backgroundcolor\":\"#E5ECF6\",\"gridcolor\":\"white\",\"gridwidth\":2,\"linecolor\":\"white\",\"showbackground\":true,\"ticks\":\"\",\"zerolinecolor\":\"white\"}},\"shapedefaults\":{\"line\":{\"color\":\"#2a3f5f\"}},\"ternary\":{\"aaxis\":{\"gridcolor\":\"white\",\"linecolor\":\"white\",\"ticks\":\"\"},\"baxis\":{\"gridcolor\":\"white\",\"linecolor\":\"white\",\"ticks\":\"\"},\"bgcolor\":\"#E5ECF6\",\"caxis\":{\"gridcolor\":\"white\",\"linecolor\":\"white\",\"ticks\":\"\"}},\"title\":{\"x\":0.05},\"xaxis\":{\"automargin\":true,\"gridcolor\":\"white\",\"linecolor\":\"white\",\"ticks\":\"\",\"title\":{\"standoff\":15},\"zerolinecolor\":\"white\",\"zerolinewidth\":2},\"yaxis\":{\"automargin\":true,\"gridcolor\":\"white\",\"linecolor\":\"white\",\"ticks\":\"\",\"title\":{\"standoff\":15},\"zerolinecolor\":\"white\",\"zerolinewidth\":2}}},\"xaxis\":{\"anchor\":\"y\",\"domain\":[0.0,1.0],\"title\":{\"text\":\"fold_id\"}},\"yaxis\":{\"anchor\":\"x\",\"domain\":[0.0,1.0],\"title\":{\"text\":\"score\"}},\"legend\":{\"title\":{\"text\":\"split\"},\"tracegroupgap\":0},\"title\":{\"text\":\"Mean Val Score: -0.69, Mean Train Score: 0.74\"}},                        {\"responsive\": true}                    ).then(function(){\n",
              "                            \n",
              "var gd = document.getElementById('81d3a014-9cf8-4842-b534-f041a0494f36');\n",
              "var x = new MutationObserver(function (mutations, observer) {{\n",
              "        var display = window.getComputedStyle(gd).display;\n",
              "        if (!display || display === 'none') {{\n",
              "            console.log([gd, 'removed!']);\n",
              "            Plotly.purge(gd);\n",
              "            observer.disconnect();\n",
              "        }}\n",
              "}});\n",
              "\n",
              "// Listen for the removal of the full notebook cells\n",
              "var notebookContainer = gd.closest('#notebook-container');\n",
              "if (notebookContainer) {{\n",
              "    x.observe(notebookContainer, {childList: true});\n",
              "}}\n",
              "\n",
              "// Listen for the clearing of the current output cell\n",
              "var outputEl = gd.closest('.output');\n",
              "if (outputEl) {{\n",
              "    x.observe(outputEl, {childList: true});\n",
              "}}\n",
              "\n",
              "                        })                };                            </script>        </div>\n",
              "</body>\n",
              "</html>"
            ]
          },
          "metadata": {},
          "output_type": "display_data"
        },
        {
          "data": {
            "text/html": [
              "<html>\n",
              "<head><meta charset=\"utf-8\" /></head>\n",
              "<body>\n",
              "    <div>            <script src=\"https://cdnjs.cloudflare.com/ajax/libs/mathjax/2.7.5/MathJax.js?config=TeX-AMS-MML_SVG\"></script><script type=\"text/javascript\">if (window.MathJax) {MathJax.Hub.Config({SVG: {font: \"STIX-Web\"}});}</script>                <script type=\"text/javascript\">window.PlotlyConfig = {MathJaxConfig: 'local'};</script>\n",
              "        <script src=\"https://cdn.plot.ly/plotly-2.8.3.min.js\"></script>                <div id=\"0c46e493-c66c-4d02-8279-dc75ee7e7834\" class=\"plotly-graph-div\" style=\"height:525px; width:100%;\"></div>            <script type=\"text/javascript\">                                    window.PLOTLYENV=window.PLOTLYENV || {};                                    if (document.getElementById(\"0c46e493-c66c-4d02-8279-dc75ee7e7834\")) {                    Plotly.newPlot(                        \"0c46e493-c66c-4d02-8279-dc75ee7e7834\",                        [{\"hovertemplate\":\"split=train<br>fold_id=%{x}<br>loss=%{y}<extra></extra>\",\"legendgroup\":\"train\",\"line\":{\"color\":\"#636efa\",\"dash\":\"solid\"},\"marker\":{\"symbol\":\"circle\"},\"mode\":\"lines\",\"name\":\"train\",\"orientation\":\"v\",\"showlegend\":true,\"x\":[0,1,2,3,4,5,6,7,8,9],\"xaxis\":\"x\",\"y\":[1311754.8078893472,1141760.8973727566,1414008.9117745762,1321265.0352623907,1319633.462615471,1222857.2399614684,1189065.4339292187,1333216.161020024,1302087.9879934506,1357981.3069310714],\"yaxis\":\"y\",\"type\":\"scatter\"},{\"hovertemplate\":\"split=val<br>fold_id=%{x}<br>loss=%{y}<extra></extra>\",\"legendgroup\":\"val\",\"line\":{\"color\":\"#EF553B\",\"dash\":\"solid\"},\"marker\":{\"symbol\":\"circle\"},\"mode\":\"lines\",\"name\":\"val\",\"orientation\":\"v\",\"showlegend\":true,\"x\":[0,1,2,3,4,5,6,7,8,9],\"xaxis\":\"x\",\"y\":[1580140.7524955538,4331586.586563363,1564814.7285800558,2635856.447351388,1847771.846468422,4952239.204750032,4137234.3315273016,1343244.8687087216,2998400.141096706,1649067.4749767655],\"yaxis\":\"y\",\"type\":\"scatter\"}],                        {\"template\":{\"data\":{\"bar\":[{\"error_x\":{\"color\":\"#2a3f5f\"},\"error_y\":{\"color\":\"#2a3f5f\"},\"marker\":{\"line\":{\"color\":\"#E5ECF6\",\"width\":0.5},\"pattern\":{\"fillmode\":\"overlay\",\"size\":10,\"solidity\":0.2}},\"type\":\"bar\"}],\"barpolar\":[{\"marker\":{\"line\":{\"color\":\"#E5ECF6\",\"width\":0.5},\"pattern\":{\"fillmode\":\"overlay\",\"size\":10,\"solidity\":0.2}},\"type\":\"barpolar\"}],\"carpet\":[{\"aaxis\":{\"endlinecolor\":\"#2a3f5f\",\"gridcolor\":\"white\",\"linecolor\":\"white\",\"minorgridcolor\":\"white\",\"startlinecolor\":\"#2a3f5f\"},\"baxis\":{\"endlinecolor\":\"#2a3f5f\",\"gridcolor\":\"white\",\"linecolor\":\"white\",\"minorgridcolor\":\"white\",\"startlinecolor\":\"#2a3f5f\"},\"type\":\"carpet\"}],\"choropleth\":[{\"colorbar\":{\"outlinewidth\":0,\"ticks\":\"\"},\"type\":\"choropleth\"}],\"contour\":[{\"colorbar\":{\"outlinewidth\":0,\"ticks\":\"\"},\"colorscale\":[[0.0,\"#0d0887\"],[0.1111111111111111,\"#46039f\"],[0.2222222222222222,\"#7201a8\"],[0.3333333333333333,\"#9c179e\"],[0.4444444444444444,\"#bd3786\"],[0.5555555555555556,\"#d8576b\"],[0.6666666666666666,\"#ed7953\"],[0.7777777777777778,\"#fb9f3a\"],[0.8888888888888888,\"#fdca26\"],[1.0,\"#f0f921\"]],\"type\":\"contour\"}],\"contourcarpet\":[{\"colorbar\":{\"outlinewidth\":0,\"ticks\":\"\"},\"type\":\"contourcarpet\"}],\"heatmap\":[{\"colorbar\":{\"outlinewidth\":0,\"ticks\":\"\"},\"colorscale\":[[0.0,\"#0d0887\"],[0.1111111111111111,\"#46039f\"],[0.2222222222222222,\"#7201a8\"],[0.3333333333333333,\"#9c179e\"],[0.4444444444444444,\"#bd3786\"],[0.5555555555555556,\"#d8576b\"],[0.6666666666666666,\"#ed7953\"],[0.7777777777777778,\"#fb9f3a\"],[0.8888888888888888,\"#fdca26\"],[1.0,\"#f0f921\"]],\"type\":\"heatmap\"}],\"heatmapgl\":[{\"colorbar\":{\"outlinewidth\":0,\"ticks\":\"\"},\"colorscale\":[[0.0,\"#0d0887\"],[0.1111111111111111,\"#46039f\"],[0.2222222222222222,\"#7201a8\"],[0.3333333333333333,\"#9c179e\"],[0.4444444444444444,\"#bd3786\"],[0.5555555555555556,\"#d8576b\"],[0.6666666666666666,\"#ed7953\"],[0.7777777777777778,\"#fb9f3a\"],[0.8888888888888888,\"#fdca26\"],[1.0,\"#f0f921\"]],\"type\":\"heatmapgl\"}],\"histogram\":[{\"marker\":{\"pattern\":{\"fillmode\":\"overlay\",\"size\":10,\"solidity\":0.2}},\"type\":\"histogram\"}],\"histogram2d\":[{\"colorbar\":{\"outlinewidth\":0,\"ticks\":\"\"},\"colorscale\":[[0.0,\"#0d0887\"],[0.1111111111111111,\"#46039f\"],[0.2222222222222222,\"#7201a8\"],[0.3333333333333333,\"#9c179e\"],[0.4444444444444444,\"#bd3786\"],[0.5555555555555556,\"#d8576b\"],[0.6666666666666666,\"#ed7953\"],[0.7777777777777778,\"#fb9f3a\"],[0.8888888888888888,\"#fdca26\"],[1.0,\"#f0f921\"]],\"type\":\"histogram2d\"}],\"histogram2dcontour\":[{\"colorbar\":{\"outlinewidth\":0,\"ticks\":\"\"},\"colorscale\":[[0.0,\"#0d0887\"],[0.1111111111111111,\"#46039f\"],[0.2222222222222222,\"#7201a8\"],[0.3333333333333333,\"#9c179e\"],[0.4444444444444444,\"#bd3786\"],[0.5555555555555556,\"#d8576b\"],[0.6666666666666666,\"#ed7953\"],[0.7777777777777778,\"#fb9f3a\"],[0.8888888888888888,\"#fdca26\"],[1.0,\"#f0f921\"]],\"type\":\"histogram2dcontour\"}],\"mesh3d\":[{\"colorbar\":{\"outlinewidth\":0,\"ticks\":\"\"},\"type\":\"mesh3d\"}],\"parcoords\":[{\"line\":{\"colorbar\":{\"outlinewidth\":0,\"ticks\":\"\"}},\"type\":\"parcoords\"}],\"pie\":[{\"automargin\":true,\"type\":\"pie\"}],\"scatter\":[{\"marker\":{\"colorbar\":{\"outlinewidth\":0,\"ticks\":\"\"}},\"type\":\"scatter\"}],\"scatter3d\":[{\"line\":{\"colorbar\":{\"outlinewidth\":0,\"ticks\":\"\"}},\"marker\":{\"colorbar\":{\"outlinewidth\":0,\"ticks\":\"\"}},\"type\":\"scatter3d\"}],\"scattercarpet\":[{\"marker\":{\"colorbar\":{\"outlinewidth\":0,\"ticks\":\"\"}},\"type\":\"scattercarpet\"}],\"scattergeo\":[{\"marker\":{\"colorbar\":{\"outlinewidth\":0,\"ticks\":\"\"}},\"type\":\"scattergeo\"}],\"scattergl\":[{\"marker\":{\"colorbar\":{\"outlinewidth\":0,\"ticks\":\"\"}},\"type\":\"scattergl\"}],\"scattermapbox\":[{\"marker\":{\"colorbar\":{\"outlinewidth\":0,\"ticks\":\"\"}},\"type\":\"scattermapbox\"}],\"scatterpolar\":[{\"marker\":{\"colorbar\":{\"outlinewidth\":0,\"ticks\":\"\"}},\"type\":\"scatterpolar\"}],\"scatterpolargl\":[{\"marker\":{\"colorbar\":{\"outlinewidth\":0,\"ticks\":\"\"}},\"type\":\"scatterpolargl\"}],\"scatterternary\":[{\"marker\":{\"colorbar\":{\"outlinewidth\":0,\"ticks\":\"\"}},\"type\":\"scatterternary\"}],\"surface\":[{\"colorbar\":{\"outlinewidth\":0,\"ticks\":\"\"},\"colorscale\":[[0.0,\"#0d0887\"],[0.1111111111111111,\"#46039f\"],[0.2222222222222222,\"#7201a8\"],[0.3333333333333333,\"#9c179e\"],[0.4444444444444444,\"#bd3786\"],[0.5555555555555556,\"#d8576b\"],[0.6666666666666666,\"#ed7953\"],[0.7777777777777778,\"#fb9f3a\"],[0.8888888888888888,\"#fdca26\"],[1.0,\"#f0f921\"]],\"type\":\"surface\"}],\"table\":[{\"cells\":{\"fill\":{\"color\":\"#EBF0F8\"},\"line\":{\"color\":\"white\"}},\"header\":{\"fill\":{\"color\":\"#C8D4E3\"},\"line\":{\"color\":\"white\"}},\"type\":\"table\"}]},\"layout\":{\"annotationdefaults\":{\"arrowcolor\":\"#2a3f5f\",\"arrowhead\":0,\"arrowwidth\":1},\"autotypenumbers\":\"strict\",\"coloraxis\":{\"colorbar\":{\"outlinewidth\":0,\"ticks\":\"\"}},\"colorscale\":{\"diverging\":[[0,\"#8e0152\"],[0.1,\"#c51b7d\"],[0.2,\"#de77ae\"],[0.3,\"#f1b6da\"],[0.4,\"#fde0ef\"],[0.5,\"#f7f7f7\"],[0.6,\"#e6f5d0\"],[0.7,\"#b8e186\"],[0.8,\"#7fbc41\"],[0.9,\"#4d9221\"],[1,\"#276419\"]],\"sequential\":[[0.0,\"#0d0887\"],[0.1111111111111111,\"#46039f\"],[0.2222222222222222,\"#7201a8\"],[0.3333333333333333,\"#9c179e\"],[0.4444444444444444,\"#bd3786\"],[0.5555555555555556,\"#d8576b\"],[0.6666666666666666,\"#ed7953\"],[0.7777777777777778,\"#fb9f3a\"],[0.8888888888888888,\"#fdca26\"],[1.0,\"#f0f921\"]],\"sequentialminus\":[[0.0,\"#0d0887\"],[0.1111111111111111,\"#46039f\"],[0.2222222222222222,\"#7201a8\"],[0.3333333333333333,\"#9c179e\"],[0.4444444444444444,\"#bd3786\"],[0.5555555555555556,\"#d8576b\"],[0.6666666666666666,\"#ed7953\"],[0.7777777777777778,\"#fb9f3a\"],[0.8888888888888888,\"#fdca26\"],[1.0,\"#f0f921\"]]},\"colorway\":[\"#636efa\",\"#EF553B\",\"#00cc96\",\"#ab63fa\",\"#FFA15A\",\"#19d3f3\",\"#FF6692\",\"#B6E880\",\"#FF97FF\",\"#FECB52\"],\"font\":{\"color\":\"#2a3f5f\"},\"geo\":{\"bgcolor\":\"white\",\"lakecolor\":\"white\",\"landcolor\":\"#E5ECF6\",\"showlakes\":true,\"showland\":true,\"subunitcolor\":\"white\"},\"hoverlabel\":{\"align\":\"left\"},\"hovermode\":\"closest\",\"mapbox\":{\"style\":\"light\"},\"paper_bgcolor\":\"white\",\"plot_bgcolor\":\"#E5ECF6\",\"polar\":{\"angularaxis\":{\"gridcolor\":\"white\",\"linecolor\":\"white\",\"ticks\":\"\"},\"bgcolor\":\"#E5ECF6\",\"radialaxis\":{\"gridcolor\":\"white\",\"linecolor\":\"white\",\"ticks\":\"\"}},\"scene\":{\"xaxis\":{\"backgroundcolor\":\"#E5ECF6\",\"gridcolor\":\"white\",\"gridwidth\":2,\"linecolor\":\"white\",\"showbackground\":true,\"ticks\":\"\",\"zerolinecolor\":\"white\"},\"yaxis\":{\"backgroundcolor\":\"#E5ECF6\",\"gridcolor\":\"white\",\"gridwidth\":2,\"linecolor\":\"white\",\"showbackground\":true,\"ticks\":\"\",\"zerolinecolor\":\"white\"},\"zaxis\":{\"backgroundcolor\":\"#E5ECF6\",\"gridcolor\":\"white\",\"gridwidth\":2,\"linecolor\":\"white\",\"showbackground\":true,\"ticks\":\"\",\"zerolinecolor\":\"white\"}},\"shapedefaults\":{\"line\":{\"color\":\"#2a3f5f\"}},\"ternary\":{\"aaxis\":{\"gridcolor\":\"white\",\"linecolor\":\"white\",\"ticks\":\"\"},\"baxis\":{\"gridcolor\":\"white\",\"linecolor\":\"white\",\"ticks\":\"\"},\"bgcolor\":\"#E5ECF6\",\"caxis\":{\"gridcolor\":\"white\",\"linecolor\":\"white\",\"ticks\":\"\"}},\"title\":{\"x\":0.05},\"xaxis\":{\"automargin\":true,\"gridcolor\":\"white\",\"linecolor\":\"white\",\"ticks\":\"\",\"title\":{\"standoff\":15},\"zerolinecolor\":\"white\",\"zerolinewidth\":2},\"yaxis\":{\"automargin\":true,\"gridcolor\":\"white\",\"linecolor\":\"white\",\"ticks\":\"\",\"title\":{\"standoff\":15},\"zerolinecolor\":\"white\",\"zerolinewidth\":2}}},\"xaxis\":{\"anchor\":\"y\",\"domain\":[0.0,1.0],\"title\":{\"text\":\"fold_id\"}},\"yaxis\":{\"anchor\":\"x\",\"domain\":[0.0,1.0],\"title\":{\"text\":\"loss\"}},\"legend\":{\"title\":{\"text\":\"split\"},\"tracegroupgap\":0},\"title\":{\"text\":\"Mean Val Loss: 2704035.64, Mean Train Loss: 1291363.12\"}},                        {\"responsive\": true}                    ).then(function(){\n",
              "                            \n",
              "var gd = document.getElementById('0c46e493-c66c-4d02-8279-dc75ee7e7834');\n",
              "var x = new MutationObserver(function (mutations, observer) {{\n",
              "        var display = window.getComputedStyle(gd).display;\n",
              "        if (!display || display === 'none') {{\n",
              "            console.log([gd, 'removed!']);\n",
              "            Plotly.purge(gd);\n",
              "            observer.disconnect();\n",
              "        }}\n",
              "}});\n",
              "\n",
              "// Listen for the removal of the full notebook cells\n",
              "var notebookContainer = gd.closest('#notebook-container');\n",
              "if (notebookContainer) {{\n",
              "    x.observe(notebookContainer, {childList: true});\n",
              "}}\n",
              "\n",
              "// Listen for the clearing of the current output cell\n",
              "var outputEl = gd.closest('.output');\n",
              "if (outputEl) {{\n",
              "    x.observe(outputEl, {childList: true});\n",
              "}}\n",
              "\n",
              "                        })                };                            </script>        </div>\n",
              "</body>\n",
              "</html>"
            ]
          },
          "metadata": {},
          "output_type": "display_data"
        },
        {
          "name": "stdout",
          "output_type": "stream",
          "text": [
            "mean cv val score: -0.69\n",
            "mean cv val loss 2704035.64\n",
            "mean cv val score: 0.74\n",
            "mean cv val loss 1291363.12\n"
          ]
        }
      ],
      "source": [
        "rs_model_pipe_Ada  = pipeline.make_pipeline(ct, AdaBoostRegressor()).fit(X, t)\n",
        "\n",
        "val_score, val_loss, train_score, train_loss = get_cv_score_and_loss(X, t, rs_model_pipe_Ada, k=10, show_score_loss_graphs=True)\n",
        "print(f'mean cv val score: {val_score:.2f}\\nmean cv val loss {val_loss:.2f}')\n",
        "print(f'mean cv val score: {train_score:.2f}\\nmean cv val loss {train_loss:.2f}')"
      ]
    },
    {
      "cell_type": "code",
      "execution_count": null,
      "metadata": {
        "colab": {
          "base_uri": "https://localhost:8080/"
        },
        "id": "ZUQSzRDibhLa",
        "outputId": "275578bc-7d8d-4b1d-b21a-dd320699e43f"
      },
      "outputs": [
        {
          "name": "stdout",
          "output_type": "stream",
          "text": [
            "Accuracy score for regression:\n",
            "ab_model -0.05400895673661517\n",
            "best params {'learning_rate': 1e-05, 'n_estimators': 600}\n"
          ]
        }
      ],
      "source": [
        "param_dist = {'n_estimators': [300,350,400,450,500,550,600, 650, 700],\n",
        "              'learning_rate': [0.00001, 0.0001, 0.001 ,0.01,0.1, 1]\n",
        "             }\n",
        "ab_model = GridSearchCV(AdaBoostRegressor(DecisionTreeRegressor(max_depth=4), random_state=1, loss='square'), param_dist, cv=10).fit(X_encoded, t)\n",
        "print('Accuracy score for regression:')\n",
        "print('ab_model', ab_model.best_score_)\n",
        "print('best params', ab_model.best_params_)"
      ]
    },
    {
      "cell_type": "code",
      "execution_count": null,
      "metadata": {
        "colab": {
          "base_uri": "https://localhost:8080/",
          "height": 236
        },
        "id": "yXUqeukCfWZY",
        "outputId": "39855c74-b417-465b-bdd3-04765e0d0c1d"
      },
      "outputs": [
        {
          "output_type": "error",
          "ename": "NameError",
          "evalue": "ignored",
          "traceback": [
            "\u001b[0;31m---------------------------------------------------------------------------\u001b[0m",
            "\u001b[0;31mNameError\u001b[0m                                 Traceback (most recent call last)",
            "\u001b[0;32m<ipython-input-54-5fa20ab83190>\u001b[0m in \u001b[0;36m<module>\u001b[0;34m()\u001b[0m\n\u001b[0;32m----> 1\u001b[0;31m \u001b[0mmeans\u001b[0m \u001b[0;34m=\u001b[0m \u001b[0mab_model\u001b[0m\u001b[0;34m.\u001b[0m\u001b[0mcv_results_\u001b[0m\u001b[0;34m[\u001b[0m\u001b[0;34m'mean_test_score'\u001b[0m\u001b[0;34m]\u001b[0m\u001b[0;34m\u001b[0m\u001b[0;34m\u001b[0m\u001b[0m\n\u001b[0m\u001b[1;32m      2\u001b[0m \u001b[0mstds\u001b[0m \u001b[0;34m=\u001b[0m \u001b[0mab_model\u001b[0m\u001b[0;34m.\u001b[0m\u001b[0mcv_results_\u001b[0m\u001b[0;34m[\u001b[0m\u001b[0;34m'std_test_score'\u001b[0m\u001b[0;34m]\u001b[0m\u001b[0;34m\u001b[0m\u001b[0;34m\u001b[0m\u001b[0m\n\u001b[1;32m      3\u001b[0m \u001b[0mparams\u001b[0m \u001b[0;34m=\u001b[0m \u001b[0mab_model\u001b[0m\u001b[0;34m.\u001b[0m\u001b[0mcv_results_\u001b[0m\u001b[0;34m[\u001b[0m\u001b[0;34m'params'\u001b[0m\u001b[0;34m]\u001b[0m\u001b[0;34m\u001b[0m\u001b[0;34m\u001b[0m\u001b[0m\n\u001b[1;32m      4\u001b[0m \u001b[0;34m\u001b[0m\u001b[0m\n\u001b[1;32m      5\u001b[0m \u001b[0mn_estimators\u001b[0m \u001b[0;34m=\u001b[0m \u001b[0;34m[\u001b[0m\u001b[0;36m300\u001b[0m\u001b[0;34m,\u001b[0m\u001b[0;36m350\u001b[0m\u001b[0;34m,\u001b[0m\u001b[0;36m400\u001b[0m\u001b[0;34m,\u001b[0m\u001b[0;36m450\u001b[0m\u001b[0;34m,\u001b[0m\u001b[0;36m500\u001b[0m\u001b[0;34m,\u001b[0m\u001b[0;36m550\u001b[0m\u001b[0;34m,\u001b[0m\u001b[0;36m600\u001b[0m\u001b[0;34m,\u001b[0m \u001b[0;36m650\u001b[0m\u001b[0;34m,\u001b[0m \u001b[0;36m700\u001b[0m\u001b[0;34m]\u001b[0m\u001b[0;34m\u001b[0m\u001b[0;34m\u001b[0m\u001b[0m\n",
            "\u001b[0;31mNameError\u001b[0m: name 'ab_model' is not defined"
          ]
        }
      ],
      "source": [
        "means = ab_model.cv_results_['mean_test_score']\n",
        "stds = ab_model.cv_results_['std_test_score']\n",
        "params = ab_model.cv_results_['params']\n",
        "\n",
        "n_estimators = [300,350,400,450,500,550,600, 650, 700]\n",
        "learning_rate = [0.00001, 0.0001, 0.001 ,0.01,0.1, 1]\n",
        "\n",
        "scores = np.array(means).reshape(len(learning_rate), len(n_estimators))\n",
        "for i, value in enumerate(learning_rate):\n",
        "    plt.plot(n_estimators, scores[i], label='depth: ' + str(value))\n",
        "plt.legend()\n",
        "plt.xlabel('n_estimators')\n",
        "plt.ylabel('Square Loss')"
      ]
    },
    {
      "cell_type": "code",
      "execution_count": null,
      "metadata": {
        "colab": {
          "base_uri": "https://localhost:8080/"
        },
        "id": "0F9lcbZUlURf",
        "outputId": "dd820ea0-ee95-43bb-995c-a36aaa8ad1fd"
      },
      "outputs": [
        {
          "data": {
            "text/plain": [
              "(6, 9)"
            ]
          },
          "execution_count": 56,
          "metadata": {},
          "output_type": "execute_result"
        }
      ],
      "source": [
        "scores.shape"
      ]
    },
    {
      "cell_type": "code",
      "execution_count": null,
      "metadata": {
        "colab": {
          "base_uri": "https://localhost:8080/"
        },
        "id": "b_cjJSkBbpww",
        "outputId": "5b1113f9-e614-4aec-d86f-566ac448eb9e"
      },
      "outputs": [
        {
          "name": "stdout",
          "output_type": "stream",
          "text": [
            "Accuracy score for regression:\n",
            "Accuracy score on train 0.7074899962165696\n",
            "RMSE score on train 1388153.4006967554\n"
          ]
        }
      ],
      "source": [
        "rs_model_pipe_Ada  = pipeline.make_pipeline(ct, AdaBoostRegressor(DecisionTreeRegressor(max_depth=4), random_state=1, loss='square',learning_rate= 1e-05, n_estimators=600)).fit(X, t)\n",
        "print('Accuracy score for regression:')\n",
        "y_rs_pipe = rs_model_pipe_Ada.predict(X)\n",
        "print('Accuracy score on train', rs_model_pipe_Ada.score(X, t))\n",
        "print('RMSE score on train',(mean_squared_error(t, y_rs_pipe, squared=False)))"
      ]
    },
    {
      "cell_type": "markdown",
      "metadata": {
        "id": "nm3RLokoMHL6"
      },
      "source": [
        "### Random forest!"
      ]
    },
    {
      "cell_type": "markdown",
      "metadata": {
        "id": "MpgJW9QbOfwV"
      },
      "source": [
        "Random forest with default values"
      ]
    },
    {
      "cell_type": "code",
      "execution_count": null,
      "metadata": {
        "colab": {
          "base_uri": "https://localhost:8080/",
          "height": 1000
        },
        "id": "UCfMdjGTMF_R",
        "outputId": "ad4bf67f-6a93-4786-e80a-59ff93652a5d"
      },
      "outputs": [
        {
          "output_type": "display_data",
          "data": {
            "text/html": [
              "<html>\n",
              "<head><meta charset=\"utf-8\" /></head>\n",
              "<body>\n",
              "    <div>            <script src=\"https://cdnjs.cloudflare.com/ajax/libs/mathjax/2.7.5/MathJax.js?config=TeX-AMS-MML_SVG\"></script><script type=\"text/javascript\">if (window.MathJax) {MathJax.Hub.Config({SVG: {font: \"STIX-Web\"}});}</script>                <script type=\"text/javascript\">window.PlotlyConfig = {MathJaxConfig: 'local'};</script>\n",
              "        <script src=\"https://cdn.plot.ly/plotly-2.8.3.min.js\"></script>                <div id=\"cdc1b21b-897d-429b-ae36-ff7ed163d0ca\" class=\"plotly-graph-div\" style=\"height:525px; width:100%;\"></div>            <script type=\"text/javascript\">                                    window.PLOTLYENV=window.PLOTLYENV || {};                                    if (document.getElementById(\"cdc1b21b-897d-429b-ae36-ff7ed163d0ca\")) {                    Plotly.newPlot(                        \"cdc1b21b-897d-429b-ae36-ff7ed163d0ca\",                        [{\"hovertemplate\":\"split=train<br>fold_id=%{x}<br>score=%{y}<extra></extra>\",\"legendgroup\":\"train\",\"line\":{\"color\":\"#636efa\",\"dash\":\"solid\"},\"marker\":{\"symbol\":\"circle\"},\"mode\":\"lines\",\"name\":\"train\",\"orientation\":\"v\",\"showlegend\":true,\"x\":[0,1,2,3,4,5,6,7,8,9],\"xaxis\":\"x\",\"y\":[0.855713612804287,0.8734835320778015,0.8514403773022003,0.8539802208632117,0.8620033330132921,0.8616072035517724,0.8625816663051388,0.8686763449684801,0.8660772951669963,0.8646967041396321],\"yaxis\":\"y\",\"type\":\"scatter\"},{\"hovertemplate\":\"split=val<br>fold_id=%{x}<br>score=%{y}<extra></extra>\",\"legendgroup\":\"val\",\"line\":{\"color\":\"#EF553B\",\"dash\":\"solid\"},\"marker\":{\"symbol\":\"circle\"},\"mode\":\"lines\",\"name\":\"val\",\"orientation\":\"v\",\"showlegend\":true,\"x\":[0,1,2,3,4,5,6,7,8,9],\"xaxis\":\"x\",\"y\":[-0.08431882958214287,-0.13671196560345256,0.16659266174680265,-0.2049151163152254,0.11829335191188828,-0.0232992860248995,-0.09281874613801966,0.1640858886531431,-1.262567797030023,0.2047413536272129],\"yaxis\":\"y\",\"type\":\"scatter\"}],                        {\"template\":{\"data\":{\"bar\":[{\"error_x\":{\"color\":\"#2a3f5f\"},\"error_y\":{\"color\":\"#2a3f5f\"},\"marker\":{\"line\":{\"color\":\"#E5ECF6\",\"width\":0.5},\"pattern\":{\"fillmode\":\"overlay\",\"size\":10,\"solidity\":0.2}},\"type\":\"bar\"}],\"barpolar\":[{\"marker\":{\"line\":{\"color\":\"#E5ECF6\",\"width\":0.5},\"pattern\":{\"fillmode\":\"overlay\",\"size\":10,\"solidity\":0.2}},\"type\":\"barpolar\"}],\"carpet\":[{\"aaxis\":{\"endlinecolor\":\"#2a3f5f\",\"gridcolor\":\"white\",\"linecolor\":\"white\",\"minorgridcolor\":\"white\",\"startlinecolor\":\"#2a3f5f\"},\"baxis\":{\"endlinecolor\":\"#2a3f5f\",\"gridcolor\":\"white\",\"linecolor\":\"white\",\"minorgridcolor\":\"white\",\"startlinecolor\":\"#2a3f5f\"},\"type\":\"carpet\"}],\"choropleth\":[{\"colorbar\":{\"outlinewidth\":0,\"ticks\":\"\"},\"type\":\"choropleth\"}],\"contour\":[{\"colorbar\":{\"outlinewidth\":0,\"ticks\":\"\"},\"colorscale\":[[0.0,\"#0d0887\"],[0.1111111111111111,\"#46039f\"],[0.2222222222222222,\"#7201a8\"],[0.3333333333333333,\"#9c179e\"],[0.4444444444444444,\"#bd3786\"],[0.5555555555555556,\"#d8576b\"],[0.6666666666666666,\"#ed7953\"],[0.7777777777777778,\"#fb9f3a\"],[0.8888888888888888,\"#fdca26\"],[1.0,\"#f0f921\"]],\"type\":\"contour\"}],\"contourcarpet\":[{\"colorbar\":{\"outlinewidth\":0,\"ticks\":\"\"},\"type\":\"contourcarpet\"}],\"heatmap\":[{\"colorbar\":{\"outlinewidth\":0,\"ticks\":\"\"},\"colorscale\":[[0.0,\"#0d0887\"],[0.1111111111111111,\"#46039f\"],[0.2222222222222222,\"#7201a8\"],[0.3333333333333333,\"#9c179e\"],[0.4444444444444444,\"#bd3786\"],[0.5555555555555556,\"#d8576b\"],[0.6666666666666666,\"#ed7953\"],[0.7777777777777778,\"#fb9f3a\"],[0.8888888888888888,\"#fdca26\"],[1.0,\"#f0f921\"]],\"type\":\"heatmap\"}],\"heatmapgl\":[{\"colorbar\":{\"outlinewidth\":0,\"ticks\":\"\"},\"colorscale\":[[0.0,\"#0d0887\"],[0.1111111111111111,\"#46039f\"],[0.2222222222222222,\"#7201a8\"],[0.3333333333333333,\"#9c179e\"],[0.4444444444444444,\"#bd3786\"],[0.5555555555555556,\"#d8576b\"],[0.6666666666666666,\"#ed7953\"],[0.7777777777777778,\"#fb9f3a\"],[0.8888888888888888,\"#fdca26\"],[1.0,\"#f0f921\"]],\"type\":\"heatmapgl\"}],\"histogram\":[{\"marker\":{\"pattern\":{\"fillmode\":\"overlay\",\"size\":10,\"solidity\":0.2}},\"type\":\"histogram\"}],\"histogram2d\":[{\"colorbar\":{\"outlinewidth\":0,\"ticks\":\"\"},\"colorscale\":[[0.0,\"#0d0887\"],[0.1111111111111111,\"#46039f\"],[0.2222222222222222,\"#7201a8\"],[0.3333333333333333,\"#9c179e\"],[0.4444444444444444,\"#bd3786\"],[0.5555555555555556,\"#d8576b\"],[0.6666666666666666,\"#ed7953\"],[0.7777777777777778,\"#fb9f3a\"],[0.8888888888888888,\"#fdca26\"],[1.0,\"#f0f921\"]],\"type\":\"histogram2d\"}],\"histogram2dcontour\":[{\"colorbar\":{\"outlinewidth\":0,\"ticks\":\"\"},\"colorscale\":[[0.0,\"#0d0887\"],[0.1111111111111111,\"#46039f\"],[0.2222222222222222,\"#7201a8\"],[0.3333333333333333,\"#9c179e\"],[0.4444444444444444,\"#bd3786\"],[0.5555555555555556,\"#d8576b\"],[0.6666666666666666,\"#ed7953\"],[0.7777777777777778,\"#fb9f3a\"],[0.8888888888888888,\"#fdca26\"],[1.0,\"#f0f921\"]],\"type\":\"histogram2dcontour\"}],\"mesh3d\":[{\"colorbar\":{\"outlinewidth\":0,\"ticks\":\"\"},\"type\":\"mesh3d\"}],\"parcoords\":[{\"line\":{\"colorbar\":{\"outlinewidth\":0,\"ticks\":\"\"}},\"type\":\"parcoords\"}],\"pie\":[{\"automargin\":true,\"type\":\"pie\"}],\"scatter\":[{\"marker\":{\"colorbar\":{\"outlinewidth\":0,\"ticks\":\"\"}},\"type\":\"scatter\"}],\"scatter3d\":[{\"line\":{\"colorbar\":{\"outlinewidth\":0,\"ticks\":\"\"}},\"marker\":{\"colorbar\":{\"outlinewidth\":0,\"ticks\":\"\"}},\"type\":\"scatter3d\"}],\"scattercarpet\":[{\"marker\":{\"colorbar\":{\"outlinewidth\":0,\"ticks\":\"\"}},\"type\":\"scattercarpet\"}],\"scattergeo\":[{\"marker\":{\"colorbar\":{\"outlinewidth\":0,\"ticks\":\"\"}},\"type\":\"scattergeo\"}],\"scattergl\":[{\"marker\":{\"colorbar\":{\"outlinewidth\":0,\"ticks\":\"\"}},\"type\":\"scattergl\"}],\"scattermapbox\":[{\"marker\":{\"colorbar\":{\"outlinewidth\":0,\"ticks\":\"\"}},\"type\":\"scattermapbox\"}],\"scatterpolar\":[{\"marker\":{\"colorbar\":{\"outlinewidth\":0,\"ticks\":\"\"}},\"type\":\"scatterpolar\"}],\"scatterpolargl\":[{\"marker\":{\"colorbar\":{\"outlinewidth\":0,\"ticks\":\"\"}},\"type\":\"scatterpolargl\"}],\"scatterternary\":[{\"marker\":{\"colorbar\":{\"outlinewidth\":0,\"ticks\":\"\"}},\"type\":\"scatterternary\"}],\"surface\":[{\"colorbar\":{\"outlinewidth\":0,\"ticks\":\"\"},\"colorscale\":[[0.0,\"#0d0887\"],[0.1111111111111111,\"#46039f\"],[0.2222222222222222,\"#7201a8\"],[0.3333333333333333,\"#9c179e\"],[0.4444444444444444,\"#bd3786\"],[0.5555555555555556,\"#d8576b\"],[0.6666666666666666,\"#ed7953\"],[0.7777777777777778,\"#fb9f3a\"],[0.8888888888888888,\"#fdca26\"],[1.0,\"#f0f921\"]],\"type\":\"surface\"}],\"table\":[{\"cells\":{\"fill\":{\"color\":\"#EBF0F8\"},\"line\":{\"color\":\"white\"}},\"header\":{\"fill\":{\"color\":\"#C8D4E3\"},\"line\":{\"color\":\"white\"}},\"type\":\"table\"}]},\"layout\":{\"annotationdefaults\":{\"arrowcolor\":\"#2a3f5f\",\"arrowhead\":0,\"arrowwidth\":1},\"autotypenumbers\":\"strict\",\"coloraxis\":{\"colorbar\":{\"outlinewidth\":0,\"ticks\":\"\"}},\"colorscale\":{\"diverging\":[[0,\"#8e0152\"],[0.1,\"#c51b7d\"],[0.2,\"#de77ae\"],[0.3,\"#f1b6da\"],[0.4,\"#fde0ef\"],[0.5,\"#f7f7f7\"],[0.6,\"#e6f5d0\"],[0.7,\"#b8e186\"],[0.8,\"#7fbc41\"],[0.9,\"#4d9221\"],[1,\"#276419\"]],\"sequential\":[[0.0,\"#0d0887\"],[0.1111111111111111,\"#46039f\"],[0.2222222222222222,\"#7201a8\"],[0.3333333333333333,\"#9c179e\"],[0.4444444444444444,\"#bd3786\"],[0.5555555555555556,\"#d8576b\"],[0.6666666666666666,\"#ed7953\"],[0.7777777777777778,\"#fb9f3a\"],[0.8888888888888888,\"#fdca26\"],[1.0,\"#f0f921\"]],\"sequentialminus\":[[0.0,\"#0d0887\"],[0.1111111111111111,\"#46039f\"],[0.2222222222222222,\"#7201a8\"],[0.3333333333333333,\"#9c179e\"],[0.4444444444444444,\"#bd3786\"],[0.5555555555555556,\"#d8576b\"],[0.6666666666666666,\"#ed7953\"],[0.7777777777777778,\"#fb9f3a\"],[0.8888888888888888,\"#fdca26\"],[1.0,\"#f0f921\"]]},\"colorway\":[\"#636efa\",\"#EF553B\",\"#00cc96\",\"#ab63fa\",\"#FFA15A\",\"#19d3f3\",\"#FF6692\",\"#B6E880\",\"#FF97FF\",\"#FECB52\"],\"font\":{\"color\":\"#2a3f5f\"},\"geo\":{\"bgcolor\":\"white\",\"lakecolor\":\"white\",\"landcolor\":\"#E5ECF6\",\"showlakes\":true,\"showland\":true,\"subunitcolor\":\"white\"},\"hoverlabel\":{\"align\":\"left\"},\"hovermode\":\"closest\",\"mapbox\":{\"style\":\"light\"},\"paper_bgcolor\":\"white\",\"plot_bgcolor\":\"#E5ECF6\",\"polar\":{\"angularaxis\":{\"gridcolor\":\"white\",\"linecolor\":\"white\",\"ticks\":\"\"},\"bgcolor\":\"#E5ECF6\",\"radialaxis\":{\"gridcolor\":\"white\",\"linecolor\":\"white\",\"ticks\":\"\"}},\"scene\":{\"xaxis\":{\"backgroundcolor\":\"#E5ECF6\",\"gridcolor\":\"white\",\"gridwidth\":2,\"linecolor\":\"white\",\"showbackground\":true,\"ticks\":\"\",\"zerolinecolor\":\"white\"},\"yaxis\":{\"backgroundcolor\":\"#E5ECF6\",\"gridcolor\":\"white\",\"gridwidth\":2,\"linecolor\":\"white\",\"showbackground\":true,\"ticks\":\"\",\"zerolinecolor\":\"white\"},\"zaxis\":{\"backgroundcolor\":\"#E5ECF6\",\"gridcolor\":\"white\",\"gridwidth\":2,\"linecolor\":\"white\",\"showbackground\":true,\"ticks\":\"\",\"zerolinecolor\":\"white\"}},\"shapedefaults\":{\"line\":{\"color\":\"#2a3f5f\"}},\"ternary\":{\"aaxis\":{\"gridcolor\":\"white\",\"linecolor\":\"white\",\"ticks\":\"\"},\"baxis\":{\"gridcolor\":\"white\",\"linecolor\":\"white\",\"ticks\":\"\"},\"bgcolor\":\"#E5ECF6\",\"caxis\":{\"gridcolor\":\"white\",\"linecolor\":\"white\",\"ticks\":\"\"}},\"title\":{\"x\":0.05},\"xaxis\":{\"automargin\":true,\"gridcolor\":\"white\",\"linecolor\":\"white\",\"ticks\":\"\",\"title\":{\"standoff\":15},\"zerolinecolor\":\"white\",\"zerolinewidth\":2},\"yaxis\":{\"automargin\":true,\"gridcolor\":\"white\",\"linecolor\":\"white\",\"ticks\":\"\",\"title\":{\"standoff\":15},\"zerolinecolor\":\"white\",\"zerolinewidth\":2}}},\"xaxis\":{\"anchor\":\"y\",\"domain\":[0.0,1.0],\"title\":{\"text\":\"fold_id\"}},\"yaxis\":{\"anchor\":\"x\",\"domain\":[0.0,1.0],\"title\":{\"text\":\"score\"}},\"legend\":{\"title\":{\"text\":\"split\"},\"tracegroupgap\":0},\"title\":{\"text\":\"Mean Val Score: -0.12, Mean Train Score: 0.86\"}},                        {\"responsive\": true}                    ).then(function(){\n",
              "                            \n",
              "var gd = document.getElementById('cdc1b21b-897d-429b-ae36-ff7ed163d0ca');\n",
              "var x = new MutationObserver(function (mutations, observer) {{\n",
              "        var display = window.getComputedStyle(gd).display;\n",
              "        if (!display || display === 'none') {{\n",
              "            console.log([gd, 'removed!']);\n",
              "            Plotly.purge(gd);\n",
              "            observer.disconnect();\n",
              "        }}\n",
              "}});\n",
              "\n",
              "// Listen for the removal of the full notebook cells\n",
              "var notebookContainer = gd.closest('#notebook-container');\n",
              "if (notebookContainer) {{\n",
              "    x.observe(notebookContainer, {childList: true});\n",
              "}}\n",
              "\n",
              "// Listen for the clearing of the current output cell\n",
              "var outputEl = gd.closest('.output');\n",
              "if (outputEl) {{\n",
              "    x.observe(outputEl, {childList: true});\n",
              "}}\n",
              "\n",
              "                        })                };                            </script>        </div>\n",
              "</body>\n",
              "</html>"
            ]
          },
          "metadata": {}
        },
        {
          "output_type": "display_data",
          "data": {
            "text/html": [
              "<html>\n",
              "<head><meta charset=\"utf-8\" /></head>\n",
              "<body>\n",
              "    <div>            <script src=\"https://cdnjs.cloudflare.com/ajax/libs/mathjax/2.7.5/MathJax.js?config=TeX-AMS-MML_SVG\"></script><script type=\"text/javascript\">if (window.MathJax) {MathJax.Hub.Config({SVG: {font: \"STIX-Web\"}});}</script>                <script type=\"text/javascript\">window.PlotlyConfig = {MathJaxConfig: 'local'};</script>\n",
              "        <script src=\"https://cdn.plot.ly/plotly-2.8.3.min.js\"></script>                <div id=\"cf03e2d4-841f-47cf-8ed4-02e5298f321e\" class=\"plotly-graph-div\" style=\"height:525px; width:100%;\"></div>            <script type=\"text/javascript\">                                    window.PLOTLYENV=window.PLOTLYENV || {};                                    if (document.getElementById(\"cf03e2d4-841f-47cf-8ed4-02e5298f321e\")) {                    Plotly.newPlot(                        \"cf03e2d4-841f-47cf-8ed4-02e5298f321e\",                        [{\"hovertemplate\":\"split=train<br>fold_id=%{x}<br>loss=%{y}<extra></extra>\",\"legendgroup\":\"train\",\"line\":{\"color\":\"#636efa\",\"dash\":\"solid\"},\"marker\":{\"symbol\":\"circle\"},\"mode\":\"lines\",\"name\":\"train\",\"orientation\":\"v\",\"showlegend\":true,\"x\":[0,1,2,3,4,5,6,7,8,9],\"xaxis\":\"x\",\"y\":[1006141.0734675309,794145.1223027931,1022231.0021185785,1008820.8764674577,980383.8427483622,847998.2631232279,949773.4586472694,966433.891143513,967543.1881966046,971726.7049150948],\"yaxis\":\"y\",\"type\":\"scatter\"},{\"hovertemplate\":\"split=val<br>fold_id=%{x}<br>loss=%{y}<extra></extra>\",\"legendgroup\":\"val\",\"line\":{\"color\":\"#EF553B\",\"dash\":\"solid\"},\"marker\":{\"symbol\":\"circle\"},\"mode\":\"lines\",\"name\":\"val\",\"orientation\":\"v\",\"showlegend\":true,\"x\":[0,1,2,3,4,5,6,7,8,9],\"xaxis\":\"x\",\"y\":[1698487.601863308,4561427.61862722,1321442.9742539097,1946800.0039185295,1684045.749013216,4297493.745944166,2718057.8487571278,1150895.3498496201,2140081.484661182,1484355.7063434895],\"yaxis\":\"y\",\"type\":\"scatter\"}],                        {\"template\":{\"data\":{\"bar\":[{\"error_x\":{\"color\":\"#2a3f5f\"},\"error_y\":{\"color\":\"#2a3f5f\"},\"marker\":{\"line\":{\"color\":\"#E5ECF6\",\"width\":0.5},\"pattern\":{\"fillmode\":\"overlay\",\"size\":10,\"solidity\":0.2}},\"type\":\"bar\"}],\"barpolar\":[{\"marker\":{\"line\":{\"color\":\"#E5ECF6\",\"width\":0.5},\"pattern\":{\"fillmode\":\"overlay\",\"size\":10,\"solidity\":0.2}},\"type\":\"barpolar\"}],\"carpet\":[{\"aaxis\":{\"endlinecolor\":\"#2a3f5f\",\"gridcolor\":\"white\",\"linecolor\":\"white\",\"minorgridcolor\":\"white\",\"startlinecolor\":\"#2a3f5f\"},\"baxis\":{\"endlinecolor\":\"#2a3f5f\",\"gridcolor\":\"white\",\"linecolor\":\"white\",\"minorgridcolor\":\"white\",\"startlinecolor\":\"#2a3f5f\"},\"type\":\"carpet\"}],\"choropleth\":[{\"colorbar\":{\"outlinewidth\":0,\"ticks\":\"\"},\"type\":\"choropleth\"}],\"contour\":[{\"colorbar\":{\"outlinewidth\":0,\"ticks\":\"\"},\"colorscale\":[[0.0,\"#0d0887\"],[0.1111111111111111,\"#46039f\"],[0.2222222222222222,\"#7201a8\"],[0.3333333333333333,\"#9c179e\"],[0.4444444444444444,\"#bd3786\"],[0.5555555555555556,\"#d8576b\"],[0.6666666666666666,\"#ed7953\"],[0.7777777777777778,\"#fb9f3a\"],[0.8888888888888888,\"#fdca26\"],[1.0,\"#f0f921\"]],\"type\":\"contour\"}],\"contourcarpet\":[{\"colorbar\":{\"outlinewidth\":0,\"ticks\":\"\"},\"type\":\"contourcarpet\"}],\"heatmap\":[{\"colorbar\":{\"outlinewidth\":0,\"ticks\":\"\"},\"colorscale\":[[0.0,\"#0d0887\"],[0.1111111111111111,\"#46039f\"],[0.2222222222222222,\"#7201a8\"],[0.3333333333333333,\"#9c179e\"],[0.4444444444444444,\"#bd3786\"],[0.5555555555555556,\"#d8576b\"],[0.6666666666666666,\"#ed7953\"],[0.7777777777777778,\"#fb9f3a\"],[0.8888888888888888,\"#fdca26\"],[1.0,\"#f0f921\"]],\"type\":\"heatmap\"}],\"heatmapgl\":[{\"colorbar\":{\"outlinewidth\":0,\"ticks\":\"\"},\"colorscale\":[[0.0,\"#0d0887\"],[0.1111111111111111,\"#46039f\"],[0.2222222222222222,\"#7201a8\"],[0.3333333333333333,\"#9c179e\"],[0.4444444444444444,\"#bd3786\"],[0.5555555555555556,\"#d8576b\"],[0.6666666666666666,\"#ed7953\"],[0.7777777777777778,\"#fb9f3a\"],[0.8888888888888888,\"#fdca26\"],[1.0,\"#f0f921\"]],\"type\":\"heatmapgl\"}],\"histogram\":[{\"marker\":{\"pattern\":{\"fillmode\":\"overlay\",\"size\":10,\"solidity\":0.2}},\"type\":\"histogram\"}],\"histogram2d\":[{\"colorbar\":{\"outlinewidth\":0,\"ticks\":\"\"},\"colorscale\":[[0.0,\"#0d0887\"],[0.1111111111111111,\"#46039f\"],[0.2222222222222222,\"#7201a8\"],[0.3333333333333333,\"#9c179e\"],[0.4444444444444444,\"#bd3786\"],[0.5555555555555556,\"#d8576b\"],[0.6666666666666666,\"#ed7953\"],[0.7777777777777778,\"#fb9f3a\"],[0.8888888888888888,\"#fdca26\"],[1.0,\"#f0f921\"]],\"type\":\"histogram2d\"}],\"histogram2dcontour\":[{\"colorbar\":{\"outlinewidth\":0,\"ticks\":\"\"},\"colorscale\":[[0.0,\"#0d0887\"],[0.1111111111111111,\"#46039f\"],[0.2222222222222222,\"#7201a8\"],[0.3333333333333333,\"#9c179e\"],[0.4444444444444444,\"#bd3786\"],[0.5555555555555556,\"#d8576b\"],[0.6666666666666666,\"#ed7953\"],[0.7777777777777778,\"#fb9f3a\"],[0.8888888888888888,\"#fdca26\"],[1.0,\"#f0f921\"]],\"type\":\"histogram2dcontour\"}],\"mesh3d\":[{\"colorbar\":{\"outlinewidth\":0,\"ticks\":\"\"},\"type\":\"mesh3d\"}],\"parcoords\":[{\"line\":{\"colorbar\":{\"outlinewidth\":0,\"ticks\":\"\"}},\"type\":\"parcoords\"}],\"pie\":[{\"automargin\":true,\"type\":\"pie\"}],\"scatter\":[{\"marker\":{\"colorbar\":{\"outlinewidth\":0,\"ticks\":\"\"}},\"type\":\"scatter\"}],\"scatter3d\":[{\"line\":{\"colorbar\":{\"outlinewidth\":0,\"ticks\":\"\"}},\"marker\":{\"colorbar\":{\"outlinewidth\":0,\"ticks\":\"\"}},\"type\":\"scatter3d\"}],\"scattercarpet\":[{\"marker\":{\"colorbar\":{\"outlinewidth\":0,\"ticks\":\"\"}},\"type\":\"scattercarpet\"}],\"scattergeo\":[{\"marker\":{\"colorbar\":{\"outlinewidth\":0,\"ticks\":\"\"}},\"type\":\"scattergeo\"}],\"scattergl\":[{\"marker\":{\"colorbar\":{\"outlinewidth\":0,\"ticks\":\"\"}},\"type\":\"scattergl\"}],\"scattermapbox\":[{\"marker\":{\"colorbar\":{\"outlinewidth\":0,\"ticks\":\"\"}},\"type\":\"scattermapbox\"}],\"scatterpolar\":[{\"marker\":{\"colorbar\":{\"outlinewidth\":0,\"ticks\":\"\"}},\"type\":\"scatterpolar\"}],\"scatterpolargl\":[{\"marker\":{\"colorbar\":{\"outlinewidth\":0,\"ticks\":\"\"}},\"type\":\"scatterpolargl\"}],\"scatterternary\":[{\"marker\":{\"colorbar\":{\"outlinewidth\":0,\"ticks\":\"\"}},\"type\":\"scatterternary\"}],\"surface\":[{\"colorbar\":{\"outlinewidth\":0,\"ticks\":\"\"},\"colorscale\":[[0.0,\"#0d0887\"],[0.1111111111111111,\"#46039f\"],[0.2222222222222222,\"#7201a8\"],[0.3333333333333333,\"#9c179e\"],[0.4444444444444444,\"#bd3786\"],[0.5555555555555556,\"#d8576b\"],[0.6666666666666666,\"#ed7953\"],[0.7777777777777778,\"#fb9f3a\"],[0.8888888888888888,\"#fdca26\"],[1.0,\"#f0f921\"]],\"type\":\"surface\"}],\"table\":[{\"cells\":{\"fill\":{\"color\":\"#EBF0F8\"},\"line\":{\"color\":\"white\"}},\"header\":{\"fill\":{\"color\":\"#C8D4E3\"},\"line\":{\"color\":\"white\"}},\"type\":\"table\"}]},\"layout\":{\"annotationdefaults\":{\"arrowcolor\":\"#2a3f5f\",\"arrowhead\":0,\"arrowwidth\":1},\"autotypenumbers\":\"strict\",\"coloraxis\":{\"colorbar\":{\"outlinewidth\":0,\"ticks\":\"\"}},\"colorscale\":{\"diverging\":[[0,\"#8e0152\"],[0.1,\"#c51b7d\"],[0.2,\"#de77ae\"],[0.3,\"#f1b6da\"],[0.4,\"#fde0ef\"],[0.5,\"#f7f7f7\"],[0.6,\"#e6f5d0\"],[0.7,\"#b8e186\"],[0.8,\"#7fbc41\"],[0.9,\"#4d9221\"],[1,\"#276419\"]],\"sequential\":[[0.0,\"#0d0887\"],[0.1111111111111111,\"#46039f\"],[0.2222222222222222,\"#7201a8\"],[0.3333333333333333,\"#9c179e\"],[0.4444444444444444,\"#bd3786\"],[0.5555555555555556,\"#d8576b\"],[0.6666666666666666,\"#ed7953\"],[0.7777777777777778,\"#fb9f3a\"],[0.8888888888888888,\"#fdca26\"],[1.0,\"#f0f921\"]],\"sequentialminus\":[[0.0,\"#0d0887\"],[0.1111111111111111,\"#46039f\"],[0.2222222222222222,\"#7201a8\"],[0.3333333333333333,\"#9c179e\"],[0.4444444444444444,\"#bd3786\"],[0.5555555555555556,\"#d8576b\"],[0.6666666666666666,\"#ed7953\"],[0.7777777777777778,\"#fb9f3a\"],[0.8888888888888888,\"#fdca26\"],[1.0,\"#f0f921\"]]},\"colorway\":[\"#636efa\",\"#EF553B\",\"#00cc96\",\"#ab63fa\",\"#FFA15A\",\"#19d3f3\",\"#FF6692\",\"#B6E880\",\"#FF97FF\",\"#FECB52\"],\"font\":{\"color\":\"#2a3f5f\"},\"geo\":{\"bgcolor\":\"white\",\"lakecolor\":\"white\",\"landcolor\":\"#E5ECF6\",\"showlakes\":true,\"showland\":true,\"subunitcolor\":\"white\"},\"hoverlabel\":{\"align\":\"left\"},\"hovermode\":\"closest\",\"mapbox\":{\"style\":\"light\"},\"paper_bgcolor\":\"white\",\"plot_bgcolor\":\"#E5ECF6\",\"polar\":{\"angularaxis\":{\"gridcolor\":\"white\",\"linecolor\":\"white\",\"ticks\":\"\"},\"bgcolor\":\"#E5ECF6\",\"radialaxis\":{\"gridcolor\":\"white\",\"linecolor\":\"white\",\"ticks\":\"\"}},\"scene\":{\"xaxis\":{\"backgroundcolor\":\"#E5ECF6\",\"gridcolor\":\"white\",\"gridwidth\":2,\"linecolor\":\"white\",\"showbackground\":true,\"ticks\":\"\",\"zerolinecolor\":\"white\"},\"yaxis\":{\"backgroundcolor\":\"#E5ECF6\",\"gridcolor\":\"white\",\"gridwidth\":2,\"linecolor\":\"white\",\"showbackground\":true,\"ticks\":\"\",\"zerolinecolor\":\"white\"},\"zaxis\":{\"backgroundcolor\":\"#E5ECF6\",\"gridcolor\":\"white\",\"gridwidth\":2,\"linecolor\":\"white\",\"showbackground\":true,\"ticks\":\"\",\"zerolinecolor\":\"white\"}},\"shapedefaults\":{\"line\":{\"color\":\"#2a3f5f\"}},\"ternary\":{\"aaxis\":{\"gridcolor\":\"white\",\"linecolor\":\"white\",\"ticks\":\"\"},\"baxis\":{\"gridcolor\":\"white\",\"linecolor\":\"white\",\"ticks\":\"\"},\"bgcolor\":\"#E5ECF6\",\"caxis\":{\"gridcolor\":\"white\",\"linecolor\":\"white\",\"ticks\":\"\"}},\"title\":{\"x\":0.05},\"xaxis\":{\"automargin\":true,\"gridcolor\":\"white\",\"linecolor\":\"white\",\"ticks\":\"\",\"title\":{\"standoff\":15},\"zerolinecolor\":\"white\",\"zerolinewidth\":2},\"yaxis\":{\"automargin\":true,\"gridcolor\":\"white\",\"linecolor\":\"white\",\"ticks\":\"\",\"title\":{\"standoff\":15},\"zerolinecolor\":\"white\",\"zerolinewidth\":2}}},\"xaxis\":{\"anchor\":\"y\",\"domain\":[0.0,1.0],\"title\":{\"text\":\"fold_id\"}},\"yaxis\":{\"anchor\":\"x\",\"domain\":[0.0,1.0],\"title\":{\"text\":\"loss\"}},\"legend\":{\"title\":{\"text\":\"split\"},\"tracegroupgap\":0},\"title\":{\"text\":\"Mean Val Loss: 2300308.81, Mean Train Loss: 951519.74\"}},                        {\"responsive\": true}                    ).then(function(){\n",
              "                            \n",
              "var gd = document.getElementById('cf03e2d4-841f-47cf-8ed4-02e5298f321e');\n",
              "var x = new MutationObserver(function (mutations, observer) {{\n",
              "        var display = window.getComputedStyle(gd).display;\n",
              "        if (!display || display === 'none') {{\n",
              "            console.log([gd, 'removed!']);\n",
              "            Plotly.purge(gd);\n",
              "            observer.disconnect();\n",
              "        }}\n",
              "}});\n",
              "\n",
              "// Listen for the removal of the full notebook cells\n",
              "var notebookContainer = gd.closest('#notebook-container');\n",
              "if (notebookContainer) {{\n",
              "    x.observe(notebookContainer, {childList: true});\n",
              "}}\n",
              "\n",
              "// Listen for the clearing of the current output cell\n",
              "var outputEl = gd.closest('.output');\n",
              "if (outputEl) {{\n",
              "    x.observe(outputEl, {childList: true});\n",
              "}}\n",
              "\n",
              "                        })                };                            </script>        </div>\n",
              "</body>\n",
              "</html>"
            ]
          },
          "metadata": {}
        },
        {
          "output_type": "stream",
          "name": "stdout",
          "text": [
            "mean cv val score: -0.12\n",
            "mean cv val loss 2300308.81\n",
            "mean cv train score: 0.86\n",
            "mean cv train loss 951519.74\n"
          ]
        }
      ],
      "source": [
        "from sklearn.ensemble import RandomForestRegressor\n",
        "forest_pipe  = pipeline.make_pipeline(ct, RandomForestRegressor(random_state=1)).fit(X, t)\n",
        "\n",
        "val_score, val_loss, train_score, train_loss = get_cv_score_and_loss(X, t, forest_pipe, k=10, show_score_loss_graphs=True)\n",
        "print(f'mean cv val score: {val_score:.2f}\\nmean cv val loss {val_loss:.2f}')\n",
        "print(f'mean cv train score: {train_score:.2f}\\nmean cv train loss {train_loss:.2f}')"
      ]
    },
    {
      "cell_type": "markdown",
      "metadata": {
        "id": "nDlwYSCjOict"
      },
      "source": [
        "Looking for best hyper parameters for random forest"
      ]
    },
    {
      "cell_type": "code",
      "execution_count": null,
      "metadata": {
        "id": "ZK_9o_zxOqpd",
        "colab": {
          "base_uri": "https://localhost:8080/"
        },
        "outputId": "e995d8bb-234d-4c80-d788-b255a2f7db10"
      },
      "outputs": [
        {
          "output_type": "stream",
          "name": "stdout",
          "text": [
            "Accuracy score for regression:\n",
            "forest_model -0.007362718480677067\n",
            "best params {'bootstrap': True, 'max_depth': 10, 'min_samples_leaf': 5, 'min_samples_split': 2, 'n_estimators': 6}\n"
          ]
        }
      ],
      "source": [
        "# This taskes 2+ hours to run, don't rerun please\n",
        "\n",
        "from sklearn.ensemble import RandomForestRegressor\n",
        "\n",
        "param_dist_forest_max = {\n",
        "                'bootstrap': [True, False],\n",
        "                'max_depth': [10, 20, 30, 40, 50, 60, 70, 80, 90, 100, None],\n",
        "                'min_samples_leaf': [1, 2, 4, 5, 6, 7],\n",
        "                'min_samples_split': [2, 5, 10],\n",
        "                'n_estimators': [5,6,7,8,9,10,20,30,40,50,60,70,80,90,100,110,120,130,140,150]\n",
        "             }\n",
        "\n",
        "forest_model_max = GridSearchCV(RandomForestRegressor(criterion='squared_error', random_state = 1), param_dist_forest_max, cv = 10).fit(X_encoded, t)\n",
        "print('Accuracy score for regression:')\n",
        "print('forest_model', forest_model_max.best_score_)\n",
        "print('best params', forest_model_max.best_params_)"
      ]
    },
    {
      "cell_type": "code",
      "source": [
        "plt.figure(figsize=(12,8))\n",
        "grid_search(forest_model_max.cv_results_,  change='n_estimators', subset={'bootstrap': True, 'max_depth': 10, 'min_samples_leaf': 5, 'min_samples_split': 2})\n",
        "plt.legend(loc=4)"
      ],
      "metadata": {
        "colab": {
          "base_uri": "https://localhost:8080/",
          "height": 816
        },
        "id": "pW9D1RhxojH-",
        "outputId": "9a0198b6-7823-4f36-dfba-b1c46d981550"
      },
      "execution_count": null,
      "outputs": [
        {
          "output_type": "error",
          "ename": "TypeError",
          "evalue": "ignored",
          "traceback": [
            "\u001b[0;31m---------------------------------------------------------------------------\u001b[0m",
            "\u001b[0;31mTypeError\u001b[0m                                 Traceback (most recent call last)",
            "\u001b[0;32m<ipython-input-52-2ad4f4ff8337>\u001b[0m in \u001b[0;36m<module>\u001b[0;34m()\u001b[0m\n\u001b[1;32m      1\u001b[0m \u001b[0mplt\u001b[0m\u001b[0;34m.\u001b[0m\u001b[0mfigure\u001b[0m\u001b[0;34m(\u001b[0m\u001b[0mfigsize\u001b[0m\u001b[0;34m=\u001b[0m\u001b[0;34m(\u001b[0m\u001b[0;36m12\u001b[0m\u001b[0;34m,\u001b[0m\u001b[0;36m8\u001b[0m\u001b[0;34m)\u001b[0m\u001b[0;34m)\u001b[0m\u001b[0;34m\u001b[0m\u001b[0;34m\u001b[0m\u001b[0m\n\u001b[0;32m----> 2\u001b[0;31m \u001b[0mgrid_search\u001b[0m\u001b[0;34m(\u001b[0m\u001b[0mforest_model_max\u001b[0m\u001b[0;34m.\u001b[0m\u001b[0mcv_results_\u001b[0m\u001b[0;34m,\u001b[0m  \u001b[0mchange\u001b[0m\u001b[0;34m=\u001b[0m\u001b[0;34m'n_estimators'\u001b[0m\u001b[0;34m,\u001b[0m \u001b[0msubset\u001b[0m\u001b[0;34m=\u001b[0m\u001b[0;34m{\u001b[0m\u001b[0;34m'bootstrap'\u001b[0m\u001b[0;34m:\u001b[0m \u001b[0;32mTrue\u001b[0m\u001b[0;34m}\u001b[0m\u001b[0;34m)\u001b[0m\u001b[0;34m\u001b[0m\u001b[0;34m\u001b[0m\u001b[0m\n\u001b[0m\u001b[1;32m      3\u001b[0m \u001b[0mplt\u001b[0m\u001b[0;34m.\u001b[0m\u001b[0mlegend\u001b[0m\u001b[0;34m(\u001b[0m\u001b[0mloc\u001b[0m\u001b[0;34m=\u001b[0m\u001b[0;36m4\u001b[0m\u001b[0;34m)\u001b[0m\u001b[0;34m\u001b[0m\u001b[0;34m\u001b[0m\u001b[0m\n",
            "\u001b[0;32m/usr/local/lib/python3.7/dist-packages/sklearn_evaluation/plot/grid_search.py\u001b[0m in \u001b[0;36mgrid_search\u001b[0;34m(cv_results_, change, subset, kind, cmap, ax)\u001b[0m\n\u001b[1;32m     79\u001b[0m \u001b[0;34m\u001b[0m\u001b[0m\n\u001b[1;32m     80\u001b[0m     \u001b[0;32mif\u001b[0m \u001b[0misinstance\u001b[0m\u001b[0;34m(\u001b[0m\u001b[0mchange\u001b[0m\u001b[0;34m,\u001b[0m \u001b[0mstring_types\u001b[0m\u001b[0;34m)\u001b[0m \u001b[0;32mor\u001b[0m \u001b[0mlen\u001b[0m\u001b[0;34m(\u001b[0m\u001b[0mchange\u001b[0m\u001b[0;34m)\u001b[0m \u001b[0;34m==\u001b[0m \u001b[0;36m1\u001b[0m\u001b[0;34m:\u001b[0m\u001b[0;34m\u001b[0m\u001b[0;34m\u001b[0m\u001b[0m\n\u001b[0;32m---> 81\u001b[0;31m         \u001b[0;32mreturn\u001b[0m \u001b[0m_grid_search_single\u001b[0m\u001b[0;34m(\u001b[0m\u001b[0mgrid_scores\u001b[0m\u001b[0;34m,\u001b[0m \u001b[0mchange\u001b[0m\u001b[0;34m,\u001b[0m \u001b[0msubset\u001b[0m\u001b[0;34m,\u001b[0m \u001b[0mkind\u001b[0m\u001b[0;34m,\u001b[0m \u001b[0max\u001b[0m\u001b[0;34m)\u001b[0m\u001b[0;34m\u001b[0m\u001b[0;34m\u001b[0m\u001b[0m\n\u001b[0m\u001b[1;32m     82\u001b[0m     \u001b[0;32melif\u001b[0m \u001b[0mlen\u001b[0m\u001b[0;34m(\u001b[0m\u001b[0mchange\u001b[0m\u001b[0;34m)\u001b[0m \u001b[0;34m==\u001b[0m \u001b[0;36m2\u001b[0m\u001b[0;34m:\u001b[0m\u001b[0;34m\u001b[0m\u001b[0;34m\u001b[0m\u001b[0m\n\u001b[1;32m     83\u001b[0m         \u001b[0;32mreturn\u001b[0m \u001b[0m_grid_search_double\u001b[0m\u001b[0;34m(\u001b[0m\u001b[0mgrid_scores\u001b[0m\u001b[0;34m,\u001b[0m \u001b[0mchange\u001b[0m\u001b[0;34m,\u001b[0m \u001b[0msubset\u001b[0m\u001b[0;34m,\u001b[0m \u001b[0mcmap\u001b[0m\u001b[0;34m,\u001b[0m \u001b[0max\u001b[0m\u001b[0;34m)\u001b[0m\u001b[0;34m\u001b[0m\u001b[0;34m\u001b[0m\u001b[0m\n",
            "\u001b[0;32m/usr/local/lib/python3.7/dist-packages/sklearn_evaluation/plot/grid_search.py\u001b[0m in \u001b[0;36m_grid_search_single\u001b[0;34m(grid_scores, change, subset, kind, ax)\u001b[0m\n\u001b[1;32m    130\u001b[0m                                  ax=ax)\n\u001b[1;32m    131\u001b[0m \u001b[0;34m\u001b[0m\u001b[0m\n\u001b[0;32m--> 132\u001b[0;31m     \u001b[0;32mfor\u001b[0m \u001b[0mparams_kv\u001b[0m\u001b[0;34m,\u001b[0m \u001b[0mgroup\u001b[0m \u001b[0;32min\u001b[0m \u001b[0m_sorted_map_iter\u001b[0m\u001b[0;34m(\u001b[0m\u001b[0mgroups\u001b[0m\u001b[0;34m)\u001b[0m\u001b[0;34m:\u001b[0m\u001b[0;34m\u001b[0m\u001b[0;34m\u001b[0m\u001b[0m\n\u001b[0m\u001b[1;32m    133\u001b[0m         \u001b[0;31m# get the x and y values for each grid_score on this group\u001b[0m\u001b[0;34m\u001b[0m\u001b[0;34m\u001b[0m\u001b[0;34m\u001b[0m\u001b[0m\n\u001b[1;32m    134\u001b[0m         \u001b[0;31m# also calculate the std\u001b[0m\u001b[0;34m\u001b[0m\u001b[0;34m\u001b[0m\u001b[0;34m\u001b[0m\u001b[0m\n",
            "\u001b[0;32m/usr/local/lib/python3.7/dist-packages/sklearn_evaluation/util.py\u001b[0m in \u001b[0;36m_sorted_map_iter\u001b[0;34m(d)\u001b[0m\n\u001b[1;32m     83\u001b[0m \u001b[0;34m\u001b[0m\u001b[0m\n\u001b[1;32m     84\u001b[0m \u001b[0;32mdef\u001b[0m \u001b[0m_sorted_map_iter\u001b[0m\u001b[0;34m(\u001b[0m\u001b[0md\u001b[0m\u001b[0;34m)\u001b[0m\u001b[0;34m:\u001b[0m\u001b[0;34m\u001b[0m\u001b[0;34m\u001b[0m\u001b[0m\n\u001b[0;32m---> 85\u001b[0;31m     \u001b[0mord_keys\u001b[0m \u001b[0;34m=\u001b[0m \u001b[0msorted\u001b[0m\u001b[0;34m(\u001b[0m\u001b[0md\u001b[0m\u001b[0;34m.\u001b[0m\u001b[0mkeys\u001b[0m\u001b[0;34m(\u001b[0m\u001b[0;34m)\u001b[0m\u001b[0;34m)\u001b[0m\u001b[0;34m\u001b[0m\u001b[0;34m\u001b[0m\u001b[0m\n\u001b[0m\u001b[1;32m     86\u001b[0m     \u001b[0;32mfor\u001b[0m \u001b[0mk\u001b[0m \u001b[0;32min\u001b[0m \u001b[0mord_keys\u001b[0m\u001b[0;34m:\u001b[0m\u001b[0;34m\u001b[0m\u001b[0;34m\u001b[0m\u001b[0m\n\u001b[1;32m     87\u001b[0m         \u001b[0;32myield\u001b[0m \u001b[0;34m(\u001b[0m\u001b[0mk\u001b[0m\u001b[0;34m,\u001b[0m \u001b[0md\u001b[0m\u001b[0;34m[\u001b[0m\u001b[0mk\u001b[0m\u001b[0;34m]\u001b[0m\u001b[0;34m)\u001b[0m\u001b[0;34m\u001b[0m\u001b[0;34m\u001b[0m\u001b[0m\n",
            "\u001b[0;31mTypeError\u001b[0m: '<' not supported between instances of 'NoneType' and 'int'"
          ]
        },
        {
          "output_type": "display_data",
          "data": {
            "image/png": "[encoded data removed]",
            "text/plain": [
              "<Figure size 864x576 with 1 Axes>"
            ]
          },
          "metadata": {
            "needs_background": "light"
          }
        }
      ]
    },
    {
      "cell_type": "code",
      "source": [
        "forest_model_max.cv_results_"
      ],
      "metadata": {
        "id": "eg_sip31rLui"
      },
      "execution_count": null,
      "outputs": []
    },
    {
      "cell_type": "markdown",
      "metadata": {
        "id": "W0JmSjRMO1Sy"
      },
      "source": [
        "![image.png](data:image/png;base64,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)"
      ]
    },
    {
      "cell_type": "code",
      "execution_count": null,
      "metadata": {
        "colab": {
          "base_uri": "https://localhost:8080/"
        },
        "id": "255wccIRRWGK",
        "outputId": "0db9345a-e8ec-449a-acf6-b9e7aadd70c6"
      },
      "outputs": [
        {
          "name": "stdout",
          "output_type": "stream",
          "text": [
            "Accuracy score for regression:\n",
            "forest_model -0.0073600157435049106\n",
            "best params {'max_depth': 7, 'min_samples_leaf': 5, 'min_samples_split': 2, 'n_estimators': 6}\n"
          ]
        }
      ],
      "source": [
        "param_dist_forest = {\n",
        "                'max_depth': [5, 6, 7, 8, 9, 10, 15, 20, None],\n",
        "                'min_samples_leaf': range(1, 7, 1),\n",
        "                'min_samples_split': [2],\n",
        "                'n_estimators': range(1, 20, 1)\n",
        "             }\n",
        "\n",
        "forest_model = GridSearchCV(RandomForestRegressor(criterion='squared_error', random_state = 1), param_dist_forest, cv = 10).fit(X_encoded, t)\n",
        "print('Accuracy score for regression:')\n",
        "print('forest_model', forest_model.best_score_)\n",
        "print('best params', forest_model.best_params_)"
      ]
    },
    {
      "cell_type": "code",
      "execution_count": null,
      "metadata": {
        "colab": {
          "background_save": true
        },
        "id": "t3w9wzdLobT-",
        "outputId": "a3e5e4d6-1177-4673-b842-f0eeb278af59"
      },
      "outputs": [
        {
          "name": "stdout",
          "output_type": "stream",
          "text": [
            "Accuracy score for regression:\n",
            "forest_model -0.0073600157435049106\n",
            "best params {'max_depth': 7, 'min_samples_leaf': 5, 'min_samples_split': 2, 'n_estimators': 6}\n"
          ]
        }
      ],
      "source": [
        "param_dist_forest = {\n",
        "                'max_depth': [5, 6, 7, 8, 9, 10, 15, 20, None],\n",
        "                'min_samples_leaf': range(1, 7, 1),\n",
        "                'min_samples_split': range(2,14,2),\n",
        "                'n_estimators': range(1, 10, 1)\n",
        "             }\n",
        "\n",
        "forest_model = GridSearchCV(RandomForestRegressor(criterion='squared_error', random_state = 1), param_dist_forest, cv = 10).fit(X_encoded, t)\n",
        "print('Accuracy score for regression:')\n",
        "print('forest_model', forest_model.best_score_)\n",
        "print('best params', forest_model.best_params_)"
      ]
    },
    {
      "cell_type": "code",
      "execution_count": null,
      "metadata": {
        "colab": {
          "background_save": true
        },
        "id": "nJOap5u6lA5D",
        "outputId": "e2a23b72-a62a-4b8d-ad5f-6d08fef16475"
      },
      "outputs": [
        {
          "ename": "ValueError",
          "evalue": "ignored",
          "output_type": "error",
          "traceback": [
            "\u001b[0;31m---------------------------------------------------------------------------\u001b[0m",
            "\u001b[0;31mValueError\u001b[0m                                Traceback (most recent call last)",
            "\u001b[0;32m<ipython-input-63-6b5581777811>\u001b[0m in \u001b[0;36m<module>\u001b[0;34m()\u001b[0m\n\u001b[1;32m     10\u001b[0m \u001b[0mscores_forest\u001b[0m \u001b[0;34m=\u001b[0m \u001b[0mnp\u001b[0m\u001b[0;34m.\u001b[0m\u001b[0marray\u001b[0m\u001b[0;34m(\u001b[0m\u001b[0mforest_means\u001b[0m\u001b[0;34m)\u001b[0m\u001b[0;34m.\u001b[0m\u001b[0mreshape\u001b[0m\u001b[0;34m(\u001b[0m\u001b[0mlen\u001b[0m\u001b[0;34m(\u001b[0m\u001b[0mmax_depth\u001b[0m\u001b[0;34m)\u001b[0m\u001b[0;34m,\u001b[0m \u001b[0mlen\u001b[0m\u001b[0;34m(\u001b[0m\u001b[0mmin_samples_leaf\u001b[0m\u001b[0;34m)\u001b[0m\u001b[0;34m,\u001b[0m \u001b[0mlen\u001b[0m\u001b[0;34m(\u001b[0m\u001b[0mmin_samples_split\u001b[0m\u001b[0;34m)\u001b[0m\u001b[0;34m,\u001b[0m \u001b[0mlen\u001b[0m\u001b[0;34m(\u001b[0m\u001b[0mn_estimators\u001b[0m\u001b[0;34m)\u001b[0m\u001b[0;34m)\u001b[0m\u001b[0;34m\u001b[0m\u001b[0;34m\u001b[0m\u001b[0m\n\u001b[1;32m     11\u001b[0m \u001b[0;32mfor\u001b[0m \u001b[0mi\u001b[0m\u001b[0;34m,\u001b[0m \u001b[0mvalue\u001b[0m \u001b[0;32min\u001b[0m \u001b[0menumerate\u001b[0m\u001b[0;34m(\u001b[0m\u001b[0mlearning_rate\u001b[0m\u001b[0;34m)\u001b[0m\u001b[0;34m:\u001b[0m\u001b[0;34m\u001b[0m\u001b[0;34m\u001b[0m\u001b[0m\n\u001b[0;32m---> 12\u001b[0;31m     \u001b[0mplt\u001b[0m\u001b[0;34m.\u001b[0m\u001b[0mplot\u001b[0m\u001b[0;34m(\u001b[0m\u001b[0mn_estimators\u001b[0m\u001b[0;34m,\u001b[0m \u001b[0mscores_forest\u001b[0m\u001b[0;34m[\u001b[0m\u001b[0mi\u001b[0m\u001b[0;34m]\u001b[0m\u001b[0;34m,\u001b[0m \u001b[0mlabel\u001b[0m\u001b[0;34m=\u001b[0m\u001b[0;34m'depth: '\u001b[0m \u001b[0;34m+\u001b[0m \u001b[0mstr\u001b[0m\u001b[0;34m(\u001b[0m\u001b[0mvalue\u001b[0m\u001b[0;34m)\u001b[0m\u001b[0;34m)\u001b[0m\u001b[0;34m\u001b[0m\u001b[0;34m\u001b[0m\u001b[0m\n\u001b[0m\u001b[1;32m     13\u001b[0m \u001b[0mplt\u001b[0m\u001b[0;34m.\u001b[0m\u001b[0mlegend\u001b[0m\u001b[0;34m(\u001b[0m\u001b[0;34m)\u001b[0m\u001b[0;34m\u001b[0m\u001b[0;34m\u001b[0m\u001b[0m\n\u001b[1;32m     14\u001b[0m \u001b[0mplt\u001b[0m\u001b[0;34m.\u001b[0m\u001b[0mxlabel\u001b[0m\u001b[0;34m(\u001b[0m\u001b[0;34m'n_estimators'\u001b[0m\u001b[0;34m)\u001b[0m\u001b[0;34m\u001b[0m\u001b[0;34m\u001b[0m\u001b[0m\n",
            "\u001b[0;32m/usr/local/lib/python3.7/dist-packages/matplotlib/pyplot.py\u001b[0m in \u001b[0;36mplot\u001b[0;34m(scalex, scaley, data, *args, **kwargs)\u001b[0m\n\u001b[1;32m   2761\u001b[0m     return gca().plot(\n\u001b[1;32m   2762\u001b[0m         *args, scalex=scalex, scaley=scaley, **({\"data\": data} if data\n\u001b[0;32m-> 2763\u001b[0;31m         is not None else {}), **kwargs)\n\u001b[0m\u001b[1;32m   2764\u001b[0m \u001b[0;34m\u001b[0m\u001b[0m\n\u001b[1;32m   2765\u001b[0m \u001b[0;34m\u001b[0m\u001b[0m\n",
            "\u001b[0;32m/usr/local/lib/python3.7/dist-packages/matplotlib/axes/_axes.py\u001b[0m in \u001b[0;36mplot\u001b[0;34m(self, scalex, scaley, data, *args, **kwargs)\u001b[0m\n\u001b[1;32m   1645\u001b[0m         \"\"\"\n\u001b[1;32m   1646\u001b[0m         \u001b[0mkwargs\u001b[0m \u001b[0;34m=\u001b[0m \u001b[0mcbook\u001b[0m\u001b[0;34m.\u001b[0m\u001b[0mnormalize_kwargs\u001b[0m\u001b[0;34m(\u001b[0m\u001b[0mkwargs\u001b[0m\u001b[0;34m,\u001b[0m \u001b[0mmlines\u001b[0m\u001b[0;34m.\u001b[0m\u001b[0mLine2D\u001b[0m\u001b[0;34m)\u001b[0m\u001b[0;34m\u001b[0m\u001b[0;34m\u001b[0m\u001b[0m\n\u001b[0;32m-> 1647\u001b[0;31m         \u001b[0mlines\u001b[0m \u001b[0;34m=\u001b[0m \u001b[0;34m[\u001b[0m\u001b[0;34m*\u001b[0m\u001b[0mself\u001b[0m\u001b[0;34m.\u001b[0m\u001b[0m_get_lines\u001b[0m\u001b[0;34m(\u001b[0m\u001b[0;34m*\u001b[0m\u001b[0margs\u001b[0m\u001b[0;34m,\u001b[0m \u001b[0mdata\u001b[0m\u001b[0;34m=\u001b[0m\u001b[0mdata\u001b[0m\u001b[0;34m,\u001b[0m \u001b[0;34m**\u001b[0m\u001b[0mkwargs\u001b[0m\u001b[0;34m)\u001b[0m\u001b[0;34m]\u001b[0m\u001b[0;34m\u001b[0m\u001b[0;34m\u001b[0m\u001b[0m\n\u001b[0m\u001b[1;32m   1648\u001b[0m         \u001b[0;32mfor\u001b[0m \u001b[0mline\u001b[0m \u001b[0;32min\u001b[0m \u001b[0mlines\u001b[0m\u001b[0;34m:\u001b[0m\u001b[0;34m\u001b[0m\u001b[0;34m\u001b[0m\u001b[0m\n\u001b[1;32m   1649\u001b[0m             \u001b[0mself\u001b[0m\u001b[0;34m.\u001b[0m\u001b[0madd_line\u001b[0m\u001b[0;34m(\u001b[0m\u001b[0mline\u001b[0m\u001b[0;34m)\u001b[0m\u001b[0;34m\u001b[0m\u001b[0;34m\u001b[0m\u001b[0m\n",
            "\u001b[0;32m/usr/local/lib/python3.7/dist-packages/matplotlib/axes/_base.py\u001b[0m in \u001b[0;36m__call__\u001b[0;34m(self, *args, **kwargs)\u001b[0m\n\u001b[1;32m    214\u001b[0m                 \u001b[0mthis\u001b[0m \u001b[0;34m+=\u001b[0m \u001b[0margs\u001b[0m\u001b[0;34m[\u001b[0m\u001b[0;36m0\u001b[0m\u001b[0;34m]\u001b[0m\u001b[0;34m,\u001b[0m\u001b[0;34m\u001b[0m\u001b[0;34m\u001b[0m\u001b[0m\n\u001b[1;32m    215\u001b[0m                 \u001b[0margs\u001b[0m \u001b[0;34m=\u001b[0m \u001b[0margs\u001b[0m\u001b[0;34m[\u001b[0m\u001b[0;36m1\u001b[0m\u001b[0;34m:\u001b[0m\u001b[0;34m]\u001b[0m\u001b[0;34m\u001b[0m\u001b[0;34m\u001b[0m\u001b[0m\n\u001b[0;32m--> 216\u001b[0;31m             \u001b[0;32myield\u001b[0m \u001b[0;32mfrom\u001b[0m \u001b[0mself\u001b[0m\u001b[0;34m.\u001b[0m\u001b[0m_plot_args\u001b[0m\u001b[0;34m(\u001b[0m\u001b[0mthis\u001b[0m\u001b[0;34m,\u001b[0m \u001b[0mkwargs\u001b[0m\u001b[0;34m)\u001b[0m\u001b[0;34m\u001b[0m\u001b[0;34m\u001b[0m\u001b[0m\n\u001b[0m\u001b[1;32m    217\u001b[0m \u001b[0;34m\u001b[0m\u001b[0m\n\u001b[1;32m    218\u001b[0m     \u001b[0;32mdef\u001b[0m \u001b[0mget_next_color\u001b[0m\u001b[0;34m(\u001b[0m\u001b[0mself\u001b[0m\u001b[0;34m)\u001b[0m\u001b[0;34m:\u001b[0m\u001b[0;34m\u001b[0m\u001b[0;34m\u001b[0m\u001b[0m\n",
            "\u001b[0;32m/usr/local/lib/python3.7/dist-packages/matplotlib/axes/_base.py\u001b[0m in \u001b[0;36m_plot_args\u001b[0;34m(self, tup, kwargs)\u001b[0m\n\u001b[1;32m    340\u001b[0m \u001b[0;34m\u001b[0m\u001b[0m\n\u001b[1;32m    341\u001b[0m         \u001b[0;32mif\u001b[0m \u001b[0mx\u001b[0m\u001b[0;34m.\u001b[0m\u001b[0mshape\u001b[0m\u001b[0;34m[\u001b[0m\u001b[0;36m0\u001b[0m\u001b[0;34m]\u001b[0m \u001b[0;34m!=\u001b[0m \u001b[0my\u001b[0m\u001b[0;34m.\u001b[0m\u001b[0mshape\u001b[0m\u001b[0;34m[\u001b[0m\u001b[0;36m0\u001b[0m\u001b[0;34m]\u001b[0m\u001b[0;34m:\u001b[0m\u001b[0;34m\u001b[0m\u001b[0;34m\u001b[0m\u001b[0m\n\u001b[0;32m--> 342\u001b[0;31m             raise ValueError(f\"x and y must have same first dimension, but \"\n\u001b[0m\u001b[1;32m    343\u001b[0m                              f\"have shapes {x.shape} and {y.shape}\")\n\u001b[1;32m    344\u001b[0m         \u001b[0;32mif\u001b[0m \u001b[0mx\u001b[0m\u001b[0;34m.\u001b[0m\u001b[0mndim\u001b[0m \u001b[0;34m>\u001b[0m \u001b[0;36m2\u001b[0m \u001b[0;32mor\u001b[0m \u001b[0my\u001b[0m\u001b[0;34m.\u001b[0m\u001b[0mndim\u001b[0m \u001b[0;34m>\u001b[0m \u001b[0;36m2\u001b[0m\u001b[0;34m:\u001b[0m\u001b[0;34m\u001b[0m\u001b[0;34m\u001b[0m\u001b[0m\n",
            "\u001b[0;31mValueError\u001b[0m: x and y must have same first dimension, but have shapes (9,) and (6, 6, 9)"
          ]
        },
        {
          "data": {
            "image/png": "[encoded data removed]",
            "text/plain": [
              "<Figure size 432x288 with 1 Axes>"
            ]
          },
          "metadata": {},
          "output_type": "display_data"
        }
      ],
      "source": [
        "# forest_means = forest_model.cv_results_['mean_test_score']\n",
        "# forest_stds = forest_model.cv_results_['std_test_score']\n",
        "# forest_params = forest_model.cv_results_['params']\n",
        "\n",
        "# max_depth = [5, 6, 7, 8, 9, 10, 15, 20, None]\n",
        "# min_samples_leaf = [1,2,3,4,5,6]\n",
        "# min_samples_split = [2, 4, 6,8,10,12]\n",
        "# n_estimators = [1,2,3,4,5,6,7,8,9]\n",
        "\n",
        "# scores_forest = np.array(forest_means).reshape(len(max_depth), len(min_samples_leaf), len(min_samples_split), len(n_estimators))\n",
        "# for i, value in enumerate(learning_rate):\n",
        "#     plt.plot(n_estimators, scores_forest[i], label='depth: ' + str(value))\n",
        "# plt.legend()\n",
        "# plt.xlabel('n_estimators')\n",
        "# plt.ylabel('Log Loss')\n",
        "\n"
      ]
    },
    {
      "cell_type": "code",
      "execution_count": null,
      "metadata": {
        "colab": {
          "background_save": true
        },
        "id": "EUsJOwptYBIU"
      },
      "outputs": [],
      "source": [
        "from sklearn.ensemble import RandomForestRegressor\n",
        "forest_pipe  = pipeline.make_pipeline(ct, RandomForestRegressor( bootstrap=True,\n",
        "    max_depth=7,\n",
        "    min_samples_leaf=5,\n",
        "    min_samples_split=2,\n",
        "    n_estimators=6,\n",
        "    random_state=1\n",
        ")).fit(X, t)\n",
        "\n",
        "val_score, val_loss, train_score, train_loss = get_cv_score_and_loss(X, t, forest_pipe, k=10, show_score_loss_graphs=True)\n",
        "print(f'mean cv val score: {val_score:.2f}\\nmean cv val loss {val_loss:.2f}')\n",
        "print(f'mean cv train score: {train_score:.2f}\\nmean cv train loss {train_loss:.2f}')"
      ]
    },
    {
      "cell_type": "markdown",
      "metadata": {
        "id": "sdlUWU5TPLjy"
      },
      "source": [
        "Training with the best hyper parameters from the previous step"
      ]
    },
    {
      "cell_type": "code",
      "execution_count": null,
      "metadata": {
        "colab": {
          "background_save": true
        },
        "id": "7QzJJkgUPHXo"
      },
      "outputs": [],
      "source": [
        "forest_pipe  = pipeline.make_pipeline(ct, RandomForestRegressor(\n",
        "    bootstrap=True,\n",
        "    max_depth=7,\n",
        "    min_samples_leaf=5,\n",
        "    min_samples_split=2,\n",
        "    n_estimators=6,\n",
        "    random_state=1\n",
        ")).fit(X, t)\n",
        "print('Accuracy score for regression:')\n",
        "y_forest_pipe = forest_pipe.predict(X)\n",
        "print('Accuracy score on train', forest_pipe.score(X, t))\n",
        "print('RMSE score on train',(mean_squared_error(t, y_forest_pipe, squared=False)))"
      ]
    },
    {
      "cell_type": "markdown",
      "metadata": {
        "id": "_PC3b2J2R2Fc"
      },
      "source": [
        "Forest training for with default values for the forest model"
      ]
    },
    {
      "cell_type": "code",
      "execution_count": null,
      "metadata": {
        "colab": {
          "background_save": true
        },
        "id": "_UgNzadFR1Iy"
      },
      "outputs": [],
      "source": [
        "forst_pipe  = pipeline.make_pipeline(ct, RandomForestRegressor(random_state=1)).fit(X, t)\n",
        "print('Accuracy score for regression:')\n",
        "y_forest_pipe = forst_pipe.predict(X)\n",
        "print('Accuracy score on train', forst_pipe.score(X, t))\n",
        "print('RMSE score on train',(mean_squared_error(t, y_forest_pipe, squared=False)))"
      ]
    },
    {
      "cell_type": "markdown",
      "metadata": {
        "id": "lzn7sOMQJMKn"
      },
      "source": [
        "TEST"
      ]
    },
    {
      "cell_type": "code",
      "execution_count": null,
      "metadata": {
        "colab": {
          "background_save": true
        },
        "id": "tFuZ8uY0tlS3"
      },
      "outputs": [],
      "source": [
        "count_empty_values_in_each_column(test_df)"
      ]
    },
    {
      "cell_type": "code",
      "execution_count": null,
      "metadata": {
        "colab": {
          "background_save": true
        },
        "id": "hsBYEeV20b-7"
      },
      "outputs": [],
      "source": [
        "display(test_df['City'].unique())\n",
        "len(test_df['City'].unique())"
      ]
    },
    {
      "cell_type": "code",
      "execution_count": null,
      "metadata": {
        "colab": {
          "background_save": true
        },
        "id": "X4DPyuiW0zzc"
      },
      "outputs": [],
      "source": [
        "from datetime import datetime\n",
        "\n",
        "dates = test_df['Open Date'].values\n",
        "month = []\n",
        "year = []\n",
        "day = []\n",
        "weekend = []\n",
        "\n",
        "for date in dates:\n",
        "  m,d,y = date.split('/')\n",
        "  m = int(m)\n",
        "  y = int(y)\n",
        "  d = int(d)\n",
        "  month.append(m)\n",
        "  year.append(y)\n",
        "  day.append(d)\n",
        "  weekend.append(1 if datetime(y,m,d).weekday() > 4 else 0)\n",
        "\n",
        "test_df['Year'] = year\n",
        "test_df['Month'] = month\n",
        "test_df['Day'] = day\n",
        "test_df['Weekend'] = weekend\n",
        "# restaurant_df_cp[['Open Date', 'Year', 'Month', 'Day', 'Weekend']]"
      ]
    },
    {
      "cell_type": "code",
      "execution_count": null,
      "metadata": {
        "colab": {
          "background_save": true
        },
        "id": "UwaVUM3BfHrF"
      },
      "outputs": [],
      "source": [
        "test_df_cp = test_df.copy()"
      ]
    },
    {
      "cell_type": "code",
      "execution_count": null,
      "metadata": {
        "colab": {
          "background_save": true
        },
        "id": "JXy-oIoC1p-t"
      },
      "outputs": [],
      "source": [
        "# test_df_cp = test_df.drop(['Id'], axis=1)\n",
        "test_df_cp = test_df.drop(['Id','P7','P8','P9','P10', 'P12', 'P14','P15','P16','P18', 'P24','P26','P27','P30','P31','P32','P33','P35','P36','P37'], axis=1)"
      ]
    },
    {
      "cell_type": "code",
      "execution_count": null,
      "metadata": {
        "colab": {
          "background_save": true
        },
        "id": "sYJC6bka1vu5"
      },
      "outputs": [],
      "source": [
        "test_df_cp=test_df_cp.drop(['Open Date'], axis=1)"
      ]
    },
    {
      "cell_type": "code",
      "execution_count": null,
      "metadata": {
        "colab": {
          "background_save": true
        },
        "id": "vAeHl8cC2M1T"
      },
      "outputs": [],
      "source": [
        "test_df_cp.replace('MB', 'DT', inplace=True)"
      ]
    },
    {
      "cell_type": "code",
      "execution_count": null,
      "metadata": {
        "colab": {
          "background_save": true
        },
        "id": "_l7qJw01fOQ2"
      },
      "outputs": [],
      "source": [
        "test_df_cp"
      ]
    },
    {
      "cell_type": "code",
      "execution_count": null,
      "metadata": {
        "colab": {
          "background_save": true
        },
        "id": "62aawhHp3n2D"
      },
      "outputs": [],
      "source": [
        "rs_test_predict = rs_model_pipe.predict(test_df_cp)"
      ]
    },
    {
      "cell_type": "code",
      "execution_count": null,
      "metadata": {
        "colab": {
          "background_save": true
        },
        "id": "kNeWNGUB4a4r"
      },
      "outputs": [],
      "source": [
        "rs_test_predict"
      ]
    },
    {
      "cell_type": "code",
      "execution_count": null,
      "metadata": {
        "colab": {
          "background_save": true
        },
        "id": "dNs6Hykm4svT"
      },
      "outputs": [],
      "source": [
        "submission_path = '/content/sampleSubmission.csv.zip'\n",
        "\n",
        "submission_df = pd.read_csv(submission_path)"
      ]
    },
    {
      "cell_type": "code",
      "execution_count": null,
      "metadata": {
        "colab": {
          "background_save": true
        },
        "id": "NGjDvtMH47S9"
      },
      "outputs": [],
      "source": [
        "submission_df"
      ]
    },
    {
      "cell_type": "code",
      "execution_count": null,
      "metadata": {
        "colab": {
          "background_save": true
        },
        "id": "eXWkosqP4bhf"
      },
      "outputs": [],
      "source": [
        "submission_df['Prediction'] = rs_test_predict\n",
        "submission_df.to_csv('sampleSubmission.csv', index = False)\n",
        "print(\"Submited\")"
      ]
    }
  ],
  "metadata": {
    "colab": {
      "collapsed_sections": [],
      "name": "Restaurant_Revenue_Prediction.ipynb",
      "provenance": [],
      "toc_visible": true
    },
    "kernelspec": {
      "display_name": "Python 3",
      "name": "python3"
    },
    "language_info": {
      "name": "python"
    }
  },
  "nbformat": 4,
  "nbformat_minor": 0
}